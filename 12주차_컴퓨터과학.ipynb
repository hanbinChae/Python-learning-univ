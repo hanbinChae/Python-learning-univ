{
  "nbformat": 4,
  "nbformat_minor": 0,
  "metadata": {
    "colab": {
      "name": "12주차 컴퓨터과학.ipynb",
      "provenance": [],
      "collapsed_sections": [],
      "authorship_tag": "ABX9TyMwnTPM9+QvtYFpIkm03q5a",
      "include_colab_link": true
    },
    "kernelspec": {
      "name": "python3",
      "display_name": "Python 3"
    },
    "language_info": {
      "name": "python"
    }
  },
  "cells": [
    {
      "cell_type": "markdown",
      "metadata": {
        "id": "view-in-github",
        "colab_type": "text"
      },
      "source": [
        "<a href=\"https://colab.research.google.com/github/hanbinChae/python-learning-univ/blob/main/12%EC%A3%BC%EC%B0%A8_%EC%BB%B4%ED%93%A8%ED%84%B0%EA%B3%BC%ED%95%99.ipynb\" target=\"_parent\"><img src=\"https://colab.research.google.com/assets/colab-badge.svg\" alt=\"Open In Colab\"/></a>"
      ]
    },
    {
      "cell_type": "code",
      "execution_count": 5,
      "metadata": {
        "colab": {
          "base_uri": "https://localhost:8080/"
        },
        "id": "1uK7HEUCwtNU",
        "outputId": "2f8c1b11-8d32-4b41-c950-3758ab6b0980"
      },
      "outputs": [
        {
          "output_type": "stream",
          "name": "stdout",
          "text": [
            "10\n",
            "20\n",
            "50\n",
            "40\n",
            "50\n"
          ]
        }
      ],
      "source": [
        "arr = [10,20,30,40,50]\n",
        "\n",
        "arr[2] = 50\n",
        "for i in arr:\n",
        "  print(i)"
      ]
    },
    {
      "cell_type": "markdown",
      "source": [
        "스택"
      ],
      "metadata": {
        "id": "clsf6C5b-ptP"
      }
    },
    {
      "cell_type": "code",
      "source": [
        "stack = []\n",
        "\n",
        "def isEmpty():\n",
        "  return len(stack) == 0\n",
        "\n",
        "def push(item):\n",
        "  stack.append(item)\n",
        "\n",
        "def pop():\n",
        "  if not isEmpty():\n",
        "    return stack.pop()\n",
        "\n",
        "push(1)\n",
        "push(2)\n",
        "push(3)\n",
        "\n",
        "print(pop())\n",
        "print(pop())\n",
        "print(pop())\n",
        "\n",
        "push(4)\n",
        "print(pop())\n",
        "print(pop())"
      ],
      "metadata": {
        "colab": {
          "base_uri": "https://localhost:8080/"
        },
        "id": "RM5GAKL_-sve",
        "outputId": "ab91ca96-49a3-40e3-92b8-06be8acbf255"
      },
      "execution_count": 7,
      "outputs": [
        {
          "output_type": "stream",
          "name": "stdout",
          "text": [
            "3\n",
            "2\n",
            "1\n",
            "4\n",
            "None\n"
          ]
        }
      ]
    },
    {
      "cell_type": "markdown",
      "source": [
        "큐"
      ],
      "metadata": {
        "id": "AcKWx-UL_ihP"
      }
    },
    {
      "cell_type": "code",
      "source": [
        "queue = []\n",
        "\n",
        "def isEmpty():\n",
        "  return len(queue) == 0\n",
        "\n",
        "def push(item):\n",
        "  queue.append(item)\n",
        "\n",
        "def pop():\n",
        "  if not isEmpty():\n",
        "    return queue.pop(0)\n",
        "\n",
        "push(10)\n",
        "push(20)\n",
        "push(30)\n",
        "\n",
        "print(pop())\n",
        "print(pop())\n",
        "print(pop())\n",
        "print(pop()) # 공백 상태"
      ],
      "metadata": {
        "colab": {
          "base_uri": "https://localhost:8080/"
        },
        "id": "CjiO7CqP-x6s",
        "outputId": "7ca687ac-6e64-4bd4-e024-05799d228e39"
      },
      "execution_count": 10,
      "outputs": [
        {
          "output_type": "stream",
          "name": "stdout",
          "text": [
            "10\n",
            "20\n",
            "30\n",
            "None\n"
          ]
        }
      ]
    }
  ]
}