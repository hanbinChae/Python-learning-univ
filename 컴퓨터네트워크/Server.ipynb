{
 "cells": [
  {
   "cell_type": "code",
   "execution_count": 1,
   "id": "ab9e461f",
   "metadata": {},
   "outputs": [],
   "source": [
    "# 서버 TCP 소켓 프로그래밍\n",
    "# 서버 IP : \"10.2.20.214\"\n",
    "# PORT 번호 : \"9999\""
   ]
  },
  {
   "cell_type": "code",
   "execution_count": 11,
   "id": "e4a67cd6",
   "metadata": {},
   "outputs": [
    {
     "name": "stdout",
     "output_type": "stream",
     "text": [
      "1. ----- Client is connected -----\n",
      "2. ----- message received -----\n",
      "RX: 반갑습니다\n",
      "네 안녕하세융\n",
      "3. ----- message send -----\n"
     ]
    }
   ],
   "source": [
    "import socket\n",
    "\n",
    "IP = \"10.2.20.214\"\n",
    "PORT = 9999\n",
    "address = (IP,PORT) #변경 되지 않도록 Tuple 형태로 지정\n",
    "\n",
    "server = socket.socket() #default = (IPv4, TCP 소켓)생성\n",
    "server.bind(address) # 소켓에 IP주소, 포트번호 바인딩\n",
    "server.listen(1)\n",
    "\n",
    "conn, addr = server.accept() #클라이언트 접속 요청\n",
    "print('1.','-'*5,'Client is connected','-'*5)\n",
    "\n",
    "rxmsg = conn.recv(1024) # 한번에 1024 바이트 만큼 받아오기\n",
    "print('2.','-'*5,'message received','-'*5)\n",
    "print(\"RX:\",rxmsg.decode()) #바이트를 문자로 변환 (reverse incoding)\n",
    "\n",
    "conn.send(input().encode()) #문자를 바이트로 변환\n",
    "print('3.','-'*5,'message send','-'*5)\n",
    "\n",
    "conn.close() # 통신소켓 해제\n",
    "server.close() # 리스닝소켓 해제"
   ]
  },
  {
   "cell_type": "code",
   "execution_count": null,
   "id": "d6fbea70",
   "metadata": {},
   "outputs": [],
   "source": []
  }
 ],
 "metadata": {
  "kernelspec": {
   "display_name": "Python 3 (ipykernel)",
   "language": "python",
   "name": "python3"
  },
  "language_info": {
   "codemirror_mode": {
    "name": "ipython",
    "version": 3
   },
   "file_extension": ".py",
   "mimetype": "text/x-python",
   "name": "python",
   "nbconvert_exporter": "python",
   "pygments_lexer": "ipython3",
   "version": "3.9.13"
  }
 },
 "nbformat": 4,
 "nbformat_minor": 5
}
