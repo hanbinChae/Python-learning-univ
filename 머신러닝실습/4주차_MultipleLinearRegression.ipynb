{
 "cells": [
  {
   "cell_type": "code",
   "execution_count": 108,
   "metadata": {},
   "outputs": [],
   "source": [
    "import numpy as np\n",
    "import pandas as pd\n",
    "import matplotlib.pyplot as plt"
   ]
  },
  {
   "cell_type": "markdown",
   "metadata": {},
   "source": [
    "### 1) data load"
   ]
  },
  {
   "cell_type": "code",
   "execution_count": 109,
   "metadata": {},
   "outputs": [],
   "source": [
    "dataset = pd.read_csv('50_Startups.csv')"
   ]
  },
  {
   "cell_type": "markdown",
   "metadata": {},
   "source": [
    "### 2) feature(X)와 actual value(y) 분리"
   ]
  },
  {
   "cell_type": "code",
   "execution_count": 110,
   "metadata": {},
   "outputs": [],
   "source": [
    "X = dataset.iloc[:,:-1].values\n",
    "y = dataset.iloc[:,-1:].values"
   ]
  },
  {
   "cell_type": "code",
   "execution_count": 111,
   "metadata": {},
   "outputs": [
    {
     "data": {
      "text/plain": [
       "array([[165349.2, 136897.8, 471784.1, 'New York'],\n",
       "       [162597.7, 151377.59, 443898.53, 'California'],\n",
       "       [153441.51, 101145.55, 407934.54, 'Florida'],\n",
       "       [144372.41, 118671.85, 383199.62, 'New York'],\n",
       "       [142107.34, 91391.77, 366168.42, 'Florida'],\n",
       "       [131876.9, 99814.71, 362861.36, 'New York'],\n",
       "       [134615.46, 147198.87, 127716.82, 'California'],\n",
       "       [130298.13, 145530.06, 323876.68, 'Florida'],\n",
       "       [120542.52, 148718.95, 311613.29, 'New York'],\n",
       "       [123334.88, 108679.17, 304981.62, 'California'],\n",
       "       [101913.08, 110594.11, 229160.95, 'Florida'],\n",
       "       [100671.96, 91790.61, 249744.55, 'California'],\n",
       "       [93863.75, 127320.38, 249839.44, 'Florida'],\n",
       "       [91992.39, 135495.07, 252664.93, 'California'],\n",
       "       [119943.24, 156547.42, 256512.92, 'Florida'],\n",
       "       [114523.61, 122616.84, 261776.23, 'New York'],\n",
       "       [78013.11, 121597.55, 264346.06, 'California'],\n",
       "       [94657.16, 145077.58, 282574.31, 'New York'],\n",
       "       [91749.16, 114175.79, 294919.57, 'Florida'],\n",
       "       [86419.7, 153514.11, 0.0, 'New York'],\n",
       "       [76253.86, 113867.3, 298664.47, 'California'],\n",
       "       [78389.47, 153773.43, 299737.29, 'New York'],\n",
       "       [73994.56, 122782.75, 303319.26, 'Florida'],\n",
       "       [67532.53, 105751.03, 304768.73, 'Florida'],\n",
       "       [77044.01, 99281.34, 140574.81, 'New York'],\n",
       "       [64664.71, 139553.16, 137962.62, 'California'],\n",
       "       [75328.87, 144135.98, 134050.07, 'Florida'],\n",
       "       [72107.6, 127864.55, 353183.81, 'New York'],\n",
       "       [66051.52, 182645.56, 118148.2, 'Florida'],\n",
       "       [65605.48, 153032.06, 107138.38, 'New York'],\n",
       "       [61994.48, 115641.28, 91131.24, 'Florida'],\n",
       "       [61136.38, 152701.92, 88218.23, 'New York'],\n",
       "       [63408.86, 129219.61, 46085.25, 'California'],\n",
       "       [55493.95, 103057.49, 214634.81, 'Florida'],\n",
       "       [46426.07, 157693.92, 210797.67, 'California'],\n",
       "       [46014.02, 85047.44, 205517.64, 'New York'],\n",
       "       [28663.76, 127056.21, 201126.82, 'Florida'],\n",
       "       [44069.95, 51283.14, 197029.42, 'California'],\n",
       "       [20229.59, 65947.93, 185265.1, 'New York'],\n",
       "       [38558.51, 82982.09, 174999.3, 'California'],\n",
       "       [28754.33, 118546.05, 172795.67, 'California'],\n",
       "       [27892.92, 84710.77, 164470.71, 'Florida'],\n",
       "       [23640.93, 96189.63, 148001.11, 'California'],\n",
       "       [15505.73, 127382.3, 35534.17, 'New York'],\n",
       "       [22177.74, 154806.14, 28334.72, 'California'],\n",
       "       [1000.23, 124153.04, 1903.93, 'New York'],\n",
       "       [1315.46, 115816.21, 297114.46, 'Florida'],\n",
       "       [0.0, 135426.92, 0.0, 'California'],\n",
       "       [542.05, 51743.15, 0.0, 'New York'],\n",
       "       [0.0, 116983.8, 45173.06, 'California']], dtype=object)"
      ]
     },
     "execution_count": 111,
     "metadata": {},
     "output_type": "execute_result"
    }
   ],
   "source": [
    "X"
   ]
  },
  {
   "cell_type": "markdown",
   "metadata": {},
   "source": [
    "### 3) training / test data 분리"
   ]
  },
  {
   "cell_type": "code",
   "execution_count": 112,
   "metadata": {},
   "outputs": [],
   "source": [
    "from sklearn.model_selection import train_test_split\n",
    "X_train, X_test, y_train, y_test = train_test_split(X, y, \n",
    "                                                    test_size = 0.25, \n",
    "                                                    random_state = 42)"
   ]
  },
  {
   "cell_type": "markdown",
   "metadata": {},
   "source": [
    "### ※ state 열 One Hot Encoding"
   ]
  },
  {
   "cell_type": "code",
   "execution_count": 113,
   "metadata": {},
   "outputs": [],
   "source": [
    "from sklearn.preprocessing import OneHotEncoder\n",
    "mr_ohe = OneHotEncoder()\n",
    "mr_ohe.fit(X_train[:,-1].reshape(-1,1))\n",
    "Xst_train = mr_ohe.transform(X_train[:,-1].reshape(-1,1)).toarray()\n",
    "Xst_test = mr_ohe.transform(X_test[:,-1].reshape(-1,1)).toarray()"
   ]
  },
  {
   "cell_type": "code",
   "execution_count": 114,
   "metadata": {},
   "outputs": [
    {
     "name": "stdout",
     "output_type": "stream",
     "text": [
      "(37, 3)\n",
      "(13, 3)\n"
     ]
    }
   ],
   "source": [
    "print(Xst_train.shape)\n",
    "print(Xst_test.shape)"
   ]
  },
  {
   "cell_type": "code",
   "execution_count": 115,
   "metadata": {},
   "outputs": [],
   "source": [
    "# import seaborn as sns\n",
    "# sns.pairplot(dataset)\n",
    "# scatter plot을 통해 두 특징 사이의 관계성을 확인할 수 있음 (비례 또는 반비례)"
   ]
  },
  {
   "cell_type": "markdown",
   "metadata": {},
   "source": [
    "### ※ one hot encoding 결과 결합"
   ]
  },
  {
   "cell_type": "code",
   "execution_count": 116,
   "metadata": {},
   "outputs": [],
   "source": [
    "# 삭제\n",
    "X_train = np.delete(X_train,-1,axis = 1)\n",
    "# np.delete(ndarray, 삭제할 열 또는 행 index, axis = 0(행)/1(열))\n",
    "X_train = np.concatenate((Xst_train,X_train),axis = 1)"
   ]
  },
  {
   "cell_type": "code",
   "execution_count": 117,
   "metadata": {},
   "outputs": [],
   "source": [
    "X_test = np.delete(X_test,-1,axis = 1)\n",
    "X_test = np.concatenate((Xst_test,X_test),axis = 1)"
   ]
  },
  {
   "cell_type": "markdown",
   "metadata": {},
   "source": [
    "### 4) linear regression model 생성"
   ]
  },
  {
   "cell_type": "code",
   "execution_count": 118,
   "metadata": {},
   "outputs": [
    {
     "data": {
      "text/plain": [
       "LinearRegression()"
      ]
     },
     "execution_count": 118,
     "metadata": {},
     "output_type": "execute_result"
    }
   ],
   "source": [
    "from sklearn.linear_model import LinearRegression\n",
    "mLR = LinearRegression()\n",
    "mLR.fit(X_train, y_train)"
   ]
  },
  {
   "cell_type": "code",
   "execution_count": 96,
   "metadata": {},
   "outputs": [
    {
     "data": {
      "text/plain": [
       "(37, 6)"
      ]
     },
     "execution_count": 96,
     "metadata": {},
     "output_type": "execute_result"
    }
   ],
   "source": [
    "X_train.shape"
   ]
  },
  {
   "cell_type": "code",
   "execution_count": null,
   "metadata": {},
   "outputs": [],
   "source": []
  },
  {
   "cell_type": "code",
   "execution_count": 119,
   "metadata": {},
   "outputs": [
    {
     "data": {
      "text/plain": [
       "LinearRegression()"
      ]
     },
     "execution_count": 119,
     "metadata": {},
     "output_type": "execute_result"
    }
   ],
   "source": [
    "# R&D 열만 (simple linear regression)\n",
    "# X_train중 R&D 열만 추출\n",
    "X_train_RD = X_train[:,3].reshape(-1,1) # 2D로 변경\n",
    "SLR = LinearRegression()\n",
    "SLR.fit(X_train_RD,y_train)"
   ]
  },
  {
   "cell_type": "code",
   "execution_count": 120,
   "metadata": {},
   "outputs": [
    {
     "data": {
      "text/plain": [
       "LinearRegression()"
      ]
     },
     "execution_count": 120,
     "metadata": {},
     "output_type": "execute_result"
    }
   ],
   "source": [
    "# R&D + Marketing 열만\n",
    "# X_train중 R&D + Marketing 열만 추출\n",
    "X_train_RM = X_train[:,[3,5]]\n",
    "MLR2 = LinearRegression()\n",
    "MLR2.fit(X_train_RM,y_train)"
   ]
  },
  {
   "cell_type": "markdown",
   "metadata": {},
   "source": [
    "### 5) prediction"
   ]
  },
  {
   "cell_type": "code",
   "execution_count": 121,
   "metadata": {},
   "outputs": [],
   "source": [
    "y_pred = mLR.predict(X_test)"
   ]
  },
  {
   "cell_type": "code",
   "execution_count": 122,
   "metadata": {},
   "outputs": [],
   "source": [
    "y_sr_pred = SLR.predict(X_test[:,3].reshape(-1,1))"
   ]
  },
  {
   "cell_type": "code",
   "execution_count": 123,
   "metadata": {},
   "outputs": [],
   "source": [
    "y_mr2_pred = MLR2.predict(X_test[:,[3,4]])"
   ]
  },
  {
   "cell_type": "markdown",
   "metadata": {},
   "source": [
    "### 6) 시각화"
   ]
  },
  {
   "cell_type": "code",
   "execution_count": 124,
   "metadata": {},
   "outputs": [
    {
     "data": {
      "text/plain": [
       "<matplotlib.legend.Legend at 0x1f81ca69d90>"
      ]
     },
     "execution_count": 124,
     "metadata": {},
     "output_type": "execute_result"
    },
    {
     "data": {
      "image/png": "[encoded data removed]",
      "text/plain": [
       "<Figure size 432x288 with 1 Axes>"
      ]
     },
     "metadata": {
      "needs_background": "light"
     },
     "output_type": "display_data"
    }
   ],
   "source": [
    "# x축: y_pred와 y_test에 대한 index\n",
    "x = np.arange(len(y_test))\n",
    "# np.arange(a,b,c): a부터 b까지(b는 미포함) c간격으로 1D array 생성\n",
    "# 인자가 2개일 경우, c가 생략된 것으로 간주하고, c = 1\n",
    "# 인자가 1개일 경우, a=0, c=1\n",
    "plt.plot(x,y_test,marker='o',color='blue',label='target')\n",
    "plt.plot(x,y_pred,marker='x',color='red',linestyle = ':',label='6dim X')\n",
    "plt.plot(x,y_sr_pred,marker='s',color='green',linestyle = '--',label='1dim X')\n",
    "plt.plot(x,y_mr2_pred,marker='^',color='orange',linestyle = '-.',label='2dim X')\n",
    "plt.legend()"
   ]
  },
  {
   "cell_type": "markdown",
   "metadata": {},
   "source": [
    "### 7) regression model w"
   ]
  },
  {
   "cell_type": "code",
   "execution_count": 127,
   "metadata": {},
   "outputs": [
    {
     "name": "stdout",
     "output_type": "stream",
     "text": [
      "[[ 2.06418088e+01  2.95993888e+02 -3.16635697e+02  8.10782371e-01\n",
      "  -8.99234656e-02  2.99416290e-02]]\n",
      "[56477.30030009]\n"
     ]
    }
   ],
   "source": [
    "# LinearRegression.coef_ (w0(bias)를 제외한 w 벡터)\n",
    "# LinearRegression.intercept_ (w0(bias))\n",
    "mlrW = mLR.coef_\n",
    "mlrB = mLR.intercept_\n",
    "print(mlrW)\n",
    "print(mlrB)"
   ]
  },
  {
   "cell_type": "code",
   "execution_count": 128,
   "metadata": {},
   "outputs": [
    {
     "name": "stdout",
     "output_type": "stream",
     "text": [
      "[[0.85572914]]\n",
      "[48886.36129813]\n"
     ]
    }
   ],
   "source": [
    "slrW = SLR.coef_\n",
    "slrB = SLR.intercept_\n",
    "print(slrW)\n",
    "print(slrB)"
   ]
  },
  {
   "cell_type": "code",
   "execution_count": 129,
   "metadata": {},
   "outputs": [
    {
     "name": "stdout",
     "output_type": "stream",
     "text": [
      "[[0.78383145 0.04017949]]\n",
      "[45023.34161982]\n"
     ]
    }
   ],
   "source": [
    "mlr2W = MLR2.coef_\n",
    "mlr2B = MLR2.intercept_\n",
    "print(mlr2W)\n",
    "print(mlr2B)"
   ]
  },
  {
   "cell_type": "code",
   "execution_count": 130,
   "metadata": {},
   "outputs": [
    {
     "data": {
      "text/plain": [
       "array([[122573.99296788],\n",
       "       [ 78580.89258925],\n",
       "       [ 98262.97255375],\n",
       "       [ 50795.75951392],\n",
       "       [125047.74388372],\n",
       "       [ 47527.230974  ],\n",
       "       [109859.78935385],\n",
       "       [101316.75000677],\n",
       "       [ 99917.17848709],\n",
       "       [118929.93918762],\n",
       "       [123712.36888734],\n",
       "       [160083.61852388],\n",
       "       [ 81627.28484924]])"
      ]
     },
     "execution_count": 130,
     "metadata": {},
     "output_type": "execute_result"
    }
   ],
   "source": [
    "MLR2.predict(X_test[:,[3,4]])"
   ]
  },
  {
   "cell_type": "code",
   "execution_count": 133,
   "metadata": {},
   "outputs": [
    {
     "name": "stdout",
     "output_type": "stream",
     "text": [
      "(1, 2)\n",
      "(13, 2)\n"
     ]
    }
   ],
   "source": [
    "print(mlr2W.shape)\n",
    "print(X_test[:,[3,4]].shape)"
   ]
  },
  {
   "cell_type": "code",
   "execution_count": 136,
   "metadata": {
    "scrolled": true
   },
   "outputs": [
    {
     "data": {
      "text/plain": [
       "array([[122573.9929678832],\n",
       "       [78580.89258925023],\n",
       "       [98262.97255375261],\n",
       "       [50795.75951392039],\n",
       "       [125047.74388372217],\n",
       "       [47527.23097399628],\n",
       "       [109859.78935384509],\n",
       "       [101316.75000677237],\n",
       "       [99917.17848709298],\n",
       "       [118929.93918762293],\n",
       "       [123712.36888734259],\n",
       "       [160083.61852388337],\n",
       "       [81627.28484923588]], dtype=object)"
      ]
     },
     "execution_count": 136,
     "metadata": {},
     "output_type": "execute_result"
    }
   ],
   "source": [
    "# w * x + b를 수행\n",
    "# matmul 이용 시, shape에 주의할 것\n",
    "np.matmul(X_test[:,[3,4]],mlr2W.T) + mlr2B"
   ]
  },
  {
   "cell_type": "markdown",
   "metadata": {},
   "source": [
    "### normal equation"
   ]
  },
  {
   "cell_type": "code",
   "execution_count": 155,
   "metadata": {},
   "outputs": [
    {
     "data": {
      "text/plain": [
       "array([[33046.1861375108],\n",
       "       [-7880.348126772792],\n",
       "       [-219892.6708079355],\n",
       "       [-807191.0050938439],\n",
       "       [-724733.496067713],\n",
       "       [-801108.1478771026],\n",
       "       [-210358.66495369762],\n",
       "       [7090.093419449087],\n",
       "       [4250.14288195071],\n",
       "       [-740631.6605835775],\n",
       "       [-190351.87161184606],\n",
       "       [-144522.915028791],\n",
       "       [98.32738360677831]], dtype=object)"
      ]
     },
     "execution_count": 155,
     "metadata": {},
     "output_type": "execute_result"
    }
   ],
   "source": [
    "# X_train과 y_train으로 w 찾기\n",
    "# 식은 강의자료 참고할 것\n",
    "\n",
    "X_trainNE = np.concatenate((np.ones(shape=(len(X_train),1)),X_train),axis = 1)\n",
    "X_trainNE = X_trainNE.astype(dtype=np.float64)\n",
    "w = np.matmul(np.matmul(np.linalg.inv(np.matmul(X_trainNE.T,X_trainNE)),X_trainNE.T),y_train)\n",
    "np.matmul(np.concatenate((np.ones(shape=(len(X_test),1)),X_test),axis = 1),w)"
   ]
  },
  {
   "cell_type": "code",
   "execution_count": 147,
   "metadata": {},
   "outputs": [
    {
     "data": {
      "text/plain": [
       "array([[1.0, 120542.52, 148718.95],\n",
       "       [1.0, 144372.41, 118671.85],\n",
       "       [1.0, 134615.46, 147198.87],\n",
       "       [1.0, 27892.92, 84710.77],\n",
       "       [1.0, 1315.46, 115816.21],\n",
       "       [1.0, 0.0, 135426.92],\n",
       "       [1.0, 114523.61, 122616.84],\n",
       "       [1.0, 123334.88, 108679.17],\n",
       "       [1.0, 78013.11, 121597.55],\n",
       "       [1.0, 77044.01, 99281.34],\n",
       "       [1.0, 46426.07, 157693.92],\n",
       "       [1.0, 61136.38, 152701.92],\n",
       "       [1.0, 165349.2, 136897.8],\n",
       "       [1.0, 22177.74, 154806.14],\n",
       "       [1.0, 72107.6, 127864.55],\n",
       "       [1.0, 55493.95, 103057.49],\n",
       "       [1.0, 131876.9, 99814.71],\n",
       "       [1.0, 65605.48, 153032.06],\n",
       "       [1.0, 100671.96, 91790.61],\n",
       "       [1.0, 28663.76, 127056.21],\n",
       "       [1.0, 162597.7, 151377.59],\n",
       "       [1.0, 78389.47, 153773.43],\n",
       "       [1.0, 153441.51, 101145.55],\n",
       "       [1.0, 15505.73, 127382.3],\n",
       "       [1.0, 46014.02, 85047.44],\n",
       "       [1.0, 67532.53, 105751.03],\n",
       "       [1.0, 28754.33, 118546.05],\n",
       "       [1.0, 101913.08, 110594.11],\n",
       "       [1.0, 73994.56, 122782.75],\n",
       "       [1.0, 91749.16, 114175.79],\n",
       "       [1.0, 0.0, 116983.8],\n",
       "       [1.0, 76253.86, 113867.3],\n",
       "       [1.0, 130298.13, 145530.06],\n",
       "       [1.0, 23640.93, 96189.63],\n",
       "       [1.0, 119943.24, 156547.42],\n",
       "       [1.0, 66051.52, 182645.56],\n",
       "       [1.0, 20229.59, 65947.93]], dtype=object)"
      ]
     },
     "execution_count": 147,
     "metadata": {},
     "output_type": "execute_result"
    }
   ],
   "source": [
    "X_trainNE"
   ]
  }
 ],
 "metadata": {
  "kernelspec": {
   "display_name": "Python 3",
   "language": "python",
   "name": "python3"
  },
  "language_info": {
   "codemirror_mode": {
    "name": "ipython",
    "version": 3
   },
   "file_extension": ".py",
   "mimetype": "text/x-python",
   "name": "python",
   "nbconvert_exporter": "python",
   "pygments_lexer": "ipython3",
   "version": "3.8.5"
  }
 },
 "nbformat": 4,
 "nbformat_minor": 4
}
