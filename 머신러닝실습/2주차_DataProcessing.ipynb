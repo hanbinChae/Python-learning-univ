{
 "cells": [
  {
   "cell_type": "markdown",
   "id": "45ca49c3",
   "metadata": {},
   "source": [
    "# 3) 기타 데이터 처리"
   ]
  },
  {
   "cell_type": "code",
   "execution_count": 108,
   "id": "ff1f8c0d",
   "metadata": {},
   "outputs": [
    {
     "name": "stdout",
     "output_type": "stream",
     "text": [
      "\u001b[33mDEPRECATION: Configuring installation scheme with distutils config files is deprecated and will no longer work in the near future. If you are using a Homebrew or Linuxbrew Python, please see discussion at https://github.com/Homebrew/homebrew-core/issues/76621\u001b[0m\u001b[33m\n",
      "\u001b[0mRequirement already satisfied: pandas in /opt/homebrew/lib/python3.9/site-packages (1.4.4)\n",
      "Requirement already satisfied: numpy>=1.20.0 in /opt/homebrew/lib/python3.9/site-packages (from pandas) (1.23.3)\n",
      "Requirement already satisfied: pytz>=2020.1 in /opt/homebrew/lib/python3.9/site-packages (from pandas) (2022.2.1)\n",
      "Requirement already satisfied: python-dateutil>=2.8.1 in /opt/homebrew/lib/python3.9/site-packages (from pandas) (2.8.2)\n",
      "Requirement already satisfied: six>=1.5 in /opt/homebrew/lib/python3.9/site-packages (from python-dateutil>=2.8.1->pandas) (1.16.0)\n",
      "\u001b[33mDEPRECATION: Configuring installation scheme with distutils config files is deprecated and will no longer work in the near future. If you are using a Homebrew or Linuxbrew Python, please see discussion at https://github.com/Homebrew/homebrew-core/issues/76621\u001b[0m\u001b[33m\n",
      "\u001b[0m\u001b[33mWARNING: There was an error checking the latest version of pip.\u001b[0m\u001b[33m\n",
      "\u001b[0m\u001b[33mDEPRECATION: Configuring installation scheme with distutils config files is deprecated and will no longer work in the near future. If you are using a Homebrew or Linuxbrew Python, please see discussion at https://github.com/Homebrew/homebrew-core/issues/76621\u001b[0m\u001b[33m\n",
      "\u001b[0mRequirement already satisfied: numpy in /opt/homebrew/lib/python3.9/site-packages (1.23.3)\n",
      "\u001b[33mDEPRECATION: Configuring installation scheme with distutils config files is deprecated and will no longer work in the near future. If you are using a Homebrew or Linuxbrew Python, please see discussion at https://github.com/Homebrew/homebrew-core/issues/76621\u001b[0m\u001b[33m\n",
      "\u001b[0m\u001b[33mWARNING: There was an error checking the latest version of pip.\u001b[0m\u001b[33m\n",
      "\u001b[0m"
     ]
    }
   ],
   "source": [
    "!pip install pandas\n",
    "!pip install numpy"
   ]
  },
  {
   "cell_type": "code",
   "execution_count": 109,
   "id": "45cab930",
   "metadata": {},
   "outputs": [],
   "source": [
    "import numpy as np\n",
    "import pandas as pd"
   ]
  },
  {
   "cell_type": "code",
   "execution_count": 110,
   "id": "3f7295a3",
   "metadata": {},
   "outputs": [
    {
     "data": {
      "text/html": [
       "<div>\n",
       "<style scoped>\n",
       "    .dataframe tbody tr th:only-of-type {\n",
       "        vertical-align: middle;\n",
       "    }\n",
       "\n",
       "    .dataframe tbody tr th {\n",
       "        vertical-align: top;\n",
       "    }\n",
       "\n",
       "    .dataframe thead th {\n",
       "        text-align: right;\n",
       "    }\n",
       "</style>\n",
       "<table border=\"1\" class=\"dataframe\">\n",
       "  <thead>\n",
       "    <tr style=\"text-align: right;\">\n",
       "      <th></th>\n",
       "      <th>Country</th>\n",
       "      <th>Age</th>\n",
       "      <th>Salary</th>\n",
       "      <th>Purchased</th>\n",
       "    </tr>\n",
       "  </thead>\n",
       "  <tbody>\n",
       "    <tr>\n",
       "      <th>0</th>\n",
       "      <td>France</td>\n",
       "      <td>44.0</td>\n",
       "      <td>72000.0</td>\n",
       "      <td>No</td>\n",
       "    </tr>\n",
       "    <tr>\n",
       "      <th>1</th>\n",
       "      <td>Spain</td>\n",
       "      <td>27.0</td>\n",
       "      <td>48000.0</td>\n",
       "      <td>Yes</td>\n",
       "    </tr>\n",
       "    <tr>\n",
       "      <th>2</th>\n",
       "      <td>Germany</td>\n",
       "      <td>30.0</td>\n",
       "      <td>54000.0</td>\n",
       "      <td>No</td>\n",
       "    </tr>\n",
       "    <tr>\n",
       "      <th>3</th>\n",
       "      <td>Spain</td>\n",
       "      <td>38.0</td>\n",
       "      <td>61000.0</td>\n",
       "      <td>No</td>\n",
       "    </tr>\n",
       "    <tr>\n",
       "      <th>4</th>\n",
       "      <td>Germany</td>\n",
       "      <td>40.0</td>\n",
       "      <td>NaN</td>\n",
       "      <td>Yes</td>\n",
       "    </tr>\n",
       "    <tr>\n",
       "      <th>5</th>\n",
       "      <td>France</td>\n",
       "      <td>35.0</td>\n",
       "      <td>58000.0</td>\n",
       "      <td>Yes</td>\n",
       "    </tr>\n",
       "    <tr>\n",
       "      <th>6</th>\n",
       "      <td>Spain</td>\n",
       "      <td>NaN</td>\n",
       "      <td>52000.0</td>\n",
       "      <td>No</td>\n",
       "    </tr>\n",
       "    <tr>\n",
       "      <th>7</th>\n",
       "      <td>France</td>\n",
       "      <td>48.0</td>\n",
       "      <td>79000.0</td>\n",
       "      <td>Yes</td>\n",
       "    </tr>\n",
       "    <tr>\n",
       "      <th>8</th>\n",
       "      <td>Germany</td>\n",
       "      <td>50.0</td>\n",
       "      <td>83000.0</td>\n",
       "      <td>No</td>\n",
       "    </tr>\n",
       "    <tr>\n",
       "      <th>9</th>\n",
       "      <td>France</td>\n",
       "      <td>37.0</td>\n",
       "      <td>67000.0</td>\n",
       "      <td>Yes</td>\n",
       "    </tr>\n",
       "  </tbody>\n",
       "</table>\n",
       "</div>"
      ],
      "text/plain": [
       "   Country   Age   Salary Purchased\n",
       "0   France  44.0  72000.0        No\n",
       "1    Spain  27.0  48000.0       Yes\n",
       "2  Germany  30.0  54000.0        No\n",
       "3    Spain  38.0  61000.0        No\n",
       "4  Germany  40.0      NaN       Yes\n",
       "5   France  35.0  58000.0       Yes\n",
       "6    Spain   NaN  52000.0        No\n",
       "7   France  48.0  79000.0       Yes\n",
       "8  Germany  50.0  83000.0        No\n",
       "9   France  37.0  67000.0       Yes"
      ]
     },
     "execution_count": 110,
     "metadata": {},
     "output_type": "execute_result"
    }
   ],
   "source": [
    "dataset = pd.read_csv(\"data/Data.csv\")\n",
    "dataset"
   ]
  },
  {
   "cell_type": "markdown",
   "id": "c59040af",
   "metadata": {},
   "source": [
    "# 3-1) X와 y분리"
   ]
  },
  {
   "cell_type": "code",
   "execution_count": 111,
   "id": "99ede699",
   "metadata": {},
   "outputs": [
    {
     "name": "stdout",
     "output_type": "stream",
     "text": [
      "X\n",
      "\n",
      "   Country   Age   Salary\n",
      "0   France  44.0  72000.0\n",
      "1    Spain  27.0  48000.0\n",
      "2  Germany  30.0  54000.0\n",
      "3    Spain  38.0  61000.0\n",
      "4  Germany  40.0      NaN\n",
      "5   France  35.0  58000.0\n",
      "6    Spain   NaN  52000.0\n",
      "7   France  48.0  79000.0\n",
      "8  Germany  50.0  83000.0\n",
      "9   France  37.0  67000.0\n",
      "(10, 3)\n",
      "<class 'pandas.core.frame.DataFrame'>\n",
      "----------------------------------------------------------------------------------------------------\n",
      "y\n",
      "\n",
      "0     No\n",
      "1    Yes\n",
      "2     No\n",
      "3     No\n",
      "4    Yes\n",
      "5    Yes\n",
      "6     No\n",
      "7    Yes\n",
      "8     No\n",
      "9    Yes\n",
      "Name: Purchased, dtype: object\n",
      "(10,)\n",
      "<class 'pandas.core.series.Series'>\n"
     ]
    }
   ],
   "source": [
    "# X: country, age, salary \n",
    "# y: purchased(Yes/No) #정답 label\n",
    "# -> classification: 국가, 나이, 연봉 정보를 통해 제품을 구입할지 말지 판단\n",
    "\n",
    "#1) X와 y분리\n",
    "X = dataset.iloc[:,:-1]\n",
    "y = dataset.iloc[:,-1]\n",
    "\n",
    "print('X\\n')\n",
    "print(X)\n",
    "print(X.shape)\n",
    "print(type(X))\n",
    "\n",
    "print('-'*100)\n",
    "\n",
    "print('y\\n')\n",
    "print(y)\n",
    "print(y.shape)\n",
    "print(type(y))"
   ]
  },
  {
   "cell_type": "code",
   "execution_count": 112,
   "id": "cb412ab6",
   "metadata": {},
   "outputs": [
    {
     "data": {
      "text/plain": [
       "array(['No', 'Yes', 'No', 'No', 'Yes', 'Yes', 'No', 'Yes', 'No', 'Yes'],\n",
       "      dtype=object)"
      ]
     },
     "execution_count": 112,
     "metadata": {},
     "output_type": "execute_result"
    }
   ],
   "source": [
    "#dataset으로부터 ndarray로 타입으로 X와 y추출\n",
    "X = dataset.iloc[:,:-1].values\n",
    "y = dataset.iloc[:,-1].values\n",
    "\n",
    "#위와 동일한 방법\n",
    "X = dataset.values[:,:-1]\n",
    "y = dataset.values[:,-1]\n",
    "\n",
    "y"
   ]
  },
  {
   "cell_type": "markdown",
   "id": "b857d847",
   "metadata": {},
   "source": [
    "# 3-2) 문자를 숫자로 변경"
   ]
  },
  {
   "cell_type": "code",
   "execution_count": 113,
   "id": "dea8eae8",
   "metadata": {},
   "outputs": [],
   "source": [
    "#원핫 인코딩 : 문자와 숫자의 각각의 특성을 반영하지 않기 위해\n",
    "# 문자가 존재할 경우 1, 존재하지 않을 경우 0으로 변환\n",
    "# 각 문자와 숫자간의 관계가 없음."
   ]
  },
  {
   "cell_type": "code",
   "execution_count": 114,
   "id": "9e9d6c28",
   "metadata": {},
   "outputs": [
    {
     "name": "stdout",
     "output_type": "stream",
     "text": [
      "['France' 'Spain' 'Germany' 'Spain' 'Germany' 'France' 'Spain' 'France'\n",
      " 'Germany' 'France']\n"
     ]
    }
   ],
   "source": [
    "# X 1열 문자열\n",
    "print(X[:,0])"
   ]
  },
  {
   "cell_type": "code",
   "execution_count": 115,
   "id": "225110b3",
   "metadata": {},
   "outputs": [
    {
     "name": "stdout",
     "output_type": "stream",
     "text": [
      "['France' 'Spain' 'Germany']\n",
      "3\n",
      "['No' 'Yes']\n",
      "2\n"
     ]
    }
   ],
   "source": [
    "# unique() : 데이터프레임의 중복을 제거\n",
    "print(dataset.loc[:,'Country'].unique())\n",
    "print(dataset.loc[:,'Country'].nunique())\n",
    "\n",
    "# unique() : 데이터프레임의 중복을 제거\n",
    "print(dataset.iloc[:,-1].unique())\n",
    "print(dataset.iloc[:,-1].nunique())"
   ]
  },
  {
   "cell_type": "code",
   "execution_count": 116,
   "id": "b2ce36b6",
   "metadata": {},
   "outputs": [
    {
     "name": "stdout",
     "output_type": "stream",
     "text": [
      "\u001b[33mDEPRECATION: Configuring installation scheme with distutils config files is deprecated and will no longer work in the near future. If you are using a Homebrew or Linuxbrew Python, please see discussion at https://github.com/Homebrew/homebrew-core/issues/76621\u001b[0m\u001b[33m\n",
      "\u001b[0mRequirement already satisfied: sklearn in /opt/homebrew/lib/python3.9/site-packages (0.0)\n",
      "Requirement already satisfied: scikit-learn in /opt/homebrew/lib/python3.9/site-packages (from sklearn) (1.1.2)\n",
      "Requirement already satisfied: scipy>=1.3.2 in /opt/homebrew/lib/python3.9/site-packages (from scikit-learn->sklearn) (1.9.1)\n",
      "Requirement already satisfied: joblib>=1.0.0 in /opt/homebrew/lib/python3.9/site-packages (from scikit-learn->sklearn) (1.1.0)\n",
      "Requirement already satisfied: numpy>=1.17.3 in /opt/homebrew/lib/python3.9/site-packages (from scikit-learn->sklearn) (1.23.3)\n",
      "Requirement already satisfied: threadpoolctl>=2.0.0 in /opt/homebrew/lib/python3.9/site-packages (from scikit-learn->sklearn) (3.1.0)\n",
      "\u001b[33mDEPRECATION: Configuring installation scheme with distutils config files is deprecated and will no longer work in the near future. If you are using a Homebrew or Linuxbrew Python, please see discussion at https://github.com/Homebrew/homebrew-core/issues/76621\u001b[0m\u001b[33m\n",
      "\u001b[0m\u001b[33mWARNING: There was an error checking the latest version of pip.\u001b[0m\u001b[33m\n",
      "\u001b[0m"
     ]
    }
   ],
   "source": [
    "!pip install sklearn"
   ]
  },
  {
   "cell_type": "code",
   "execution_count": 127,
   "id": "e4f8c076",
   "metadata": {},
   "outputs": [
    {
     "ename": "SyntaxError",
     "evalue": "invalid syntax (2268077419.py, line 12)",
     "output_type": "error",
     "traceback": [
      "\u001b[0;36m  Cell \u001b[0;32mIn [127], line 12\u001b[0;36m\u001b[0m\n\u001b[0;31m    X_le = le.transform(X[:,0])\u001b[0m\n\u001b[0m    ^\u001b[0m\n\u001b[0;31mSyntaxError\u001b[0m\u001b[0;31m:\u001b[0m invalid syntax\n"
     ]
    }
   ],
   "source": [
    "# 문자열을 정수로 변경\n",
    "from sklearn.preprocessing import LabelEncoder\n",
    "\n",
    "#1) LabelEncoder 객체 생성\n",
    "le = LabelEncoder()\n",
    "\n",
    "#2) Label Encoder을 적용할 준비 (어떤 데이터를 적용할 것인지 미리 정보를 확인) -> 변환 X\n",
    "le.fit(X[:,0]\n",
    "# -> X[:,0]의 데이터를 확인하고, 어떤 문자열을 어떤 정수로 바꿀지 결정\n",
    "\n",
    "#3) 미리 준비한 LabelEncoder 객체에 데이터를 적용하여 변환\n",
    "X_le = le.transform(X[:,0])\n",
    "X_le"
   ]
  },
  {
   "cell_type": "code",
   "execution_count": 128,
   "id": "f085043d",
   "metadata": {},
   "outputs": [
    {
     "name": "stdout",
     "output_type": "stream",
     "text": [
      "(10, 1)\n",
      "(10,)\n"
     ]
    }
   ],
   "source": [
    "#reshape : 데이터의 형태 변환\n",
    "#기존 값의 개수는 유지하되, 열에 -1을 사용하여 자동으로 변경되게 설정 가능\n",
    "X2 = X[:,0].reshape(-1,1) #2차원으로 변환\n",
    "\n",
    "X1 = X2.reshape(-1)#2D(이상) array를 1D로 변경할 때 reshape(-1)\n",
    "\n",
    "print(X2.shape)\n",
    "print(X1.shape)"
   ]
  },
  {
   "cell_type": "code",
   "execution_count": 129,
   "id": "09fdaabf",
   "metadata": {},
   "outputs": [
    {
     "name": "stdout",
     "output_type": "stream",
     "text": [
      "[[1. 0. 0.]\n",
      " [0. 0. 1.]\n",
      " [0. 1. 0.]\n",
      " [0. 0. 1.]\n",
      " [0. 1. 0.]\n",
      " [1. 0. 0.]\n",
      " [0. 0. 1.]\n",
      " [1. 0. 0.]\n",
      " [0. 1. 0.]\n",
      " [1. 0. 0.]]\n"
     ]
    }
   ],
   "source": [
    "from sklearn.preprocessing import OneHotEncoder\n",
    "# oneHotEncoding은 2D array만 적용가능\n",
    "ohe = OneHotEncoder()\n",
    "ohe.fit(X[:,:1])\n",
    "# == ohe.fit(X[:,0].reshape(-1,1))\n",
    "X_ohe_temp = ohe.transform(X[:,:1])\n",
    "\n",
    "X_ohe = X_ohe_temp.toarray() #반환 결과를 ndarray로 반환\n",
    "print(X_ohe) #OneHotEncoding 결과"
   ]
  },
  {
   "cell_type": "markdown",
   "id": "58fbd33b",
   "metadata": {},
   "source": [
    "# 3-3) 결측값(NaN)을 평균값으로 채우기 "
   ]
  },
  {
   "cell_type": "code",
   "execution_count": 130,
   "id": "4c1b274e",
   "metadata": {},
   "outputs": [
    {
     "name": "stdout",
     "output_type": "stream",
     "text": [
      "[[4.40000000e+01 7.20000000e+04]\n",
      " [2.70000000e+01 4.80000000e+04]\n",
      " [3.00000000e+01 5.40000000e+04]\n",
      " [3.80000000e+01 6.10000000e+04]\n",
      " [4.00000000e+01 6.37777778e+04]\n",
      " [3.50000000e+01 5.80000000e+04]\n",
      " [3.87777778e+01 5.20000000e+04]\n",
      " [4.80000000e+01 7.90000000e+04]\n",
      " [5.00000000e+01 8.30000000e+04]\n",
      " [3.70000000e+01 6.70000000e+04]]\n"
     ]
    }
   ],
   "source": [
    "from sklearn.impute import SimpleImputer\n",
    "\n",
    "im_mean = SimpleImputer(missing_values = np.nan, strategy ='mean')\n",
    "# strategy = {'mean':평균값, 'median':중앙값, 'most_frequent':가장 많이 사용된, 'constant':fill_value 파라미터로 입력한 값으로 대체}\n",
    "\n",
    "im_mean.fit(X[:,1:])\n",
    "X_im = im_mean.transform(X[:,1:])\n",
    "print(X_im)"
   ]
  },
  {
   "cell_type": "markdown",
   "id": "409c5ad4",
   "metadata": {},
   "source": [
    "# 3-4) ndarray 결합"
   ]
  },
  {
   "cell_type": "code",
   "execution_count": 131,
   "id": "1c108f48",
   "metadata": {},
   "outputs": [
    {
     "name": "stdout",
     "output_type": "stream",
     "text": [
      "[[1.00000000e+00 0.00000000e+00 0.00000000e+00 4.40000000e+01\n",
      "  7.20000000e+04]\n",
      " [0.00000000e+00 0.00000000e+00 1.00000000e+00 2.70000000e+01\n",
      "  4.80000000e+04]\n",
      " [0.00000000e+00 1.00000000e+00 0.00000000e+00 3.00000000e+01\n",
      "  5.40000000e+04]\n",
      " [0.00000000e+00 0.00000000e+00 1.00000000e+00 3.80000000e+01\n",
      "  6.10000000e+04]\n",
      " [0.00000000e+00 1.00000000e+00 0.00000000e+00 4.00000000e+01\n",
      "  6.37777778e+04]\n",
      " [1.00000000e+00 0.00000000e+00 0.00000000e+00 3.50000000e+01\n",
      "  5.80000000e+04]\n",
      " [0.00000000e+00 0.00000000e+00 1.00000000e+00 3.87777778e+01\n",
      "  5.20000000e+04]\n",
      " [1.00000000e+00 0.00000000e+00 0.00000000e+00 4.80000000e+01\n",
      "  7.90000000e+04]\n",
      " [0.00000000e+00 1.00000000e+00 0.00000000e+00 5.00000000e+01\n",
      "  8.30000000e+04]\n",
      " [1.00000000e+00 0.00000000e+00 0.00000000e+00 3.70000000e+01\n",
      "  6.70000000e+04]]\n"
     ]
    }
   ],
   "source": [
    "X_new = np.concatenate((X_ohe, X_im),axis=1)\n",
    "\n",
    "print(X_new)"
   ]
  },
  {
   "cell_type": "markdown",
   "id": "eba8a04f",
   "metadata": {},
   "source": [
    "# 3-5) tranning data와 test data 분리"
   ]
  },
  {
   "cell_type": "code",
   "execution_count": 132,
   "id": "e1a14f21",
   "metadata": {},
   "outputs": [
    {
     "name": "stdout",
     "output_type": "stream",
     "text": [
      "[[0.0e+00 1.0e+00 0.0e+00 5.0e+01 8.3e+04]\n",
      " [0.0e+00 0.0e+00 1.0e+00 2.7e+01 4.8e+04]\n",
      " [1.0e+00 0.0e+00 0.0e+00 3.5e+01 5.8e+04]]\n",
      "['No' 'Yes' 'Yes']\n",
      "[[1.00000000e+00 0.00000000e+00 0.00000000e+00 4.40000000e+01\n",
      "  7.20000000e+04]\n",
      " [1.00000000e+00 0.00000000e+00 0.00000000e+00 4.80000000e+01\n",
      "  7.90000000e+04]\n",
      " [0.00000000e+00 1.00000000e+00 0.00000000e+00 3.00000000e+01\n",
      "  5.40000000e+04]\n",
      " [1.00000000e+00 0.00000000e+00 0.00000000e+00 3.70000000e+01\n",
      "  6.70000000e+04]\n",
      " [0.00000000e+00 1.00000000e+00 0.00000000e+00 4.00000000e+01\n",
      "  6.37777778e+04]\n",
      " [0.00000000e+00 0.00000000e+00 1.00000000e+00 3.80000000e+01\n",
      "  6.10000000e+04]\n",
      " [0.00000000e+00 0.00000000e+00 1.00000000e+00 3.87777778e+01\n",
      "  5.20000000e+04]]\n",
      "['No' 'Yes' 'No' 'Yes' 'Yes' 'No' 'No']\n"
     ]
    }
   ],
   "source": [
    "from sklearn.model_selection import train_test_split\n",
    "\n",
    "X_train,X_test,y_train, y_test = train_test_split(X_new, y, test_size=0.3, random_state=42)\n",
    "# test_size : 전체 데이터에 대한 test data 비율\n",
    "# random_state : 랜덤 시드 값\n",
    "\n",
    "print(X_test)\n",
    "print(y_test)\n",
    "\n",
    "print(X_train)\n",
    "print(y_train)"
   ]
  },
  {
   "cell_type": "markdown",
   "id": "f0b853b2",
   "metadata": {},
   "source": [
    "# 3-5) Sacling (standardization)"
   ]
  },
  {
   "cell_type": "code",
   "execution_count": null,
   "id": "b5214db5",
   "metadata": {},
   "outputs": [],
   "source": [
    "from sklearn.preprocessing import StandardScaler"
   ]
  },
  {
   "cell_type": "code",
   "execution_count": 133,
   "id": "5151c088",
   "metadata": {},
   "outputs": [
    {
     "name": "stdout",
     "output_type": "stream",
     "text": [
      "[[4.40000000e+01 7.20000000e+04]\n",
      " [4.80000000e+01 7.90000000e+04]\n",
      " [3.00000000e+01 5.40000000e+04]\n",
      " [3.70000000e+01 6.70000000e+04]\n",
      " [4.00000000e+01 6.37777778e+04]\n",
      " [3.80000000e+01 6.10000000e+04]\n",
      " [3.87777778e+01 5.20000000e+04]]\n",
      "[[5.0e+01 8.3e+04]\n",
      " [2.7e+01 4.8e+04]\n",
      " [3.5e+01 5.8e+04]]\n"
     ]
    }
   ],
   "source": [
    "print(X_train[:,3:])\n",
    "print(X_test[:,3:])"
   ]
  },
  {
   "cell_type": "code",
   "execution_count": 134,
   "id": "4ad9288b",
   "metadata": {},
   "outputs": [
    {
     "name": "stdout",
     "output_type": "stream",
     "text": [
      "[[ 0.8790543   0.8892086 ]\n",
      " [ 1.64292217  1.67822469]\n",
      " [-1.79448326 -1.1396899 ]\n",
      " [-0.45771448  0.32562569]\n",
      " [ 0.11518643 -0.03757219]\n",
      " [-0.26674751 -0.35067382]\n",
      " [-0.11821765 -1.36512307]]\n",
      "[[ 2.02485611  2.12909102]\n",
      " [-2.36738416 -1.8159894 ]\n",
      " [-0.83964842 -0.68882357]]\n"
     ]
    }
   ],
   "source": [
    "sc = StandardScaler()\n",
    "sc.fit(X_train[:,3:])\n",
    "\n",
    "X_train_sc = sc.transform(X_train[:,3:])\n",
    "X_test_sc = sc.transform(X_test[:,3:])\n",
    "\n",
    "print(X_train_sc)\n",
    "print(X_test_sc)"
   ]
  },
  {
   "cell_type": "code",
   "execution_count": 135,
   "id": "6714e4d7",
   "metadata": {},
   "outputs": [
    {
     "data": {
      "text/plain": [
       "array([[1., 0., 0.],\n",
       "       [1., 0., 0.],\n",
       "       [0., 1., 0.],\n",
       "       [1., 0., 0.],\n",
       "       [0., 1., 0.],\n",
       "       [0., 0., 1.],\n",
       "       [0., 0., 1.]])"
      ]
     },
     "execution_count": 135,
     "metadata": {},
     "output_type": "execute_result"
    }
   ],
   "source": [
    "# X_train, X_test의 3,4열 삭제 후, X_train_sc, X_test_sc 결합\n",
    "X_train = np.delete(X_train,[3,4],axis=1)\n",
    "X_train"
   ]
  },
  {
   "cell_type": "code",
   "execution_count": 136,
   "id": "32adb851",
   "metadata": {},
   "outputs": [
    {
     "data": {
      "text/plain": [
       "array([38.77777777777778, 63777.77777777778], dtype=object)"
      ]
     },
     "execution_count": 136,
     "metadata": {},
     "output_type": "execute_result"
    }
   ],
   "source": [
    "#NaN이 포함된 ndarray의 평균 구하기\n",
    "# nanmean(ndarray, axis)\n",
    "np.nanmean(X[:,[1,2]],axis=0)"
   ]
  },
  {
   "cell_type": "markdown",
   "id": "7984997a",
   "metadata": {},
   "source": [
    "# 선형회귀 (Linear regression)"
   ]
  },
  {
   "cell_type": "code",
   "execution_count": null,
   "id": "409240dc",
   "metadata": {},
   "outputs": [],
   "source": []
  }
 ],
 "metadata": {
  "kernelspec": {
   "display_name": "Python 3 (ipykernel)",
   "language": "python",
   "name": "python3"
  },
  "language_info": {
   "codemirror_mode": {
    "name": "ipython",
    "version": 3
   },
   "file_extension": ".py",
   "mimetype": "text/x-python",
   "name": "python",
   "nbconvert_exporter": "python",
   "pygments_lexer": "ipython3",
   "version": "3.9.13"
  }
 },
 "nbformat": 4,
 "nbformat_minor": 5
}
