{
 "cells": [
  {
   "cell_type": "code",
   "execution_count": 3,
   "metadata": {},
   "outputs": [],
   "source": [
    "import numpy as np\n",
    "import pandas as pd\n",
    "import matplotlib.pyplot as plt"
   ]
  },
  {
   "cell_type": "code",
   "execution_count": 15,
   "metadata": {},
   "outputs": [
    {
     "data": {
      "text/plain": [
       "array([[6.3200e-03, 1.8000e+01, 2.3100e+00, ..., 3.9690e+02, 4.9800e+00,\n",
       "        2.4000e+01],\n",
       "       [2.7310e-02, 0.0000e+00, 7.0700e+00, ..., 3.9690e+02, 9.1400e+00,\n",
       "        2.1600e+01],\n",
       "       [2.7290e-02, 0.0000e+00, 7.0700e+00, ..., 3.9283e+02, 4.0300e+00,\n",
       "        3.4700e+01],\n",
       "       ...,\n",
       "       [6.0760e-02, 0.0000e+00, 1.1930e+01, ..., 3.9690e+02, 5.6400e+00,\n",
       "        2.3900e+01],\n",
       "       [1.0959e-01, 0.0000e+00, 1.1930e+01, ..., 3.9345e+02, 6.4800e+00,\n",
       "        2.2000e+01],\n",
       "       [4.7410e-02, 0.0000e+00, 1.1930e+01, ..., 3.9690e+02, 7.8800e+00,\n",
       "        1.1900e+01]])"
      ]
     },
     "execution_count": 15,
     "metadata": {},
     "output_type": "execute_result"
    }
   ],
   "source": [
    "dataset = pd.read_csv('data/boston_housing.csv').values\n",
    "dataset"
   ]
  },
  {
   "cell_type": "code",
   "execution_count": 5,
   "metadata": {},
   "outputs": [
    {
     "name": "stdout",
     "output_type": "stream",
     "text": [
      "(506, 1) (506,)\n"
     ]
    }
   ],
   "source": [
    "# X: age열\n",
    "x = dataset[:,6:7] # Age 열 (dataset[:,6] → 1D이므로 반드시 6:7 사용할 것)\n",
    "y = dataset[:,-1] # price 열\n",
    "print(x.shape, y.shape)"
   ]
  },
  {
   "cell_type": "code",
   "execution_count": 6,
   "metadata": {},
   "outputs": [],
   "source": [
    "from sklearn.model_selection import train_test_split\n",
    "xTrain,xTest,yTrain,yTest = train_test_split(x,y,test_size=0.2,random_state=1)"
   ]
  },
  {
   "cell_type": "code",
   "execution_count": 7,
   "metadata": {},
   "outputs": [
    {
     "data": {
      "text/plain": [
       "(404,)"
      ]
     },
     "execution_count": 7,
     "metadata": {},
     "output_type": "execute_result"
    }
   ],
   "source": [
    "yTrain.shape"
   ]
  },
  {
   "cell_type": "code",
   "execution_count": 8,
   "metadata": {},
   "outputs": [],
   "source": [
    "# Scaling (X,y)\n",
    "from sklearn.preprocessing import StandardScaler\n",
    "xSC = StandardScaler()\n",
    "ySC = StandardScaler()\n",
    "\n",
    "# scaling을 위한 정보 수집(준비): 평균과 분산 등을 찾음\n",
    "xSC.fit(xTrain)\n",
    "ySC.fit(yTrain.reshape(-1,1)) \n",
    "# scaler에는 반드시 2D 사용\n",
    "# yTrain은 1D이므로 reshape을 이용하여 2D로 변환\n",
    "# reshape(-1,1): 1열의 데이터로 변경하고, 행의 수는 데이터에 자동으로 맞춰줌\n",
    "# reshape(404,1)과 동일\n",
    "# ex> reshape(-1): 1D array로 변경\n",
    "\n",
    "# 변환 수행\n",
    "xTrainSC = xSC.transform(xTrain)\n",
    "yTrainSC = ySC.transform(yTrain.reshape(-1,1))\n",
    "\n",
    "# xTrainSC와 yTrainSC: xTrain과 yTrain을 scaling한 결과\n",
    "# 만약, scaling된 x또는 y를 다시 기존 값으로 변경하기 위해서는\n",
    "#       xSC.inverse_transform(xTrainSC), ySC.inverse_transform(yTrainSC)"
   ]
  },
  {
   "cell_type": "code",
   "execution_count": 9,
   "metadata": {},
   "outputs": [],
   "source": [
    "from sklearn.svm import SVR\n",
    "c = 1000\n",
    "eps = 0.1\n",
    "poly_d = 2\n",
    "poly_coef = 1\n",
    "\n",
    "svrLinear = SVR(kernel='linear',C=c,epsilon=eps)\n",
    "# kernel = 'linear', 'rbf', 'poly', 'sigmoid' (default='rbf')\n",
    "# C: C가 클 경우, error 최소화 중요도 커짐, 작을 경우, 정규화 중요도 커짐 (default=1)\n",
    "# epsilon: 오차 허용 범위 (default=0.1)\n",
    "svrPoly = SVR(kernel='poly',degree=poly_d,coef0=poly_coef,C=c,epsilon=eps)\n",
    "# degree: polynomial degree (default=3)\n",
    "# coef0: (xTx + coef0)^d (default=0)\n",
    "svrRbf = SVR(kernel='rbf',gamma='scale',C=c,epsilon=eps)\n",
    "# gamma: 1/(2*variance) (default='scale'=1/(특징수*분산))"
   ]
  },
  {
   "cell_type": "code",
   "execution_count": 10,
   "metadata": {},
   "outputs": [
    {
     "data": {
      "text/plain": [
       "SVR(C=1000)"
      ]
     },
     "execution_count": 10,
     "metadata": {},
     "output_type": "execute_result"
    }
   ],
   "source": [
    "svrLinear.fit(xTrainSC,yTrainSC.reshape(-1))\n",
    "# svr.fit(x,y): x는 2D, y는 1D (y가 2D일 때 경고)\n",
    "svrPoly.fit(xTrainSC,yTrainSC.reshape(-1))\n",
    "svrRbf.fit(xTrainSC,yTrainSC.reshape(-1))"
   ]
  },
  {
   "cell_type": "code",
   "execution_count": 11,
   "metadata": {},
   "outputs": [],
   "source": [
    "# predict에도 반드시 scaling된 데이터 사용\n",
    "xTestSC = xSC.transform(xTest)\n",
    "\n",
    "ySCpredLinear = svrLinear.predict(xTestSC)\n",
    "ySCpredPoly = svrPoly.predict(xTestSC)\n",
    "ySCpredRbf = svrRbf.predict(xTestSC)\n",
    "# predict한 결과도 scaling된 결과"
   ]
  },
  {
   "cell_type": "code",
   "execution_count": 12,
   "metadata": {},
   "outputs": [
    {
     "ename": "ValueError",
     "evalue": "Expected 2D array, got 1D array instead:\narray=[-2.24030444e-01 -3.11014264e-02 -4.35003182e-01  4.54691063e-01\n -5.83516886e-01 -6.07112521e-01  4.26931493e-01 -6.36260071e-01\n -5.50205401e-01 -1.65735345e-01 -2.87877457e-01  3.61696501e-01\n -1.53243538e-01  3.20057145e-01 -5.03014131e-01 -6.36260071e-01\n -5.43265509e-01 -4.00303719e-01  2.18734711e-01 -5.76576994e-01\n -3.26740856e-01 -6.36260071e-01 -4.59986796e-01  1.95139076e-01\n  5.04658291e-01 -5.72413058e-01 -5.93232736e-01  7.85488785e-02\n -4.89134345e-01 -6.20992307e-01  2.53434175e-01 -2.22642465e-01\n  3.08953316e-01 -5.89068800e-01  3.04789381e-01  1.60439612e-01\n -5.86292843e-01 -5.65898455e-04 -6.36260071e-01 -3.55888405e-01\n  5.12986162e-01  2.17346733e-01 -3.69768191e-01 -6.00172629e-01\n -5.90456779e-01 -3.10085113e-01 -6.11276457e-01 -5.62697208e-01\n -5.39101573e-01 -4.33615204e-01 -1.86555023e-01  1.74778226e-02\n -6.30249329e-02 -5.82128908e-01 -6.08500500e-01 -1.89330980e-01\n -3.28128834e-01  1.88658011e-02 -3.82259998e-01 -2.25418422e-01\n -6.36260071e-01 -2.69374908e-02 -6.20992307e-01 -4.43331053e-01\n  6.15696574e-01 -5.88609972e-02 -2.65669800e-01 -7.69047183e-02\n  1.64603548e-01 -5.22445830e-01  3.50592673e-01 -6.36260071e-01\n -5.16893916e-01 -4.59986796e-01 -4.30839247e-01  1.92363119e-01\n -6.01560607e-01  3.08953316e-01 -6.36260071e-01  3.67248415e-01\n -6.19604328e-01 -3.94751804e-01  2.11794819e-01 -5.61309230e-01\n  1.35455999e-01  4.72734784e-01 -6.12664436e-01  5.47685626e-01\n -2.28194379e-01 -6.11276457e-01 -5.11342002e-01 -4.54434882e-01\n -6.19604328e-01 -1.72675238e-01 -3.40620641e-01 -3.98915740e-01\n -2.07374701e-01  7.76197279e-03 -3.35068727e-01 -3.34185554e-03\n -7.69047183e-02 -6.36260071e-01].\nReshape your data either using array.reshape(-1, 1) if your data has a single feature or array.reshape(1, -1) if it contains a single sample.",
     "output_type": "error",
     "traceback": [
      "\u001b[1;31m---------------------------------------------------------------------------\u001b[0m",
      "\u001b[1;31mValueError\u001b[0m                                Traceback (most recent call last)",
      "Input \u001b[1;32mIn [12]\u001b[0m, in \u001b[0;36m<cell line: 2>\u001b[1;34m()\u001b[0m\n\u001b[0;32m      1\u001b[0m \u001b[38;5;66;03m# scaling된 예측값을 기존 값으로 역변환\u001b[39;00m\n\u001b[1;32m----> 2\u001b[0m yPredLinear \u001b[38;5;241m=\u001b[39m \u001b[43mySC\u001b[49m\u001b[38;5;241;43m.\u001b[39;49m\u001b[43minverse_transform\u001b[49m\u001b[43m(\u001b[49m\u001b[43mySCpredLinear\u001b[49m\u001b[43m)\u001b[49m\n\u001b[0;32m      3\u001b[0m yPredPoly \u001b[38;5;241m=\u001b[39m ySC\u001b[38;5;241m.\u001b[39minverse_transform(ySCpredPoly)\n\u001b[0;32m      4\u001b[0m yPredRbf \u001b[38;5;241m=\u001b[39m ySC\u001b[38;5;241m.\u001b[39minverse_transform(ySCpredRbf)\n",
      "File \u001b[1;32mC:\\ProgramData\\Anaconda3\\lib\\site-packages\\sklearn\\preprocessing\\_data.py:1016\u001b[0m, in \u001b[0;36mStandardScaler.inverse_transform\u001b[1;34m(self, X, copy)\u001b[0m\n\u001b[0;32m   1013\u001b[0m check_is_fitted(\u001b[38;5;28mself\u001b[39m)\n\u001b[0;32m   1015\u001b[0m copy \u001b[38;5;241m=\u001b[39m copy \u001b[38;5;28;01mif\u001b[39;00m copy \u001b[38;5;129;01mis\u001b[39;00m \u001b[38;5;129;01mnot\u001b[39;00m \u001b[38;5;28;01mNone\u001b[39;00m \u001b[38;5;28;01melse\u001b[39;00m \u001b[38;5;28mself\u001b[39m\u001b[38;5;241m.\u001b[39mcopy\n\u001b[1;32m-> 1016\u001b[0m X \u001b[38;5;241m=\u001b[39m \u001b[43mcheck_array\u001b[49m\u001b[43m(\u001b[49m\n\u001b[0;32m   1017\u001b[0m \u001b[43m    \u001b[49m\u001b[43mX\u001b[49m\u001b[43m,\u001b[49m\n\u001b[0;32m   1018\u001b[0m \u001b[43m    \u001b[49m\u001b[43maccept_sparse\u001b[49m\u001b[38;5;241;43m=\u001b[39;49m\u001b[38;5;124;43m\"\u001b[39;49m\u001b[38;5;124;43mcsr\u001b[39;49m\u001b[38;5;124;43m\"\u001b[39;49m\u001b[43m,\u001b[49m\n\u001b[0;32m   1019\u001b[0m \u001b[43m    \u001b[49m\u001b[43mcopy\u001b[49m\u001b[38;5;241;43m=\u001b[39;49m\u001b[43mcopy\u001b[49m\u001b[43m,\u001b[49m\n\u001b[0;32m   1020\u001b[0m \u001b[43m    \u001b[49m\u001b[43mestimator\u001b[49m\u001b[38;5;241;43m=\u001b[39;49m\u001b[38;5;28;43mself\u001b[39;49m\u001b[43m,\u001b[49m\n\u001b[0;32m   1021\u001b[0m \u001b[43m    \u001b[49m\u001b[43mdtype\u001b[49m\u001b[38;5;241;43m=\u001b[39;49m\u001b[43mFLOAT_DTYPES\u001b[49m\u001b[43m,\u001b[49m\n\u001b[0;32m   1022\u001b[0m \u001b[43m    \u001b[49m\u001b[43mforce_all_finite\u001b[49m\u001b[38;5;241;43m=\u001b[39;49m\u001b[38;5;124;43m\"\u001b[39;49m\u001b[38;5;124;43mallow-nan\u001b[39;49m\u001b[38;5;124;43m\"\u001b[39;49m\u001b[43m,\u001b[49m\n\u001b[0;32m   1023\u001b[0m \u001b[43m\u001b[49m\u001b[43m)\u001b[49m\n\u001b[0;32m   1025\u001b[0m \u001b[38;5;28;01mif\u001b[39;00m sparse\u001b[38;5;241m.\u001b[39missparse(X):\n\u001b[0;32m   1026\u001b[0m     \u001b[38;5;28;01mif\u001b[39;00m \u001b[38;5;28mself\u001b[39m\u001b[38;5;241m.\u001b[39mwith_mean:\n",
      "File \u001b[1;32mC:\\ProgramData\\Anaconda3\\lib\\site-packages\\sklearn\\utils\\validation.py:769\u001b[0m, in \u001b[0;36mcheck_array\u001b[1;34m(array, accept_sparse, accept_large_sparse, dtype, order, copy, force_all_finite, ensure_2d, allow_nd, ensure_min_samples, ensure_min_features, estimator)\u001b[0m\n\u001b[0;32m    767\u001b[0m     \u001b[38;5;66;03m# If input is 1D raise error\u001b[39;00m\n\u001b[0;32m    768\u001b[0m     \u001b[38;5;28;01mif\u001b[39;00m array\u001b[38;5;241m.\u001b[39mndim \u001b[38;5;241m==\u001b[39m \u001b[38;5;241m1\u001b[39m:\n\u001b[1;32m--> 769\u001b[0m         \u001b[38;5;28;01mraise\u001b[39;00m \u001b[38;5;167;01mValueError\u001b[39;00m(\n\u001b[0;32m    770\u001b[0m             \u001b[38;5;124m\"\u001b[39m\u001b[38;5;124mExpected 2D array, got 1D array instead:\u001b[39m\u001b[38;5;130;01m\\n\u001b[39;00m\u001b[38;5;124marray=\u001b[39m\u001b[38;5;132;01m{}\u001b[39;00m\u001b[38;5;124m.\u001b[39m\u001b[38;5;130;01m\\n\u001b[39;00m\u001b[38;5;124m\"\u001b[39m\n\u001b[0;32m    771\u001b[0m             \u001b[38;5;124m\"\u001b[39m\u001b[38;5;124mReshape your data either using array.reshape(-1, 1) if \u001b[39m\u001b[38;5;124m\"\u001b[39m\n\u001b[0;32m    772\u001b[0m             \u001b[38;5;124m\"\u001b[39m\u001b[38;5;124myour data has a single feature or array.reshape(1, -1) \u001b[39m\u001b[38;5;124m\"\u001b[39m\n\u001b[0;32m    773\u001b[0m             \u001b[38;5;124m\"\u001b[39m\u001b[38;5;124mif it contains a single sample.\u001b[39m\u001b[38;5;124m\"\u001b[39m\u001b[38;5;241m.\u001b[39mformat(array)\n\u001b[0;32m    774\u001b[0m         )\n\u001b[0;32m    776\u001b[0m \u001b[38;5;66;03m# make sure we actually converted to numeric:\u001b[39;00m\n\u001b[0;32m    777\u001b[0m \u001b[38;5;28;01mif\u001b[39;00m dtype_numeric \u001b[38;5;129;01mand\u001b[39;00m array\u001b[38;5;241m.\u001b[39mdtype\u001b[38;5;241m.\u001b[39mkind \u001b[38;5;129;01min\u001b[39;00m \u001b[38;5;124m\"\u001b[39m\u001b[38;5;124mOUSV\u001b[39m\u001b[38;5;124m\"\u001b[39m:\n",
      "\u001b[1;31mValueError\u001b[0m: Expected 2D array, got 1D array instead:\narray=[-2.24030444e-01 -3.11014264e-02 -4.35003182e-01  4.54691063e-01\n -5.83516886e-01 -6.07112521e-01  4.26931493e-01 -6.36260071e-01\n -5.50205401e-01 -1.65735345e-01 -2.87877457e-01  3.61696501e-01\n -1.53243538e-01  3.20057145e-01 -5.03014131e-01 -6.36260071e-01\n -5.43265509e-01 -4.00303719e-01  2.18734711e-01 -5.76576994e-01\n -3.26740856e-01 -6.36260071e-01 -4.59986796e-01  1.95139076e-01\n  5.04658291e-01 -5.72413058e-01 -5.93232736e-01  7.85488785e-02\n -4.89134345e-01 -6.20992307e-01  2.53434175e-01 -2.22642465e-01\n  3.08953316e-01 -5.89068800e-01  3.04789381e-01  1.60439612e-01\n -5.86292843e-01 -5.65898455e-04 -6.36260071e-01 -3.55888405e-01\n  5.12986162e-01  2.17346733e-01 -3.69768191e-01 -6.00172629e-01\n -5.90456779e-01 -3.10085113e-01 -6.11276457e-01 -5.62697208e-01\n -5.39101573e-01 -4.33615204e-01 -1.86555023e-01  1.74778226e-02\n -6.30249329e-02 -5.82128908e-01 -6.08500500e-01 -1.89330980e-01\n -3.28128834e-01  1.88658011e-02 -3.82259998e-01 -2.25418422e-01\n -6.36260071e-01 -2.69374908e-02 -6.20992307e-01 -4.43331053e-01\n  6.15696574e-01 -5.88609972e-02 -2.65669800e-01 -7.69047183e-02\n  1.64603548e-01 -5.22445830e-01  3.50592673e-01 -6.36260071e-01\n -5.16893916e-01 -4.59986796e-01 -4.30839247e-01  1.92363119e-01\n -6.01560607e-01  3.08953316e-01 -6.36260071e-01  3.67248415e-01\n -6.19604328e-01 -3.94751804e-01  2.11794819e-01 -5.61309230e-01\n  1.35455999e-01  4.72734784e-01 -6.12664436e-01  5.47685626e-01\n -2.28194379e-01 -6.11276457e-01 -5.11342002e-01 -4.54434882e-01\n -6.19604328e-01 -1.72675238e-01 -3.40620641e-01 -3.98915740e-01\n -2.07374701e-01  7.76197279e-03 -3.35068727e-01 -3.34185554e-03\n -7.69047183e-02 -6.36260071e-01].\nReshape your data either using array.reshape(-1, 1) if your data has a single feature or array.reshape(1, -1) if it contains a single sample."
     ]
    }
   ],
   "source": [
    "# scaling된 예측값을 기존 값으로 역변환\n",
    "yPredLinear = ySC.inverse_transform(ySCpredLinear)\n",
    "yPredPoly = ySC.inverse_transform(ySCpredPoly)\n",
    "yPredRbf = ySC.inverse_transform(ySCpredRbf)"
   ]
  },
  {
   "cell_type": "code",
   "execution_count": null,
   "metadata": {},
   "outputs": [],
   "source": [
    "plt.scatter(xTrain,yTrain,alpha = 0.5)\n",
    "plt.scatter(xTest,yTest,linewidth=5,alpha = 0.5,color='orange')\n",
    "\n",
    "xGrid = np.arange(min(x)-5,max(x)+5,0.1).reshape(-1,1)\n",
    "# svr model을 그리기 위한 좌표의 x값 \n",
    "# (xGrid, 각 model의 prediction)을 이어서 model을 그림\n",
    "\n",
    "xGridSc = xSC.transform(xGrid)\n",
    "# xGrid를 SVR에 이용한 scale로 변경\n",
    "yGridLinearSc = svrLinear.predict(xGridSc)\n",
    "yGridPolySc = svrPoly.predict(xGridSc)\n",
    "yGridRbfSc = svrRbf.predict(xGridSc)\n",
    "# 각 model의 prediction\n",
    "\n",
    "yGridLinear = ySC.inverse_transform(yGridLinearSc)\n",
    "yGridPoly = ySC.inverse_transform(yGridPolySc)\n",
    "yGridRbf = ySC.inverse_transform(yGridRbfSc)\n",
    "# 각 model prediction을 다시 원래 scale로 변경\n",
    "\n",
    "plt.plot(xGrid,yGridLinear,color='purple',linewidth=3, label='Linear SVR')\n",
    "plt.plot(xGrid,yGridPoly, color='green',linewidth=3, label='Poly SVR')\n",
    "plt.plot(xGrid,yGridRbf, color='red', linewidth=3, label='RBF SVR')\n",
    "plt.legend()"
   ]
  },
  {
   "cell_type": "code",
   "execution_count": null,
   "metadata": {},
   "outputs": [],
   "source": [
    "yGidLinear"
   ]
  },
  {
   "cell_type": "code",
   "execution_count": null,
   "metadata": {},
   "outputs": [],
   "source": [
    "print(svrRbf.support_vectors_)\n",
    "# 잘못 분류된 학습 데이터 (w를 결정함)\n",
    "print(svrRbf.support_)\n",
    "# 잘못 분류된 학습 데이터의 index\n",
    "print(svrRbf.intercept_)\n",
    "# model의 bias\n",
    "print(svrRbf.n_support_)\n",
    "# support vector의 수\n",
    "print(svrRbf.dual_coef_)\n",
    "# supporv vector의 alpha와 target(y)의 곱\n",
    "\n",
    "# model을 생성할 때 필요한 데이터\n",
    "# → w: support_vectors, dual_coef_\n",
    "# → b: intercept_\n",
    "# 미리 지정한 gamma값과, Polynomial일 경우, degree와 coef0도 필요"
   ]
  },
  {
   "cell_type": "markdown",
   "metadata": {},
   "source": [
    "### RBF SVR prediction"
   ]
  },
  {
   "cell_type": "code",
   "execution_count": null,
   "metadata": {},
   "outputs": [],
   "source": [
    "svrRbf.predict([[0.5]])"
   ]
  },
  {
   "cell_type": "code",
   "execution_count": null,
   "metadata": {},
   "outputs": [],
   "source": [
    "x = [[0.5]]\n",
    "pred = 0\n",
    "gamma = 1 / (xTrainSC.shape[1] * xTrainSC.var())\n",
    "\n",
    "for i in np.arange(svrRbf.n_support_):\n",
    "    pred += svrRbf.dual_coef_[0,i] * np.exp(-gamma * (np.linalg.norm(svrRbf.support_vectors_[i,:]-x))**2)\n",
    "    \n",
    "pred + svrRbf.intercept_\n"
   ]
  },
  {
   "cell_type": "markdown",
   "metadata": {},
   "source": [
    "### Polynomial SVR prediction"
   ]
  },
  {
   "cell_type": "code",
   "execution_count": null,
   "metadata": {},
   "outputs": [],
   "source": [
    "svrPoly.predict([[0.5]])"
   ]
  },
  {
   "cell_type": "code",
   "execution_count": null,
   "metadata": {
    "scrolled": true
   },
   "outputs": [],
   "source": [
    "x = [[0.5]]\n",
    "pred = 0\n",
    "gamma = 1 / (xTrainSC.shape[1] * xTrainSC.var())\n",
    "\n",
    "for i in np.arange(svrPoly.n_support_):\n",
    "    pred += \n",
    "    \n",
    "print(pred + svrPoly.intercept_)"
   ]
  },
  {
   "cell_type": "markdown",
   "metadata": {},
   "source": [
    "### Linear SVR prediction"
   ]
  },
  {
   "cell_type": "code",
   "execution_count": null,
   "metadata": {},
   "outputs": [],
   "source": [
    "svrLinear.predict([[0.5]])"
   ]
  },
  {
   "cell_type": "code",
   "execution_count": null,
   "metadata": {},
   "outputs": [],
   "source": [
    "x = [[0.5]]\n",
    "pred = 0\n"
   ]
  }
 ],
 "metadata": {
  "kernelspec": {
   "display_name": "Python 3 (ipykernel)",
   "language": "python",
   "name": "python3"
  },
  "language_info": {
   "codemirror_mode": {
    "name": "ipython",
    "version": 3
   },
   "file_extension": ".py",
   "mimetype": "text/x-python",
   "name": "python",
   "nbconvert_exporter": "python",
   "pygments_lexer": "ipython3",
   "version": "3.9.12"
  }
 },
 "nbformat": 4,
 "nbformat_minor": 4
}
