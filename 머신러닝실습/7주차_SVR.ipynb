{
 "cells": [
  {
   "cell_type": "code",
   "execution_count": 1,
   "metadata": {},
   "outputs": [],
   "source": [
    "import numpy as np\n",
    "import pandas as pd\n",
    "import matplotlib.pyplot as plt"
   ]
  },
  {
   "cell_type": "code",
   "execution_count": 3,
   "metadata": {},
   "outputs": [
    {
     "data": {
      "text/plain": [
       "array([[6.3200e-03, 1.8000e+01, 2.3100e+00, ..., 3.9690e+02, 4.9800e+00,\n",
       "        2.4000e+01],\n",
       "       [2.7310e-02, 0.0000e+00, 7.0700e+00, ..., 3.9690e+02, 9.1400e+00,\n",
       "        2.1600e+01],\n",
       "       [2.7290e-02, 0.0000e+00, 7.0700e+00, ..., 3.9283e+02, 4.0300e+00,\n",
       "        3.4700e+01],\n",
       "       ...,\n",
       "       [6.0760e-02, 0.0000e+00, 1.1930e+01, ..., 3.9690e+02, 5.6400e+00,\n",
       "        2.3900e+01],\n",
       "       [1.0959e-01, 0.0000e+00, 1.1930e+01, ..., 3.9345e+02, 6.4800e+00,\n",
       "        2.2000e+01],\n",
       "       [4.7410e-02, 0.0000e+00, 1.1930e+01, ..., 3.9690e+02, 7.8800e+00,\n",
       "        1.1900e+01]])"
      ]
     },
     "execution_count": 3,
     "metadata": {},
     "output_type": "execute_result"
    }
   ],
   "source": [
    "dataset = pd.read_csv('boston_housing.csv').values\n",
    "dataset"
   ]
  },
  {
   "cell_type": "code",
   "execution_count": 4,
   "metadata": {},
   "outputs": [],
   "source": [
    "# X: age열\n",
    "x = dataset[:,6:7] # Age 열 (dataset[:,6] → 1D이므로 반드시 6:7 사용할 것)\n",
    "y = dataset[:,-1] # price 열"
   ]
  },
  {
   "cell_type": "code",
   "execution_count": 6,
   "metadata": {},
   "outputs": [],
   "source": [
    "from sklearn.model_selection import train_test_split\n",
    "xTrain,xTest,yTrain,yTest = train_test_split(x,y,test_size=0.2,random_state=1)"
   ]
  },
  {
   "cell_type": "code",
   "execution_count": 8,
   "metadata": {},
   "outputs": [
    {
     "data": {
      "text/plain": [
       "(404,)"
      ]
     },
     "execution_count": 8,
     "metadata": {},
     "output_type": "execute_result"
    }
   ],
   "source": [
    "yTrain.shape"
   ]
  },
  {
   "cell_type": "code",
   "execution_count": 10,
   "metadata": {},
   "outputs": [],
   "source": [
    "# Scaling (X,y)\n",
    "from sklearn.preprocessing import StandardScaler\n",
    "xSC = StandardScaler()\n",
    "ySC = StandardScaler()\n",
    "\n",
    "# scaling을 위한 정보 수집(준비): 평균과 분산 등을 찾음\n",
    "xSC.fit(xTrain)\n",
    "ySC.fit(yTrain.reshape(-1,1)) \n",
    "# scaler에는 반드시 2D 사용\n",
    "# yTrain은 1D이므로 reshape을 이용하여 2D로 변환\n",
    "# reshape(-1,1): 1열의 데이터로 변경하고, 행의 수는 데이터에 자동으로 맞춰줌\n",
    "# reshape(404,1)과 동일\n",
    "# ex> reshape(-1): 1D array로 변경\n",
    "\n",
    "# 변환 수행\n",
    "xTrainSC = xSC.transform(xTrain)\n",
    "yTrainSC = ySC.transform(yTrain.reshape(-1,1))\n",
    "\n",
    "# xTrainSC와 yTrainSC: xTrain과 yTrain을 scaling한 결과\n",
    "# 만약, scaling된 x또는 y를 다시 기존 값으로 변경하기 위해서는\n",
    "#       xSC.inverse_transform(xTrainSC), ySC.inverse_transform(yTrainSC)"
   ]
  },
  {
   "cell_type": "code",
   "execution_count": 17,
   "metadata": {},
   "outputs": [],
   "source": [
    "from sklearn.svm import SVR\n",
    "c = 1\n",
    "eps = 0.1\n",
    "poly_d = 2\n",
    "poly_coef = 1\n",
    "\n",
    "svrLinear = SVR(kernel='linear',C=c,epsilon=eps)\n",
    "# kernel = 'linear', 'rbf', 'poly', 'sigmoid' (default='rbf')\n",
    "# C: C가 클 경우, error 최소화 중요도 커짐, 작을 경우, 정규화 중요도 커짐 (default=1)\n",
    "# epsilon: 오차 허용 범위 (default=0.1)\n",
    "svrPoly = SVR(kernel='poly',degree=poly_d,coef0=poly_coef,C=c,epsilon=eps)\n",
    "# degree: polynomial degree (default=3)\n",
    "# coef0: (xTx + coef0)^d (default=0)\n",
    "svrRbf = SVR(kernel='rbf',gamma='scale',C=c,epsilon=eps)\n",
    "# gamma: 1/(2*variance) (default='scale'=1/(특징수*분산))"
   ]
  },
  {
   "cell_type": "code",
   "execution_count": 20,
   "metadata": {},
   "outputs": [
    {
     "data": {
      "text/plain": [
       "SVR(C=1)"
      ]
     },
     "execution_count": 20,
     "metadata": {},
     "output_type": "execute_result"
    }
   ],
   "source": [
    "svrLinear.fit(xTrainSC,yTrainSC.reshape(-1))\n",
    "# svr.fit(x,y): x는 2D, y는 1D (y가 2D일 때 경고)\n",
    "svrPoly.fit(xTrainSC,yTrainSC.reshape(-1))\n",
    "svrRbf.fit(xTrainSC,yTrainSC.reshape(-1))"
   ]
  },
  {
   "cell_type": "code",
   "execution_count": 21,
   "metadata": {},
   "outputs": [],
   "source": [
    "# predict에도 반드시 scaling된 데이터 사용\n",
    "xTestSC = xSC.transform(xTest)\n",
    "\n",
    "ySCpredLinear = svrLinear.predict(xTestSC)\n",
    "ySCpredPoly = svrPoly.predict(xTestSC)\n",
    "ySCpredRbf = svrRbf.predict(xTestSC)\n",
    "# predict한 결과도 scaling된 결과"
   ]
  },
  {
   "cell_type": "code",
   "execution_count": 22,
   "metadata": {},
   "outputs": [],
   "source": [
    "# scaling된 예측값을 기존 값으로 역변환\n",
    "yPredLinear = ySC.inverse_transform(ySCpredLinear)\n",
    "yPredPoly = ySC.inverse_transform(ySCpredPoly)\n",
    "yPredRbf = ySC.inverse_transform(ySCpredRbf)"
   ]
  },
  {
   "cell_type": "code",
   "execution_count": 23,
   "metadata": {},
   "outputs": [
    {
     "data": {
      "text/plain": [
       "<matplotlib.collections.PathCollection at 0x2169208c820>"
      ]
     },
     "execution_count": 23,
     "metadata": {},
     "output_type": "execute_result"
    },
    {
     "data": {
      "image/png": "[encoded data removed]",
      "text/plain": [
       "<Figure size 432x288 with 1 Axes>"
      ]
     },
     "metadata": {
      "needs_background": "light"
     },
     "output_type": "display_data"
    }
   ],
   "source": [
    "plt.scatter(xTrain,yTrain)"
   ]
  },
  {
   "cell_type": "code",
   "execution_count": null,
   "metadata": {},
   "outputs": [],
   "source": []
  }
 ],
 "metadata": {
  "kernelspec": {
   "display_name": "Python 3",
   "language": "python",
   "name": "python3"
  },
  "language_info": {
   "codemirror_mode": {
    "name": "ipython",
    "version": 3
   },
   "file_extension": ".py",
   "mimetype": "text/x-python",
   "name": "python",
   "nbconvert_exporter": "python",
   "pygments_lexer": "ipython3",
   "version": "3.8.5"
  }
 },
 "nbformat": 4,
 "nbformat_minor": 4
}
