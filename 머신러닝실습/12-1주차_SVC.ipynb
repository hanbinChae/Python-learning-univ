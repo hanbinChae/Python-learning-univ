{
 "cells": [
  {
   "cell_type": "code",
   "execution_count": 1,
   "metadata": {},
   "outputs": [],
   "source": [
    "import numpy as np\n",
    "import pandas as pd\n",
    "import matplotlib.pyplot as plt"
   ]
  },
  {
   "cell_type": "code",
   "execution_count": 2,
   "metadata": {},
   "outputs": [],
   "source": [
    "dataset = pd.read_csv('data/Social_Network_Ads.csv').values\n",
    "X = dataset[:,:-1]\n",
    "y = dataset[:,-1]"
   ]
  },
  {
   "cell_type": "code",
   "execution_count": 3,
   "metadata": {},
   "outputs": [],
   "source": [
    "from sklearn.model_selection import train_test_split\n",
    "xTrain,xTest,yTrain,yTest = train_test_split(X,y,test_size=0.25,random_state=1)"
   ]
  },
  {
   "cell_type": "code",
   "execution_count": 4,
   "metadata": {},
   "outputs": [],
   "source": [
    "from sklearn.preprocessing import StandardScaler\n",
    "sc = StandardScaler()\n",
    "sc.fit(xTrain)\n",
    "xTrainSC = sc.transform(xTrain)\n",
    "# xTrainSC = sc.fit_transform(xTrain)\n",
    "xTestSC = sc.transform(xTest)"
   ]
  },
  {
   "cell_type": "code",
   "execution_count": 5,
   "metadata": {},
   "outputs": [],
   "source": [
    "from sklearn.svm import SVC\n",
    "svcLinear=SVC(kernel='linear')\n",
    "svcRBF=SVC(kernel='rbf')\n",
    "svcPoly=SVC(kernel='poly',degree=3,coef0=1.0)"
   ]
  },
  {
   "cell_type": "code",
   "execution_count": 6,
   "metadata": {},
   "outputs": [
    {
     "data": {
      "text/html": [
       "<style>#sk-container-id-1 {color: black;background-color: white;}#sk-container-id-1 pre{padding: 0;}#sk-container-id-1 div.sk-toggleable {background-color: white;}#sk-container-id-1 label.sk-toggleable__label {cursor: pointer;display: block;width: 100%;margin-bottom: 0;padding: 0.3em;box-sizing: border-box;text-align: center;}#sk-container-id-1 label.sk-toggleable__label-arrow:before {content: \"▸\";float: left;margin-right: 0.25em;color: #696969;}#sk-container-id-1 label.sk-toggleable__label-arrow:hover:before {color: black;}#sk-container-id-1 div.sk-estimator:hover label.sk-toggleable__label-arrow:before {color: black;}#sk-container-id-1 div.sk-toggleable__content {max-height: 0;max-width: 0;overflow: hidden;text-align: left;background-color: #f0f8ff;}#sk-container-id-1 div.sk-toggleable__content pre {margin: 0.2em;color: black;border-radius: 0.25em;background-color: #f0f8ff;}#sk-container-id-1 input.sk-toggleable__control:checked~div.sk-toggleable__content {max-height: 200px;max-width: 100%;overflow: auto;}#sk-container-id-1 input.sk-toggleable__control:checked~label.sk-toggleable__label-arrow:before {content: \"▾\";}#sk-container-id-1 div.sk-estimator input.sk-toggleable__control:checked~label.sk-toggleable__label {background-color: #d4ebff;}#sk-container-id-1 div.sk-label input.sk-toggleable__control:checked~label.sk-toggleable__label {background-color: #d4ebff;}#sk-container-id-1 input.sk-hidden--visually {border: 0;clip: rect(1px 1px 1px 1px);clip: rect(1px, 1px, 1px, 1px);height: 1px;margin: -1px;overflow: hidden;padding: 0;position: absolute;width: 1px;}#sk-container-id-1 div.sk-estimator {font-family: monospace;background-color: #f0f8ff;border: 1px dotted black;border-radius: 0.25em;box-sizing: border-box;margin-bottom: 0.5em;}#sk-container-id-1 div.sk-estimator:hover {background-color: #d4ebff;}#sk-container-id-1 div.sk-parallel-item::after {content: \"\";width: 100%;border-bottom: 1px solid gray;flex-grow: 1;}#sk-container-id-1 div.sk-label:hover label.sk-toggleable__label {background-color: #d4ebff;}#sk-container-id-1 div.sk-serial::before {content: \"\";position: absolute;border-left: 1px solid gray;box-sizing: border-box;top: 0;bottom: 0;left: 50%;z-index: 0;}#sk-container-id-1 div.sk-serial {display: flex;flex-direction: column;align-items: center;background-color: white;padding-right: 0.2em;padding-left: 0.2em;position: relative;}#sk-container-id-1 div.sk-item {position: relative;z-index: 1;}#sk-container-id-1 div.sk-parallel {display: flex;align-items: stretch;justify-content: center;background-color: white;position: relative;}#sk-container-id-1 div.sk-item::before, #sk-container-id-1 div.sk-parallel-item::before {content: \"\";position: absolute;border-left: 1px solid gray;box-sizing: border-box;top: 0;bottom: 0;left: 50%;z-index: -1;}#sk-container-id-1 div.sk-parallel-item {display: flex;flex-direction: column;z-index: 1;position: relative;background-color: white;}#sk-container-id-1 div.sk-parallel-item:first-child::after {align-self: flex-end;width: 50%;}#sk-container-id-1 div.sk-parallel-item:last-child::after {align-self: flex-start;width: 50%;}#sk-container-id-1 div.sk-parallel-item:only-child::after {width: 0;}#sk-container-id-1 div.sk-dashed-wrapped {border: 1px dashed gray;margin: 0 0.4em 0.5em 0.4em;box-sizing: border-box;padding-bottom: 0.4em;background-color: white;}#sk-container-id-1 div.sk-label label {font-family: monospace;font-weight: bold;display: inline-block;line-height: 1.2em;}#sk-container-id-1 div.sk-label-container {text-align: center;}#sk-container-id-1 div.sk-container {/* jupyter's `normalize.less` sets `[hidden] { display: none; }` but bootstrap.min.css set `[hidden] { display: none !important; }` so we also need the `!important` here to be able to override the default hidden behavior on the sphinx rendered scikit-learn.org. See: https://github.com/scikit-learn/scikit-learn/issues/21755 */display: inline-block !important;position: relative;}#sk-container-id-1 div.sk-text-repr-fallback {display: none;}</style><div id=\"sk-container-id-1\" class=\"sk-top-container\"><div class=\"sk-text-repr-fallback\"><pre>SVC(coef0=1.0, kernel=&#x27;poly&#x27;)</pre><b>In a Jupyter environment, please rerun this cell to show the HTML representation or trust the notebook. <br />On GitHub, the HTML representation is unable to render, please try loading this page with nbviewer.org.</b></div><div class=\"sk-container\" hidden><div class=\"sk-item\"><div class=\"sk-estimator sk-toggleable\"><input class=\"sk-toggleable__control sk-hidden--visually\" id=\"sk-estimator-id-1\" type=\"checkbox\" checked><label for=\"sk-estimator-id-1\" class=\"sk-toggleable__label sk-toggleable__label-arrow\">SVC</label><div class=\"sk-toggleable__content\"><pre>SVC(coef0=1.0, kernel=&#x27;poly&#x27;)</pre></div></div></div></div></div>"
      ],
      "text/plain": [
       "SVC(coef0=1.0, kernel='poly')"
      ]
     },
     "execution_count": 6,
     "metadata": {},
     "output_type": "execute_result"
    }
   ],
   "source": [
    "svcLinear.fit(xTrainSC,yTrain)\n",
    "svcRBF.fit(xTrainSC,yTrain)\n",
    "svcPoly.fit(xTrainSC,yTrain)"
   ]
  },
  {
   "cell_type": "code",
   "execution_count": 7,
   "metadata": {},
   "outputs": [
    {
     "name": "stdout",
     "output_type": "stream",
     "text": [
      "[0] [0] [0]\n"
     ]
    }
   ],
   "source": [
    "# 임의의 값을 입력으로 테스트\n",
    "sample=[[33,50000]]\n",
    "sampleSC=sc.transform(sample)\n",
    "# scaling된 x로 learning하였으므로, predict 시, scaling한 x 사용\n",
    "purchased1=svcLinear.predict(sampleSC)\n",
    "purchased2=svcRBF.predict(sampleSC)\n",
    "purchased3=svcPoly.predict(sampleSC)\n",
    "print(purchased1,purchased2,purchased3)"
   ]
  },
  {
   "cell_type": "code",
   "execution_count": 8,
   "metadata": {},
   "outputs": [],
   "source": [
    "# Test 데이터 적용\n",
    "predLinear = svcLinear.predict(xTestSC)\n",
    "predRBF = svcRBF.predict(xTestSC)\n",
    "predPoly = svcPoly.predict(xTestSC)"
   ]
  },
  {
   "cell_type": "code",
   "execution_count": 9,
   "metadata": {},
   "outputs": [
    {
     "name": "stdout",
     "output_type": "stream",
     "text": [
      "* Linear SVC\n",
      "confusion matrix:\n",
      "  [[52  6]\n",
      " [12 30]]\n",
      "accuracy:  0.82\n",
      "\n",
      "* RBF SVC\n",
      "confusion matrix:\n",
      "  [[49  9]\n",
      " [ 3 39]]\n",
      "accuracy:  0.88\n",
      "\n",
      "* Polynomial SVC\n",
      "confusion matrix:\n",
      "  [[49  9]\n",
      " [ 3 39]]\n",
      "accuracy:  0.88\n"
     ]
    }
   ],
   "source": [
    "from sklearn.metrics import confusion_matrix,accuracy_score\n",
    "cmLinear=confusion_matrix(yTest,predLinear)\n",
    "cmRBF=confusion_matrix(yTest,predRBF)\n",
    "cmPoly=confusion_matrix(yTest,predPoly)\n",
    "\n",
    "accLinear=accuracy_score(yTest,predLinear)\n",
    "accRBF=accuracy_score(yTest,predRBF)\n",
    "accPoly=accuracy_score(yTest,predPoly)\n",
    "\n",
    "print('* Linear SVC')\n",
    "print('confusion matrix:\\n ',cmLinear)\n",
    "print('accuracy: ',accLinear)\n",
    "print('\\n* RBF SVC')\n",
    "print('confusion matrix:\\n ',cmRBF)\n",
    "print('accuracy: ',accRBF)\n",
    "print('\\n* Polynomial SVC')\n",
    "print('confusion matrix:\\n ',cmPoly)\n",
    "print('accuracy: ',accPoly)"
   ]
  },
  {
   "cell_type": "code",
   "execution_count": 10,
   "metadata": {},
   "outputs": [],
   "source": [
    "x = np.arange(1,11,1)\n",
    "y = np.arange(-10,-5,1)\n",
    "X,Y = np.meshgrid(x,y)"
   ]
  },
  {
   "cell_type": "code",
   "execution_count": 11,
   "metadata": {},
   "outputs": [
    {
     "name": "stdout",
     "output_type": "stream",
     "text": [
      "[[ 1  2  3  4  5  6  7  8  9 10]\n",
      " [ 1  2  3  4  5  6  7  8  9 10]\n",
      " [ 1  2  3  4  5  6  7  8  9 10]\n",
      " [ 1  2  3  4  5  6  7  8  9 10]\n",
      " [ 1  2  3  4  5  6  7  8  9 10]]\n",
      "[[-10 -10 -10 -10 -10 -10 -10 -10 -10 -10]\n",
      " [ -9  -9  -9  -9  -9  -9  -9  -9  -9  -9]\n",
      " [ -8  -8  -8  -8  -8  -8  -8  -8  -8  -8]\n",
      " [ -7  -7  -7  -7  -7  -7  -7  -7  -7  -7]\n",
      " [ -6  -6  -6  -6  -6  -6  -6  -6  -6  -6]]\n"
     ]
    }
   ],
   "source": [
    "print(X)\n",
    "print(Y)"
   ]
  },
  {
   "cell_type": "code",
   "execution_count": 12,
   "metadata": {},
   "outputs": [
    {
     "data": {
      "text/plain": [
       "<matplotlib.collections.PathCollection at 0x137f0a9d0>"
      ]
     },
     "execution_count": 12,
     "metadata": {},
     "output_type": "execute_result"
    },
    {
     "data": {
      "image/png": "[encoded data removed]",
      "text/plain": [
       "<Figure size 300x200 with 1 Axes>"
      ]
     },
     "metadata": {},
     "output_type": "display_data"
    }
   ],
   "source": [
    "plt.figure(figsize=(3,2))\n",
    "plt.scatter(X,Y)"
   ]
  },
  {
   "cell_type": "code",
   "execution_count": 13,
   "metadata": {},
   "outputs": [
    {
     "data": {
      "text/plain": [
       "<matplotlib.colorbar.Colorbar at 0x14222f280>"
      ]
     },
     "execution_count": 13,
     "metadata": {},
     "output_type": "execute_result"
    },
    {
     "data": {
      "image/png": "[encoded data removed]",
      "text/plain": [
       "<Figure size 300x200 with 2 Axes>"
      ]
     },
     "metadata": {},
     "output_type": "display_data"
    }
   ],
   "source": [
    "plt.figure(figsize=(3,2))\n",
    "# np.arange(시작,끝,간격)\n",
    "# np.linspace(시작,끝,개수)\n",
    "x = np.linspace(1,5,5)\n",
    "y = np.linspace(1,5,5)\n",
    "X,Y = np.meshgrid(x,y)\n",
    "Z = [[10,10,10,10,10],\n",
    "    [10,5,5,5,10],\n",
    "    [10,5,1,5,10],\n",
    "    [10,5,5,5,10],\n",
    "    [10,10,10,10,10]]\n",
    "\n",
    "plt.contourf(X,Y,Z,cmap='Reds')\n",
    "# X, Y, Z 모두 shape=(5,5)\n",
    "plt.colorbar()"
   ]
  },
  {
   "cell_type": "code",
   "execution_count": 14,
   "metadata": {},
   "outputs": [
    {
     "name": "stdout",
     "output_type": "stream",
     "text": [
      "(500, 500) (500, 500)\n"
     ]
    }
   ],
   "source": [
    "# SVC 시각화\n",
    "\n",
    "# 1. age와 salary범위 지정\n",
    "x1 = np.linspace(min(xTrain[:,0])-2,max(xTrain[:,0])+2,500)\n",
    "x2 = np.linspace(min(xTrain[:,1])-2000,max(xTrain[:,1])+2000,500)\n",
    "\n",
    "# 2. 좌표 생성 (meshgrid)\n",
    "X1,X2 = np.meshgrid(x1,x2)\n",
    "print(X1.shape, X2.shape)"
   ]
  },
  {
   "cell_type": "code",
   "execution_count": 15,
   "metadata": {},
   "outputs": [],
   "source": [
    "# 3. 각 좌표에 대해 SVC model prediction 구하기\n",
    "#  * predict의 입력 shape 2D (n,2): (x1,x2)\n",
    "#  * scaling한 후 입력\n",
    "\n",
    "# 3-1. X1과 X2를 2D (n,1) array로 변형\n",
    "X1_1d = X1.reshape(-1,1)\n",
    "X2_1d = X2.reshape(-1,1)\n",
    "\n",
    "# 3-2. 2D (n,2): (x1,x2)가 될 수 있도록, X1_1d와 X2_1d 결합\n",
    "X1X2 = np.concatenate((X1_1d,X2_1d),axis=1)\n",
    "# axis = 1: 2D일 경우, 좌우 결합\n",
    "\n",
    "# 3-3. scaling\n",
    "X1X2SC = sc.transform(X1X2)\n",
    "\n",
    "# 3-4. prediction 값\n",
    "yGridLinear = svcLinear.predict(X1X2SC)\n",
    "yGridRBF = svcRBF.predict(X1X2SC)\n",
    "yGridPoly = svcPoly.predict(X1X2SC)\n",
    "\n",
    "# 3-5. yGrid를 X1, X2와 동일한 shape으로 변경\n",
    "yGridLinear = yGridLinear.reshape(X1.shape)\n",
    "yGridRBF = yGridRBF.reshape(X1.shape)\n",
    "yGridPoly = yGridPoly.reshape(X1.shape)"
   ]
  },
  {
   "cell_type": "code",
   "execution_count": 16,
   "metadata": {},
   "outputs": [
    {
     "ename": "TypeError",
     "evalue": "title() missing 1 required positional argument: 'label'",
     "output_type": "error",
     "traceback": [
      "\u001b[0;31m---------------------------------------------------------------------------\u001b[0m",
      "\u001b[0;31mTypeError\u001b[0m                                 Traceback (most recent call last)",
      "Cell \u001b[0;32mIn [16], line 15\u001b[0m\n\u001b[1;32m     12\u001b[0m plt\u001b[38;5;241m.\u001b[39mscatter(xTest0[:,\u001b[38;5;241m0\u001b[39m],xTest0[:,\u001b[38;5;241m1\u001b[39m],color\u001b[38;5;241m=\u001b[39m\u001b[38;5;124m'\u001b[39m\u001b[38;5;124mred\u001b[39m\u001b[38;5;124m'\u001b[39m,marker\u001b[38;5;241m=\u001b[39m\u001b[38;5;124m'\u001b[39m\u001b[38;5;124mo\u001b[39m\u001b[38;5;124m'\u001b[39m,label\u001b[38;5;241m=\u001b[39m\u001b[38;5;124m'\u001b[39m\u001b[38;5;124mnot purchased\u001b[39m\u001b[38;5;124m'\u001b[39m)\n\u001b[1;32m     13\u001b[0m plt\u001b[38;5;241m.\u001b[39mscatter(xTest1[:,\u001b[38;5;241m0\u001b[39m],xTest1[:,\u001b[38;5;241m1\u001b[39m],color\u001b[38;5;241m=\u001b[39m\u001b[38;5;124m'\u001b[39m\u001b[38;5;124mgreen\u001b[39m\u001b[38;5;124m'\u001b[39m,marker\u001b[38;5;241m=\u001b[39m\u001b[38;5;124m'\u001b[39m\u001b[38;5;124ms\u001b[39m\u001b[38;5;124m'\u001b[39m,label\u001b[38;5;241m=\u001b[39m\u001b[38;5;124m'\u001b[39m\u001b[38;5;124mpurchased\u001b[39m\u001b[38;5;124m'\u001b[39m)\n\u001b[0;32m---> 15\u001b[0m \u001b[43mplt\u001b[49m\u001b[38;5;241;43m.\u001b[39;49m\u001b[43mtitle\u001b[49m\u001b[43m(\u001b[49m\u001b[43m)\u001b[49m\n",
      "\u001b[0;31mTypeError\u001b[0m: title() missing 1 required positional argument: 'label'"
     ]
    },
    {
     "data": {
      "image/png": "[encoded data removed]",
      "text/plain": [
       "<Figure size 640x480 with 1 Axes>"
      ]
     },
     "metadata": {},
     "output_type": "display_data"
    }
   ],
   "source": [
    "# 두 class를 상징하는 색상 cmap 생성\n",
    "from matplotlib.colors import ListedColormap\n",
    "svcColor = ListedColormap(('red','green'))\n",
    "# red, green으로 구성된 cmap생성\n",
    "plt.contourf(X1,X2,yGridLinear,cmap=svcColor,alpha=0.5)\n",
    "\n",
    "# xTest중 yTest가 0이면, 붉은색 원\n",
    "# xTest중 yTest가 1이면, 초록색 사각형\n",
    "xTest0 = xTest[yTest==0,:] # yTest가 0인 xTest\n",
    "xTest1 = xTest[yTest==1,:] # yTest가 1인 xTest\n",
    "\n",
    "plt.scatter(xTest0[:,0],xTest0[:,1],color='red',marker='o',label='not purchased')\n",
    "plt.scatter(xTest1[:,0],xTest1[:,1],color='green',marker='s',label='purchased')\n",
    "\n",
    "plt.title()"
   ]
  },
  {
   "cell_type": "code",
   "execution_count": null,
   "metadata": {},
   "outputs": [],
   "source": []
  }
 ],
 "metadata": {
  "kernelspec": {
   "display_name": "Python 3 (ipykernel)",
   "language": "python",
   "name": "python3"
  },
  "language_info": {
   "codemirror_mode": {
    "name": "ipython",
    "version": 3
   },
   "file_extension": ".py",
   "mimetype": "text/x-python",
   "name": "python",
   "nbconvert_exporter": "python",
   "pygments_lexer": "ipython3",
   "version": "3.9.13"
  }
 },
 "nbformat": 4,
 "nbformat_minor": 4
}
