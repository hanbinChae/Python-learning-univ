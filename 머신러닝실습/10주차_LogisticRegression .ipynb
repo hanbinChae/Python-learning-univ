{
 "cells": [
  {
   "cell_type": "code",
   "execution_count": 3,
   "metadata": {},
   "outputs": [],
   "source": [
    "import numpy as np\n",
    "import pandas as pd\n",
    "import matplotlib.pyplot as plt"
   ]
  },
  {
   "cell_type": "code",
   "execution_count": 4,
   "metadata": {},
   "outputs": [],
   "source": [
    "dataset = pd.read_csv('data/Social_Network_Ads.csv').values\n",
    "X = dataset[:,:-1]\n",
    "y = dataset[:,-1]"
   ]
  },
  {
   "cell_type": "code",
   "execution_count": 5,
   "metadata": {},
   "outputs": [],
   "source": [
    "from sklearn.model_selection import train_test_split\n",
    "xTrain,xTest,yTrain,yTest=train_test_split(X,y,test_size=0.25,random_state=42)"
   ]
  },
  {
   "cell_type": "code",
   "execution_count": 6,
   "metadata": {},
   "outputs": [
    {
     "name": "stdout",
     "output_type": "stream",
     "text": [
      "(300, 2) (100, 2) (300,) (100,)\n"
     ]
    }
   ],
   "source": [
    "print(xTrain.shape,xTest.shape,yTrain.shape,yTest.shape)"
   ]
  },
  {
   "cell_type": "code",
   "execution_count": 7,
   "metadata": {},
   "outputs": [],
   "source": [
    "# X scaling\n",
    "from sklearn.preprocessing import StandardScaler\n",
    "# data를 평균이 0이고 분산(표준편차)이 1인 분포로 변경\n",
    "sc=StandardScaler()\n",
    "sc.fit(xTrain) # 분포 변환에 필요한 정보 수집\n",
    "xTrainSc=sc.transform(xTrain)"
   ]
  },
  {
   "cell_type": "code",
   "execution_count": 8,
   "metadata": {},
   "outputs": [
    {
     "data": {
      "text/html": [
       "<style>#sk-container-id-1 {color: black;background-color: white;}#sk-container-id-1 pre{padding: 0;}#sk-container-id-1 div.sk-toggleable {background-color: white;}#sk-container-id-1 label.sk-toggleable__label {cursor: pointer;display: block;width: 100%;margin-bottom: 0;padding: 0.3em;box-sizing: border-box;text-align: center;}#sk-container-id-1 label.sk-toggleable__label-arrow:before {content: \"▸\";float: left;margin-right: 0.25em;color: #696969;}#sk-container-id-1 label.sk-toggleable__label-arrow:hover:before {color: black;}#sk-container-id-1 div.sk-estimator:hover label.sk-toggleable__label-arrow:before {color: black;}#sk-container-id-1 div.sk-toggleable__content {max-height: 0;max-width: 0;overflow: hidden;text-align: left;background-color: #f0f8ff;}#sk-container-id-1 div.sk-toggleable__content pre {margin: 0.2em;color: black;border-radius: 0.25em;background-color: #f0f8ff;}#sk-container-id-1 input.sk-toggleable__control:checked~div.sk-toggleable__content {max-height: 200px;max-width: 100%;overflow: auto;}#sk-container-id-1 input.sk-toggleable__control:checked~label.sk-toggleable__label-arrow:before {content: \"▾\";}#sk-container-id-1 div.sk-estimator input.sk-toggleable__control:checked~label.sk-toggleable__label {background-color: #d4ebff;}#sk-container-id-1 div.sk-label input.sk-toggleable__control:checked~label.sk-toggleable__label {background-color: #d4ebff;}#sk-container-id-1 input.sk-hidden--visually {border: 0;clip: rect(1px 1px 1px 1px);clip: rect(1px, 1px, 1px, 1px);height: 1px;margin: -1px;overflow: hidden;padding: 0;position: absolute;width: 1px;}#sk-container-id-1 div.sk-estimator {font-family: monospace;background-color: #f0f8ff;border: 1px dotted black;border-radius: 0.25em;box-sizing: border-box;margin-bottom: 0.5em;}#sk-container-id-1 div.sk-estimator:hover {background-color: #d4ebff;}#sk-container-id-1 div.sk-parallel-item::after {content: \"\";width: 100%;border-bottom: 1px solid gray;flex-grow: 1;}#sk-container-id-1 div.sk-label:hover label.sk-toggleable__label {background-color: #d4ebff;}#sk-container-id-1 div.sk-serial::before {content: \"\";position: absolute;border-left: 1px solid gray;box-sizing: border-box;top: 0;bottom: 0;left: 50%;z-index: 0;}#sk-container-id-1 div.sk-serial {display: flex;flex-direction: column;align-items: center;background-color: white;padding-right: 0.2em;padding-left: 0.2em;position: relative;}#sk-container-id-1 div.sk-item {position: relative;z-index: 1;}#sk-container-id-1 div.sk-parallel {display: flex;align-items: stretch;justify-content: center;background-color: white;position: relative;}#sk-container-id-1 div.sk-item::before, #sk-container-id-1 div.sk-parallel-item::before {content: \"\";position: absolute;border-left: 1px solid gray;box-sizing: border-box;top: 0;bottom: 0;left: 50%;z-index: -1;}#sk-container-id-1 div.sk-parallel-item {display: flex;flex-direction: column;z-index: 1;position: relative;background-color: white;}#sk-container-id-1 div.sk-parallel-item:first-child::after {align-self: flex-end;width: 50%;}#sk-container-id-1 div.sk-parallel-item:last-child::after {align-self: flex-start;width: 50%;}#sk-container-id-1 div.sk-parallel-item:only-child::after {width: 0;}#sk-container-id-1 div.sk-dashed-wrapped {border: 1px dashed gray;margin: 0 0.4em 0.5em 0.4em;box-sizing: border-box;padding-bottom: 0.4em;background-color: white;}#sk-container-id-1 div.sk-label label {font-family: monospace;font-weight: bold;display: inline-block;line-height: 1.2em;}#sk-container-id-1 div.sk-label-container {text-align: center;}#sk-container-id-1 div.sk-container {/* jupyter's `normalize.less` sets `[hidden] { display: none; }` but bootstrap.min.css set `[hidden] { display: none !important; }` so we also need the `!important` here to be able to override the default hidden behavior on the sphinx rendered scikit-learn.org. See: https://github.com/scikit-learn/scikit-learn/issues/21755 */display: inline-block !important;position: relative;}#sk-container-id-1 div.sk-text-repr-fallback {display: none;}</style><div id=\"sk-container-id-1\" class=\"sk-top-container\"><div class=\"sk-text-repr-fallback\"><pre>LogisticRegression()</pre><b>In a Jupyter environment, please rerun this cell to show the HTML representation or trust the notebook. <br />On GitHub, the HTML representation is unable to render, please try loading this page with nbviewer.org.</b></div><div class=\"sk-container\" hidden><div class=\"sk-item\"><div class=\"sk-estimator sk-toggleable\"><input class=\"sk-toggleable__control sk-hidden--visually\" id=\"sk-estimator-id-1\" type=\"checkbox\" checked><label for=\"sk-estimator-id-1\" class=\"sk-toggleable__label sk-toggleable__label-arrow\">LogisticRegression</label><div class=\"sk-toggleable__content\"><pre>LogisticRegression()</pre></div></div></div></div></div>"
      ],
      "text/plain": [
       "LogisticRegression()"
      ]
     },
     "execution_count": 8,
     "metadata": {},
     "output_type": "execute_result"
    }
   ],
   "source": [
    "from sklearn.linear_model import LogisticRegression\n",
    "logReg=LogisticRegression()\n",
    "# default: linear regression → ridge regression\n",
    "logReg.fit(xTrain,yTrain)\n",
    "\n",
    "logRegSc=LogisticRegression()\n",
    "logRegSc.fit(xTrainSc,yTrain)"
   ]
  },
  {
   "cell_type": "code",
   "execution_count": 9,
   "metadata": {},
   "outputs": [],
   "source": [
    "yPred=logReg.predict(xTest)\n",
    "# logRegSc는 scaling한 x로 학습했으므로,\n",
    "# predict할 때도, xTest를 scaling해야 함\n",
    "yPredSc=logRegSc.predict(sc.transform(xTest))"
   ]
  },
  {
   "cell_type": "code",
   "execution_count": 10,
   "metadata": {},
   "outputs": [
    {
     "name": "stdout",
     "output_type": "stream",
     "text": [
      "0.63 0.86\n"
     ]
    }
   ],
   "source": [
    "from sklearn.metrics import accuracy_score\n",
    "logRegAcc=accuracy_score(yTest,yPred)\n",
    "logRegAccSc=accuracy_score(yTest,yPredSc)\n",
    "print(logRegAcc, logRegAccSc)\n",
    "# sklearn의 Logistic regression은 ridge regression 베이스이므로\n",
    "# x에 scaling을 적용해야 좋은 결과를 얻을 수 있음"
   ]
  },
  {
   "cell_type": "markdown",
   "metadata": {},
   "source": [
    "* LogisticRegression의 attribute"
   ]
  },
  {
   "cell_type": "code",
   "execution_count": 11,
   "metadata": {},
   "outputs": [
    {
     "name": "stdout",
     "output_type": "stream",
     "text": [
      "[[1.92319087 1.07841869]]\n",
      "[-1.03149947]\n"
     ]
    }
   ],
   "source": [
    "# weight (가중치, w1 ~ wn)\n",
    "w = logRegSc.coef_ \n",
    "# bias (편향, w0)\n",
    "b = logRegSc.intercept_\n",
    "\n",
    "print(w)\n",
    "print(b)"
   ]
  },
  {
   "cell_type": "code",
   "execution_count": 12,
   "metadata": {},
   "outputs": [
    {
     "name": "stdout",
     "output_type": "stream",
     "text": [
      "(100, 2) (1, 2)\n"
     ]
    }
   ],
   "source": [
    "print(sc.transform(xTest).shape, w.shape)"
   ]
  },
  {
   "cell_type": "code",
   "execution_count": 13,
   "metadata": {
    "collapsed": true
   },
   "outputs": [
    {
     "name": "stdout",
     "output_type": "stream",
     "text": [
      "[[0.27328991]\n",
      " [0.97224512]\n",
      " [0.02449956]\n",
      " [0.84951935]\n",
      " [0.01799556]\n",
      " [0.06067894]\n",
      " [0.86858473]\n",
      " [0.09390361]\n",
      " [0.39137959]\n",
      " [0.4064092 ]\n",
      " [0.1543615 ]\n",
      " [0.67304532]\n",
      " [0.01095927]\n",
      " [0.00285265]\n",
      " [0.12433349]\n",
      " [0.41429905]\n",
      " [0.65906847]\n",
      " [0.65928158]\n",
      " [0.15843413]\n",
      " [0.89163889]\n",
      " [0.00471192]\n",
      " [0.08616531]\n",
      " [0.31915873]\n",
      " [0.96000468]\n",
      " [0.00208373]\n",
      " [0.499442  ]\n",
      " [0.52340687]\n",
      " [0.15432023]\n",
      " [0.98140971]\n",
      " [0.00221894]\n",
      " [0.40625666]\n",
      " [0.01030344]\n",
      " [0.72645142]\n",
      " [0.07032316]\n",
      " [0.6379639 ]\n",
      " [0.20008269]\n",
      " [0.16272274]\n",
      " [0.2433798 ]\n",
      " [0.01095413]\n",
      " [0.00802787]\n",
      " [0.43689545]\n",
      " [0.01641214]\n",
      " [0.00486504]\n",
      " [0.29898293]\n",
      " [0.00644744]\n",
      " [0.91133142]\n",
      " [0.04927001]\n",
      " [0.09387671]\n",
      " [0.49956057]\n",
      " [0.07026117]\n",
      " [0.04115862]\n",
      " [0.90326783]\n",
      " [0.1901162 ]\n",
      " [0.04241995]\n",
      " [0.29931439]\n",
      " [0.01361775]\n",
      " [0.98502186]\n",
      " [0.15047588]\n",
      " [0.10223007]\n",
      " [0.10815909]\n",
      " [0.26723322]\n",
      " [0.12424746]\n",
      " [0.90864775]\n",
      " [0.08869111]\n",
      " [0.03872519]\n",
      " [0.28019613]\n",
      " [0.60077925]\n",
      " [0.95495774]\n",
      " [0.24335068]\n",
      " [0.36206399]\n",
      " [0.97831724]\n",
      " [0.01642491]\n",
      " [0.03130646]\n",
      " [0.00456575]\n",
      " [0.39864316]\n",
      " [0.10217205]\n",
      " [0.98795773]\n",
      " [0.65899742]\n",
      " [0.09382293]\n",
      " [0.28627023]\n",
      " [0.0303651 ]\n",
      " [0.31238682]\n",
      " [0.77350894]\n",
      " [0.30572763]\n",
      " [0.77301   ]\n",
      " [0.36940803]\n",
      " [0.27344692]\n",
      " [0.73842503]\n",
      " [0.060715  ]\n",
      " [0.02528718]\n",
      " [0.83267025]\n",
      " [0.1348825 ]\n",
      " [0.2797818 ]\n",
      " [0.47622889]\n",
      " [0.00707528]\n",
      " [0.37651609]\n",
      " [0.99245479]\n",
      " [0.39883267]\n",
      " [0.98456675]\n",
      " [0.39913596]]\n"
     ]
    }
   ],
   "source": [
    "# w와 b를 통한 prediction\n",
    "# w1*x1 + w2*x2 + w0\n",
    "# w1*x1 + w2*x2 = w와x의 내적\n",
    "# w의 열과 x의 행이 동일하거나, x의 열과 w의 행이 동일해야 함\n",
    "xTestSc=sc.transform(xTest)\n",
    "# xTestSc와 w의 내적을 구하기 위해서는 w를 transpose해야 함\n",
    "tmp=xTestSc.dot(w.T)+b\n",
    "# 위의 tmp를 logistic function에 대입\n",
    "yPredAttProb=1/(1+np.exp(-tmp))\n",
    "# yPredAttProb: coef_와 intercept_를 이용한 결과\n",
    "print(yPredAttProb)"
   ]
  },
  {
   "cell_type": "code",
   "execution_count": 14,
   "metadata": {},
   "outputs": [
    {
     "name": "stdout",
     "output_type": "stream",
     "text": [
      "[0 1 0 1 0 0 1 0 0 0 0 1 0 0 0 0 1 1 0 1 0 0 0 1 0 0 1 0 1 0 0 0 1 0 1 0 0\n",
      " 0 0 0 0 0 0 0 0 1 0 0 0 0 0 1 0 0 0 0 1 0 0 0 0 0 1 0 0 0 1 1 0 0 1 0 0 0\n",
      " 0 0 1 1 0 0 0 0 1 0 1 0 0 1 0 0 1 0 0 0 0 0 1 0 1 0]\n"
     ]
    }
   ],
   "source": [
    "# yPredAttProb와 sklearn의 predict결과 비교\n",
    "yPredSc=logRegSc.predict(xTestSc)\n",
    "print(yPredSc)\n",
    "# yPredAttProb는 확률 (class가 1일 확률, logistic 함수의 연산 결과)\n",
    "# sklearn prediction의 결과는 확률이 0.5보다 클 경우, 1, 작을 경우 0으로 판단한 결과"
   ]
  },
  {
   "cell_type": "code",
   "execution_count": 15,
   "metadata": {},
   "outputs": [],
   "source": [
    "yPredScProb=logRegSc.predict_proba(xTestSc)\n",
    "# print(yPredScProb[:,1:])\n",
    "# index=0인 열은 class=0일 확률\n",
    "# index=1인 열은 class=1일 확률\n",
    "# logistic 함수의 결과 yPredAttProb는 class=1일 확률 "
   ]
  },
  {
   "cell_type": "code",
   "execution_count": 16,
   "metadata": {
    "collapsed": true
   },
   "outputs": [
    {
     "name": "stdout",
     "output_type": "stream",
     "text": [
      "[[0.27328991 0.27328991]\n",
      " [0.97224512 0.97224512]\n",
      " [0.02449956 0.02449956]\n",
      " [0.84951935 0.84951935]\n",
      " [0.01799556 0.01799556]\n",
      " [0.06067894 0.06067894]\n",
      " [0.86858473 0.86858473]\n",
      " [0.09390361 0.09390361]\n",
      " [0.39137959 0.39137959]\n",
      " [0.4064092  0.4064092 ]\n",
      " [0.1543615  0.1543615 ]\n",
      " [0.67304532 0.67304532]\n",
      " [0.01095927 0.01095927]\n",
      " [0.00285265 0.00285265]\n",
      " [0.12433349 0.12433349]\n",
      " [0.41429905 0.41429905]\n",
      " [0.65906847 0.65906847]\n",
      " [0.65928158 0.65928158]\n",
      " [0.15843413 0.15843413]\n",
      " [0.89163889 0.89163889]\n",
      " [0.00471192 0.00471192]\n",
      " [0.08616531 0.08616531]\n",
      " [0.31915873 0.31915873]\n",
      " [0.96000468 0.96000468]\n",
      " [0.00208373 0.00208373]\n",
      " [0.499442   0.499442  ]\n",
      " [0.52340687 0.52340687]\n",
      " [0.15432023 0.15432023]\n",
      " [0.98140971 0.98140971]\n",
      " [0.00221894 0.00221894]\n",
      " [0.40625666 0.40625666]\n",
      " [0.01030344 0.01030344]\n",
      " [0.72645142 0.72645142]\n",
      " [0.07032316 0.07032316]\n",
      " [0.6379639  0.6379639 ]\n",
      " [0.20008269 0.20008269]\n",
      " [0.16272274 0.16272274]\n",
      " [0.2433798  0.2433798 ]\n",
      " [0.01095413 0.01095413]\n",
      " [0.00802787 0.00802787]\n",
      " [0.43689545 0.43689545]\n",
      " [0.01641214 0.01641214]\n",
      " [0.00486504 0.00486504]\n",
      " [0.29898293 0.29898293]\n",
      " [0.00644744 0.00644744]\n",
      " [0.91133142 0.91133142]\n",
      " [0.04927001 0.04927001]\n",
      " [0.09387671 0.09387671]\n",
      " [0.49956057 0.49956057]\n",
      " [0.07026117 0.07026117]\n",
      " [0.04115862 0.04115862]\n",
      " [0.90326783 0.90326783]\n",
      " [0.1901162  0.1901162 ]\n",
      " [0.04241995 0.04241995]\n",
      " [0.29931439 0.29931439]\n",
      " [0.01361775 0.01361775]\n",
      " [0.98502186 0.98502186]\n",
      " [0.15047588 0.15047588]\n",
      " [0.10223007 0.10223007]\n",
      " [0.10815909 0.10815909]\n",
      " [0.26723322 0.26723322]\n",
      " [0.12424746 0.12424746]\n",
      " [0.90864775 0.90864775]\n",
      " [0.08869111 0.08869111]\n",
      " [0.03872519 0.03872519]\n",
      " [0.28019613 0.28019613]\n",
      " [0.60077925 0.60077925]\n",
      " [0.95495774 0.95495774]\n",
      " [0.24335068 0.24335068]\n",
      " [0.36206399 0.36206399]\n",
      " [0.97831724 0.97831724]\n",
      " [0.01642491 0.01642491]\n",
      " [0.03130646 0.03130646]\n",
      " [0.00456575 0.00456575]\n",
      " [0.39864316 0.39864316]\n",
      " [0.10217205 0.10217205]\n",
      " [0.98795773 0.98795773]\n",
      " [0.65899742 0.65899742]\n",
      " [0.09382293 0.09382293]\n",
      " [0.28627023 0.28627023]\n",
      " [0.0303651  0.0303651 ]\n",
      " [0.31238682 0.31238682]\n",
      " [0.77350894 0.77350894]\n",
      " [0.30572763 0.30572763]\n",
      " [0.77301    0.77301   ]\n",
      " [0.36940803 0.36940803]\n",
      " [0.27344692 0.27344692]\n",
      " [0.73842503 0.73842503]\n",
      " [0.060715   0.060715  ]\n",
      " [0.02528718 0.02528718]\n",
      " [0.83267025 0.83267025]\n",
      " [0.1348825  0.1348825 ]\n",
      " [0.2797818  0.2797818 ]\n",
      " [0.47622889 0.47622889]\n",
      " [0.00707528 0.00707528]\n",
      " [0.37651609 0.37651609]\n",
      " [0.99245479 0.99245479]\n",
      " [0.39883267 0.39883267]\n",
      " [0.98456675 0.98456675]\n",
      " [0.39913596 0.39913596]]\n"
     ]
    }
   ],
   "source": [
    "# yPredScProb[:,1:](sklearn)와 yPredAttProb 비교\n",
    "\n",
    "# 둘을 좌우로 연결하여 비교\n",
    "print(np.concatenate((yPredScProb[:,1:],yPredAttProb),axis=1))"
   ]
  },
  {
   "cell_type": "code",
   "execution_count": 17,
   "metadata": {},
   "outputs": [
    {
     "name": "stdout",
     "output_type": "stream",
     "text": [
      "0.0\n"
     ]
    }
   ],
   "source": [
    "# 둘의 차를 계산한 뒤, 전체의 합\n",
    "# yPredScProb[:,1:]-yPredAttProb은 각 행에 대한 차이를 반환\n",
    "print((yPredScProb[:,1:]-yPredAttProb).sum())"
   ]
  },
  {
   "cell_type": "code",
   "execution_count": 18,
   "metadata": {},
   "outputs": [],
   "source": [
    "# yPredAttProb를 0과 1의 조합으로 변경\n",
    "# → 0.5보다 크면 1, 작으면 0으로 변경\n",
    "yPredAtt = np.where(yPredAttProb>0.5,1,0)\n",
    "# np.where(조건식,a,b): 조건식이 참이면 a, 거짓이면 "
   ]
  },
  {
   "cell_type": "code",
   "execution_count": 19,
   "metadata": {},
   "outputs": [
    {
     "name": "stdout",
     "output_type": "stream",
     "text": [
      "0.86\n"
     ]
    }
   ],
   "source": [
    "attAcc=accuracy_score(yTest,yPredAtt)\n",
    "print(attAcc)"
   ]
  },
  {
   "cell_type": "markdown",
   "metadata": {},
   "source": [
    "#### ※ StandardScaler 정보"
   ]
  },
  {
   "cell_type": "code",
   "execution_count": 20,
   "metadata": {},
   "outputs": [
    {
     "name": "stdout",
     "output_type": "stream",
     "text": [
      "[[-1.74071081 -1.16551962]] [[-1.74071081 -1.16551962]]\n"
     ]
    }
   ],
   "source": [
    "# standard scaler\n",
    "# scalingX = (X - X평균) / X표준편차\n",
    "xMean=sc.mean_\n",
    "xStd=sc.scale_\n",
    "\n",
    "# 검증\n",
    "sample=[[20,30000]]\n",
    "# 1.StandardScaler transform 사용\n",
    "scSample=sc.transform(sample)\n",
    "# 2. scaling 식 이용\n",
    "scSampleInfo=(sample-xMean)/xStd\n",
    "\n",
    "print(scSample,scSampleInfo)"
   ]
  }
 ],
 "metadata": {
  "kernelspec": {
   "display_name": "Python 3.9.13 64-bit",
   "language": "python",
   "name": "python3"
  },
  "language_info": {
   "codemirror_mode": {
    "name": "ipython",
    "version": 3
   },
   "file_extension": ".py",
   "mimetype": "text/x-python",
   "name": "python",
   "nbconvert_exporter": "python",
   "pygments_lexer": "ipython3",
   "version": "3.9.13"
  },
  "vscode": {
   "interpreter": {
    "hash": "b0fa6594d8f4cbf19f97940f81e996739fb7646882a419484c72d19e05852a7e"
   }
  }
 },
 "nbformat": 4,
 "nbformat_minor": 4
}
