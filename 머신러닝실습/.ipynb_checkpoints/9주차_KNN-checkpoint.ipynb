{
 "cells": [
  {
   "cell_type": "code",
   "execution_count": 1,
   "metadata": {},
   "outputs": [],
   "source": [
    "import numpy as np\n",
    "import pandas as pd\n",
    "import matplotlib.pyplot as plt"
   ]
  },
  {
   "cell_type": "code",
   "execution_count": 2,
   "metadata": {},
   "outputs": [],
   "source": [
    "dataset = pd.read_csv('Social_Network_Ads.csv')\n",
    "# dataset: DataFrame\n",
    "X = dataset.iloc[:,:-1].values\n",
    "# .values를 생략할 경우, X: DataFrame\n",
    "# .values는 DataFrame의 value만 추출 → ndarray\n",
    "y = dataset.iloc[:,-1].values"
   ]
  },
  {
   "cell_type": "code",
   "execution_count": 3,
   "metadata": {},
   "outputs": [
    {
     "name": "stdout",
     "output_type": "stream",
     "text": [
      "(400, 2)\n",
      "(400,)\n"
     ]
    }
   ],
   "source": [
    "print(X.shape)\n",
    "print(y.shape)"
   ]
  },
  {
   "cell_type": "code",
   "execution_count": 4,
   "metadata": {},
   "outputs": [],
   "source": [
    "from sklearn.model_selection import train_test_split\n",
    "xTrain,xTest,yTrain,yTest=train_test_split(X,y,test_size=0.25,\n",
    "                                           random_state=1)"
   ]
  },
  {
   "cell_type": "code",
   "execution_count": 5,
   "metadata": {},
   "outputs": [
    {
     "name": "stdout",
     "output_type": "stream",
     "text": [
      "(300, 2)\n",
      "(300,)\n",
      "(100, 2)\n",
      "(100,)\n"
     ]
    }
   ],
   "source": [
    "print(xTrain.shape)\n",
    "print(yTrain.shape)\n",
    "print(xTest.shape)\n",
    "print(yTest.shape)"
   ]
  },
  {
   "cell_type": "code",
   "execution_count": 6,
   "metadata": {},
   "outputs": [
    {
     "name": "stdout",
     "output_type": "stream",
     "text": [
      "60\n",
      "18\n",
      "150000\n",
      "15000\n"
     ]
    }
   ],
   "source": [
    "print(X[:,0].max())\n",
    "print(X[:,0].min())\n",
    "print(X[:,1].max())\n",
    "print(X[:,1].min())\n",
    "# Age와 EstimatedSalary의 scale의 차이가 크므로 Scaling해야 함\n",
    "# KNN은 거리 기반의 classifier이므로 반드시 scaling을 거쳐야 함"
   ]
  },
  {
   "cell_type": "code",
   "execution_count": 7,
   "metadata": {},
   "outputs": [],
   "source": [
    "from sklearn.preprocessing import StandardScaler \n",
    "# from sklearn.preprocessing import MinMaxScaler\n",
    "# StandardScaler: 평균이 0이고 분산(표준편차)이 1인 분포의 데이터로 변경\n",
    "# MinMaxsScaler: 최대가 1 최소가 0인 데이터로 변경\n",
    "sc = StandardScaler()\n",
    "# fit은 변환(transform)하기 전의 필요한 정보를 가져옴\n",
    "# StandardScaler: 평균, 분산 등 (각 열의 정보)\n",
    "# MinMaxScaler: 최대, 최소 값 등 (각 열의 정보)\n",
    "sc.fit(xTrain)\n",
    "\n",
    "# training X 변환\n",
    "xScTrain = sc.transform(xTrain)\n",
    "# test X 변환\n",
    "xScTest = sc.transform(xTest)"
   ]
  },
  {
   "cell_type": "code",
   "execution_count": 8,
   "metadata": {},
   "outputs": [
    {
     "name": "stdout",
     "output_type": "stream",
     "text": [
      "[ 3.50460401e-16 -1.58761893e-16]\n",
      "[1. 1.]\n",
      "[0.2033351 0.0896134]\n",
      "[1.08910653 1.03414246]\n"
     ]
    }
   ],
   "source": [
    "# 변환 데이터 검토\n",
    "print(np.mean(xScTrain,axis=0))\n",
    "# 평균 0\n",
    "print(np.std(xScTrain,axis=0))\n",
    "# 표준편차 1\n",
    "\n",
    "print(np.mean(xScTest,axis=0))\n",
    "print(np.std(xScTest,axis=0))"
   ]
  },
  {
   "cell_type": "code",
   "execution_count": 9,
   "metadata": {
    "scrolled": false
   },
   "outputs": [
    {
     "data": {
      "text/plain": [
       "KNeighborsClassifier(n_neighbors=51)"
      ]
     },
     "execution_count": 9,
     "metadata": {},
     "output_type": "execute_result"
    }
   ],
   "source": [
    "# KNN\n",
    "from sklearn.neighbors import KNeighborsClassifier\n",
    "knn = KNeighborsClassifier(n_neighbors=51, # 이웃의 수: default=5\n",
    "                           weights='uniform', \n",
    "                           # 가중치: distance→가까운 데이터에 더 큰 가중치 (default: uniform(모두 동일))\n",
    "                           p=2, metric='minkowski') \n",
    "                           # 위의 p와 metric은 euclidean 거리를 의미(default)\n",
    "knn.fit(xScTrain,yTrain)"
   ]
  },
  {
   "cell_type": "code",
   "execution_count": 10,
   "metadata": {},
   "outputs": [],
   "source": [
    "# xScTest 데이터에 대한 prediction\n",
    "yPred = knn.predict(xScTest)"
   ]
  },
  {
   "cell_type": "code",
   "execution_count": 11,
   "metadata": {},
   "outputs": [],
   "source": [
    "# xScTrain 데이터에 대한 prediction\n",
    "yPredTr = knn.predict(xScTrain)"
   ]
  },
  {
   "cell_type": "code",
   "execution_count": 12,
   "metadata": {},
   "outputs": [
    {
     "name": "stdout",
     "output_type": "stream",
     "text": [
      "89.0 %\n",
      "88.0 %\n"
     ]
    }
   ],
   "source": [
    "# yPred와 yTest를 비교하여 accuracy 확인\n",
    "from sklearn.metrics import accuracy_score\n",
    "trainKnnAcc = accuracy_score(yTrain,yPredTr)\n",
    "print(trainKnnAcc * 100,'%')\n",
    "testKnnAcc = accuracy_score(yTest,yPred)\n",
    "print(testKnnAcc * 100,'%')"
   ]
  },
  {
   "cell_type": "code",
   "execution_count": 13,
   "metadata": {},
   "outputs": [],
   "source": [
    "# class = 0인 xTest\n",
    "# ndarray[조건식,:] → 조건식이 참인 행만 추출\n",
    "X0 = xTest[yTest == 0,:]\n",
    "# class = 1인 xTest\n",
    "X1 = xTest[yTest == 1,:]"
   ]
  },
  {
   "cell_type": "code",
   "execution_count": 14,
   "metadata": {},
   "outputs": [],
   "source": [
    "# prediction class = 0인 xTest\n",
    "# ndarray[조건식,:] → 조건식이 참인 행만 추출\n",
    "X0pred = xTest[yPred == 0,:]\n",
    "# prediction class = 1인 xTest\n",
    "X1pred = xTest[yPred == 1,:]"
   ]
  },
  {
   "cell_type": "code",
   "execution_count": 15,
   "metadata": {},
   "outputs": [
    {
     "data": {
      "text/plain": [
       "(100,)"
      ]
     },
     "execution_count": 15,
     "metadata": {},
     "output_type": "execute_result"
    }
   ],
   "source": [
    "yTest.shape"
   ]
  },
  {
   "cell_type": "code",
   "execution_count": 16,
   "metadata": {},
   "outputs": [
    {
     "data": {
      "text/plain": [
       "<matplotlib.legend.Legend at 0x1e15276e9a0>"
      ]
     },
     "execution_count": 16,
     "metadata": {},
     "output_type": "execute_result"
    },
    {
     "data": {
      "image/png": "[encoded data removed]",
      "text/plain": [
       "<Figure size 432x288 with 1 Axes>"
      ]
     },
     "metadata": {
      "needs_background": "light"
     },
     "output_type": "display_data"
    }
   ],
   "source": [
    "# target=0인 test 데이터\n",
    "plt.scatter(X0[:,0],X0[:,1],marker='s',linewidth=10,\n",
    "            color='blue',alpha=0.3,label='Class 0')\n",
    "# target=1인 test 데이터\n",
    "plt.scatter(X1[:,0],X1[:,1],marker='o',linewidth=10,\n",
    "            color='red',alpha=0.3,label='Class 1')\n",
    "\n",
    "# prediction=0인 test 데이터\n",
    "plt.scatter(X0pred[:,0],X0pred[:,1],marker='s',linewidth=1,\n",
    "            color='blue',label='Prediction 0')\n",
    "# prediction=1인 test 데이터\n",
    "plt.scatter(X1pred[:,0],X1pred[:,1],marker='o',linewidth=1,\n",
    "            color='red',label='Prediction 1')\n",
    "\n",
    "plt.legend()"
   ]
  },
  {
   "cell_type": "code",
   "execution_count": null,
   "metadata": {},
   "outputs": [],
   "source": []
  }
 ],
 "metadata": {
  "kernelspec": {
   "display_name": "Python 3",
   "language": "python",
   "name": "python3"
  },
  "language_info": {
   "codemirror_mode": {
    "name": "ipython",
    "version": 3
   },
   "file_extension": ".py",
   "mimetype": "text/x-python",
   "name": "python",
   "nbconvert_exporter": "python",
   "pygments_lexer": "ipython3",
   "version": "3.8.5"
  }
 },
 "nbformat": 4,
 "nbformat_minor": 4
}
