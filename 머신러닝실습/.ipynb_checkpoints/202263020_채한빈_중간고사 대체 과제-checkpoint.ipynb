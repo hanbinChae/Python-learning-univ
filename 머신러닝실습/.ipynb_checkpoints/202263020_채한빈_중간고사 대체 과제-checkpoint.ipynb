{
 "cells": [
  {
   "cell_type": "code",
   "execution_count": 676,
   "id": "fe52d414",
   "metadata": {},
   "outputs": [],
   "source": [
    "import numpy as np\n",
    "import pandas as pd\n",
    "import matplotlib.pyplot as plt"
   ]
  },
  {
   "cell_type": "markdown",
   "id": "791dcc73",
   "metadata": {},
   "source": [
    "## One-Hot Encoding"
   ]
  },
  {
   "cell_type": "code",
   "execution_count": 677,
   "id": "c950f7e5",
   "metadata": {
    "scrolled": false
   },
   "outputs": [
    {
     "data": {
      "text/html": [
       "<div>\n",
       "<style scoped>\n",
       "    .dataframe tbody tr th:only-of-type {\n",
       "        vertical-align: middle;\n",
       "    }\n",
       "\n",
       "    .dataframe tbody tr th {\n",
       "        vertical-align: top;\n",
       "    }\n",
       "\n",
       "    .dataframe thead th {\n",
       "        text-align: right;\n",
       "    }\n",
       "</style>\n",
       "<table border=\"1\" class=\"dataframe\">\n",
       "  <thead>\n",
       "    <tr style=\"text-align: right;\">\n",
       "      <th></th>\n",
       "      <th>carat</th>\n",
       "      <th>price</th>\n",
       "      <th>cut_Fair</th>\n",
       "      <th>cut_Good</th>\n",
       "      <th>cut_Ideal</th>\n",
       "      <th>cut_Premium</th>\n",
       "      <th>cut_Very Good</th>\n",
       "      <th>color_D</th>\n",
       "      <th>color_E</th>\n",
       "      <th>color_F</th>\n",
       "      <th>...</th>\n",
       "      <th>color_I</th>\n",
       "      <th>color_J</th>\n",
       "      <th>clarity_I1</th>\n",
       "      <th>clarity_IF</th>\n",
       "      <th>clarity_SI1</th>\n",
       "      <th>clarity_SI2</th>\n",
       "      <th>clarity_VS1</th>\n",
       "      <th>clarity_VS2</th>\n",
       "      <th>clarity_VVS1</th>\n",
       "      <th>clarity_VVS2</th>\n",
       "    </tr>\n",
       "  </thead>\n",
       "  <tbody>\n",
       "    <tr>\n",
       "      <th>0</th>\n",
       "      <td>0.38</td>\n",
       "      <td>1433</td>\n",
       "      <td>0</td>\n",
       "      <td>0</td>\n",
       "      <td>1</td>\n",
       "      <td>0</td>\n",
       "      <td>0</td>\n",
       "      <td>0</td>\n",
       "      <td>1</td>\n",
       "      <td>0</td>\n",
       "      <td>...</td>\n",
       "      <td>0</td>\n",
       "      <td>0</td>\n",
       "      <td>0</td>\n",
       "      <td>1</td>\n",
       "      <td>0</td>\n",
       "      <td>0</td>\n",
       "      <td>0</td>\n",
       "      <td>0</td>\n",
       "      <td>0</td>\n",
       "      <td>0</td>\n",
       "    </tr>\n",
       "    <tr>\n",
       "      <th>1</th>\n",
       "      <td>1.56</td>\n",
       "      <td>10210</td>\n",
       "      <td>0</td>\n",
       "      <td>0</td>\n",
       "      <td>1</td>\n",
       "      <td>0</td>\n",
       "      <td>0</td>\n",
       "      <td>0</td>\n",
       "      <td>0</td>\n",
       "      <td>1</td>\n",
       "      <td>...</td>\n",
       "      <td>0</td>\n",
       "      <td>0</td>\n",
       "      <td>0</td>\n",
       "      <td>0</td>\n",
       "      <td>0</td>\n",
       "      <td>1</td>\n",
       "      <td>0</td>\n",
       "      <td>0</td>\n",
       "      <td>0</td>\n",
       "      <td>0</td>\n",
       "    </tr>\n",
       "    <tr>\n",
       "      <th>2</th>\n",
       "      <td>1.01</td>\n",
       "      <td>4099</td>\n",
       "      <td>0</td>\n",
       "      <td>0</td>\n",
       "      <td>1</td>\n",
       "      <td>0</td>\n",
       "      <td>0</td>\n",
       "      <td>0</td>\n",
       "      <td>0</td>\n",
       "      <td>0</td>\n",
       "      <td>...</td>\n",
       "      <td>0</td>\n",
       "      <td>1</td>\n",
       "      <td>0</td>\n",
       "      <td>0</td>\n",
       "      <td>0</td>\n",
       "      <td>1</td>\n",
       "      <td>0</td>\n",
       "      <td>0</td>\n",
       "      <td>0</td>\n",
       "      <td>0</td>\n",
       "    </tr>\n",
       "    <tr>\n",
       "      <th>3</th>\n",
       "      <td>0.34</td>\n",
       "      <td>490</td>\n",
       "      <td>0</td>\n",
       "      <td>0</td>\n",
       "      <td>1</td>\n",
       "      <td>0</td>\n",
       "      <td>0</td>\n",
       "      <td>0</td>\n",
       "      <td>0</td>\n",
       "      <td>0</td>\n",
       "      <td>...</td>\n",
       "      <td>0</td>\n",
       "      <td>0</td>\n",
       "      <td>0</td>\n",
       "      <td>0</td>\n",
       "      <td>1</td>\n",
       "      <td>0</td>\n",
       "      <td>0</td>\n",
       "      <td>0</td>\n",
       "      <td>0</td>\n",
       "      <td>0</td>\n",
       "    </tr>\n",
       "    <tr>\n",
       "      <th>4</th>\n",
       "      <td>0.40</td>\n",
       "      <td>622</td>\n",
       "      <td>0</td>\n",
       "      <td>0</td>\n",
       "      <td>0</td>\n",
       "      <td>0</td>\n",
       "      <td>1</td>\n",
       "      <td>1</td>\n",
       "      <td>0</td>\n",
       "      <td>0</td>\n",
       "      <td>...</td>\n",
       "      <td>0</td>\n",
       "      <td>0</td>\n",
       "      <td>0</td>\n",
       "      <td>0</td>\n",
       "      <td>0</td>\n",
       "      <td>1</td>\n",
       "      <td>0</td>\n",
       "      <td>0</td>\n",
       "      <td>0</td>\n",
       "      <td>0</td>\n",
       "    </tr>\n",
       "    <tr>\n",
       "      <th>...</th>\n",
       "      <td>...</td>\n",
       "      <td>...</td>\n",
       "      <td>...</td>\n",
       "      <td>...</td>\n",
       "      <td>...</td>\n",
       "      <td>...</td>\n",
       "      <td>...</td>\n",
       "      <td>...</td>\n",
       "      <td>...</td>\n",
       "      <td>...</td>\n",
       "      <td>...</td>\n",
       "      <td>...</td>\n",
       "      <td>...</td>\n",
       "      <td>...</td>\n",
       "      <td>...</td>\n",
       "      <td>...</td>\n",
       "      <td>...</td>\n",
       "      <td>...</td>\n",
       "      <td>...</td>\n",
       "      <td>...</td>\n",
       "      <td>...</td>\n",
       "    </tr>\n",
       "    <tr>\n",
       "      <th>4995</th>\n",
       "      <td>0.38</td>\n",
       "      <td>865</td>\n",
       "      <td>0</td>\n",
       "      <td>0</td>\n",
       "      <td>1</td>\n",
       "      <td>0</td>\n",
       "      <td>0</td>\n",
       "      <td>0</td>\n",
       "      <td>0</td>\n",
       "      <td>1</td>\n",
       "      <td>...</td>\n",
       "      <td>0</td>\n",
       "      <td>0</td>\n",
       "      <td>0</td>\n",
       "      <td>0</td>\n",
       "      <td>0</td>\n",
       "      <td>0</td>\n",
       "      <td>1</td>\n",
       "      <td>0</td>\n",
       "      <td>0</td>\n",
       "      <td>0</td>\n",
       "    </tr>\n",
       "    <tr>\n",
       "      <th>4996</th>\n",
       "      <td>1.70</td>\n",
       "      <td>17492</td>\n",
       "      <td>0</td>\n",
       "      <td>0</td>\n",
       "      <td>0</td>\n",
       "      <td>1</td>\n",
       "      <td>0</td>\n",
       "      <td>0</td>\n",
       "      <td>0</td>\n",
       "      <td>0</td>\n",
       "      <td>...</td>\n",
       "      <td>0</td>\n",
       "      <td>0</td>\n",
       "      <td>0</td>\n",
       "      <td>0</td>\n",
       "      <td>0</td>\n",
       "      <td>0</td>\n",
       "      <td>1</td>\n",
       "      <td>0</td>\n",
       "      <td>0</td>\n",
       "      <td>0</td>\n",
       "    </tr>\n",
       "    <tr>\n",
       "      <th>4997</th>\n",
       "      <td>0.25</td>\n",
       "      <td>575</td>\n",
       "      <td>0</td>\n",
       "      <td>0</td>\n",
       "      <td>0</td>\n",
       "      <td>0</td>\n",
       "      <td>1</td>\n",
       "      <td>0</td>\n",
       "      <td>1</td>\n",
       "      <td>0</td>\n",
       "      <td>...</td>\n",
       "      <td>0</td>\n",
       "      <td>0</td>\n",
       "      <td>0</td>\n",
       "      <td>0</td>\n",
       "      <td>0</td>\n",
       "      <td>0</td>\n",
       "      <td>0</td>\n",
       "      <td>0</td>\n",
       "      <td>0</td>\n",
       "      <td>1</td>\n",
       "    </tr>\n",
       "    <tr>\n",
       "      <th>4998</th>\n",
       "      <td>0.32</td>\n",
       "      <td>505</td>\n",
       "      <td>0</td>\n",
       "      <td>0</td>\n",
       "      <td>1</td>\n",
       "      <td>0</td>\n",
       "      <td>0</td>\n",
       "      <td>0</td>\n",
       "      <td>0</td>\n",
       "      <td>0</td>\n",
       "      <td>...</td>\n",
       "      <td>1</td>\n",
       "      <td>0</td>\n",
       "      <td>0</td>\n",
       "      <td>0</td>\n",
       "      <td>0</td>\n",
       "      <td>0</td>\n",
       "      <td>1</td>\n",
       "      <td>0</td>\n",
       "      <td>0</td>\n",
       "      <td>0</td>\n",
       "    </tr>\n",
       "    <tr>\n",
       "      <th>4999</th>\n",
       "      <td>1.31</td>\n",
       "      <td>10556</td>\n",
       "      <td>0</td>\n",
       "      <td>0</td>\n",
       "      <td>1</td>\n",
       "      <td>0</td>\n",
       "      <td>0</td>\n",
       "      <td>0</td>\n",
       "      <td>0</td>\n",
       "      <td>0</td>\n",
       "      <td>...</td>\n",
       "      <td>0</td>\n",
       "      <td>0</td>\n",
       "      <td>0</td>\n",
       "      <td>0</td>\n",
       "      <td>0</td>\n",
       "      <td>0</td>\n",
       "      <td>1</td>\n",
       "      <td>0</td>\n",
       "      <td>0</td>\n",
       "      <td>0</td>\n",
       "    </tr>\n",
       "  </tbody>\n",
       "</table>\n",
       "<p>5000 rows × 22 columns</p>\n",
       "</div>"
      ],
      "text/plain": [
       "      carat  price  cut_Fair  cut_Good  cut_Ideal  cut_Premium  cut_Very Good  \\\n",
       "0      0.38   1433         0         0          1            0              0   \n",
       "1      1.56  10210         0         0          1            0              0   \n",
       "2      1.01   4099         0         0          1            0              0   \n",
       "3      0.34    490         0         0          1            0              0   \n",
       "4      0.40    622         0         0          0            0              1   \n",
       "...     ...    ...       ...       ...        ...          ...            ...   \n",
       "4995   0.38    865         0         0          1            0              0   \n",
       "4996   1.70  17492         0         0          0            1              0   \n",
       "4997   0.25    575         0         0          0            0              1   \n",
       "4998   0.32    505         0         0          1            0              0   \n",
       "4999   1.31  10556         0         0          1            0              0   \n",
       "\n",
       "      color_D  color_E  color_F  ...  color_I  color_J  clarity_I1  \\\n",
       "0           0        1        0  ...        0        0           0   \n",
       "1           0        0        1  ...        0        0           0   \n",
       "2           0        0        0  ...        0        1           0   \n",
       "3           0        0        0  ...        0        0           0   \n",
       "4           1        0        0  ...        0        0           0   \n",
       "...       ...      ...      ...  ...      ...      ...         ...   \n",
       "4995        0        0        1  ...        0        0           0   \n",
       "4996        0        0        0  ...        0        0           0   \n",
       "4997        0        1        0  ...        0        0           0   \n",
       "4998        0        0        0  ...        1        0           0   \n",
       "4999        0        0        0  ...        0        0           0   \n",
       "\n",
       "      clarity_IF  clarity_SI1  clarity_SI2  clarity_VS1  clarity_VS2  \\\n",
       "0              1            0            0            0            0   \n",
       "1              0            0            1            0            0   \n",
       "2              0            0            1            0            0   \n",
       "3              0            1            0            0            0   \n",
       "4              0            0            1            0            0   \n",
       "...          ...          ...          ...          ...          ...   \n",
       "4995           0            0            0            1            0   \n",
       "4996           0            0            0            1            0   \n",
       "4997           0            0            0            0            0   \n",
       "4998           0            0            0            1            0   \n",
       "4999           0            0            0            1            0   \n",
       "\n",
       "      clarity_VVS1  clarity_VVS2  \n",
       "0                0             0  \n",
       "1                0             0  \n",
       "2                0             0  \n",
       "3                0             0  \n",
       "4                0             0  \n",
       "...            ...           ...  \n",
       "4995             0             0  \n",
       "4996             0             0  \n",
       "4997             0             1  \n",
       "4998             0             0  \n",
       "4999             0             0  \n",
       "\n",
       "[5000 rows x 22 columns]"
      ]
     },
     "execution_count": 677,
     "metadata": {},
     "output_type": "execute_result"
    }
   ],
   "source": [
    "dataset = pd.read_csv('data/diamonds01.csv')\n",
    "dataset = pd.get_dummies(dataset, columns = ['cut','color','clarity'])\n",
    "dataset = dataset.drop(['depth','table','x','y','z'],axis=1)\n",
    "dataset"
   ]
  },
  {
   "cell_type": "markdown",
   "id": "f868df6c",
   "metadata": {},
   "source": [
    "## X,y 데이터 분할"
   ]
  },
  {
   "cell_type": "code",
   "execution_count": 678,
   "id": "af8cf2ad",
   "metadata": {},
   "outputs": [
    {
     "name": "stdout",
     "output_type": "stream",
     "text": [
      "[[0.38 0.   0.   ... 0.   0.   0.  ]\n",
      " [1.56 0.   0.   ... 0.   0.   0.  ]\n",
      " [1.01 0.   0.   ... 0.   0.   0.  ]\n",
      " ...\n",
      " [0.25 0.   0.   ... 0.   0.   1.  ]\n",
      " [0.32 0.   0.   ... 0.   0.   0.  ]\n",
      " [1.31 0.   0.   ... 0.   0.   0.  ]]\n",
      "(5000, 21) (5000,)\n"
     ]
    }
   ],
   "source": [
    "X1 = dataset.iloc[:,:1]\n",
    "X2 = dataset.iloc[:,2:]\n",
    "X = np.concatenate((X1,X2),axis=1)\n",
    "y = dataset.iloc[:,1]\n",
    "\n",
    "print(X)\n",
    "print(X.shape, y.shape)"
   ]
  },
  {
   "cell_type": "markdown",
   "id": "6499ce2f",
   "metadata": {},
   "source": [
    "## Training,Test 데이터 분리"
   ]
  },
  {
   "cell_type": "code",
   "execution_count": 679,
   "id": "5195a610",
   "metadata": {},
   "outputs": [],
   "source": [
    "from sklearn.model_selection import train_test_split\n",
    "X_train, X_test, y_train, y_test = train_test_split(X, y, \n",
    "                                                    test_size = 0.2, \n",
    "                                                    random_state = 42)"
   ]
  },
  {
   "cell_type": "code",
   "execution_count": 680,
   "id": "b0990368",
   "metadata": {},
   "outputs": [
    {
     "name": "stdout",
     "output_type": "stream",
     "text": [
      "(4000, 21)\n",
      "(4000,)\n",
      "(1000, 21)\n",
      "(1000,)\n"
     ]
    }
   ],
   "source": [
    "# shape 확인\n",
    "print(X_train.shape)\n",
    "print(y_train.shape)\n",
    "print(X_test.shape)\n",
    "print(y_test.shape)"
   ]
  },
  {
   "cell_type": "markdown",
   "id": "5367c6d9",
   "metadata": {},
   "source": [
    "## 1. Linear Regression model"
   ]
  },
  {
   "cell_type": "code",
   "execution_count": 681,
   "id": "6c5a6bf7",
   "metadata": {},
   "outputs": [
    {
     "data": {
      "text/plain": [
       "LinearRegression()"
      ]
     },
     "execution_count": 681,
     "metadata": {},
     "output_type": "execute_result"
    }
   ],
   "source": [
    "from sklearn.linear_model import LinearRegression\n",
    "LR = LinearRegression()\n",
    "LR.fit(X_train,y_train)"
   ]
  },
  {
   "cell_type": "markdown",
   "id": "861fd7de",
   "metadata": {},
   "source": [
    "## 2. RandomForest Regression model"
   ]
  },
  {
   "cell_type": "code",
   "execution_count": 682,
   "id": "9f550520",
   "metadata": {},
   "outputs": [
    {
     "data": {
      "text/plain": [
       "RandomForestRegressor(max_features=10, min_samples_split=5, n_estimators=9,\n",
       "                      random_state=1)"
      ]
     },
     "execution_count": 682,
     "metadata": {},
     "output_type": "execute_result"
    }
   ],
   "source": [
    "from sklearn.ensemble import RandomForestRegressor\n",
    "\n",
    "RF = RandomForestRegressor(n_estimators=9, min_samples_split=5,\n",
    "                          max_features=int(X_train.shape[1]/2), bootstrap = True,\n",
    "                          random_state =1)\n",
    "RF.fit(X_train, y_train)"
   ]
  },
  {
   "cell_type": "markdown",
   "id": "8b5fc32b",
   "metadata": {},
   "source": [
    "## 3. Logistic Regression model"
   ]
  },
  {
   "cell_type": "code",
   "execution_count": 683,
   "id": "65107820",
   "metadata": {},
   "outputs": [
    {
     "data": {
      "text/plain": [
       "DecisionTreeRegressor(min_samples_split=4, random_state=1)"
      ]
     },
     "execution_count": 683,
     "metadata": {},
     "output_type": "execute_result"
    }
   ],
   "source": [
    "from sklearn.tree import DecisionTreeRegressor\n",
    "DT = DecisionTreeRegressor(min_samples_split=4, random_state=1)\n",
    "DT.fit(X_train, y_train)"
   ]
  },
  {
   "cell_type": "markdown",
   "id": "28df6b2e",
   "metadata": {},
   "source": [
    "## predict"
   ]
  },
  {
   "cell_type": "code",
   "execution_count": 684,
   "id": "0597436a",
   "metadata": {},
   "outputs": [],
   "source": [
    "LR_y_pred = LR.predict(X_test)\n",
    "RF_y_pred = RF.predict(X_test)\n",
    "DT_y_pred = DT.predict(X_test)"
   ]
  },
  {
   "cell_type": "markdown",
   "id": "98aa7d6e",
   "metadata": {},
   "source": [
    "## 모델 정확도"
   ]
  },
  {
   "cell_type": "code",
   "execution_count": 685,
   "id": "6c9c4dcd",
   "metadata": {},
   "outputs": [
    {
     "name": "stdout",
     "output_type": "stream",
     "text": [
      "Linear Regression Accuracy = 89.85%\n",
      "RandomForest Regression Accuracy = 96.38%\n",
      "DecisionTree Regression Accuracy = 96.1%\n"
     ]
    }
   ],
   "source": [
    "from sklearn.metrics import r2_score\n",
    "\n",
    "LR_score = r2_score(y_test, LR_y_pred) #Linear Regression Accuracy\n",
    "RF_score = r2_score(y_test,RF_y_pred) #RandomForest Regression Accuracy \n",
    "DT_score = r2_score(y_test,DT_y_pred) #DecisionTree Regression Accuracy \n",
    "\n",
    "print(f\"Linear Regression Accuracy = {round(LR_score*100,2)}%\")\n",
    "print(f\"RandomForest Regression Accuracy = {round(RF_score*100,2)}%\")\n",
    "print(f\"DecisionTree Regression Accuracy = {round(DT_score*100,2)}%\")"
   ]
  }
 ],
 "metadata": {
  "kernelspec": {
   "display_name": "Python 3 (ipykernel)",
   "language": "python",
   "name": "python3"
  },
  "language_info": {
   "codemirror_mode": {
    "name": "ipython",
    "version": 3
   },
   "file_extension": ".py",
   "mimetype": "text/x-python",
   "name": "python",
   "nbconvert_exporter": "python",
   "pygments_lexer": "ipython3",
   "version": "3.9.12"
  }
 },
 "nbformat": 4,
 "nbformat_minor": 5
}
