{
 "cells": [
  {
   "cell_type": "code",
   "execution_count": 1,
   "metadata": {},
   "outputs": [],
   "source": [
    "import numpy as np\n",
    "import pandas as pd\n",
    "import matplotlib.pyplot as plt"
   ]
  },
  {
   "cell_type": "code",
   "execution_count": 2,
   "metadata": {},
   "outputs": [
    {
     "data": {
      "text/html": [
       "<div>\n",
       "<style scoped>\n",
       "    .dataframe tbody tr th:only-of-type {\n",
       "        vertical-align: middle;\n",
       "    }\n",
       "\n",
       "    .dataframe tbody tr th {\n",
       "        vertical-align: top;\n",
       "    }\n",
       "\n",
       "    .dataframe thead th {\n",
       "        text-align: right;\n",
       "    }\n",
       "</style>\n",
       "<table border=\"1\" class=\"dataframe\">\n",
       "  <thead>\n",
       "    <tr style=\"text-align: right;\">\n",
       "      <th></th>\n",
       "      <th>Age</th>\n",
       "      <th>EstimatedSalary</th>\n",
       "      <th>Purchased</th>\n",
       "    </tr>\n",
       "  </thead>\n",
       "  <tbody>\n",
       "    <tr>\n",
       "      <th>0</th>\n",
       "      <td>19</td>\n",
       "      <td>19000</td>\n",
       "      <td>0</td>\n",
       "    </tr>\n",
       "    <tr>\n",
       "      <th>1</th>\n",
       "      <td>35</td>\n",
       "      <td>20000</td>\n",
       "      <td>0</td>\n",
       "    </tr>\n",
       "    <tr>\n",
       "      <th>2</th>\n",
       "      <td>26</td>\n",
       "      <td>43000</td>\n",
       "      <td>0</td>\n",
       "    </tr>\n",
       "    <tr>\n",
       "      <th>3</th>\n",
       "      <td>27</td>\n",
       "      <td>57000</td>\n",
       "      <td>0</td>\n",
       "    </tr>\n",
       "    <tr>\n",
       "      <th>4</th>\n",
       "      <td>19</td>\n",
       "      <td>76000</td>\n",
       "      <td>0</td>\n",
       "    </tr>\n",
       "    <tr>\n",
       "      <th>...</th>\n",
       "      <td>...</td>\n",
       "      <td>...</td>\n",
       "      <td>...</td>\n",
       "    </tr>\n",
       "    <tr>\n",
       "      <th>395</th>\n",
       "      <td>46</td>\n",
       "      <td>41000</td>\n",
       "      <td>1</td>\n",
       "    </tr>\n",
       "    <tr>\n",
       "      <th>396</th>\n",
       "      <td>51</td>\n",
       "      <td>23000</td>\n",
       "      <td>1</td>\n",
       "    </tr>\n",
       "    <tr>\n",
       "      <th>397</th>\n",
       "      <td>50</td>\n",
       "      <td>20000</td>\n",
       "      <td>1</td>\n",
       "    </tr>\n",
       "    <tr>\n",
       "      <th>398</th>\n",
       "      <td>36</td>\n",
       "      <td>33000</td>\n",
       "      <td>0</td>\n",
       "    </tr>\n",
       "    <tr>\n",
       "      <th>399</th>\n",
       "      <td>49</td>\n",
       "      <td>36000</td>\n",
       "      <td>1</td>\n",
       "    </tr>\n",
       "  </tbody>\n",
       "</table>\n",
       "<p>400 rows × 3 columns</p>\n",
       "</div>"
      ],
      "text/plain": [
       "     Age  EstimatedSalary  Purchased\n",
       "0     19            19000          0\n",
       "1     35            20000          0\n",
       "2     26            43000          0\n",
       "3     27            57000          0\n",
       "4     19            76000          0\n",
       "..   ...              ...        ...\n",
       "395   46            41000          1\n",
       "396   51            23000          1\n",
       "397   50            20000          1\n",
       "398   36            33000          0\n",
       "399   49            36000          1\n",
       "\n",
       "[400 rows x 3 columns]"
      ]
     },
     "execution_count": 2,
     "metadata": {},
     "output_type": "execute_result"
    }
   ],
   "source": [
    "dataset=pd.read_csv('Social_Network_Ads.csv')\n",
    "dataset"
   ]
  },
  {
   "cell_type": "code",
   "execution_count": 3,
   "metadata": {},
   "outputs": [],
   "source": [
    "X=dataset.iloc[:,:-1].values\n",
    "y=dataset.iloc[:,-1].values"
   ]
  },
  {
   "cell_type": "code",
   "execution_count": 4,
   "metadata": {},
   "outputs": [],
   "source": [
    "from sklearn.model_selection import train_test_split\n",
    "xTrain,xTest,yTrain,yTest=train_test_split(X,y,test_size=0.25,random_state=42)"
   ]
  },
  {
   "cell_type": "code",
   "execution_count": 5,
   "metadata": {},
   "outputs": [],
   "source": [
    "from sklearn.tree import DecisionTreeClassifier\n",
    "dt=DecisionTreeClassifier(criterion='gini',min_samples_split=30,random_state=42)\n",
    "# min_samples_split이 너무 작거나\n",
    "# max_depth가 너무 크면 overfitting 발생할 수 있음"
   ]
  },
  {
   "cell_type": "code",
   "execution_count": 6,
   "metadata": {},
   "outputs": [
    {
     "data": {
      "text/plain": [
       "DecisionTreeClassifier(min_samples_split=30, random_state=42)"
      ]
     },
     "execution_count": 6,
     "metadata": {},
     "output_type": "execute_result"
    }
   ],
   "source": [
    "# scaling 필요없음\n",
    "dt.fit(xTrain,yTrain)"
   ]
  },
  {
   "cell_type": "code",
   "execution_count": 7,
   "metadata": {},
   "outputs": [
    {
     "data": {
      "text/plain": [
       "array([0], dtype=int64)"
      ]
     },
     "execution_count": 7,
     "metadata": {},
     "output_type": "execute_result"
    }
   ],
   "source": [
    "dt.predict([[42,60000]])"
   ]
  },
  {
   "cell_type": "code",
   "execution_count": 8,
   "metadata": {},
   "outputs": [
    {
     "name": "stdout",
     "output_type": "stream",
     "text": [
      "[1 1 0 1 0 0 1 0 0 0 0 1 0 0 0 1 1 1 0 1 0 0 1 1 0 1 0 0 1 0 1 0 1 0 1 0 0\n",
      " 0 0 0 1 0 0 1 0 1 0 0 1 0 0 1 0 0 0 0 1 1 0 0 0 0 1 0 0 1 1 1 0 1 1 0 0 0\n",
      " 1 0 1 1 0 0 0 1 1 1 1 1 0 1 0 0 1 0 0 0 0 0 1 0 1 1]\n"
     ]
    }
   ],
   "source": [
    "yPred=dt.predict(xTest)\n",
    "print(yPred)"
   ]
  },
  {
   "cell_type": "code",
   "execution_count": 9,
   "metadata": {},
   "outputs": [
    {
     "name": "stdout",
     "output_type": "stream",
     "text": [
      "*confusion matrix: \n",
      " [[57  6]\n",
      " [ 1 36]]\n",
      "*training accuracy:  91.67\n",
      "*test accuracy:  93.0\n"
     ]
    }
   ],
   "source": [
    "# accuracy, confusion matrix\n",
    "from sklearn.metrics import accuracy_score, confusion_matrix\n",
    "cm=confusion_matrix(yTest,yPred)\n",
    "accTest=accuracy_score(yTest,yPred)\n",
    "accTrain=accuracy_score(yTrain,dt.predict(xTrain))\n",
    "\n",
    "print('*confusion matrix: \\n',cm)\n",
    "print('*training accuracy: ',round(accTrain,4)*100)\n",
    "print('*test accuracy: ',round(accTest,4)*100)"
   ]
  },
  {
   "cell_type": "code",
   "execution_count": 10,
   "metadata": {},
   "outputs": [
    {
     "data": {
      "image/png": "[encoded data removed]",
      "text/plain": [
       "<Figure size 720x360 with 1 Axes>"
      ]
     },
     "metadata": {
      "needs_background": "light"
     },
     "output_type": "display_data"
    }
   ],
   "source": [
    "# 결과(tree) 시각화\n",
    "from sklearn.tree import plot_tree\n",
    "plt.figure(figsize=(10,5))\n",
    "plot_tree(dt)\n",
    "plt.show()"
   ]
  },
  {
   "cell_type": "code",
   "execution_count": 12,
   "metadata": {},
   "outputs": [
    {
     "name": "stdout",
     "output_type": "stream",
     "text": [
      "node의 수:  21\n",
      "좌측 node index:  [ 1  2  3 -1  5  6 -1  8 -1 -1 -1 12 -1 -1 15 -1 17 -1 19 -1 -1]\n",
      "우측 node index:  [14 11  4 -1 10  7 -1  9 -1 -1 -1 13 -1 -1 16 -1 18 -1 20 -1 -1]\n",
      "node 특징(X) index:  [ 0  1  0 -2  1  1 -2  0 -2 -2 -2  1 -2 -2  1 -2  1 -2  0 -2 -2]\n",
      "node의 threshold:  [ 4.250e+01  9.050e+04  3.650e+01 -2.000e+00  8.350e+04  6.750e+04\n",
      " -2.000e+00  4.150e+01 -2.000e+00 -2.000e+00 -2.000e+00  1.175e+05\n",
      " -2.000e+00 -2.000e+00  4.050e+04 -2.000e+00  8.550e+04 -2.000e+00\n",
      "  5.250e+01 -2.000e+00 -2.000e+00]\n",
      "node의 값:  [[[194. 106.]]\n",
      "\n",
      " [[179.  38.]]\n",
      "\n",
      " [[175.   7.]]\n",
      "\n",
      " [[121.   0.]]\n",
      "\n",
      " [[ 54.   7.]]\n",
      "\n",
      " [[ 54.   6.]]\n",
      "\n",
      " [[ 29.   0.]]\n",
      "\n",
      " [[ 25.   6.]]\n",
      "\n",
      " [[ 22.   4.]]\n",
      "\n",
      " [[  3.   2.]]\n",
      "\n",
      " [[  0.   1.]]\n",
      "\n",
      " [[  4.  31.]]\n",
      "\n",
      " [[  4.  13.]]\n",
      "\n",
      " [[  0.  18.]]\n",
      "\n",
      " [[ 15.  68.]]\n",
      "\n",
      " [[  0.  25.]]\n",
      "\n",
      " [[ 15.  43.]]\n",
      "\n",
      " [[ 10.  14.]]\n",
      "\n",
      " [[  5.  29.]]\n",
      "\n",
      " [[  5.  18.]]\n",
      "\n",
      " [[  0.  11.]]]\n"
     ]
    }
   ],
   "source": [
    "# dt attribute\n",
    "print('node의 수: ',dt.tree_.node_count)\n",
    "print('좌측 node index: ',dt.tree_.children_left)\n",
    "print('우측 node index: ',dt.tree_.children_right)\n",
    "print('node 특징(X) index: ',dt.tree_.feature)\n",
    "print('node의 threshold: ',dt.tree_.threshold)\n",
    "print('node의 값: ',dt.tree_.value)"
   ]
  },
  {
   "cell_type": "code",
   "execution_count": 13,
   "metadata": {},
   "outputs": [
    {
     "name": "stdout",
     "output_type": "stream",
     "text": [
      "|--- age <= 42.50\n",
      "|   |--- salary <= 90500.00\n",
      "|   |   |--- age <= 36.50\n",
      "|   |   |   |--- class: 0\n",
      "|   |   |--- age >  36.50\n",
      "|   |   |   |--- salary <= 83500.00\n",
      "|   |   |   |   |--- salary <= 67500.00\n",
      "|   |   |   |   |   |--- class: 0\n",
      "|   |   |   |   |--- salary >  67500.00\n",
      "|   |   |   |   |   |--- age <= 41.50\n",
      "|   |   |   |   |   |   |--- class: 0\n",
      "|   |   |   |   |   |--- age >  41.50\n",
      "|   |   |   |   |   |   |--- class: 0\n",
      "|   |   |   |--- salary >  83500.00\n",
      "|   |   |   |   |--- class: 1\n",
      "|   |--- salary >  90500.00\n",
      "|   |   |--- salary <= 117500.00\n",
      "|   |   |   |--- class: 1\n",
      "|   |   |--- salary >  117500.00\n",
      "|   |   |   |--- class: 1\n",
      "|--- age >  42.50\n",
      "|   |--- salary <= 40500.00\n",
      "|   |   |--- class: 1\n",
      "|   |--- salary >  40500.00\n",
      "|   |   |--- salary <= 85500.00\n",
      "|   |   |   |--- class: 1\n",
      "|   |   |--- salary >  85500.00\n",
      "|   |   |   |--- age <= 52.50\n",
      "|   |   |   |   |--- class: 1\n",
      "|   |   |   |--- age >  52.50\n",
      "|   |   |   |   |--- class: 1\n",
      "\n"
     ]
    }
   ],
   "source": [
    "from sklearn.tree import export_text\n",
    "dtText=export_text(dt,feature_names=['age','salary'])\n",
    "print(dtText)"
   ]
  },
  {
   "cell_type": "code",
   "execution_count": 25,
   "metadata": {},
   "outputs": [
    {
     "name": "stdout",
     "output_type": "stream",
     "text": [
      "(250000, 2)\n"
     ]
    },
    {
     "data": {
      "text/plain": [
       "<matplotlib.contour.QuadContourSet at 0x1ecc2ff4d90>"
      ]
     },
     "execution_count": 25,
     "metadata": {},
     "output_type": "execute_result"
    },
    {
     "data": {
      "image/png": "[encoded data removed]",
      "text/plain": [
       "<Figure size 432x288 with 1 Axes>"
      ]
     },
     "metadata": {
      "needs_background": "light"
     },
     "output_type": "display_data"
    }
   ],
   "source": [
    "x1min=xTrain[:,0].min()-3\n",
    "x1max=xTrain[:,0].max()+3\n",
    "x1=np.linspace(x1min,x1max,500)\n",
    "x2min=xTrain[:,1].min()-3000\n",
    "x2max=xTrain[:,1].max()+3000\n",
    "x2=np.linspace(x2min,x2max,500)\n",
    "\n",
    "# meshgrid\n",
    "X1,X2=np.meshgrid(x1,x2)\n",
    "# 2D인 X1과 X2를 1D로 변환후, xTrain(또는 xTest) 형태로 결합\n",
    "X1tmp=X1.reshape(-1,1)\n",
    "X2tmp=X2.reshape(-1,1)\n",
    "X1X2=np.concatenate((X1tmp,X2tmp),axis=1)\n",
    "print(X1X2.shape)\n",
    "# xTrain 및 xTest와 동일한 2D형태 (열의 수는 feature의 수(age,salary))\n",
    "\n",
    "# X1X2에 대한 prediction\n",
    "X1X2pred=dt.predict(X1X2)\n",
    "# X1X2pred는 X1X2에 대한 결과이므로, (250000,)\n",
    "# meshgrid에 적용하기 위해 (500,500)으로 변경\n",
    "X1X2mesh=X1X2pred.reshape(500,500)\n",
    "\n",
    "from matplotlib.colors import ListedColormap\n",
    "classColor=ListedColormap(('orange','green'))\n",
    "plt.contourf(X1,X2,X1X2mesh,cmap=classColor,alpha=0.4)\n",
    "\n",
    "# yTest가 0인 X는 빨간색, 1인 X는 파란색으로 scatter plot할 것"
   ]
  },
  {
   "cell_type": "code",
   "execution_count": null,
   "metadata": {},
   "outputs": [],
   "source": []
  }
 ],
 "metadata": {
  "kernelspec": {
   "display_name": "Python 3",
   "language": "python",
   "name": "python3"
  },
  "language_info": {
   "codemirror_mode": {
    "name": "ipython",
    "version": 3
   },
   "file_extension": ".py",
   "mimetype": "text/x-python",
   "name": "python",
   "nbconvert_exporter": "python",
   "pygments_lexer": "ipython3",
   "version": "3.8.5"
  }
 },
 "nbformat": 4,
 "nbformat_minor": 4
}
