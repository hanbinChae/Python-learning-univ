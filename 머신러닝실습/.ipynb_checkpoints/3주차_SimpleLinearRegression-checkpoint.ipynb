{
 "cells": [
  {
   "cell_type": "code",
   "execution_count": 24,
   "metadata": {},
   "outputs": [],
   "source": [
    "import numpy as np\n",
    "import pandas as pd\n",
    "import matplotlib.pyplot as plt"
   ]
  },
  {
   "cell_type": "markdown",
   "metadata": {},
   "source": [
    "### 1) data load"
   ]
  },
  {
   "cell_type": "code",
   "execution_count": 25,
   "metadata": {
    "scrolled": false
   },
   "outputs": [
    {
     "name": "stdout",
     "output_type": "stream",
     "text": [
      "    YearsExperience    Salary\n",
      "0               1.1   39343.0\n",
      "1               1.3   46205.0\n",
      "2               1.5   37731.0\n",
      "3               2.0   43525.0\n",
      "4               2.2   39891.0\n",
      "5               2.9   56642.0\n",
      "6               3.0   60150.0\n",
      "7               3.2   54445.0\n",
      "8               3.2   64445.0\n",
      "9               3.7   57189.0\n",
      "10              3.9   63218.0\n",
      "11              4.0   55794.0\n",
      "12              4.0   56957.0\n",
      "13              4.1   57081.0\n",
      "14              4.5   61111.0\n",
      "15              4.9   67938.0\n",
      "16              5.1   66029.0\n",
      "17              5.3   83088.0\n",
      "18              5.9   81363.0\n",
      "19              6.0   93940.0\n",
      "20              6.8   91738.0\n",
      "21              7.1   98273.0\n",
      "22              7.9  101302.0\n",
      "23              8.2  113812.0\n",
      "24              8.7  109431.0\n",
      "25              9.0  105582.0\n",
      "26              9.5  116969.0\n",
      "27              9.6  112635.0\n",
      "28             10.3  122391.0\n",
      "29             10.5  121872.0\n",
      "(30, 2)\n",
      "<class 'pandas.core.frame.DataFrame'>\n"
     ]
    }
   ],
   "source": [
    "dataset = pd.read_csv('Salary_Data.csv')\n",
    "print(dataset)\n",
    "print(dataset.shape)\n",
    "print(type(dataset))"
   ]
  },
  {
   "cell_type": "markdown",
   "metadata": {},
   "source": [
    "### 2) feature(X)와 actual value(y) 분리"
   ]
  },
  {
   "cell_type": "code",
   "execution_count": 26,
   "metadata": {},
   "outputs": [],
   "source": [
    "# YearsExperience(경력(년))으로 Salary(연봉) 예측하는 모델\n",
    "# X = YearsExperience\n",
    "# y = Salary\n",
    "\n",
    "# dataset: DataFrame\n",
    "# DataFrame을 slicing하기 위해서는 iloc(또는 loc)를 사용해야 함\n",
    "\n",
    "# X: 전체 행, 0번 열 → dnarray로 변환(values)\n",
    "X = dataset.iloc[:,:-1].values\n",
    "# [:,:-1] → 전체 행, 마지막 열 제외 전체 열 (첫 열부터 마지막으로부터 두번째 열까지)\n",
    "# [범위, 범위] → 2D\n",
    "# [index, 범위] 또는 [범위, index] → 1D\n",
    "# sklearn에서 X는 2D를 사용: [:,0]으로 지정할 경우, 1D가 되므로 index 0대신 범위로 지정\n",
    "\n",
    "# y: 전체 행, 1번 열 → dnarray로 변환(values)\n",
    "y = dataset.iloc[:,-1:].values\n",
    "# y의 경우 1D, 2D 모두 가능"
   ]
  },
  {
   "cell_type": "markdown",
   "metadata": {},
   "source": [
    "### 3) training / test data 분리"
   ]
  },
  {
   "cell_type": "code",
   "execution_count": 27,
   "metadata": {},
   "outputs": [],
   "source": [
    "from sklearn.model_selection import train_test_split\n",
    "X_train, X_test, y_train, y_test = train_test_split(X, y, \n",
    "                                                    test_size = 0.2, \n",
    "                                                    random_state = 42)"
   ]
  },
  {
   "cell_type": "code",
   "execution_count": 28,
   "metadata": {
    "scrolled": true
   },
   "outputs": [
    {
     "name": "stdout",
     "output_type": "stream",
     "text": [
      "(24, 1)\n",
      "(24, 1)\n",
      "(6, 1)\n",
      "(6, 1)\n"
     ]
    }
   ],
   "source": [
    "# shape 확인\n",
    "print(X_train.shape)\n",
    "print(y_train.shape)\n",
    "print(X_test.shape)\n",
    "print(y_test.shape)"
   ]
  },
  {
   "cell_type": "markdown",
   "metadata": {},
   "source": [
    "### 4) linear regression model 생성"
   ]
  },
  {
   "cell_type": "code",
   "execution_count": 29,
   "metadata": {},
   "outputs": [],
   "source": [
    "from sklearn.linear_model import LinearRegression\n",
    "sLR = LinearRegression()\n",
    "# Linear Regression 객체 생성"
   ]
  },
  {
   "cell_type": "code",
   "execution_count": 30,
   "metadata": {},
   "outputs": [
    {
     "data": {
      "text/plain": [
       "LinearRegression()"
      ]
     },
     "execution_count": 30,
     "metadata": {},
     "output_type": "execute_result"
    }
   ],
   "source": [
    "# Linear Regression 학습 (학습데이터(training X, training y) 적용)\n",
    "# sklearn의 machine learning model의 X는 2D여야 함\n",
    "sLR.fit(X_train, y_train)\n",
    "# 학습의 결과는 sLR에 저장됨"
   ]
  },
  {
   "cell_type": "markdown",
   "metadata": {},
   "source": [
    "### 5) prediction"
   ]
  },
  {
   "cell_type": "code",
   "execution_count": 33,
   "metadata": {},
   "outputs": [
    {
     "data": {
      "text/plain": [
       "array([[86576.38261148]])"
      ]
     },
     "execution_count": 33,
     "metadata": {},
     "output_type": "execute_result"
    }
   ],
   "source": [
    "# predict에 새로운 x를 전달하면 prediction 반환\n",
    "# x를 2D로 전달(list 또는 ndarray)\n",
    "sLR.predict([[6.5]])"
   ]
  },
  {
   "cell_type": "code",
   "execution_count": 34,
   "metadata": {
    "scrolled": true
   },
   "outputs": [
    {
     "name": "stdout",
     "output_type": "stream",
     "text": [
      "[[115790.21011287]\n",
      " [ 71498.27809463]\n",
      " [102596.86866063]\n",
      " [ 75267.80422384]\n",
      " [ 55477.79204548]\n",
      " [ 60189.69970699]]\n"
     ]
    }
   ],
   "source": [
    "# test data 전체에 대한 prediction\n",
    "y_pred = sLR.predict(X_test)\n",
    "print(y_pred)"
   ]
  },
  {
   "cell_type": "markdown",
   "metadata": {},
   "source": [
    "### 6) 결과 시각화"
   ]
  },
  {
   "cell_type": "code",
   "execution_count": 49,
   "metadata": {},
   "outputs": [
    {
     "data": {
      "image/png": "[encoded data removed]",
      "text/plain": [
       "<Figure size 432x288 with 1 Axes>"
      ]
     },
     "metadata": {
      "needs_background": "light"
     },
     "output_type": "display_data"
    }
   ],
   "source": [
    "# 가로축: X(YearsExperience), 세로축: y(Salary)\n",
    "# training data (X_train, y_train) 산점도\n",
    "plt.scatter(X_train, y_train, color = 'red', label = 'Training')\n",
    "# test data (X_test, y_test) 산점도\n",
    "plt.scatter(X_test, y_test, color = 'green', linewidth = 10, label = 'Test')\n",
    "\n",
    "# linear regression model plot(line plot)\n",
    "X_axis = np.array([[0],[15]])\n",
    "plt.plot(X_train,sLR.predict(X_train), label = 'Linear regression model', marker = 'o')\n",
    "plt.legend()\n",
    "\n",
    "plt.title('Years Experience vs. Salary', color = 'blue', fontsize = 20)\n",
    "plt.xlabel('Years Experience', fontsize = 15)\n",
    "plt.ylabel('salary', fontsize = 15)\n",
    "\n",
    "plt.grid()"
   ]
  }
 ],
 "metadata": {
  "kernelspec": {
   "display_name": "Python 3 (ipykernel)",
   "language": "python",
   "name": "python3"
  },
  "language_info": {
   "codemirror_mode": {
    "name": "ipython",
    "version": 3
   },
   "file_extension": ".py",
   "mimetype": "text/x-python",
   "name": "python",
   "nbconvert_exporter": "python",
   "pygments_lexer": "ipython3",
   "version": "3.9.12"
  }
 },
 "nbformat": 4,
 "nbformat_minor": 4
}
