{
 "cells": [
  {
   "cell_type": "code",
   "execution_count": 2,
   "id": "f816b344",
   "metadata": {},
   "outputs": [],
   "source": [
    "import numpy as np\n",
    "import pandas as pd\n",
    "import matplotlib.pyplot as plt"
   ]
  },
  {
   "cell_type": "code",
   "execution_count": 3,
   "id": "bf79fa25",
   "metadata": {},
   "outputs": [
    {
     "name": "stdout",
     "output_type": "stream",
     "text": [
      "(10, 1) (10,)\n"
     ]
    }
   ],
   "source": [
    "dataset = pd.read_csv(\"data/Position_salaries.csv\").values\n",
    "X = dataset[:,1:-1] #X는 반드시 2차원\n",
    "y = dataset[:,-1]\n",
    "\n",
    "print(X.shape, y.shape)"
   ]
  },
  {
   "cell_type": "code",
   "execution_count": 4,
   "id": "f11b23f6",
   "metadata": {},
   "outputs": [
    {
     "data": {
      "text/plain": [
       "array([['Business Analyst', 1, 45000],\n",
       "       ['Junior Consultant', 2, 50000],\n",
       "       ['Senior Consultant', 3, 60000],\n",
       "       ['Manager', 4, 80000],\n",
       "       ['Country Manager', 5, 110000],\n",
       "       ['Region Manager', 6, 150000],\n",
       "       ['Partner', 7, 200000],\n",
       "       ['Senior Partner', 8, 300000],\n",
       "       ['C-level', 9, 500000],\n",
       "       ['CEO', 10, 1000000]], dtype=object)"
      ]
     },
     "execution_count": 4,
     "metadata": {},
     "output_type": "execute_result"
    }
   ],
   "source": [
    "dataset"
   ]
  },
  {
   "cell_type": "code",
   "execution_count": 5,
   "id": "73b2bfcf",
   "metadata": {},
   "outputs": [
    {
     "name": "stderr",
     "output_type": "stream",
     "text": [
      "C:\\ProgramData\\Anaconda3\\lib\\site-packages\\sklearn\\ensemble\\_forest.py:560: UserWarning: Some inputs do not have OOB scores. This probably means too few trees were used to compute any reliable OOB estimates.\n",
      "  warn(\n"
     ]
    },
    {
     "data": {
      "text/plain": [
       "RandomForestRegressor(max_features=1, min_samples_split=5, n_estimators=5,\n",
       "                      oob_score=True, random_state=1)"
      ]
     },
     "execution_count": 5,
     "metadata": {},
     "output_type": "execute_result"
    }
   ],
   "source": [
    "from sklearn.ensemble import RandomForestRegressor\n",
    "rf = RandomForestRegressor(n_estimators=5, min_samples_split=5,\n",
    "                          max_features=1, bootstrap = True,\n",
    "                          oob_score = True, random_state =1)\n",
    "\n",
    "# n_estimators : decision tree의 수\n",
    "# min_samples_split : decision tree의 node를 분리하는 최소 데이터 수\n",
    "# max_features : decision tree를 생성할 때, 임의로 선택하는 특징의 수\n",
    "# bootstrap : bootstrap 적용 여부 (default = True)\n",
    "# oob_score : oob_score 계산 여부 (default = False)\n",
    "rf.fit(X,y)"
   ]
  },
  {
   "cell_type": "code",
   "execution_count": 6,
   "id": "23dfd07f",
   "metadata": {},
   "outputs": [
    {
     "data": {
      "image/png": "[encoded data removed]",
      "text/plain": [
       "<Figure size 432x288 with 1 Axes>"
      ]
     },
     "metadata": {
      "needs_background": "light"
     },
     "output_type": "display_data"
    }
   ],
   "source": [
    "plt.scatter(X,y)\n",
    "xGrid = np.arange(min(X)-1,max(X)+1,0.01).reshape(-1,1)\n",
    "# rf.predict의 입력은 반드시 2D여야 하므로 reshape(-1,1) 적용함\n",
    "yGrid=rf.predict(xGrid)\n",
    "plt.plot(xGrid,yGrid,color = 'red')\n",
    "plt.show()"
   ]
  }
 ],
 "metadata": {
  "kernelspec": {
   "display_name": "Python 3 (ipykernel)",
   "language": "python",
   "name": "python3"
  },
  "language_info": {
   "codemirror_mode": {
    "name": "ipython",
    "version": 3
   },
   "file_extension": ".py",
   "mimetype": "text/x-python",
   "name": "python",
   "nbconvert_exporter": "python",
   "pygments_lexer": "ipython3",
   "version": "3.9.12"
  }
 },
 "nbformat": 4,
 "nbformat_minor": 5
}
