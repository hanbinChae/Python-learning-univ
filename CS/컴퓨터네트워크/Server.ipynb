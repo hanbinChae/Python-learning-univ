{
 "cells": [
  {
   "cell_type": "code",
   "execution_count": 10,
   "id": "867a8a97",
   "metadata": {},
   "outputs": [],
   "source": [
    "# 서버 TCP 소켓 프로그래밍\n",
    "# 서버 IP : \"192.168.219.102\"\n",
    "# PORT 번호 : \"7777\""
   ]
  },
  {
   "cell_type": "code",
   "execution_count": 11,
   "id": "e3153858",
   "metadata": {},
   "outputs": [
    {
     "name": "stdout",
     "output_type": "stream",
     "text": [
      "1. ----- Client is connected -----\n",
      "2. ----- message received -----\n",
      "RX: Hello! I am 채한빈\n",
      "3. ----- message send -----\n"
     ]
    }
   ],
   "source": [
    "import socket\n",
    "\n",
    "IP = \"192.168.35.253\"\n",
    "PORT = 7777\n",
    "address = (IP,PORT) #변경 되지 않도록 Tuple 형태로 지정\n",
    "\n",
    "server = socket.socket() #default = (IPv4, TCP 소켓)생성\n",
    "server.bind(address) # 소켓에 IP주소, 포트번호 바인딩\n",
    "server.listen(1)\n",
    "\n",
    "conn, addr = server.accept() #클라이언트 접속 요청\n",
    "print('1.','-'*5,'Client is connected','-'*5)\n",
    "\n",
    "rxmsg = conn.recv(1024) # 한번에 1024 바이트 만큼 받아오기\n",
    "print('2.','-'*5,'message received','-'*5)\n",
    "print(\"RX:\",rxmsg.decode()) #바이트를 문자로 변환 (reverse incoding)\n",
    "\n",
    "conn.send(input().encode()) #문자를 바이트로 변환\n",
    "print('3.','-'*5,'message send','-'*5)\n",
    "\n",
    "conn.close() # 통신소켓 해제\n",
    "server.close() # 리스닝소켓 해제"
   ]
  }
 ],
 "metadata": {
  "kernelspec": {
   "display_name": "Python 3.9.13 64-bit",
   "language": "python",
   "name": "python3"
  },
  "language_info": {
   "codemirror_mode": {
    "name": "ipython",
    "version": 3
   },
   "file_extension": ".py",
   "mimetype": "text/x-python",
   "name": "python",
   "nbconvert_exporter": "python",
   "pygments_lexer": "ipython3",
   "version": "3.9.13"
  },
  "vscode": {
   "interpreter": {
    "hash": "b0fa6594d8f4cbf19f97940f81e996739fb7646882a419484c72d19e05852a7e"
   }
  }
 },
 "nbformat": 4,
 "nbformat_minor": 5
}
