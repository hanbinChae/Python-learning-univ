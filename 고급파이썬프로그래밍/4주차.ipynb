{
  "nbformat": 4,
  "nbformat_minor": 0,
  "metadata": {
    "colab": {
      "name": "4주차.ipynb",
      "provenance": [],
      "collapsed_sections": [],
      "authorship_tag": "ABX9TyMYTGviC7tZ/h19VkhOlGBD",
      "include_colab_link": true
    },
    "kernelspec": {
      "name": "python3",
      "display_name": "Python 3"
    },
    "language_info": {
      "name": "python"
    }
  },
  "cells": [
    {
      "cell_type": "markdown",
      "metadata": {
        "id": "view-in-github",
        "colab_type": "text"
      },
      "source": [
        "<a href=\"https://colab.research.google.com/github/hanbinChae/python-learning-univ/blob/main/4%EC%A3%BC%EC%B0%A8.ipynb\" target=\"_parent\"><img src=\"https://colab.research.google.com/assets/colab-badge.svg\" alt=\"Open In Colab\"/></a>"
      ]
    },
    {
      "cell_type": "code",
      "execution_count": null,
      "metadata": {
        "colab": {
          "base_uri": "https://localhost:8080/"
        },
        "id": "uIn3ozNiYosq",
        "outputId": "d551b800-00f2-4e25-e357-00ec403af777"
      },
      "outputs": [
        {
          "output_type": "stream",
          "name": "stdout",
          "text": [
            "나이를 입력해주세요.13\n",
            "5000원\n"
          ]
        }
      ],
      "source": [
        "age = int(input('나이를 입력해주세요. '))\n",
        "if age<20:\n",
        "  print('5000원')\n",
        "else:\n",
        "  print('10000')"
      ]
    },
    {
      "cell_type": "code",
      "source": [
        "inte = int(input('양수를 입력해주세요. '))\n",
        "if inte >0:\n",
        "  print('양수입니다.')\n",
        "elif inte <0:\n",
        "  print('음수입니다.')\n",
        "else:\n",
        "  print('양수도 음수도 아닙니다.')"
      ],
      "metadata": {
        "colab": {
          "base_uri": "https://localhost:8080/"
        },
        "id": "NeeJMqWAdUi2",
        "outputId": "9b56eb10-bd5c-4f56-ef95-9c17b4f81511"
      },
      "execution_count": null,
      "outputs": [
        {
          "output_type": "stream",
          "name": "stdout",
          "text": [
            "양수를 입력해주세요. -2\n",
            "음수입니다.\n"
          ]
        }
      ]
    },
    {
      "cell_type": "code",
      "source": [
        "age = int(input('나이:'))\n",
        "money = int(input('돈:'))\n",
        "\n",
        "if age<20:\n",
        "  if money>=5000:\n",
        "    money-=5000\n",
        "    print('입장가능')\n",
        "    print('거스름돈 :',money)\n",
        "  else:\n",
        "    print('입장불가')\n",
        "    print('추가필요금액 :',5000-money)\n",
        "else:\n",
        "  if money>=10000:\n",
        "    money-=10000\n",
        "    print('입장가능')\n",
        "    print('거스름돈 :',money)\n",
        "  else:\n",
        "    print('입장불가')\n",
        "    print('추가필요금액 :',10000-money)"
      ],
      "metadata": {
        "colab": {
          "base_uri": "https://localhost:8080/"
        },
        "id": "QyVswMIYdwLB",
        "outputId": "dab68f43-c2a5-423a-ca6a-e1b586714946"
      },
      "execution_count": null,
      "outputs": [
        {
          "output_type": "stream",
          "name": "stdout",
          "text": [
            "나이:20\n",
            "돈:10000\n",
            "입장가능\n",
            "거스름돈 : 0\n"
          ]
        }
      ]
    },
    {
      "cell_type": "code",
      "source": [
        "year = int(input('year:'))\n",
        "if year%4==0:\n",
        "  if year%4==0 and year%100==0 and year%400==0:\n",
        "    print(year,'년은 윤년입니다.')\n",
        "  elif year%4==0 and year%100==0:\n",
        "    print(year,'년은 평년입니다.')\n",
        "  else:\n",
        "    print(year,'년은 윤년입니다.')\n",
        "\n",
        "else:\n",
        "  print(year,'년은 평년입니다.')"
      ],
      "metadata": {
        "colab": {
          "base_uri": "https://localhost:8080/"
        },
        "id": "7X14hLeafi67",
        "outputId": "eb6e20eb-276d-4b75-fdff-17a80428db68"
      },
      "execution_count": null,
      "outputs": [
        {
          "output_type": "stream",
          "name": "stdout",
          "text": [
            "year:1996\n",
            "1996 년은 윤년입니다.\n"
          ]
        }
      ]
    },
    {
      "cell_type": "markdown",
      "source": [
        "거북이 원 그려서 내부위치, 접점존재, 비충돌 판별하기"
      ],
      "metadata": {
        "id": "fEHxM2uNvFHM"
      }
    },
    {
      "cell_type": "code",
      "source": [
        "import turtle\n",
        "t = turtle.Turtle()\n",
        "t.shape('turtle')\n",
        "\n",
        "x=100\n",
        "y=50 \n",
        "size1=200\n",
        "size2=50\n",
        "\n",
        "distance = ((x**2)+(y**2))**0.5\n",
        "print('원점에서의 거리(계산):',distance)\n",
        "\n",
        "t.dot(size1*2,'green')\n",
        "t.fd(x)\n",
        "t.left(90)\n",
        "t.fd(y)\n",
        "t.dot(size2*2,'blue')\n",
        "\n",
        "print('거북이 위치:',t.pos())\n",
        "print('원점까지의 거리(거북이)',t.distance(0,0))\n",
        "\n",
        "print('충돌 판단','-'*30)\n",
        "\n",
        "d = t.distance(0,0)\n",
        "if d == 0 or size1-size2>d:\n",
        "    print('충돌/내부위치')\n",
        "elif size1-size2==d or size1-size2<d<size1+size2 or size1+size2 ==d:\n",
        "    print('충돌/접점존재')\n",
        "elif size1+size2<d:\n",
        "    print('비충돌')\n",
        "\n",
        "turtle.exitonclick()\n",
        "turtle.bye()"
      ],
      "metadata": {
        "id": "iuVbcBw3f6WG"
      },
      "execution_count": null,
      "outputs": []
    }
  ]
}