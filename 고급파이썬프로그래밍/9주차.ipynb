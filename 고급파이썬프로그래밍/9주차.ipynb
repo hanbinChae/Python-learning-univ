{
  "nbformat": 4,
  "nbformat_minor": 0,
  "metadata": {
    "colab": {
      "name": "8주차.ipynb",
      "provenance": [],
      "collapsed_sections": [],
      "authorship_tag": "ABX9TyMqWmugHb3o7DcCqVkltO+M",
      "include_colab_link": true
    },
    "kernelspec": {
      "name": "python3",
      "display_name": "Python 3"
    },
    "language_info": {
      "name": "python"
    }
  },
  "cells": [
    {
      "cell_type": "markdown",
      "metadata": {
        "id": "view-in-github",
        "colab_type": "text"
      },
      "source": [
        "<a href=\"https://colab.research.google.com/github/hanbinChae/python-learning-univ/blob/main/9%EC%A3%BC%EC%B0%A8.ipynb\" target=\"_parent\"><img src=\"https://colab.research.google.com/assets/colab-badge.svg\" alt=\"Open In Colab\"/></a>"
      ]
    },
    {
      "cell_type": "markdown",
      "source": [
        "리스트 요소 접근"
      ],
      "metadata": {
        "id": "3UyoL_6mb-Vr"
      }
    },
    {
      "cell_type": "code",
      "execution_count": null,
      "metadata": {
        "colab": {
          "base_uri": "https://localhost:8080/"
        },
        "id": "0gSedRSPbHdF",
        "outputId": "77146942-6129-41c1-eff2-ed8c76405104"
      },
      "outputs": [
        {
          "output_type": "stream",
          "name": "stdout",
          "text": [
            "D\n",
            "A\n",
            "F\n"
          ]
        }
      ],
      "source": [
        "list = ['A','B','C','D','E','F']\n",
        "\n",
        "print(list[3])\n",
        "print(list[0])\n",
        "print(list[-1])"
      ]
    },
    {
      "cell_type": "markdown",
      "source": [
        "리스트 요소 추가"
      ],
      "metadata": {
        "id": "3wcv0MbNcAS6"
      }
    },
    {
      "cell_type": "code",
      "source": [
        "list = ['A','B','C','D','E','F']\n",
        "\n",
        "list.append(\"G\")\n",
        "print('list 마지막에 요소 추가',list)\n",
        "\n",
        "list.insert(0,\"start\")\n",
        "print('insert 후',list)"
      ],
      "metadata": {
        "colab": {
          "base_uri": "https://localhost:8080/"
        },
        "id": "DANjtdlEcC7R",
        "outputId": "394083ce-139e-451f-93cd-586051def5c5"
      },
      "execution_count": null,
      "outputs": [
        {
          "output_type": "stream",
          "name": "stdout",
          "text": [
            "list 마지막에 요소 추가 ['A', 'B', 'C', 'D', 'E', 'F', 'G']\n",
            "insert 후 ['start', 'A', 'B', 'C', 'D', 'E', 'F', 'G']\n"
          ]
        }
      ]
    },
    {
      "cell_type": "markdown",
      "source": [
        "리스트 요소 제거"
      ],
      "metadata": {
        "id": "kkYgkvMgchPa"
      }
    },
    {
      "cell_type": "code",
      "source": [
        "list = ['A','B','C','D','E','F']\n",
        "list.remove(\"C\")\n",
        "print(list)"
      ],
      "metadata": {
        "colab": {
          "base_uri": "https://localhost:8080/"
        },
        "id": "wJyuOz6QcgfZ",
        "outputId": "5b96bfdb-ae23-4dbf-92be-dd094e426641"
      },
      "execution_count": null,
      "outputs": [
        {
          "output_type": "stream",
          "name": "stdout",
          "text": [
            "['A', 'B', 'D', 'E', 'F']\n"
          ]
        }
      ]
    },
    {
      "cell_type": "markdown",
      "source": [
        "pop() : 리스트 마지막 요소 출력 후 제거\n"
      ],
      "metadata": {
        "id": "Es_jlKlqcsQJ"
      }
    },
    {
      "cell_type": "code",
      "source": [
        "list = ['A','B','C','D','E','F']\n",
        "print('pop() 사용 전 list :',list)\n",
        "print(list.pop())\n",
        "print('pop() 사용 후 list :',(list))"
      ],
      "metadata": {
        "colab": {
          "base_uri": "https://localhost:8080/"
        },
        "id": "hdW5T79Pcv-i",
        "outputId": "513eac3c-8de0-4346-feb1-78a9aae76843"
      },
      "execution_count": null,
      "outputs": [
        {
          "output_type": "stream",
          "name": "stdout",
          "text": [
            "pop() 사용 전 list : ['A', 'B', 'C', 'D', 'E', 'F']\n",
            "F\n",
            "pop() 사용 후 list : ['A', 'B', 'C', 'D', 'E']\n"
          ]
        }
      ]
    },
    {
      "cell_type": "markdown",
      "source": [
        "del() : 위치 값을 이용한 제거"
      ],
      "metadata": {
        "id": "kgdD-xUedI-B"
      }
    },
    {
      "cell_type": "code",
      "source": [
        "list = ['A','B','C','D','E','F']\n",
        "del list[0]\n",
        "print(list)"
      ],
      "metadata": {
        "colab": {
          "base_uri": "https://localhost:8080/"
        },
        "id": "HayLHN1KdHIX",
        "outputId": "5782b37b-28e2-4c94-b269-f22390661ee9"
      },
      "execution_count": null,
      "outputs": [
        {
          "output_type": "stream",
          "name": "stdout",
          "text": [
            "['B', 'C', 'D', 'E', 'F']\n"
          ]
        }
      ]
    },
    {
      "cell_type": "markdown",
      "source": [
        "리스트 정렬 실습"
      ],
      "metadata": {
        "id": "OmR0Jb9mdjQZ"
      }
    },
    {
      "cell_type": "code",
      "source": [
        "List = [5,4,2,7,0,-5]\n",
        "\n",
        "List.reverse()\n",
        "print(List)\n",
        "List.sort(reverse = True)\n",
        "print(List)"
      ],
      "metadata": {
        "colab": {
          "base_uri": "https://localhost:8080/"
        },
        "id": "8LSkKzJYdiOB",
        "outputId": "7bfea143-4c88-4611-a286-b8d6cda684d2"
      },
      "execution_count": null,
      "outputs": [
        {
          "output_type": "stream",
          "name": "stdout",
          "text": [
            "[-5, 0, 7, 2, 4, 5]\n",
            "[7, 5, 4, 2, 0, -5]\n"
          ]
        }
      ]
    },
    {
      "cell_type": "markdown",
      "source": [
        "반복문에서 리스트 활용"
      ],
      "metadata": {
        "id": "LfbWQ3aKiGvA"
      }
    },
    {
      "cell_type": "code",
      "source": [
        "for i in [1,2,3]:\n",
        "  print('i :',i)\n",
        "print('-'*100)\n",
        "for j in [0,4,7,8]:\n",
        "  print(\"j=\",j)\n",
        "\n"
      ],
      "metadata": {
        "colab": {
          "base_uri": "https://localhost:8080/"
        },
        "id": "rErcDPkXiFTA",
        "outputId": "178eae0a-59d0-4e7a-d5ee-8b0a16d308ba"
      },
      "execution_count": null,
      "outputs": [
        {
          "output_type": "stream",
          "name": "stdout",
          "text": [
            "i : 1\n",
            "i : 2\n",
            "i : 3\n",
            "----------------------------------------------------------------------------------------------------\n",
            "j= 0\n",
            "j= 4\n",
            "j= 7\n",
            "j= 8\n"
          ]
        }
      ]
    },
    {
      "cell_type": "markdown",
      "source": [
        "피보나치 수열"
      ],
      "metadata": {
        "id": "dZS1QJJhlJsi"
      }
    },
    {
      "cell_type": "code",
      "source": [
        "fibo_list = [1,1]\n",
        "n = 12\n",
        "\n",
        "for i in range(n):\n",
        "  fibo_new = fibo_list[-1] + fibo_list[-2]\n",
        "  fibo_list.append(fibo_new)\n",
        "\n",
        "print(fibo_list)\n",
        "print(len(fibo_list))"
      ],
      "metadata": {
        "colab": {
          "base_uri": "https://localhost:8080/"
        },
        "id": "xFHdr0PClK-W",
        "outputId": "7cd7aee9-1893-4302-9bbb-1454d81212db"
      },
      "execution_count": null,
      "outputs": [
        {
          "output_type": "stream",
          "name": "stdout",
          "text": [
            "[1, 1, 2, 3, 5, 8, 13, 21, 34, 55, 89, 144, 233, 377]\n",
            "14\n"
          ]
        }
      ]
    },
    {
      "cell_type": "markdown",
      "source": [
        "슬라이싱 예제1"
      ],
      "metadata": {
        "id": "0VtNpDsunXng"
      }
    },
    {
      "cell_type": "code",
      "source": [
        "List = [\"A\",'B','C','D','E','F']\n",
        "\n",
        "print(List[0:3])\n",
        "print(List[:3])\n",
        "print(List[3:])\n",
        "print(List[::])"
      ],
      "metadata": {
        "colab": {
          "base_uri": "https://localhost:8080/"
        },
        "id": "bPq8-JRrnWg_",
        "outputId": "2e5b2741-b312-495d-bd07-60717bbd8eeb"
      },
      "execution_count": null,
      "outputs": [
        {
          "output_type": "stream",
          "name": "stdout",
          "text": [
            "['A', 'B', 'C']\n",
            "['A', 'B', 'C']\n",
            "['D', 'E', 'F']\n",
            "['A', 'B', 'C', 'D', 'E', 'F']\n"
          ]
        }
      ]
    },
    {
      "cell_type": "markdown",
      "source": [
        "슬라이싱 예제2"
      ],
      "metadata": {
        "id": "rGDWqJSQnnaY"
      }
    },
    {
      "cell_type": "code",
      "source": [
        "List = [\"A\",'B','C','D','E','F']\n",
        "\n",
        "print(List[::1])\n",
        "print(List[::2])\n",
        "print(List[::-1])\n",
        "print(List[::-2])\n",
        "print(List[::])"
      ],
      "metadata": {
        "colab": {
          "base_uri": "https://localhost:8080/"
        },
        "id": "RnoFrA47nqVY",
        "outputId": "8d60ef30-f81d-4c5b-aaa0-1f505ced464b"
      },
      "execution_count": null,
      "outputs": [
        {
          "output_type": "stream",
          "name": "stdout",
          "text": [
            "['A', 'B', 'C', 'D', 'E', 'F']\n",
            "['A', 'C', 'E']\n",
            "['F', 'E', 'D', 'C', 'B', 'A']\n",
            "['F', 'D', 'B']\n",
            "['A', 'B', 'C', 'D', 'E', 'F']\n"
          ]
        }
      ]
    },
    {
      "cell_type": "markdown",
      "source": [
        "슬라이싱 실습"
      ],
      "metadata": {
        "id": "g_BZ2DpzoAU3"
      }
    },
    {
      "cell_type": "code",
      "source": [
        "List = [\"A\",'B','C','D','E','F']\n",
        "\n",
        "List2 = List[::2]\n",
        "print(List2) #1\n",
        "List3 = List2[::-1]\n",
        "print(List3) #2\n",
        "\n",
        "List2 = List[::-2]\n",
        "print(List2)\n",
        "List3 = List2[1::]\n",
        "print(List3)"
      ],
      "metadata": {
        "colab": {
          "base_uri": "https://localhost:8080/"
        },
        "id": "3eQomzWPoBX2",
        "outputId": "eb97d6e8-1ee9-4f98-b5ac-3c863ff82a00"
      },
      "execution_count": null,
      "outputs": [
        {
          "output_type": "stream",
          "name": "stdout",
          "text": [
            "['A', 'C', 'E']\n",
            "['E', 'C', 'A']\n",
            "['F', 'D', 'B']\n",
            "['D', 'B']\n"
          ]
        }
      ]
    },
    {
      "cell_type": "markdown",
      "source": [
        "리스트 + Turtle"
      ],
      "metadata": {
        "id": "0NjgzBB-iXX3"
      }
    },
    {
      "cell_type": "code",
      "source": [
        "import turtle\n",
        "\n",
        "turtle_list = []\n",
        "n = 4\n",
        "\n",
        "for i in range(n):\n",
        "    t1 = turtle.Turtle()\n",
        "    t1.shape('turtle')\n",
        "    turtle_list.append(t1)\n",
        "    \n",
        "for i in range(n):\n",
        "    turtle_list[i].left(i * 90);\n",
        "\n",
        "for t2 in turtle_list:\n",
        "    t2.fd(100)\n",
        "\n",
        "\n",
        "turtle.exitonclick() \n",
        "turtle.bye()"
      ],
      "metadata": {
        "id": "enOvAjwejq62"
      },
      "execution_count": null,
      "outputs": []
    },
    {
      "cell_type": "markdown",
      "source": [
        "리스트 + turtle2"
      ],
      "metadata": {
        "id": "P8J-ONmTjsa_"
      }
    },
    {
      "cell_type": "code",
      "source": [
        "import turtle\n",
        "\n",
        "turtle_list = []\n",
        "n = 4\n",
        "\n",
        "for i in range(n):\n",
        "    t1 = turtle.Turtle()\n",
        "    t1.shape('turtle')\n",
        "    turtle_list.append(t1)\n",
        "    \n",
        "for i in range(n):\n",
        "    turtle_list[i].left(i * 90);\n",
        "    turtle_list[i].fd(i*50)\n",
        "\n",
        "\n",
        "turtle.exitonclick() \n",
        "turtle.bye()"
      ],
      "metadata": {
        "id": "7cUZQjS7j1EA"
      },
      "execution_count": null,
      "outputs": []
    },
    {
      "cell_type": "markdown",
      "source": [
        "리스트 + turtle3"
      ],
      "metadata": {
        "id": "rzF-pcHykB4p"
      }
    },
    {
      "cell_type": "code",
      "source": [
        "import turtle\n",
        "\n",
        "turtle_list = []\n",
        "n = 6\n",
        "distance = [50,100,50,50];\n",
        "\n",
        "for i in range(n):\n",
        "    t1 = turtle.Turtle()\n",
        "    t1.shape('turtle')\n",
        "    turtle_list.append(t1)\n",
        "    \n",
        "for i in range(n):\n",
        "    turtle_list[i].left(i * 60);\n",
        "\n",
        "for dist in distance:\n",
        "    for t in turtle_list:\n",
        "        t.fd(dist)\n",
        "        t.left(30)\n",
        "    \n",
        "turtle.exitonclick() \n",
        "turtle.bye()"
      ],
      "metadata": {
        "id": "1R4Mz3g1kELY"
      },
      "execution_count": null,
      "outputs": []
    },
    {
      "cell_type": "markdown",
      "source": [
        "**과제1**"
      ],
      "metadata": {
        "id": "SkUXrDtVpRjY"
      }
    },
    {
      "cell_type": "code",
      "source": [
        "list = [\"F\",'B','C','A','E','D']\n",
        "\n",
        "list = list[::-1]\n",
        "print(list)\n",
        "list = list[1:5]\n",
        "print(list)\n",
        "list = list[-2:-5:-1]\n",
        "print(list)\n",
        "list.sort(reverse=True)\n",
        "print(list)\n",
        "list.append(\"G\")\n",
        "print(list)\n",
        "list.sort()\n",
        "print(list)"
      ],
      "metadata": {
        "colab": {
          "base_uri": "https://localhost:8080/"
        },
        "id": "8Tno2cAzpPEg",
        "outputId": "1bf9f510-f2fe-4e3c-bf4c-1e596ba2ea63"
      },
      "execution_count": null,
      "outputs": [
        {
          "output_type": "stream",
          "name": "stdout",
          "text": [
            "['D', 'E', 'A', 'C', 'B', 'F']\n",
            "['E', 'A', 'C', 'B']\n",
            "['C', 'A', 'E']\n",
            "['E', 'C', 'A']\n",
            "['E', 'C', 'A', 'G']\n",
            "['A', 'C', 'E', 'G']\n"
          ]
        }
      ]
    },
    {
      "cell_type": "markdown",
      "source": [
        "**과제2**"
      ],
      "metadata": {
        "id": "k8VmNQlEtXpJ"
      }
    },
    {
      "cell_type": "code",
      "source": [
        "import turtle\n",
        "\n",
        "turtle_list = []\n",
        "n = 4\n",
        "distance = [50,100,50,50];\n",
        "\n",
        "for i in range(n):\n",
        "    t1 = turtle.Turtle()\n",
        "    t1.shape('turtle')\n",
        "    turtle_list.append(t1)\n",
        "    \n",
        "for i in range(n):\n",
        "    turtle_list[i].left(i * 90);\n",
        "\n",
        "size=1;\n",
        "for t1 in turtle_list:   \n",
        "    for dist in range(4):\n",
        "        t1.fd(size*50)\n",
        "        t1.left(90)\n",
        "    size+=1\n",
        "turtle.exitonclick() \n",
        "turtle.bye()"
      ],
      "metadata": {
        "id": "wIgxYlu9tZw4"
      },
      "execution_count": null,
      "outputs": []
    },
    {
      "cell_type": "markdown",
      "source": [
        "**과제3**"
      ],
      "metadata": {
        "id": "4bUWiVKZvoQf"
      }
    },
    {
      "cell_type": "markdown",
      "source": [
        "https://programmers.co.kr/learn/courses/11133/lessons/71166"
      ],
      "metadata": {
        "id": "j_OhBQEyxYng"
      }
    }
  ]
}