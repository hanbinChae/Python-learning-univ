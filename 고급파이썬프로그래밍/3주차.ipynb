{
  "nbformat": 4,
  "nbformat_minor": 0,
  "metadata": {
    "colab": {
      "name": "3주차.ipynb",
      "provenance": [],
      "collapsed_sections": [],
      "authorship_tag": "ABX9TyNsTrAgx46RmfecXKURUOkS",
      "include_colab_link": true
    },
    "kernelspec": {
      "name": "python3",
      "display_name": "Python 3"
    },
    "language_info": {
      "name": "python"
    }
  },
  "cells": [
    {
      "cell_type": "markdown",
      "metadata": {
        "id": "view-in-github",
        "colab_type": "text"
      },
      "source": [
        "<a href=\"https://colab.research.google.com/github/hanbinChae/python-learning-univ/blob/main/3%EC%A3%BC%EC%B0%A8.ipynb\" target=\"_parent\"><img src=\"https://colab.research.google.com/assets/colab-badge.svg\" alt=\"Open In Colab\"/></a>"
      ]
    },
    {
      "cell_type": "markdown",
      "source": [
        "사각형 안에 사각형 찍기"
      ],
      "metadata": {
        "id": "C1L_rfM4Y3Li"
      }
    },
    {
      "cell_type": "code",
      "execution_count": null,
      "metadata": {
        "id": "IkwUE2e8YzE7"
      },
      "outputs": [],
      "source": [
        "import turtle\n",
        "t = turtle.Turtle()\n",
        "t.shape('turtle')\n",
        "\n",
        "#%%\n",
        "size = 100\n",
        "angle = 90\n",
        "t.color(\"blue\")\n",
        "t.forward(size)\n",
        "t.left(angle)\n",
        "#%%\n",
        "size=50\n",
        "angle=90\n",
        "t.color(\"orange\")\n",
        "t.forward(size)\n",
        "t.left(angle)"
      ]
    },
    {
      "cell_type": "markdown",
      "source": [
        "거리 입력받아서 출력"
      ],
      "metadata": {
        "id": "jRl4_ej-cJJB"
      }
    },
    {
      "cell_type": "code",
      "source": [
        "size = int(input('처음 이동할 거리를 입력하시오 : '))\n",
        "size2 = int(input('다음 이동할 거리를 입력하시오 : '))\n",
        "size3 = int(input('마지막으로 이동할 거리를 입력하시오 : '))\n",
        "\n",
        "import turtle\n",
        "t = turtle.Turtle()\n",
        "t.shape('turtle')\n",
        "\n",
        "t.color('blue')\n",
        "t.forward(size)\n",
        "t.color('red')\n",
        "t.forward(size2)\n",
        "t.color('green')\n",
        "t.forward(size3)"
      ],
      "metadata": {
        "id": "RT0-San7cIl7"
      },
      "execution_count": null,
      "outputs": []
    },
    {
      "cell_type": "markdown",
      "source": [
        "연산자"
      ],
      "metadata": {
        "id": "DcvpMMgHf_Ki"
      }
    },
    {
      "cell_type": "code",
      "source": [
        "p_str = int(input('나누어지는 수를 입력하시오 : '))\n",
        "q_str = int(input('나누는 수를 입력하시오 : '))\n"
      ],
      "metadata": {
        "id": "S3m-p96XgUWq"
      },
      "execution_count": null,
      "outputs": []
    },
    {
      "cell_type": "markdown",
      "source": [
        "초 입력받아서 시간 출력"
      ],
      "metadata": {
        "id": "eMn_-lrPf3Dr"
      }
    },
    {
      "cell_type": "code",
      "source": [
        "time = int(input('전체 초를 입력하시오 : '))\n",
        "print(time//60,'분,',time%60,'초')"
      ],
      "metadata": {
        "colab": {
          "base_uri": "https://localhost:8080/"
        },
        "id": "rTmy-aDYf6WI",
        "outputId": "084bd2c5-49a8-4f2a-fea6-9418011054c6"
      },
      "execution_count": null,
      "outputs": [
        {
          "output_type": "stream",
          "name": "stdout",
          "text": [
            "전체 초를 입력하시오 : 1000\n",
            "16 분, 40 초\n"
          ]
        }
      ]
    },
    {
      "cell_type": "markdown",
      "source": [
        "평균 입력받기"
      ],
      "metadata": {
        "id": "QO0xXW60mEui"
      }
    },
    {
      "cell_type": "code",
      "source": [
        "x,y,z = map(int,input('숫자 차례로 입력 :\\n').split())\n",
        "print((x+y+z)//3)"
      ],
      "metadata": {
        "colab": {
          "base_uri": "https://localhost:8080/"
        },
        "id": "sVK1mJWcmGkp",
        "outputId": "4858ca57-4886-4216-a644-36a675c1cae5"
      },
      "execution_count": null,
      "outputs": [
        {
          "output_type": "stream",
          "name": "stdout",
          "text": [
            "숫자 차례로 입력 :\n",
            "50 60 70\n",
            "60\n"
          ]
        }
      ]
    },
    {
      "cell_type": "markdown",
      "source": [
        "거스름돈/동전 개수 출력"
      ],
      "metadata": {
        "id": "KJ3Y8eIHiAYB"
      }
    },
    {
      "cell_type": "code",
      "source": [
        "money = int(input('투입한 돈 : '))\n",
        "price = int(input('물건의 가격 : '))\n",
        "result = money-price\n",
        "print('거스름돈 :',result)\n",
        "print('500원 동전의 개수 :',result//500)\n",
        "print('100원 동전의 개수 :',(result%500)//100)"
      ],
      "metadata": {
        "colab": {
          "base_uri": "https://localhost:8080/"
        },
        "id": "mTs8LK0_iEAx",
        "outputId": "e023eff9-9cbb-4c76-d62a-935d84ce72a5"
      },
      "execution_count": null,
      "outputs": [
        {
          "output_type": "stream",
          "name": "stdout",
          "text": [
            "투입한 돈 : 3000\n",
            "물건의 가격 : 1400\n",
            "거스름돈 : 1600\n",
            "500원 동전의 개수 : 3\n",
            "100원 동전의 개수 : 1\n"
          ]
        }
      ]
    },
    {
      "cell_type": "markdown",
      "source": [
        "두 점 사이의 거리 계산"
      ],
      "metadata": {
        "id": "IZ-Tw1xfj28j"
      }
    },
    {
      "cell_type": "code",
      "source": [
        "x = int(input('가로 : '))\n",
        "y = int(input('세로 : '))\n",
        "\n",
        "distance = ((x**2)+(y**2))**0.5\n",
        "print('원점에서의 거리(계산):',distance)\n",
        "\n",
        "#%%\n",
        "import turtle\n",
        "t = turtle.Turtle()\n",
        "t.shape('turtle')\n",
        "t.color('blue')\n",
        "\n",
        "angle = 90\n",
        "\n",
        "t.forward(x)\n",
        "t.left(angle)\n",
        "t.forward(y)\n",
        "\n",
        "print('거북이 위치:',t.pos())\n",
        "print('원점까지의 거리(거북이):',t.distance(0,0))"
      ],
      "metadata": {
        "id": "80VKCf1Tj464"
      },
      "execution_count": null,
      "outputs": []
    }
  ]
}