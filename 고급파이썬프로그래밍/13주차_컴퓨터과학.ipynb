{
  "nbformat": 4,
  "nbformat_minor": 0,
  "metadata": {
    "colab": {
      "name": "13주차_컴퓨터과학.ipynb",
      "provenance": [],
      "collapsed_sections": [],
      "authorship_tag": "ABX9TyOtTmli2Yv6n+SeHqpTkVt/",
      "include_colab_link": true
    },
    "kernelspec": {
      "name": "python3",
      "display_name": "Python 3"
    },
    "language_info": {
      "name": "python"
    }
  },
  "cells": [
    {
      "cell_type": "markdown",
      "metadata": {
        "id": "view-in-github",
        "colab_type": "text"
      },
      "source": [
        "<a href=\"https://colab.research.google.com/github/hanbinChae/python-learning-univ/blob/main/13%EC%A3%BC%EC%B0%A8_%EC%BB%B4%ED%93%A8%ED%84%B0%EA%B3%BC%ED%95%99.ipynb\" target=\"_parent\"><img src=\"https://colab.research.google.com/assets/colab-badge.svg\" alt=\"Open In Colab\"/></a>"
      ]
    },
    {
      "cell_type": "code",
      "execution_count": null,
      "metadata": {
        "colab": {
          "base_uri": "https://localhost:8080/"
        },
        "id": "ahjMsu-fJuG0",
        "outputId": "ff8ce1ba-a6fd-4cfc-e16a-eabc5a357c87"
      },
      "outputs": [
        {
          "output_type": "stream",
          "name": "stdout",
          "text": [
            "10\n",
            "20\n",
            "30\n"
          ]
        }
      ],
      "source": [
        "queue = []\n",
        "def isEmpty():\n",
        "  return len(queue) == 0\n",
        "\n",
        "def enqueue(item): #큐 삽입연산\n",
        "  queue.append(item)\n",
        "\n",
        "def dequeue(): #큐 삭제연산\n",
        "  if not isEmpty():\n",
        "    return queue.pop(0)\n",
        "\n",
        "enqueue(10)\n",
        "enqueue(20)\n",
        "enqueue(30)\n",
        "\n",
        "print(dequeue())\n",
        "print(dequeue())\n",
        "print(dequeue())"
      ]
    },
    {
      "cell_type": "code",
      "source": [
        ""
      ],
      "metadata": {
        "colab": {
          "base_uri": "https://localhost:8080/"
        },
        "id": "HIPtzt0DLeZA",
        "outputId": "8d59ac62-f096-4f56-fbaa-50fe3f5bae3e"
      },
      "execution_count": null,
      "outputs": [
        {
          "output_type": "stream",
          "name": "stdout",
          "text": [
            "Hello World!\n"
          ]
        }
      ]
    }
  ]
}