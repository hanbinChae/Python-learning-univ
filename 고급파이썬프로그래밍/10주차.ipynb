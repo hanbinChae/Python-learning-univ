{
  "nbformat": 4,
  "nbformat_minor": 0,
  "metadata": {
    "colab": {
      "name": "10주차.ipynb",
      "provenance": [],
      "collapsed_sections": [],
      "authorship_tag": "ABX9TyPHw5vrEo626bp54ODs8RqG",
      "include_colab_link": true
    },
    "kernelspec": {
      "name": "python3",
      "display_name": "Python 3"
    },
    "language_info": {
      "name": "python"
    }
  },
  "cells": [
    {
      "cell_type": "markdown",
      "metadata": {
        "id": "view-in-github",
        "colab_type": "text"
      },
      "source": [
        "<a href=\"https://colab.research.google.com/github/hanbinChae/python-learning-univ/blob/main/10%EC%A3%BC%EC%B0%A8.ipynb\" target=\"_parent\"><img src=\"https://colab.research.google.com/assets/colab-badge.svg\" alt=\"Open In Colab\"/></a>"
      ]
    },
    {
      "cell_type": "markdown",
      "source": [
        "1차원 배열"
      ],
      "metadata": {
        "id": "fhZgCk87kOSW"
      }
    },
    {
      "cell_type": "code",
      "execution_count": null,
      "metadata": {
        "id": "FJZoVM9sjiTZ"
      },
      "outputs": [],
      "source": [
        "num = [10,20,30,40,50,60]\n",
        "print(num)"
      ]
    },
    {
      "cell_type": "markdown",
      "source": [
        "2차원 배열"
      ],
      "metadata": {
        "id": "1ZEvdS0nkQa9"
      }
    },
    {
      "cell_type": "code",
      "source": [
        "num = [[10,20,30],[40,50,60]]\n",
        "print(num)"
      ],
      "metadata": {
        "id": "jgUI_nzNkN6f"
      },
      "execution_count": null,
      "outputs": []
    },
    {
      "cell_type": "markdown",
      "source": [
        "2차원 리스트"
      ],
      "metadata": {
        "id": "2viE-lFJkZL9"
      }
    },
    {
      "cell_type": "code",
      "source": [
        "num = [\n",
        "       [10,20,30],\n",
        "       [40,50,60]\n",
        "       ]\n",
        "       \n",
        "print(num[0][0])\n",
        "print(num[0][1])\n",
        "print(num[0][2])\n",
        "print(num[1][0])\n",
        "print(num[1][1])\n",
        "print(num[1][2])\n",
        "\n",
        "num[1][2] = 100\n",
        "print(num)"
      ],
      "metadata": {
        "colab": {
          "base_uri": "https://localhost:8080/"
        },
        "id": "8s6Z7ByGmzqN",
        "outputId": "1216b1a6-6a07-4cbf-dca9-f46334c909d3"
      },
      "execution_count": null,
      "outputs": [
        {
          "output_type": "stream",
          "name": "stdout",
          "text": [
            "10\n",
            "20\n",
            "30\n",
            "40\n",
            "50\n",
            "60\n",
            "[[10, 20, 30], [40, 50, 100]]\n"
          ]
        }
      ]
    },
    {
      "cell_type": "markdown",
      "source": [
        "2차원 배열 활용하여 거북이 생성"
      ],
      "metadata": {
        "id": "T_y3j_1vmvi1"
      }
    },
    {
      "cell_type": "code",
      "source": [
        "import turtle\n",
        "\n",
        "pos_list = [[100,100],\n",
        "            [100,-100],\n",
        "            [-100,100],\n",
        "            [-100,-100]\n",
        "            ]\n",
        "\n",
        "for pos_each in pos_list:\n",
        "    t = turtle.Turtle()\n",
        "    t.shape(\"turtle\")\n",
        "    t.goto(pos_each[0],pos_each[1])\n",
        "\n",
        "turtle.exitonclick()\n",
        "turtle.bye()"
      ],
      "metadata": {
        "id": "aEb86I2Tm3xl"
      },
      "execution_count": null,
      "outputs": []
    },
    {
      "cell_type": "markdown",
      "source": [
        "화살표 그리기\n"
      ],
      "metadata": {
        "id": "pJIIiH65m4y9"
      }
    },
    {
      "cell_type": "code",
      "source": [
        "import turtle\n",
        "\n",
        "t = turtle.Turtle()\n",
        "t.shape(\"turtle\")\n",
        "\n",
        "pos_list = [[0,0],\n",
        "            [0,0],\n",
        "            [0,0]]\n",
        "\n",
        "vel_list = [[2,0],\n",
        "            [0,2],\n",
        "            [2,2]]\n",
        "\n",
        "t_list = []\n",
        "\n",
        "for i in range(len(pos_list)):\n",
        "    t = turtle.Turtle()\n",
        "    t.shape(\"turtle\")\n",
        "    t_list.append(t)\n",
        "\n",
        "for i in range(100):\n",
        "    for i in range(len(pos_list)):\n",
        "        pos_list[i][0] = pos_list[i][0] + vel_list[i][0]\n",
        "        pos_list[i][1] = pos_list[i][1] + vel_list[i][1]\n",
        "        \n",
        "        t_list[i].goto(pos_list[i][0], pos_list[i][1])\n",
        "\n",
        "turtle.exitonclick()\n",
        "turtle.bye()\n",
        "        "
      ],
      "metadata": {
        "id": "q2RoHve_2mv1"
      },
      "execution_count": null,
      "outputs": []
    },
    {
      "cell_type": "markdown",
      "source": [
        "outline 함수 정의"
      ],
      "metadata": {
        "id": "kLqmb0rZ2nO8"
      }
    },
    {
      "cell_type": "code",
      "source": [
        "import turtle\n",
        "\n",
        "tline = turtle.Turtle()\n",
        "\n",
        "SCREEN_WIDTH = 400\n",
        "SCREEN_HEIGHT = 300\n",
        "\n",
        "def outline():\n",
        "    \n",
        "    \n",
        "    tline.up()\n",
        "    tline.goto(SCREEN_WIDTH/2, SCREEN_HEIGHT/2)\n",
        "    tline.down()\n",
        "    \n",
        "    tline.goto(SCREEN_WIDTH/2, -SCREEN_HEIGHT/2)\n",
        "    tline.goto(-SCREEN_WIDTH/2, -SCREEN_HEIGHT/2)\n",
        "    \n",
        "    tline.goto(-SCREEN_WIDTH/2, SCREEN_HEIGHT/2)\n",
        "    tline.goto(SCREEN_WIDTH/2, SCREEN_HEIGHT/2)\n",
        "    \n",
        "outline()\n",
        "       \n",
        "turtle.exitonclick()\n",
        "turtle.bye()"
      ],
      "metadata": {
        "id": "QdRxitEG334r"
      },
      "execution_count": null,
      "outputs": []
    },
    {
      "cell_type": "markdown",
      "source": [
        "이미지 픽셀 검은색으로 변경"
      ],
      "metadata": {
        "id": "sRyzLW-5_CA7"
      }
    },
    {
      "cell_type": "code",
      "source": [
        "from PIL import Image\n",
        "\n",
        "image = Image.open(\"pet02.gif\")\n",
        "photo = image.convert(\"RGB\")\n",
        "\n",
        "photoArr = []\n",
        "h = photo.height\n",
        "w = photo.width\n",
        "\n",
        "for i in range(h):\n",
        "    for k in range(w):\n",
        "        r,g,b = photo.getpixel((i,k))\n",
        "        value = (r+g+b) //3\n",
        "        photoArr.append(value)\n",
        "\n",
        "#to do 5줄\n",
        "dataArr = photoArr[:]\n",
        "dataArr.sort()\n",
        "midValue = dataArr[h*w//2]\n",
        "\n",
        "\n",
        "for i in range(len(photoArr)):\n",
        "    if photoArr[i] <= midValue:\n",
        "        photoArr[i] = 0\n",
        "    else:\n",
        "        photoArr[i]=255\n",
        "        \n",
        "pos = 0\n",
        "px = photo.load()\n",
        "for i in range(h):\n",
        "    for k in range(w):\n",
        "        r = g = b = photoArr[pos]\n",
        "        pos +=1\n",
        "        px[i,k] = (r,g,b)\n",
        "\n",
        "photo.show()"
      ],
      "metadata": {
        "id": "8NmHDNjG_E0a"
      },
      "execution_count": null,
      "outputs": []
    },
    {
      "cell_type": "markdown",
      "source": [
        "[과제1] 고양이 사진 선명하게 바꾸기"
      ],
      "metadata": {
        "id": "NZczFI3E_Gxa"
      }
    },
    {
      "cell_type": "code",
      "source": [
        "from PIL import Image\n",
        "\n",
        "image = Image.open(\"pet02.gif\")\n",
        "photo = image.convert(\"RGB\")\n",
        "\n",
        "photoArr = []\n",
        "h = photo.height\n",
        "w = photo.width\n",
        "\n",
        "for i in range(h):\n",
        "    for k in range(w):\n",
        "        r,g,b = photo.getpixel((i,k))\n",
        "        value = (r+g+b) //3\n",
        "        photoArr.append(value)\n",
        "\n",
        "#to do 5줄\n",
        "dataArr = photoArr[:]\n",
        "dataArr.sort()\n",
        "midValue = dataArr[h*w//4]\n",
        "midValue1 = dataArr[h*w//4*2]\n",
        "midValue2 = dataArr[h*w//4*3]\n",
        "\n",
        "\n",
        "for i in range(len(photoArr)):\n",
        "    if photoArr[i] <= midValue:\n",
        "        photoArr[i] = 0\n",
        "    elif photoArr[i] <= midValue1:\n",
        "        photoArr[i] = 85\n",
        "    elif photoArr[i] <= midValue2:\n",
        "        photoArr[i] = 170\n",
        "    else:\n",
        "        photoArr[i] = 255\n",
        "        \n",
        "pos = 0\n",
        "px = photo.load()\n",
        "for i in range(h):\n",
        "    for k in range(w):\n",
        "        r = g = b = photoArr[pos]\n",
        "        pos +=1\n",
        "        px[i,k] = (r,g,b)\n",
        "\n",
        "photo.show()"
      ],
      "metadata": {
        "id": "49FUE9GX_GF6"
      },
      "execution_count": null,
      "outputs": []
    }
  ]
}