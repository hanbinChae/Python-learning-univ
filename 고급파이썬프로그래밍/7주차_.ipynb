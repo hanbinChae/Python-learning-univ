{
  "nbformat": 4,
  "nbformat_minor": 0,
  "metadata": {
    "colab": {
      "name": "7주차 .ipynb",
      "provenance": [],
      "collapsed_sections": [],
      "authorship_tag": "ABX9TyO7dbQnMacfAYZgeeGdOyVK",
      "include_colab_link": true
    },
    "kernelspec": {
      "name": "python3",
      "display_name": "Python 3"
    },
    "language_info": {
      "name": "python"
    }
  },
  "cells": [
    {
      "cell_type": "markdown",
      "metadata": {
        "id": "view-in-github",
        "colab_type": "text"
      },
      "source": [
        "<a href=\"https://colab.research.google.com/github/hanbinChae/python-learning-univ/blob/main/7%EC%A3%BC%EC%B0%A8_.ipynb\" target=\"_parent\"><img src=\"https://colab.research.google.com/assets/colab-badge.svg\" alt=\"Open In Colab\"/></a>"
      ]
    },
    {
      "cell_type": "markdown",
      "source": [
        "리스트"
      ],
      "metadata": {
        "id": "BAb6EwA3VVOd"
      }
    },
    {
      "cell_type": "code",
      "execution_count": 1,
      "metadata": {
        "colab": {
          "base_uri": "https://localhost:8080/"
        },
        "id": "z1dAa1e-VF5-",
        "outputId": "3384ce87-7379-4b14-a461-2a760fae13eb"
      },
      "outputs": [
        {
          "output_type": "stream",
          "name": "stdout",
          "text": [
            "['영어', '수학', '시회', '과학']\n"
          ]
        }
      ],
      "source": [
        "slist = ['영어','수학','시회','과학']\n",
        "print(slist)"
      ]
    },
    {
      "cell_type": "markdown",
      "source": [
        "리스트 요소 접근 및 변경"
      ],
      "metadata": {
        "id": "kkg89nJIVXIM"
      }
    },
    {
      "cell_type": "code",
      "source": [
        "slist[2] = '윤리'\n",
        "\n",
        "print(slist)"
      ],
      "metadata": {
        "colab": {
          "base_uri": "https://localhost:8080/"
        },
        "id": "B6StFt2oVUel",
        "outputId": "d22df18c-a687-43ff-f3e2-410a97b532d1"
      },
      "execution_count": 2,
      "outputs": [
        {
          "output_type": "stream",
          "name": "stdout",
          "text": [
            "['영어', '수학', '윤리', '과학']\n"
          ]
        }
      ]
    },
    {
      "cell_type": "markdown",
      "source": [
        "Random 예제 2"
      ],
      "metadata": {
        "id": "aS13SVxNVhGk"
      }
    },
    {
      "cell_type": "code",
      "source": [
        "import random\n",
        "num1=0\n",
        "num2=0\n",
        "num3=0\n",
        "num4=0\n",
        "num5=0\n",
        "\n",
        "for i in range(100):\n",
        "  num_int = random.randint(1,5)\n",
        "  if (num_int == 1):\n",
        "    num1+=1\n",
        "  if (num_int == 2):\n",
        "    num2+=1\n",
        "  if (num_int == 3):\n",
        "    num3+=1\n",
        "  if (num_int == 4):\n",
        "    num4+=1\n",
        "  if (num_int == 5):\n",
        "    num5+=1\n",
        "  \n",
        "print(num1 ,num2, num3, num4, num5)"
      ],
      "metadata": {
        "colab": {
          "base_uri": "https://localhost:8080/"
        },
        "id": "H0Wi_cdcVgjb",
        "outputId": "cdfb2d94-6a7e-46b1-8ca1-b46d1764071d"
      },
      "execution_count": 20,
      "outputs": [
        {
          "output_type": "stream",
          "name": "stdout",
          "text": [
            "23 25 15 20 17\n"
          ]
        }
      ]
    },
    {
      "cell_type": "code",
      "source": [
        "import random\n",
        "\n",
        "num_list = [0,0,0,0,0]\n",
        "\n",
        "for i in range(100):\n",
        "  num_int = random.randint(1,5)\n",
        "  num_list[num_int-1] = num_list[num_int-1] + 1\n",
        "  \n",
        "print(num_list)"
      ],
      "metadata": {
        "colab": {
          "base_uri": "https://localhost:8080/"
        },
        "id": "OC6-KfVqWqC9",
        "outputId": "a84793bc-dc7c-4389-83db-77d1207369b5"
      },
      "execution_count": 24,
      "outputs": [
        {
          "output_type": "stream",
          "name": "stdout",
          "text": [
            "[25, 20, 17, 17, 21]\n"
          ]
        }
      ]
    },
    {
      "cell_type": "markdown",
      "source": [
        "0~9 까지의 난수 빈도 저장"
      ],
      "metadata": {
        "id": "jzIk1P2na-I0"
      }
    },
    {
      "cell_type": "code",
      "source": [
        "num_list = [0,0,0,0,0,0,0,0,0,0]\n",
        "\n",
        "for i in range(100):\n",
        "  num_int = random.randint(0,9)\n",
        "  num_list[num_int] +=1\n",
        "\n",
        "print(num_list)"
      ],
      "metadata": {
        "colab": {
          "base_uri": "https://localhost:8080/"
        },
        "id": "SAL5nd64XUGi",
        "outputId": "a8f4e356-c70c-4a2b-b467-1cd3b30892d8"
      },
      "execution_count": 29,
      "outputs": [
        {
          "output_type": "stream",
          "name": "stdout",
          "text": [
            "[8, 10, 6, 15, 11, 15, 10, 9, 6, 10]\n"
          ]
        }
      ]
    },
    {
      "cell_type": "markdown",
      "source": [
        "리스트 실습1"
      ],
      "metadata": {
        "id": "Z2iRvRfObDXz"
      }
    },
    {
      "cell_type": "code",
      "source": [
        "import turtle\n",
        "\n",
        "\n",
        "result = 0\n",
        "input_list = []\n",
        "\n",
        "while True:\n",
        "    t = int(turtle.textinput(\"누적\", \"1~10, 0:종료\"))\n",
        "    input_list.append(t)\n",
        "    if t==0:  \n",
        "        break;\n",
        "    else:\n",
        "        result+=t\n",
        "        print(result)\n",
        "        \n",
        "\n",
        "print(input_list)\n",
        "turtle.bye()"
      ],
      "metadata": {
        "id": "NrgWf052YXxd"
      },
      "execution_count": null,
      "outputs": []
    },
    {
      "cell_type": "markdown",
      "source": [
        "함수 정의"
      ],
      "metadata": {
        "id": "ZqV0LEBabRQj"
      }
    },
    {
      "cell_type": "code",
      "source": [
        "def print_address():\n",
        "  print('서울시 종로구 1번지')\n",
        "  print('파이썬 빌딩 7층')\n",
        "  print('홍길동')\n",
        "\n",
        "print_address()"
      ],
      "metadata": {
        "colab": {
          "base_uri": "https://localhost:8080/"
        },
        "id": "5NGMItB7bF4j",
        "outputId": "772aafe5-64b5-4f8d-fb4f-e7ecafaaefc2"
      },
      "execution_count": 31,
      "outputs": [
        {
          "output_type": "stream",
          "name": "stdout",
          "text": [
            "서울시 종로구 1번지\n",
            "파이썬 빌딩 7층\n",
            "홍길동\n"
          ]
        }
      ]
    },
    {
      "cell_type": "markdown",
      "source": [
        "함수 인수 입력받기"
      ],
      "metadata": {
        "id": "5eJoQu5DbcS8"
      }
    },
    {
      "cell_type": "code",
      "source": [
        "def print_address(name):\n",
        "  print('서울시 종로구 1번지')\n",
        "  print('파이썬 빌딩 7층')\n",
        "  print(name)\n",
        "\n",
        "print_address('채한빈')\n"
      ],
      "metadata": {
        "colab": {
          "base_uri": "https://localhost:8080/"
        },
        "id": "QNjMynFVbTwq",
        "outputId": "68326ca8-dd82-4433-d917-cc3321eed4a5"
      },
      "execution_count": 34,
      "outputs": [
        {
          "output_type": "stream",
          "name": "stdout",
          "text": [
            "서울시 종로구 1번지\n",
            "파이썬 빌딩 7층\n",
            "채한빈\n"
          ]
        }
      ]
    },
    {
      "cell_type": "markdown",
      "source": [
        "2개 이상의 인수 전달"
      ],
      "metadata": {
        "id": "_HVYbsuJbrmr"
      }
    },
    {
      "cell_type": "code",
      "source": [
        "def get_sum(start,end):\n",
        "  sum=0\n",
        "  for i in range(start,end+1):\n",
        "    sum+=i\n",
        "  print('sum =',sum)\n",
        "\n",
        "get_sum(1,10)\n",
        "get_sum(1,20)"
      ],
      "metadata": {
        "colab": {
          "base_uri": "https://localhost:8080/"
        },
        "id": "t8_i7XZbbq07",
        "outputId": "885de478-3b2c-4a4d-9b87-ba1a36ac7a2b"
      },
      "execution_count": 35,
      "outputs": [
        {
          "output_type": "stream",
          "name": "stdout",
          "text": [
            "sum = 55\n",
            "sum = 210\n"
          ]
        }
      ]
    },
    {
      "cell_type": "markdown",
      "source": [
        "기본 매개변수"
      ],
      "metadata": {
        "id": "gX1eFoPVb_Ii"
      }
    },
    {
      "cell_type": "code",
      "source": [
        "def get_sum(start,end=10):\n",
        "  sum=0\n",
        "  for i in range(start,end+1):\n",
        "    sum+=i\n",
        "  print('sum =',sum)\n",
        "\n",
        "get_sum(1)\n",
        "get_sum(1,20)"
      ],
      "metadata": {
        "id": "JsKTcPklcLty"
      },
      "execution_count": null,
      "outputs": []
    },
    {
      "cell_type": "markdown",
      "source": [
        "return 사용"
      ],
      "metadata": {
        "id": "YkvyDfTxb8qD"
      }
    },
    {
      "cell_type": "code",
      "source": [
        "def rectangular(x,y):\n",
        "  area = x*y\n",
        "  return area\n",
        "\n",
        "area_a = rectangular(3,4)\n",
        "area_b = rectangular(5,6)\n",
        "\n",
        "print(area_a)\n",
        "print(area_b)\n",
        "\n",
        "area_sum = rectangular(3,4) + rectangular(5,6)\n",
        "print(area_sum)"
      ],
      "metadata": {
        "colab": {
          "base_uri": "https://localhost:8080/"
        },
        "id": "t3o5q3aUcFly",
        "outputId": "e6cdc723-4320-4124-a964-e450709ae477"
      },
      "execution_count": 39,
      "outputs": [
        {
          "output_type": "stream",
          "name": "stdout",
          "text": [
            "12\n",
            "30\n",
            "42\n"
          ]
        }
      ]
    },
    {
      "cell_type": "markdown",
      "source": [
        "복수 개의 반환 값"
      ],
      "metadata": {
        "id": "9ZlD7V4rctfJ"
      }
    },
    {
      "cell_type": "code",
      "source": [
        "def get_size():\n",
        "  return 3,4\n",
        "\n",
        "x,y = get_size()\n",
        "print(x,\",\",y)"
      ],
      "metadata": {
        "colab": {
          "base_uri": "https://localhost:8080/"
        },
        "id": "TpyUzob9c_wM",
        "outputId": "7071c480-9cbe-4cef-a37d-e634b931ea4b"
      },
      "execution_count": 40,
      "outputs": [
        {
          "output_type": "stream",
          "name": "stdout",
          "text": [
            "3 , 4\n"
          ]
        }
      ]
    },
    {
      "cell_type": "markdown",
      "source": [
        "반환 값이 없는 return 사용"
      ],
      "metadata": {
        "id": "ZNL6UX10dU6S"
      }
    },
    {
      "cell_type": "code",
      "source": [
        "def odd_even(num):\n",
        "  if num%2==0:\n",
        "    print('짝수')\n",
        "    return\n",
        "  print('홀수')\n",
        "\n",
        "odd_even(6)"
      ],
      "metadata": {
        "colab": {
          "base_uri": "https://localhost:8080/"
        },
        "id": "qG6wYrRvdXu6",
        "outputId": "bd56d121-35f7-4fdb-f692-fbbed4f824b5"
      },
      "execution_count": 43,
      "outputs": [
        {
          "output_type": "stream",
          "name": "stdout",
          "text": [
            "짝수\n"
          ]
        }
      ]
    },
    {
      "cell_type": "markdown",
      "source": [
        "함수 인수 예제"
      ],
      "metadata": {
        "id": "EJObfUbxdmUC"
      }
    },
    {
      "cell_type": "code",
      "source": [
        "import turtle\n",
        "t = turtle.Turtle()\n",
        "t.shape('turtle')\n",
        "\n",
        "def square(length):\n",
        "    for i in range(4):\n",
        "        t.fd(length)\n",
        "        t.left(90)\n",
        "\n",
        "square(100)\n",
        "t.up()\n",
        "t.goto(200,0)\n",
        "t.down()\n",
        "square(200)\n",
        "\n",
        "turtle.exitonclick()\n",
        "turtle.bye()"
      ],
      "metadata": {
        "id": "WHP86jURdn86"
      },
      "execution_count": null,
      "outputs": []
    },
    {
      "cell_type": "markdown",
      "source": [
        "함수 인수 실습"
      ],
      "metadata": {
        "id": "sXzZ0JqKeUCy"
      }
    },
    {
      "cell_type": "code",
      "source": [
        "import turtle\n",
        "t = turtle.Turtle()\n",
        "t.shape('turtle')\n",
        "\n",
        "def square(x,y,length):\n",
        "    t.up()\n",
        "    t.goto(x,y)\n",
        "    t.down()\n",
        "    for i in range(4):\n",
        "        t.fd(length)\n",
        "        t.left(90)\n",
        "\n",
        "square(0, 100, 50)\n",
        "square(100, 50, 100)\n",
        "square(-100, -100, 150)\n",
        "\n",
        "turtle.exitonclick()\n",
        "turtle.bye()"
      ],
      "metadata": {
        "id": "2USSftkIeTgB"
      },
      "execution_count": null,
      "outputs": []
    },
    {
      "cell_type": "markdown",
      "source": [
        "전역 변수"
      ],
      "metadata": {
        "id": "W-ypCrSteyZi"
      }
    },
    {
      "cell_type": "code",
      "source": [
        "def rectangular_area():\n",
        "  result = x*y\n",
        "  return result\n",
        "\n",
        "x=3\n",
        "y=4\n",
        "area = rectangular_area()\n",
        "print(area)"
      ],
      "metadata": {
        "colab": {
          "base_uri": "https://localhost:8080/"
        },
        "id": "yq9J-qn7ezoJ",
        "outputId": "7b6b0284-bce1-4d24-c856-6475408d94d0"
      },
      "execution_count": 44,
      "outputs": [
        {
          "output_type": "stream",
          "name": "stdout",
          "text": [
            "12\n"
          ]
        }
      ]
    },
    {
      "cell_type": "markdown",
      "source": [
        "전역 변수 활용 1"
      ],
      "metadata": {
        "id": "_5mUVopOe-va"
      }
    },
    {
      "cell_type": "code",
      "source": [
        "result = 0\n",
        "def rectangular_area():\n",
        "  global result \n",
        "  result = x*y\n",
        "\n",
        "x=3\n",
        "y=4\n",
        "rectangular_area()\n",
        "print(result)"
      ],
      "metadata": {
        "colab": {
          "base_uri": "https://localhost:8080/"
        },
        "id": "8lM6TE7mfaBC",
        "outputId": "c9284fd6-1e28-4517-a735-e954ca20f125"
      },
      "execution_count": 51,
      "outputs": [
        {
          "output_type": "stream",
          "name": "stdout",
          "text": [
            "12\n"
          ]
        }
      ]
    },
    {
      "cell_type": "markdown",
      "source": [
        "키워드 인수"
      ],
      "metadata": {
        "id": "jyDBY8mhfy8Y"
      }
    },
    {
      "cell_type": "code",
      "source": [
        "#위치 인수\n",
        "def calc(x,y):\n",
        "  return x-y\n",
        "\n",
        "print(calc(y=10,x=20))\n",
        "print(calc(20,10))"
      ],
      "metadata": {
        "colab": {
          "base_uri": "https://localhost:8080/"
        },
        "id": "Ihknnk0Yfzzo",
        "outputId": "7377aaf6-f413-468f-d304-2b7333dc478c"
      },
      "execution_count": 53,
      "outputs": [
        {
          "output_type": "stream",
          "name": "stdout",
          "text": [
            "10\n",
            "10\n"
          ]
        }
      ]
    },
    {
      "cell_type": "markdown",
      "source": [
        "BMI 계산기"
      ],
      "metadata": {
        "id": "sAz1L4o1gU_Z"
      }
    },
    {
      "cell_type": "code",
      "source": [
        "import turtle\n",
        "\n",
        "def bmi(weight,height):\n",
        "    height = height/100\n",
        "    result = weight/(height*height)\n",
        "    return result\n",
        "\n",
        "while True:\n",
        "    weight = float(turtle.textinput(\"BMI\", \"몸무게\"))\n",
        "    height = float(turtle.textinput(\"BMI\", \"키\"))\n",
        "    \n",
        "    if weight == 0:\n",
        "        break;\n",
        "        \n",
        "    bmi_value = bmi(weight, height)\n",
        "    #print(bmi_value)\n",
        "    \n",
        "    if bmi_value<18.5:\n",
        "        print('저체중')\n",
        "    elif bmi_value<22.9:\n",
        "        print('정상')\n",
        "    elif bmi_value<24.9:\n",
        "        print('과체중')\n",
        "    elif bmi_value<29.9:\n",
        "        print('경도비만')\n",
        "    else:\n",
        "        print('고도비만')\n",
        "\n",
        "turtle.bye()"
      ],
      "metadata": {
        "id": "3UP9a5EWgUHp"
      },
      "execution_count": null,
      "outputs": []
    },
    {
      "cell_type": "markdown",
      "source": [
        "환전 계산기"
      ],
      "metadata": {
        "id": "iip_DX6kiiwJ"
      }
    },
    {
      "cell_type": "code",
      "source": [
        "import turtle\n",
        "\n",
        "def change(cont,KRW):\n",
        "    if cont=='미국':\n",
        "        TBR = 1117.50\n",
        "    elif cont =='일본':\n",
        "        TBR = 1022.56\n",
        "    elif cont =='유럽연합':\n",
        "        TBR = 1343.24\n",
        "    else:\n",
        "        print('잘못된 국가 입력입니다.')\n",
        "        result = 0\n",
        "    result = KRW/TBR\n",
        "    return result\n",
        "\n",
        "while True:\n",
        "    money = float(turtle.textinput(\"환전계산기\", \"KRW\"))\n",
        "    country = turtle.textinput(\"환전계산기\", '국가')        \n",
        "    \n",
        "    if money == 0:\n",
        "        break;\n",
        "    change_value = change(country,money)\n",
        "    print(change_value)\n",
        "\n",
        "turtle.bye()\n",
        "    "
      ],
      "metadata": {
        "id": "VnwH_2nHikSY"
      },
      "execution_count": null,
      "outputs": []
    },
    {
      "cell_type": "markdown",
      "source": [
        "특정 요소 추출 함수 (LIST + 함수)\n"
      ],
      "metadata": {
        "id": "fFDQxxvalihQ"
      }
    },
    {
      "cell_type": "code",
      "source": [
        "bts = ['슈가',174,57,\n",
        "       '지민',173,58,\n",
        "       '제이홉',177,59,\n",
        "       '진',179,61,\n",
        "       '뷔',180,60,\n",
        "       '정국',178,65,\n",
        "       'RM',181,70]\n",
        "\n",
        "def BTS_sort(bts,x):\n",
        "  if x=='name':\n",
        "    name=[]\n",
        "    name_list = [0,3,6,9,12,15,18]\n",
        "    for i in name_list:\n",
        "      name.append(bts[i])\n",
        "    return name\n",
        "\n",
        "  elif x=='height':\n",
        "    height = []\n",
        "    for i in range(1,20,3):\n",
        "      height.append(bts[i])\n",
        "    return height\n",
        "\n",
        "  elif x=='weight':\n",
        "    weight = []\n",
        "    for i in range(2,21,3):\n",
        "      weight.append(bts[i])\n",
        "    return weight\n",
        "  else:\n",
        "    return;\n",
        "\n",
        "bts_name = BTS_sort(bts,'name')\n",
        "print('bts_name: ',bts_name)\n",
        "bts_height = BTS_sort(bts,'height')\n",
        "print('bts_height: ',bts_height)\n",
        "bts_weight = BTS_sort(bts,'weight')\n",
        "print('bts_weight: ',bts_weight)\n",
        "bts_age = BTS_sort(bts,'age')\n",
        "print('bts_age:',bts_age)"
      ],
      "metadata": {
        "colab": {
          "base_uri": "https://localhost:8080/"
        },
        "id": "PAWIu4aBlmIn",
        "outputId": "2989700b-9429-45d9-ac7c-cd6ec01eed8d"
      },
      "execution_count": 64,
      "outputs": [
        {
          "output_type": "stream",
          "name": "stdout",
          "text": [
            "bts_name:  ['슈가', '지민', '제이홉', '진', '뷔', '정국', 'RM']\n",
            "bts_height:  [174, 173, 177, 179, 180, 178, 181]\n",
            "bts_weight:  [57, 58, 59, 61, 60, 65, 70]\n",
            "bts_age: None\n"
          ]
        }
      ]
    }
  ]
}