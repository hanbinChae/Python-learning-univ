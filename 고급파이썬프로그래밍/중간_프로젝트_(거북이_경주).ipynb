{
  "nbformat": 4,
  "nbformat_minor": 0,
  "metadata": {
    "colab": {
      "name": "중간 프로젝트 (거북이 경주).ipynb",
      "provenance": [],
      "collapsed_sections": [],
      "authorship_tag": "ABX9TyOEFREpaRmquBXKIc7zU2Au",
      "include_colab_link": true
    },
    "kernelspec": {
      "name": "python3",
      "display_name": "Python 3"
    },
    "language_info": {
      "name": "python"
    }
  },
  "cells": [
    {
      "cell_type": "markdown",
      "metadata": {
        "id": "view-in-github",
        "colab_type": "text"
      },
      "source": [
        "<a href=\"https://colab.research.google.com/github/hanbinChae/python-learning-univ/blob/main/%EC%A4%91%EA%B0%84_%ED%94%84%EB%A1%9C%EC%A0%9D%ED%8A%B8_(%EA%B1%B0%EB%B6%81%EC%9D%B4_%EA%B2%BD%EC%A3%BC).ipynb\" target=\"_parent\"><img src=\"https://colab.research.google.com/assets/colab-badge.svg\" alt=\"Open In Colab\"/></a>"
      ]
    },
    {
      "cell_type": "code",
      "execution_count": null,
      "metadata": {
        "id": "2DgqpTmPZMAA"
      },
      "outputs": [],
      "source": [
        "#! pip install turtle\n",
        "import turtle\n",
        "import random\n",
        "\n",
        "t_pred = turtle.Turtle()\n",
        "t_pred.up()\n",
        "t_pred.goto(-100,320)\n",
        "\n",
        "t_result = turtle.Turtle()\n",
        "t_result.up()\n",
        "t_result.goto(0,0)\n",
        "t_result.shape('circle')\n",
        "\n",
        "t_blue = turtle.Turtle()\n",
        "t_blue.shape('turtle')\n",
        "t_blue.color('blue')\n",
        "t_blue.up()\n",
        "t_blue.goto(0,200)\n",
        "t_blue.down()\n",
        "\n",
        "t_red = turtle.Turtle()\n",
        "t_red.shape('turtle')\n",
        "t_red.color('red')\n",
        "t_red.up()\n",
        "t_red.goto(0,-200)\n",
        "t_red.down()\n",
        "\n",
        "while True:\n",
        "    predict = turtle.textinput(\"경주게임\",'파랑 or 빨강')\n",
        "    if predict =='파랑' or predict=='빨강':\n",
        "        break;\n",
        "    else:\n",
        "        continue;\n",
        "        \n",
        "t_pred.write('나의 예측 : '+predict,font=('굴림',20))\n",
        "\n",
        "t1 = t2 = 0\n",
        "tt1 = tt2 = 0\n",
        "result = ''\n",
        "while True:\n",
        "    t1 = random.randint(1,10)\n",
        "    t2 = random.randint(1,10)\n",
        "    \n",
        "    tt1+=t1\n",
        "    tt2+=t2\n",
        "    print('t1:',tt1,'vs t2:',tt2)\n",
        "    if tt1>=300 or tt2>=300:\n",
        "        print('끝')\n",
        "        if t1>=t2:\n",
        "            result = '파랑'\n",
        "            t_blue.write('승리',font=('굴림',20))\n",
        "            t_blue.right(360*3)\n",
        "        else:\n",
        "            result ='빨강'\n",
        "            t_red.write('승리',font=('굴림',20))\n",
        "            t_red.right(360*2)\n",
        "        break;\n",
        "    else:\n",
        "        t_blue.fd(t1)\n",
        "        t_red.fd(t2)\n",
        "\n",
        "if predict == result:\n",
        "    t_result.write('예측 성공',font=('굴림',20),align='center')\n",
        "else:\n",
        "    t_result.write('예측 실패',font=('굴림',20),align='center')\n",
        "\n",
        "turtle.exitonclick()\n",
        "turtle.bye()"
      ]
    }
  ]
}