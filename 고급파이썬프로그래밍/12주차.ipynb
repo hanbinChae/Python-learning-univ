{
  "nbformat": 4,
  "nbformat_minor": 0,
  "metadata": {
    "colab": {
      "name": "12주차.ipynb",
      "provenance": [],
      "collapsed_sections": [],
      "authorship_tag": "ABX9TyP1o03VU/WOIUYMEJ1EEucB",
      "include_colab_link": true
    },
    "kernelspec": {
      "name": "python3",
      "display_name": "Python 3"
    },
    "language_info": {
      "name": "python"
    }
  },
  "cells": [
    {
      "cell_type": "markdown",
      "metadata": {
        "id": "view-in-github",
        "colab_type": "text"
      },
      "source": [
        "<a href=\"https://colab.research.google.com/github/hanbinChae/python-learning-univ/blob/main/12%EC%A3%BC%EC%B0%A8.ipynb\" target=\"_parent\"><img src=\"https://colab.research.google.com/assets/colab-badge.svg\" alt=\"Open In Colab\"/></a>"
      ]
    },
    {
      "cell_type": "markdown",
      "source": [
        "pygame 패키지 설치 및 동작 확인"
      ],
      "metadata": {
        "id": "vpUsCHX4sDYp"
      }
    },
    {
      "cell_type": "code",
      "execution_count": null,
      "metadata": {
        "id": "OfBkfeOZsBI1"
      },
      "outputs": [],
      "source": [
        "import sys, pygame\n",
        "pygame.init()\n",
        "\n",
        "size = width, height = 320, 240\n",
        "speed = [2, 2]\n",
        "black = 0, 0, 0\n",
        "\n",
        "screen = pygame.display.set_mode(size)\n",
        "\n",
        "ball = pygame.image.load(\"intro_ball.gif\")\n",
        "ballrect = ball.get_rect()\n",
        "\n",
        "while 1:\n",
        "    for event in pygame.event.get():\n",
        "        if event.type == pygame.QUIT: sys.exit()\n",
        "\n",
        "    ballrect = ballrect.move(speed)\n",
        "    if ballrect.left < 0 or ballrect.right > width:\n",
        "        speed[0] = -speed[0]\n",
        "    if ballrect.top < 0 or ballrect.bottom > height:\n",
        "        speed[1] = -speed[1]\n",
        "\n",
        "    screen.fill(black)\n",
        "    screen.blit(ball, ballrect)\n",
        "    pygame.display.flip()"
      ]
    },
    {
      "cell_type": "markdown",
      "source": [
        "Pygame 기본 세팅"
      ],
      "metadata": {
        "id": "MCEMlexSsMex"
      }
    },
    {
      "cell_type": "code",
      "source": [
        "import pygame\n",
        "import sys # 파이썬 인터프리터 제어\n",
        "\n",
        "SCREEN_WIDTH = 600\n",
        "SCREEN_HEIGHT = 480\n",
        "\n",
        "\n",
        "pygame.init()\n",
        "pygame.display.set_caption(\"SpaceShuttle\") # 창 제목 설정\n",
        "\n",
        "#지정한 크기의 창 생성\n",
        "screen = pygame.display.set_mode((SCREEN_WIDTH,SCREEN_HEIGHT))\n",
        "\n",
        "clock = pygame.time.Clock()\n",
        "\n",
        "while True:\n",
        "    clock.tick(30)\n",
        "    \n",
        "    for event in pygame.event.get(): #발생한 입력 event 목록의 event 마다 검사\n",
        "        if event.tpye == pygame.QUIT: #event의 type이 QUIT에 해당할 경우\n",
        "            pygame.quit() # pygame 종\n",
        "            sys.exit()"
      ],
      "metadata": {
        "id": "3XekFSmzsQCJ"
      },
      "execution_count": null,
      "outputs": []
    },
    {
      "cell_type": "markdown",
      "source": [
        "상,하,좌,우 키 입력시 원 움직이기\n",
        "Q 눌렀을 때 pygame 종료"
      ],
      "metadata": {
        "id": "YmDdXsa41ngm"
      }
    },
    {
      "cell_type": "code",
      "source": [
        "import pygame\n",
        "import sys # 파이썬 인터프리터 제어\n",
        "\n",
        "SCREEN_WIDTH = 600\n",
        "SCREEN_HEIGHT = 480\n",
        "\n",
        "\n",
        "pygame.init()\n",
        "pygame.display.set_caption(\"SpaceShuttle\") # 창 제목 설정\n",
        "\n",
        "#지정한 크기의 창 생성\n",
        "screen = pygame.display.set_mode((SCREEN_WIDTH,SCREEN_HEIGHT))\n",
        "\n",
        "clock = pygame.time.Clock()\n",
        "\n",
        "loc = [SCREEN_WIDTH/2,SCREEN_HEIGHT/2] #화면 가운데 설정\n",
        "\n",
        "while True:\n",
        "    clock.tick(30)\n",
        "    screen.fill((0,0,0))\n",
        "    \n",
        "    for event in pygame.event.get(): #발생한 입력 event 목록의 event 마다 검사\n",
        "        if event.type == pygame.QUIT: #event의 type이 QUIT에 해당할 경우\n",
        "            pygame.quit() # pygame 종료\n",
        "            sys.exit()\n",
        "            \n",
        "    keys = pygame.key.get_pressed()\n",
        "            \n",
        "    if keys[pygame.K_LEFT]:\n",
        "        loc[0] -=3\n",
        "        \n",
        "    if keys[pygame.K_RIGHT]:\n",
        "        loc[0] +=3\n",
        "        \n",
        "    if keys[pygame.K_UP]:\n",
        "        loc[1] -=3\n",
        "        \n",
        "    if keys[pygame.K_DOWN]:\n",
        "        loc[1] +=3\n",
        "    \n",
        "    if keys[pygame.K_q]:\n",
        "        pygame.quit()\n",
        "        sys.exit()\n",
        "        \n",
        "    pygame.draw.circle(screen,(255,255,255),loc,10) # 흰색 원 그리기\n",
        "    pygame.display.update() # 화면 업데이트"
      ],
      "metadata": {
        "id": "8meVX09R1wh9"
      },
      "execution_count": null,
      "outputs": []
    },
    {
      "cell_type": "markdown",
      "source": [
        "이미지, 현재시간 표시 기능 추가 "
      ],
      "metadata": {
        "id": "B7qcZ6CV8MkS"
      }
    },
    {
      "cell_type": "code",
      "source": [
        "import pygame\n",
        "import sys # 파이썬 인터프리터 제어\n",
        "import time\n",
        "\n",
        "imgShuttle = pygame.image.load(\"DogeRocket.png\")\n",
        "\n",
        "SCREEN_WIDTH = 600\n",
        "SCREEN_HEIGHT = 480\n",
        "\n",
        "\n",
        "pygame.init()\n",
        "pygame.display.set_caption(\"SpaceShuttle\") # 창 제목 설정\n",
        "\n",
        "#지정한 크기의 창 생성\n",
        "screen = pygame.display.set_mode((SCREEN_WIDTH,SCREEN_HEIGHT))\n",
        "myFont = pygame.font.SysFont(\"arial\", 30, True, False)\n",
        "clock = pygame.time.Clock()\n",
        "\n",
        "loc = [SCREEN_WIDTH/2,SCREEN_HEIGHT/2] #화면 가운데 설정\n",
        "starttime = time.time()\n",
        "\n",
        "while True:\n",
        "    clock.tick(30)\n",
        "    screen.fill((0,0,0))\n",
        "    \n",
        "    for event in pygame.event.get(): #발생한 입력 event 목록의 event 마다 검사\n",
        "        if event.type == pygame.QUIT: #event의 type이 QUIT에 해당할 경우\n",
        "            pygame.quit() # pygame 종료\n",
        "            sys.exit()\n",
        "            \n",
        "    keys = pygame.key.get_pressed()\n",
        "            \n",
        "    if keys[pygame.K_LEFT]:\n",
        "        loc[0] -=3\n",
        "        \n",
        "    if keys[pygame.K_RIGHT]:\n",
        "        loc[0] +=3\n",
        "        \n",
        "    if keys[pygame.K_UP]:\n",
        "        loc[1] -=3\n",
        "        \n",
        "    if keys[pygame.K_DOWN]:\n",
        "        loc[1] +=3\n",
        "    \n",
        "    if keys[pygame.K_q]:\n",
        "        pygame.quit()\n",
        "        sys.exit()\n",
        "        \n",
        "    pygame.draw.circle(screen,(255,255,255),loc,10) # 흰색 원 그리기\n",
        "    \n",
        "    time_diff = str(time.time()-starttime)\n",
        "    currentTime_text = myFont.render(time_diff,1,(255,255,255))\n",
        "    screen.blit(currentTime_text, [SCREEN_WIDTH-70,20])\n",
        "    screen.blit(imgShuttle, loc)\n",
        "    \n",
        "    pygame.display.update() # 화면 업데이트"
      ],
      "metadata": {
        "id": "W60fei0E8LiM"
      },
      "execution_count": null,
      "outputs": []
    },
    {
      "cell_type": "markdown",
      "source": [
        "4면에 닿았을 때 위치 변경"
      ],
      "metadata": {
        "id": "aJ2ymo1u8OkS"
      }
    },
    {
      "cell_type": "code",
      "source": [
        "import pygame\n",
        "import sys # 파이썬 인터프리터 제어\n",
        "import time\n",
        "\n",
        "imgShuttle = pygame.image.load(\"DogeRocket.png\")\n",
        "\n",
        "SCREEN_WIDTH = 600\n",
        "SCREEN_HEIGHT = 480\n",
        "\n",
        "\n",
        "pygame.init()\n",
        "pygame.display.set_caption(\"SpaceShuttle\") # 창 제목 설정\n",
        "\n",
        "#지정한 크기의 창 생성\n",
        "screen = pygame.display.set_mode((SCREEN_WIDTH,SCREEN_HEIGHT))\n",
        "clock = pygame.time.Clock()\n",
        "\n",
        "myFont = pygame.font.SysFont(\"arial\", 30, True, False)\n",
        "loc = [SCREEN_WIDTH/2,SCREEN_HEIGHT/2] #화면 가운데 설정\n",
        "vel = [4,4]\n",
        "\n",
        "starttime = time.time()\n",
        "\n",
        "while True:\n",
        "    clock.tick(30)\n",
        "    screen.fill((0,0,0))\n",
        "    \n",
        "    for event in pygame.event.get(): #발생한 입력 event 목록의 event 마다 검사\n",
        "        if event.type == pygame.QUIT: #event의 type이 QUIT에 해당할 경우\n",
        "            pygame.quit() # pygame 종료\n",
        "            sys.exit()\n",
        "            \n",
        "    keys = pygame.key.get_pressed()      \n",
        "    if keys[pygame.K_q]:\n",
        "        pygame.quit() # pygame 종료\n",
        "        sys.exit()\n",
        "        \n",
        "    loc[0]+=vel[0]\n",
        "    loc[1]+=vel[1]\n",
        "    \n",
        "    if loc[0] >= SCREEN_WIDTH:\n",
        "        vel[0] = -vel[0]\n",
        "        \n",
        "    if loc[0] <= 0:\n",
        "        vel[0] = -vel[0]       \n",
        "    \n",
        "    if loc[1] >= SCREEN_HEIGHT:\n",
        "        vel[1] = -vel[1]\n",
        "    \n",
        "    if loc[1] <= 0:\n",
        "        vel[1] = -vel[1]\n",
        "        \n",
        "        \n",
        "    loc_text = myFont.render(str(loc), 1, (255,255,255))\n",
        "    screen.blit(loc_text, [20,20])\n",
        "    loc_text = myFont.render(str(vel),1,(255,255,255))\n",
        "    screen.blit(loc_text,[200,20])\n",
        "    pygame.draw.circle(screen,(255,255,255),loc,10) # 흰색 원 그리기\n",
        "    \n",
        "    time_diff = str(time.time()-starttime)\n",
        "    currentTime_text = myFont.render(time_diff,1,(255,255,255)) \n",
        "    screen.blit(currentTime_text, [SCREEN_WIDTH-70,20])#현재시간 표시\n",
        "    screen.blit(imgShuttle, loc) #이미지 표시\n",
        "    \n",
        "    pygame.display.update() # 화면 업데이트"
      ],
      "metadata": {
        "id": "aCd04m8QAjaH"
      },
      "execution_count": null,
      "outputs": []
    },
    {
      "cell_type": "markdown",
      "source": [
        "충돌 확인"
      ],
      "metadata": {
        "id": "0mTOgJ-9GR3_"
      }
    },
    {
      "cell_type": "code",
      "source": [
        "import pygame\n",
        "import sys # 파이썬 인터프리터 제어\n",
        "\n",
        "imgShuttle = pygame.image.load(\"DogeRocket.png\")\n",
        "img_width = imgShuttle.get_width()\n",
        "img_height = imgShuttle.get_height()\n",
        "\n",
        "SCREEN_WIDTH = 600\n",
        "SCREEN_HEIGHT = 480\n",
        "\n",
        "pygame.init()\n",
        "pygame.display.set_caption(\"SpaceShuttle\") # 창 제목 설정\n",
        "\n",
        "#지정한 크기의 창 생성\n",
        "screen = pygame.display.set_mode((SCREEN_WIDTH,SCREEN_HEIGHT))\n",
        "clock = pygame.time.Clock()\n",
        "\n",
        "loc_rock = [100,100]\n",
        "size_rock = 10\n",
        "\n",
        "loc_ship = [SCREEN_WIDTH/2,SCREEN_HEIGHT/2]\n",
        "size_ship = 23\n",
        "\n",
        "myFont = pygame.font.SysFont(\"arial\", 30, True, False)\n",
        "\n",
        "def collision_check(loc_rock,size_rock,loc_ship,size_ship):\n",
        "    dist_x = loc_rock[0] - loc_ship[0]\n",
        "    dist_y = loc_rock[1] - loc_ship[1]\n",
        "    dist = (dist_x**2 + dist_y**2)**(0.5)\n",
        "    \n",
        "    if dist < (size_rock + size_ship):\n",
        "        collision_text = myFont.render(\"Collision\", 1, (255,0,0))\n",
        "        screen.blit(collision_text, [20,20])\n",
        "        \n",
        "while True:\n",
        "    clock.tick(30)\n",
        "    screen.fill((0,0,0))\n",
        "            \n",
        "    keys = pygame.key.get_pressed()      \n",
        "    \n",
        "    if keys[pygame.K_LEFT]:\n",
        "        loc_ship[0] -=3\n",
        "        \n",
        "    if keys[pygame.K_RIGHT]:\n",
        "        loc_ship[0] +=3\n",
        "        \n",
        "    if keys[pygame.K_UP]:\n",
        "        loc_ship[1] -=3\n",
        "        \n",
        "    if keys[pygame.K_DOWN]:\n",
        "        loc_ship[1] +=3\n",
        "    \n",
        "    if keys[pygame.K_q]:\n",
        "        pygame.quit()\n",
        "        sys.exit()\n",
        "        \n",
        "    for event in pygame.event.get(): #발생한 입력 event 목록의 event 마다 검사\n",
        "        if event.type == pygame.QUIT: #event의 type이 QUIT에 해당할 경우\n",
        "            pygame.quit() # pygame 종료\n",
        "            sys.exit()\n",
        "            \n",
        "    pygame.draw.circle(screen, (0,255,0), loc_rock, size_rock,2)\n",
        "    \n",
        "    pygame.draw.circle(screen,(255,255,255),loc_ship, size_ship,1)\n",
        "    collision_check(loc_rock, size_rock, loc_ship, size_ship)\n",
        "    x = loc_ship[0] - img_width/2\n",
        "    y = loc_ship[1] - img_height/2\n",
        "    screen.blit(imgShuttle,(x,y))\n",
        "    pygame.display.update() # 화면 업데이트"
      ],
      "metadata": {
        "id": "SShsVbvOGS30"
      },
      "execution_count": null,
      "outputs": []
    }
  ]
}