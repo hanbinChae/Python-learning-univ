{
  "nbformat": 4,
  "nbformat_minor": 0,
  "metadata": {
    "colab": {
      "name": "6주차.ipynb",
      "provenance": [],
      "collapsed_sections": [],
      "authorship_tag": "ABX9TyNEAoqAg3wGpfVECx/c8wEF",
      "include_colab_link": true
    },
    "kernelspec": {
      "name": "python3",
      "display_name": "Python 3"
    },
    "language_info": {
      "name": "python"
    }
  },
  "cells": [
    {
      "cell_type": "markdown",
      "metadata": {
        "id": "view-in-github",
        "colab_type": "text"
      },
      "source": [
        "<a href=\"https://colab.research.google.com/github/hanbinChae/python-learning-univ/blob/main/6%EC%A3%BC%EC%B0%A8.ipynb\" target=\"_parent\"><img src=\"https://colab.research.google.com/assets/colab-badge.svg\" alt=\"Open In Colab\"/></a>"
      ]
    },
    {
      "cell_type": "markdown",
      "source": [
        "turtle 무지개 별 그리기"
      ],
      "metadata": {
        "id": "CnemmQ0wfO2A"
      }
    },
    {
      "cell_type": "code",
      "execution_count": null,
      "metadata": {
        "id": "5chsRzypfNBo"
      },
      "outputs": [],
      "source": [
        "#! pip install turtle\n",
        "import turtle\n",
        "t = turtle.Turtle()\n",
        "t.shape('turtle')\n",
        "t.color('green')\n",
        "\n",
        "color=['red','orange','yellow','green','blue']\n",
        "for i in color:\n",
        "    t.fd(150)\n",
        "    t.color(i)\n",
        "    t.left(144)\n",
        "\n",
        "turtle.exitonclick()\n",
        "turtle.bye()"
      ]
    },
    {
      "cell_type": "markdown",
      "source": [
        "random 예제1"
      ],
      "metadata": {
        "id": "vy-Hc2fYdrOd"
      }
    },
    {
      "cell_type": "code",
      "source": [
        "import random\n",
        "num_int = random.randint(1,10)\n",
        "print(num_int)\n",
        "\n",
        "num_float = random.random()\n",
        "print(num_float)"
      ],
      "metadata": {
        "colab": {
          "base_uri": "https://localhost:8080/"
        },
        "id": "roAbn6fJaLau",
        "outputId": "e98a4c02-5033-4184-b102-3e0e15ce264b"
      },
      "execution_count": null,
      "outputs": [
        {
          "output_type": "stream",
          "name": "stdout",
          "text": [
            "2\n",
            "0.3606202775797809\n"
          ]
        }
      ]
    },
    {
      "cell_type": "markdown",
      "source": [
        "random 예제2"
      ],
      "metadata": {
        "id": "OcMKBa0edwS9"
      }
    },
    {
      "cell_type": "code",
      "source": [
        "\n",
        "num1=0\n",
        "num2=0\n",
        "num3=0\n",
        "num4=0\n",
        "num5=0\n",
        "\n",
        "for i in range(5):\n",
        "  num_int = random.randint(1,5)\n",
        "  if(num_int==1):\n",
        "    num1+=1;\n",
        "  if(num_int==2):\n",
        "    num2+=1;\n",
        "  if(num_int==3):\n",
        "    num3+=1;\n",
        "  if(num_int==4):\n",
        "    num4+=1;\n",
        "  if(num_int==5):\n",
        "    num5+=1;\n",
        "\n",
        "print(num1,num2,num3,num4,num5)"
      ],
      "metadata": {
        "colab": {
          "base_uri": "https://localhost:8080/"
        },
        "id": "5fJ2YyKkai0u",
        "outputId": "8899c7a0-6528-4f42-953e-50d28d3d213f"
      },
      "execution_count": null,
      "outputs": [
        {
          "output_type": "stream",
          "name": "stdout",
          "text": [
            "1 2 2 0 0\n"
          ]
        }
      ]
    },
    {
      "cell_type": "markdown",
      "source": [
        "random 예제3"
      ],
      "metadata": {
        "id": "_17uPulvdyv0"
      }
    },
    {
      "cell_type": "code",
      "source": [
        "for i in range(30):\n",
        "  num_int=random.randint(1,5)\n",
        "  print(' '*num_int,num_int)"
      ],
      "metadata": {
        "colab": {
          "base_uri": "https://localhost:8080/"
        },
        "id": "ry_NAl8Gb2sW",
        "outputId": "da7a9bf5-f9f0-4536-cd36-7160f665e9c7"
      },
      "execution_count": null,
      "outputs": [
        {
          "output_type": "stream",
          "name": "stdout",
          "text": [
            "     4\n",
            "     4\n",
            "   2\n",
            "    3\n",
            "      5\n",
            "  1\n",
            "     4\n",
            "   2\n",
            "    3\n",
            "    3\n",
            "    3\n",
            "   2\n",
            "      5\n",
            "     4\n",
            "     4\n",
            "      5\n",
            "     4\n",
            "    3\n",
            "    3\n",
            "   2\n",
            "  1\n",
            "   2\n",
            "      5\n",
            "    3\n",
            "    3\n",
            "   2\n",
            "      5\n",
            "     4\n",
            "    3\n",
            "   2\n"
          ]
        }
      ]
    },
    {
      "cell_type": "markdown",
      "source": [
        "가위, 바위, 보"
      ],
      "metadata": {
        "id": "K9Sf2F86d0tc"
      }
    },
    {
      "cell_type": "code",
      "source": [
        "select_com = random.choice(['가위','바위','보'])\n",
        "\n",
        "result = input('가위, 바위, 보? : ')\n",
        "print('COM',select_com)\n",
        "\n",
        "if (select_com==result):\n",
        "  print('draw')\n",
        "elif select_com =='가위' and result =='바위':\n",
        "  print('win')\n",
        "elif select_com =='바위' and result =='보':\n",
        "  print('win')\n",
        "elif select_com =='보' and result =='가위':\n",
        "  print('win')\n",
        "elif select_com =='가위' and result =='보':\n",
        "  print('lose')\n",
        "elif select_com =='바위' and result =='가위':\n",
        "  print('lose')\n",
        "elif select_com =='보' and result =='바위':\n",
        "  print('lose')"
      ],
      "metadata": {
        "colab": {
          "base_uri": "https://localhost:8080/"
        },
        "id": "jxNZs_nhcL4t",
        "outputId": "64752fab-9d85-4510-a8fa-9a15c4d0205e"
      },
      "execution_count": null,
      "outputs": [
        {
          "output_type": "stream",
          "name": "stdout",
          "text": [
            "가위, 바위, 보? : 보\n",
            "COM 보\n",
            "draw\n"
          ]
        }
      ]
    },
    {
      "cell_type": "markdown",
      "source": [
        "가위 바위 보 3줄"
      ],
      "metadata": {
        "id": "ht0EIbl3rTnb"
      }
    },
    {
      "cell_type": "code",
      "source": [
        "import random;\n",
        "input('가위, 바위, 보? : ')\n",
        "print(random.choice(['win','lose','draw']))"
      ],
      "metadata": {
        "colab": {
          "base_uri": "https://localhost:8080/"
        },
        "id": "H1r0wzwUrUmC",
        "outputId": "b6b82f08-8736-4bef-efc7-e2778dfd6b0b"
      },
      "execution_count": null,
      "outputs": [
        {
          "output_type": "stream",
          "name": "stdout",
          "text": [
            "가위, 바위, 보? : 보\n",
            "win\n"
          ]
        }
      ]
    },
    {
      "cell_type": "markdown",
      "source": [
        "거북이 문자열 입력"
      ],
      "metadata": {
        "id": "5TfFVf9-fMIt"
      }
    },
    {
      "cell_type": "code",
      "source": [
        "import turtle\n",
        "text= turtle.textinput(\"제목\", \"내용\")\n",
        "\n",
        "print(text)\n",
        "\n",
        "turtle.bye()"
      ],
      "metadata": {
        "id": "Ujmkd7ZSfOf6"
      },
      "execution_count": null,
      "outputs": []
    },
    {
      "cell_type": "markdown",
      "source": [
        "문자열 입력 예제2"
      ],
      "metadata": {
        "id": "22_D0d9AfPdJ"
      }
    },
    {
      "cell_type": "code",
      "source": [
        "import turtle\n",
        "score = int(turtle.textinput('점수', \"1~100\"))\n",
        "grade = \"\"\n",
        "\n",
        "if 90<= score and score<=100:\n",
        "    grade='A'\n",
        "elif 80<= score and score<=89:\n",
        "    grade='B'\n",
        "elif 70<= score and score <=79:\n",
        "    grade='C'\n",
        "else:\n",
        "    grade='D'\n",
        "    \n",
        "print('학점은',grade,'입니다.')\n",
        "turtle.bye()"
      ],
      "metadata": {
        "id": "nsCu2k3efSFU"
      },
      "execution_count": null,
      "outputs": []
    },
    {
      "cell_type": "markdown",
      "source": [
        "문자열 입력 실습"
      ],
      "metadata": {
        "id": "Fal0v66ykDbU"
      }
    },
    {
      "cell_type": "code",
      "source": [
        "import turtle\n",
        "\n",
        "while True:\n",
        "    word = str(turtle.textinput('선택','t1 or t2'))\n",
        "    if word=='t1' or word=='t2':\n",
        "        break;\n",
        "    else:\n",
        "        continue;     \n",
        "print('word ==> ',word)\n",
        "\n",
        "turtle.bye()"
      ],
      "metadata": {
        "id": "ADY59OSTkFcL"
      },
      "execution_count": null,
      "outputs": []
    },
    {
      "cell_type": "markdown",
      "source": [
        "거북이 문자열 출력"
      ],
      "metadata": {
        "id": "ZDVynT80lSbk"
      }
    },
    {
      "cell_type": "code",
      "source": [
        "import turtle\n",
        "\n",
        "turtle.color('green')\n",
        "turtle.write('거북이')\n",
        "\n",
        "turtle.exitonclick()\n",
        "turtle.bye()"
      ],
      "metadata": {
        "id": "Y58FHJAkl_a7"
      },
      "execution_count": null,
      "outputs": []
    },
    {
      "cell_type": "markdown",
      "source": [
        "거북이 문자열 출력2"
      ],
      "metadata": {
        "id": "8U2e_J1VmAYr"
      }
    },
    {
      "cell_type": "code",
      "source": [
        "import turtle\n",
        "\n",
        "turtle.shape('turtle')\n",
        "\n",
        "font_a = ('굴림',20)\n",
        "font_b = ('굴림',30)\n",
        "\n",
        "turtle.write('거북이')\n",
        "turtle.color('red')\n",
        "turtle.fd(100)\n",
        "\n",
        "turtle.write('고양이',font = font_a)\n",
        "turtle.color('blue')\n",
        "turtle.fd(100)\n",
        "turtle.write(\"코끼리\",font = font_b)\n",
        "\n",
        "turtle.exitonclick()\n",
        "turtle.bye()"
      ],
      "metadata": {
        "id": "oeKA_LZ5mCMa"
      },
      "execution_count": null,
      "outputs": []
    },
    {
      "cell_type": "markdown",
      "source": [
        "거북이 펜 제어"
      ],
      "metadata": {
        "id": "mSQm7Ei7m2UT"
      }
    },
    {
      "cell_type": "code",
      "source": [
        "import turtle\n",
        "t= turtle.Turtle()\n",
        "t.shape('turtle')\n",
        "\n",
        "t.up() # pen 없애기\n",
        "t.goto(0,200) #(0,200)으로 이동\n",
        "t.down() # pen 생성\n",
        "t.goto(200,-200)\n",
        "\n",
        "turtle.exitonclick()\n",
        "turtle.bye()"
      ],
      "metadata": {
        "id": "6aDrMQCYnTQQ"
      },
      "execution_count": null,
      "outputs": []
    },
    {
      "cell_type": "markdown",
      "source": [
        "거북이 추가"
      ],
      "metadata": {
        "id": "edf_g_8DnUnD"
      }
    },
    {
      "cell_type": "code",
      "source": [
        "import turtle\n",
        "t1 = turtle.Turtle()\n",
        "t1.shape('turtle')\n",
        "\n",
        "t2 = turtle.Turtle()\n",
        "t2.shape('turtle')\n",
        "\n",
        "t1.color('blue')\n",
        "t1.up()\n",
        "t1.goto(0,200)\n",
        "t1.down()\n",
        "t1.fd(200)\n",
        "\n",
        "t2.color('red')\n",
        "t2.up()\n",
        "t2.goto(0,-200)\n",
        "t2.down()\n",
        "t2.fd(200)\n",
        "\n",
        "turtle.exitonclick()\n",
        "turtle.bye()\n"
      ],
      "metadata": {
        "id": "2KPSgobTnWxz"
      },
      "execution_count": null,
      "outputs": []
    },
    {
      "cell_type": "markdown",
      "source": [
        "세 거북이와 사각형 실습"
      ],
      "metadata": {
        "id": "-0Q6ePdQoYqj"
      }
    },
    {
      "cell_type": "code",
      "source": [
        "import turtle\n",
        "t1 = turtle.Turtle()\n",
        "t1.shape('turtle')\n",
        "t1.color('blue')\n",
        "\n",
        "t2 = turtle.Turtle()\n",
        "t2.shape('turtle')\n",
        "t2.color('green')\n",
        "\n",
        "t3 = turtle.Turtle()\n",
        "t3.shape('turtle')\n",
        "t3.color('red')\n",
        "\n",
        "def square(t):\n",
        "    for i in range(4):\n",
        "        t.fd(100)\n",
        "        t.left(90)    \n",
        "\n",
        "t1.up()\n",
        "t1.goto(0,100)\n",
        "t1.down()\n",
        "square(t1)\n",
        "\n",
        "t2.up()\n",
        "t2.goto(300,0)\n",
        "t2.down()\n",
        "square(t2)\n",
        "\n",
        "t3.up()\n",
        "t3.goto(0,-200)\n",
        "t3.down()\n",
        "square(t3)\n",
        "\n",
        "\n",
        "turtle.exitonclick()\n",
        "turtle.bye()\n"
      ],
      "metadata": {
        "id": "R_d0CuQUqV_g"
      },
      "execution_count": null,
      "outputs": []
    },
    {
      "cell_type": "markdown",
      "source": [
        "주사위 게임 만들기"
      ],
      "metadata": {
        "id": "qbbV3S5XqXKH"
      }
    },
    {
      "cell_type": "code",
      "source": [
        "import random\n",
        "\n",
        "t1=random.randint(1,6)\n",
        "t2=random.randint(1,6)\n",
        "\n",
        "while True:\n",
        "    print('t1:',t1,'vs t2:',t2)\n",
        "    if t1 >30 or t2>30:\n",
        "        if t1==t2:\n",
        "            print('무승부')\n",
        "        elif t1>t2:\n",
        "            print('t1 승리')\n",
        "        else:\n",
        "            print('t2 승리')\n",
        "        break;\n",
        "    t1+=random.randint(1,6)\n",
        "    t2+=random.randint(1,6)\n",
        "    "
      ],
      "metadata": {
        "colab": {
          "base_uri": "https://localhost:8080/"
        },
        "id": "UjyT6pZ3qb8r",
        "outputId": "cbc973bb-d476-44f2-ab50-2f1c6945edde"
      },
      "execution_count": null,
      "outputs": [
        {
          "output_type": "stream",
          "name": "stdout",
          "text": [
            "t1: 6 vs t2: 4\n",
            "t1: 11 vs t2: 10\n",
            "t1: 16 vs t2: 16\n",
            "t1: 22 vs t2: 18\n",
            "t1: 24 vs t2: 19\n",
            "t1: 25 vs t2: 21\n",
            "t1: 28 vs t2: 26\n",
            "t1: 31 vs t2: 29\n",
            "t1 승리\n"
          ]
        }
      ]
    },
    {
      "cell_type": "markdown",
      "source": [
        "거북이에서 승자 예측"
      ],
      "metadata": {
        "id": "n8lC0kylsaRS"
      }
    },
    {
      "cell_type": "code",
      "source": [
        "import random\n",
        "import turtle\n",
        "\n",
        "\n",
        "while True:\n",
        "    prediction = turtle.textinput(\"주사위 게임\", \"t1 or t2\")\n",
        "    if prediction=='t1' or prediction=='t2':\n",
        "        break;\n",
        "        turtle.bye()\n",
        "    else:\n",
        "        continue;     \n",
        "        \n",
        "\n",
        "t1=random.randint(1,6)\n",
        "t2=random.randint(1,6)\n",
        "\n",
        "while True:\n",
        "    print('t1:',t1,'vs t2:',t2)\n",
        "    if t1 >30 or t2>30:\n",
        "        if t1==t2:\n",
        "            result ='무승부'\n",
        "        elif t1>t2:\n",
        "            result = 't1'\n",
        "        else:\n",
        "            result = 't2'\n",
        "        break;\n",
        "    t1+=random.randint(1,6)\n",
        "    t2+=random.randint(1,6)\n",
        "\n",
        "\n",
        "if prediction != result:\n",
        "    print('틀렸습니다.')\n",
        "else:\n",
        "    print('맞췄습니다.')    \n",
        "\n",
        "\n",
        "turtle.bye()"
      ],
      "metadata": {
        "id": "MMJ_6wYZsZwi"
      },
      "execution_count": null,
      "outputs": []
    }
  ]
}