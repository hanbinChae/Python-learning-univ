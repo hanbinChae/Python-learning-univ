{
  "nbformat": 4,
  "nbformat_minor": 0,
  "metadata": {
    "colab": {
      "name": "14주차.ipynb",
      "provenance": [],
      "collapsed_sections": [],
      "authorship_tag": "ABX9TyMMimwH9LgUawMflLYlLIqt",
      "include_colab_link": true
    },
    "kernelspec": {
      "name": "python3",
      "display_name": "Python 3"
    },
    "language_info": {
      "name": "python"
    }
  },
  "cells": [
    {
      "cell_type": "markdown",
      "metadata": {
        "id": "view-in-github",
        "colab_type": "text"
      },
      "source": [
        "<a href=\"https://colab.research.google.com/github/hanbinChae/python-learning-univ/blob/main/14%EC%A3%BC%EC%B0%A8.ipynb\" target=\"_parent\"><img src=\"https://colab.research.google.com/assets/colab-badge.svg\" alt=\"Open In Colab\"/></a>"
      ]
    },
    {
      "cell_type": "markdown",
      "source": [
        "로또 번호 세기 [과제1]"
      ],
      "metadata": {
        "id": "qWIaQ60m_DM-"
      }
    },
    {
      "cell_type": "code",
      "source": [
        "import random\n",
        "\n",
        "lottoNum = []\n",
        "\n",
        "for i in range(6):\n",
        "    while True:\n",
        "      # pickNum : 단일 번호\n",
        "      pickNum = random.randint(1,45)\n",
        "      if pickNum in lottoNum:\n",
        "        continue\n",
        "      else:\n",
        "        lottoNum.append(pickNum)\n",
        "        break\n",
        "print('로또번호')\n",
        "print(lottoNum)"
      ],
      "metadata": {
        "colab": {
          "base_uri": "https://localhost:8080/"
        },
        "id": "SzNqaPQa_Ckc",
        "outputId": "44d3e626-e967-448f-d7dd-484ab2c73555"
      },
      "execution_count": 27,
      "outputs": [
        {
          "output_type": "stream",
          "name": "stdout",
          "text": [
            "로또번호\n",
            "[26, 15, 36, 7, 1, 38]\n"
          ]
        }
      ]
    },
    {
      "cell_type": "markdown",
      "source": [
        "글자 숫자 세기 [과제2]"
      ],
      "metadata": {
        "id": "0O6H6aN6-97_"
      }
    },
    {
      "cell_type": "code",
      "execution_count": 28,
      "metadata": {
        "colab": {
          "base_uri": "https://localhost:8080/"
        },
        "id": "fK9JsMQ07FRg",
        "outputId": "cf9ef223-f3f0-4de9-afa7-1f4dc03c4f26"
      },
      "outputs": [
        {
          "output_type": "stream",
          "name": "stdout",
          "text": [
            "{'죽': 2, '는': 2, '날': 1, '까': 1, '지': 2, '하': 2, '늘': 1, '을': 2, '우': 1, '러': 2, '한': 2, '점': 1, '부': 1, '끄': 1, '럼': 1, '이': 2, '없': 1, '기': 1, '를': 1, ',': 1, '잎': 1, '새': 1, '에': 2, '바': 1, '람': 1, '도': 1, '나': 2, '괴': 1, '로': 2, '워': 1, '했': 1, '다': 2, '.': 2, '별': 1, '노': 1, '래': 1, '마': 1, '음': 1, '으': 1, '모': 1, '든': 1, '어': 2, '가': 2, '것': 1, '사': 1, '랑': 1, '해': 1, '야': 2, '그': 1, '리': 1, '고': 1, '테': 1, '주': 1, '진': 1, '길': 1, '걸': 1, '겠': 1}\n"
          ]
        }
      ],
      "source": [
        "poet = \"\"\"죽는 날까지 하늘을 우러러\n",
        "한 점 부끄럼이 없기를,\n",
        "잎새에 이는 바람에도\n",
        "나는 괴로워했다.\n",
        "별을 노래하는 마음으로\n",
        "모든 죽어가는 것을 사랑해야지\n",
        "그리고 나한테 주어진 길을\n",
        "걸어가야겠다.\"\"\"\n",
        "\n",
        "Dic = {}\n",
        "\n",
        "for ch in poet:\n",
        "  if ch in Dic:\n",
        "    Dic[ch] = len(ch)+1\n",
        "  else:\n",
        "    Dic[ch] = 1\n",
        "  \n",
        "del(Dic[\" \"])\n",
        "del(Dic[\"\\n\"])\n",
        "\n",
        "print(Dic)"
      ]
    }
  ]
}