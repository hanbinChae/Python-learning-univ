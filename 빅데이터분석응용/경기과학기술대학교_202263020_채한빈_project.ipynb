{
 "cells": [
  {
   "cell_type": "markdown",
   "metadata": {
    "id": "TArqfHt8sPoj"
   },
   "source": [
    "### ※ Importing the Packages"
   ]
  },
  {
   "cell_type": "code",
   "execution_count": 88,
   "metadata": {
    "id": "pgZkm3OzsPoo"
   },
   "outputs": [],
   "source": [
    "import numpy as np"
   ]
  },
  {
   "cell_type": "code",
   "execution_count": 90,
   "metadata": {
    "id": "anqsmU7hsPop"
   },
   "outputs": [],
   "source": [
    "np.set_printoptions(suppress = True, linewidth = 100, precision = 2)"
   ]
  },
  {
   "cell_type": "markdown",
   "metadata": {
    "id": "OFGMm7vQsPop"
   },
   "source": [
    "###1.Importing the Data"
   ]
  },
  {
   "cell_type": "code",
   "execution_count": 292,
   "metadata": {
    "colab": {
     "base_uri": "https://localhost:8080/"
    },
    "id": "2ea550o7sPoq",
    "outputId": "18782b8d-8e39-4161-9196-0e9bd4f18f8c"
   },
   "outputs": [
    {
     "data": {
      "text/plain": [
       "array([['15-May', 'Current', ' 36 months', ..., 'Verified',\n",
       "        'https://www.lendingclub.com/browse/loanDetail.action?loan_id=48010226', 'CA'],\n",
       "       ['', 'Current', ' 36 months', ..., 'Source Verified',\n",
       "        'https://www.lendingclub.com/browse/loanDetail.action?loan_id=57693261', 'NY'],\n",
       "       ['15-Sep', 'Current', ' 36 months', ..., 'Verified',\n",
       "        'https://www.lendingclub.com/browse/loanDetail.action?loan_id=59432726', 'PA'],\n",
       "       ...,\n",
       "       ['15-Jun', 'Current', ' 36 months', ..., 'Source Verified',\n",
       "        'https://www.lendingclub.com/browse/loanDetail.action?loan_id=50415990', 'CA'],\n",
       "       ['15-Apr', 'Current', ' 36 months', ..., 'Source Verified',\n",
       "        'https://www.lendingclub.com/browse/loanDetail.action?loan_id=46154151', 'OH'],\n",
       "       ['15-Dec', 'Current', ' 36 months', ..., '',\n",
       "        'https://www.lendingclub.com/browse/loanDetail.action?loan_id=66055249', 'IL']],\n",
       "      dtype='<U69')"
      ]
     },
     "execution_count": 292,
     "metadata": {},
     "output_type": "execute_result"
    }
   ],
   "source": [
    "# 1. Issue_d, loan_status, term, grade, sub_grade, verification_status, url, addr_state 열만 추출함\n",
    "data_str = np.genfromtxt(\"data/project.csv\",delimiter=',',dtype='str_', skip_header=1, usecols=[1,3,5,7,8,9,10,11])\n",
    "data_str\n"
   ]
  },
  {
   "cell_type": "markdown",
   "metadata": {
    "id": "vpR3oiwZsPo0"
   },
   "source": [
    "### 2.Issue Date"
   ]
  },
  {
   "cell_type": "code",
   "execution_count": 293,
   "metadata": {
    "colab": {
     "base_uri": "https://localhost:8080/"
    },
    "id": "WHgVeUhpsPo1",
    "outputId": "0917d5f9-9e99-4885-e420-f62f8d65ed5a"
   },
   "outputs": [
    {
     "data": {
      "text/plain": [
       "array(['', '15-Apr', '15-Aug', '15-Dec', '15-Feb', '15-Jan', '15-Jul', '15-Jun', '15-Mar',\n",
       "       '15-May', '15-Nov', '15-Oct', '15-Sep'], dtype='<U69')"
      ]
     },
     "execution_count": 293,
     "metadata": {},
     "output_type": "execute_result"
    }
   ],
   "source": [
    "# np.unique를 사용하여 Issue_d 데이터 종류 확인\n",
    "np.unique(data_str[:,0])"
   ]
  },
  {
   "cell_type": "code",
   "execution_count": 294,
   "metadata": {
    "id": "Jkn_DpxbsPo1"
   },
   "outputs": [
    {
     "data": {
      "text/plain": [
       "array(['May', '', 'Sep', ..., 'Jun', 'Apr', 'Dec'], dtype='<U69')"
      ]
     },
     "execution_count": 294,
     "metadata": {},
     "output_type": "execute_result"
    }
   ],
   "source": [
    "# '15-' 삭제\n",
    "data_str[:,0] = np.chararray.strip(data_str[:,0],'15-')\n",
    "data_str[:,0]"
   ]
  },
  {
   "cell_type": "code",
   "execution_count": 267,
   "metadata": {
    "colab": {
     "base_uri": "https://localhost:8080/"
    },
    "id": "86MGvoYasPo1",
    "outputId": "c7db9bcb-d32e-4ce5-ea52-31222c8e85a1",
    "scrolled": true
   },
   "outputs": [
    {
     "data": {
      "text/plain": [
       "array(['', 'Apr', 'Aug', 'Dec', 'Feb', 'Jan', 'Jul', 'Jun', 'Mar', 'May', 'Nov', 'Oct', 'Sep'],\n",
       "      dtype='<U69')"
      ]
     },
     "execution_count": 267,
     "metadata": {},
     "output_type": "execute_result"
    }
   ],
   "source": [
    "# 삭제 후, Issue_d 데이터 종류 확인\n",
    "np.unique(data_str[:,0])"
   ]
  },
  {
   "cell_type": "code",
   "execution_count": 199,
   "metadata": {
    "id": "bq9vjhyTsPo2"
   },
   "outputs": [],
   "source": [
    "# month ndarray\n",
    "months = np.array(['', 'Jan', 'Feb', 'Mar', 'Apr', 'May', 'Jun', 'Jul', 'Aug', 'Sep', 'Oct', 'Nov', 'Dec'])"
   ]
  },
  {
   "cell_type": "code",
   "execution_count": 295,
   "metadata": {
    "id": "l7N73iGlsPo2",
    "scrolled": true
   },
   "outputs": [],
   "source": [
    "# 위 months ndarray의 각 값을 index 값으로 변경\n",
    "# ex> 비어있는 경우 → 0, 'Jan' → 1, Feb → 2,  .... , Nov → 11, Dec → 12\n",
    "\n",
    "for i in range(13):\n",
    "  # months[0] = '', months[1] = 'Jan', months[2] = 'Feb'...., months[12] = 'Dec'\n",
    "  # data_str[:,0]의 값이 months[i]와 동일할 경우, 해당 값을 i로 변경\n",
    "  # np.where 이용\n",
    "  data_str[:,0] = np.where(data_str[:,0]==months[i].astype('str_'),i,0)"
   ]
  },
  {
   "cell_type": "code",
   "execution_count": 296,
   "metadata": {
    "colab": {
     "base_uri": "https://localhost:8080/"
    },
    "id": "kd4u7wd1sPo2",
    "outputId": "8d34add0-8dbe-445e-b9a7-f530fe1e6856"
   },
   "outputs": [
    {
     "data": {
      "text/plain": [
       "array(['0'], dtype='<U69')"
      ]
     },
     "execution_count": 296,
     "metadata": {},
     "output_type": "execute_result"
    }
   ],
   "source": [
    "# 완료 후, Issue_d 데이터 종류 확인\n",
    "np.unique(data_str[:,0])"
   ]
  },
  {
   "cell_type": "markdown",
   "metadata": {
    "id": "ALHEtPxBsPo2"
   },
   "source": [
    "### 3. Loan Status"
   ]
  },
  {
   "cell_type": "code",
   "execution_count": 297,
   "metadata": {
    "colab": {
     "base_uri": "https://localhost:8080/"
    },
    "id": "oBXEnoDguHWn",
    "outputId": "f49ac3f1-79bd-4192-8f3f-14d2a9a6e3e2"
   },
   "outputs": [
    {
     "data": {
      "text/plain": [
       "array(['', 'Charged Off', 'Current', 'Default', 'Fully Paid', 'In Grace Period', 'Issued',\n",
       "       'Late (16-30 days)', 'Late (31-120 days)'], dtype='<U69')"
      ]
     },
     "execution_count": 297,
     "metadata": {},
     "output_type": "execute_result"
    }
   ],
   "source": [
    "# np.unique를 사용하여 loan_status 데이터 종류 확인\n",
    "np.unique(data_str[:,1])"
   ]
  },
  {
   "cell_type": "code",
   "execution_count": 271,
   "metadata": {
    "id": "Xa0mo2N5sPo3"
   },
   "outputs": [],
   "source": [
    "# status_bad ndarray\n",
    "status_bad = np.array(['','Charged Off','Default','Late (31-120 days)'])"
   ]
  },
  {
   "cell_type": "code",
   "execution_count": 298,
   "metadata": {
    "id": "v063tm3SsPo3",
    "scrolled": false
   },
   "outputs": [],
   "source": [
    "# data_str[:,1](loan_status)의 값이 status_bad에 포함된 경우 0, 아닐 경우 1로 데이터 값 변경\n",
    "# np.where와 np.isin 사용\n",
    "# ex> np.isin(ndarray, list) → ndarray의 값이 list에 포함된 경우 True, 포함되지 않은 경우 False\n",
    "data_str[:,1] = np.where(np.isin(data_str[:,1],status_bad),0,1)"
   ]
  },
  {
   "cell_type": "code",
   "execution_count": 299,
   "metadata": {
    "colab": {
     "base_uri": "https://localhost:8080/"
    },
    "id": "FQb9_ncCsPo3",
    "outputId": "9fa050f8-fee3-4e81-e35e-cc077e36bec5"
   },
   "outputs": [
    {
     "data": {
      "text/plain": [
       "array(['0', '1'], dtype='<U69')"
      ]
     },
     "execution_count": 299,
     "metadata": {},
     "output_type": "execute_result"
    }
   ],
   "source": [
    "# 완료 후, Issue_d 데이터 종류 확인\n",
    "np.unique(data_str[:,1])"
   ]
  },
  {
   "cell_type": "markdown",
   "metadata": {
    "id": "6wGJO4pbsPo4"
   },
   "source": [
    "### 4. Term"
   ]
  },
  {
   "cell_type": "code",
   "execution_count": 362,
   "metadata": {
    "colab": {
     "base_uri": "https://localhost:8080/"
    },
    "id": "D8nyISFAsPo4",
    "outputId": "a236d2bd-6817-410d-851c-abbd99e07235"
   },
   "outputs": [
    {
     "data": {
      "text/plain": [
       "array(['', ' 36 ', ' 60 '], dtype='<U69')"
      ]
     },
     "execution_count": 362,
     "metadata": {},
     "output_type": "execute_result"
    }
   ],
   "source": [
    "# np.unique를 사용하여 term 데이터 종류 확인\n",
    "np.unique(data_str[:,2])"
   ]
  },
  {
   "cell_type": "code",
   "execution_count": 369,
   "metadata": {
    "id": "PHeB2dKmsPo4"
   },
   "outputs": [
    {
     "data": {
      "text/plain": [
       "array(['36', '36', '36', ..., '36', '36', '36'], dtype='<U69')"
      ]
     },
     "execution_count": 369,
     "metadata": {},
     "output_type": "execute_result"
    }
   ],
   "source": [
    "# months 삭제\n",
    "data_str[:,2] = np.chararray.strip(data_str[:,2],'months')\n",
    "data_str[:,2]"
   ]
  },
  {
   "cell_type": "code",
   "execution_count": 368,
   "metadata": {
    "id": "vyqrHUDzsPo4"
   },
   "outputs": [],
   "source": [
    "# 비어 있는 경우(''), '60'으로 대체\n",
    "data_str[:,2] = np.where(data_str[:,2]=='','60',data_str[:,2])"
   ]
  },
  {
   "cell_type": "code",
   "execution_count": 367,
   "metadata": {
    "colab": {
     "base_uri": "https://localhost:8080/"
    },
    "id": "zmDGZJ63sPo5",
    "outputId": "ca86aea4-03f2-410d-d229-7ebfff5fabe8"
   },
   "outputs": [
    {
     "data": {
      "text/plain": [
       "array(['36', '60'], dtype='<U69')"
      ]
     },
     "execution_count": 367,
     "metadata": {},
     "output_type": "execute_result"
    }
   ],
   "source": [
    "# 완료 후, term 데이터 종류 확인\n",
    "np.unique(data_str[:,2])"
   ]
  },
  {
   "cell_type": "markdown",
   "metadata": {
    "id": "xrDebvhNsPo5"
   },
   "source": [
    "### 5. Grade and Subgrade"
   ]
  },
  {
   "cell_type": "code",
   "execution_count": 300,
   "metadata": {
    "colab": {
     "base_uri": "https://localhost:8080/"
    },
    "id": "-0GYzwt5sPo5",
    "outputId": "3ac04a84-256d-46e0-b8e4-046b75fd813a"
   },
   "outputs": [
    {
     "data": {
      "text/plain": [
       "array(['', 'A', 'B', 'C', 'D', 'E', 'F', 'G'], dtype='<U69')"
      ]
     },
     "execution_count": 300,
     "metadata": {},
     "output_type": "execute_result"
    }
   ],
   "source": [
    "# np.unique를 사용하여 grade 데이터 종류 확인\n",
    "np.unique(data_str[:,3])"
   ]
  },
  {
   "cell_type": "code",
   "execution_count": 301,
   "metadata": {
    "colab": {
     "base_uri": "https://localhost:8080/"
    },
    "id": "PBKbaSwwsPo5",
    "outputId": "cb1ec338-c02a-46bf-aeb6-a66ede52f165"
   },
   "outputs": [
    {
     "data": {
      "text/plain": [
       "array(['', 'A1', 'A2', 'A3', 'A4', 'A5', 'B1', 'B2', 'B3', 'B4', 'B5', 'C1', 'C2', 'C3', 'C4',\n",
       "       'C5', 'D1', 'D2', 'D3', 'D4', 'D5', 'E1', 'E2', 'E3', 'E4', 'E5', 'F1', 'F2', 'F3', 'F4',\n",
       "       'F5', 'G1', 'G2', 'G3', 'G4', 'G5'], dtype='<U69')"
      ]
     },
     "execution_count": 301,
     "metadata": {},
     "output_type": "execute_result"
    }
   ],
   "source": [
    "# np.unique를 사용하여 sub_grade 데이터 종류 확인\n",
    "np.unique(data_str[:,4])"
   ]
  },
  {
   "cell_type": "markdown",
   "metadata": {
    "id": "hm9e_WQPsPo6"
   },
   "source": [
    "#### 5-1.sub_grade 비어 있는 값 채우기"
   ]
  },
  {
   "cell_type": "code",
   "execution_count": 311,
   "metadata": {
    "id": "7PqjgcAnsPo6"
   },
   "outputs": [],
   "source": [
    "# sub_grade열의 값이 비어있고, grade열의 값이 있을 경우, grade의 값으로 sub_grade열을 채움\n",
    "\n",
    "grade = ['A','B','C','D','E','F','G']\n",
    "\n",
    "for i in grade:\n",
    "    data_str[:,4] = np.where((data_str[:,4]=='') & (data_str[:,3]==i),i+'5',data_str[:,4])\n",
    "  # i → 'A', 'B', 'C', .... , 'G'\n",
    "  # data_str[:,4]가 존재하지 않고, data_str[:,3] 값이 'i'와 동일한 경우\n",
    "  # data_str[:,4]값을 i+'5'로 변경함 (아닌 경우, 그대로 둔다.)\n",
    "  # np.where 이용\n",
    "  "
   ]
  },
  {
   "cell_type": "code",
   "execution_count": 312,
   "metadata": {
    "id": "jwZ8hZnXsPo6"
   },
   "outputs": [],
   "source": [
    "# sub_grade열의 값(data_str[:,4])과 grade 값(data_str[:,3])이 모두 비어있는 경우, sub_grade열(data_str[:,4])을 'H1'으로 채움\n",
    "data_str[:,4] = np.where((data_str[:,4]=='') & (data_str[:,3]==''),'H1',data_str[:,4])"
   ]
  },
  {
   "cell_type": "code",
   "execution_count": 313,
   "metadata": {
    "colab": {
     "base_uri": "https://localhost:8080/"
    },
    "id": "JwI9smohv1Iu",
    "outputId": "3b9f9d73-d84f-46e4-e467-afcbf17940f4"
   },
   "outputs": [
    {
     "data": {
      "text/plain": [
       "array(['A1', 'A2', 'A3', 'A4', 'A5', 'B1', 'B2', 'B3', 'B4', 'B5', 'C1', 'C2', 'C3', 'C4', 'C5',\n",
       "       'D1', 'D2', 'D3', 'D4', 'D5', 'E1', 'E2', 'E3', 'E4', 'E5', 'F1', 'F2', 'F3', 'F4', 'F5',\n",
       "       'G1', 'G2', 'G3', 'G4', 'G5', 'H1'], dtype='<U69')"
      ]
     },
     "execution_count": 313,
     "metadata": {},
     "output_type": "execute_result"
    }
   ],
   "source": [
    "# 완료 후, sub_grade 데이터 종류 확인\n",
    "np.unique(data_str[:,4])"
   ]
  },
  {
   "cell_type": "markdown",
   "metadata": {
    "id": "ypWXbHf3sPo6"
   },
   "source": [
    "#### 5-2. grade열 삭제"
   ]
  },
  {
   "cell_type": "code",
   "execution_count": 317,
   "metadata": {
    "id": "0AapWs6qsPo6"
   },
   "outputs": [],
   "source": [
    "# grade 열 삭제 (np.delete)\n",
    "data_str = np.delete(data_str,3,axis=1)"
   ]
  },
  {
   "cell_type": "code",
   "execution_count": 321,
   "metadata": {
    "colab": {
     "base_uri": "https://localhost:8080/"
    },
    "id": "tXRu0TyzPu_A",
    "outputId": "22244795-6420-42a1-c411-e97b5eb1581a"
   },
   "outputs": [
    {
     "data": {
      "text/plain": [
       "array([['0', '1', ' 36 ', 'C3', 'Verified',\n",
       "        'https://www.lendingclub.com/browse/loanDetail.action?loan_id=48010226', 'CA'],\n",
       "       ['0', '1', ' 36 ', 'A5', 'Source Verified',\n",
       "        'https://www.lendingclub.com/browse/loanDetail.action?loan_id=57693261', 'NY'],\n",
       "       ['0', '1', ' 36 ', 'B5', 'Verified',\n",
       "        'https://www.lendingclub.com/browse/loanDetail.action?loan_id=59432726', 'PA'],\n",
       "       ['0', '1', ' 36 ', 'A5', 'Not Verified',\n",
       "        'https://www.lendingclub.com/browse/loanDetail.action?loan_id=53222800', 'OH'],\n",
       "       ['0', '1', ' 36 ', 'E3', 'Source Verified',\n",
       "        'https://www.lendingclub.com/browse/loanDetail.action?loan_id=57803010', 'TX']],\n",
       "      dtype='<U69')"
      ]
     },
     "execution_count": 321,
     "metadata": {},
     "output_type": "execute_result"
    }
   ],
   "source": [
    "data_str[:5,:]"
   ]
  },
  {
   "cell_type": "markdown",
   "metadata": {
    "id": "U8dIJd7zsPo7"
   },
   "source": [
    "#### 5-3. sub_grade값 수로 변경"
   ]
  },
  {
   "cell_type": "code",
   "execution_count": 322,
   "metadata": {
    "id": "N2XODh-0sPo7"
   },
   "outputs": [],
   "source": [
    "keys = list(np.unique(data_str[:,3]))                         \n",
    "values = list(range(1, np.unique(data_str[:,3]).shape[0] + 1)) \n",
    "dict_sub_grade = dict(zip(keys, values))"
   ]
  },
  {
   "cell_type": "code",
   "execution_count": 323,
   "metadata": {
    "colab": {
     "base_uri": "https://localhost:8080/"
    },
    "id": "CeoWfQJssPo7",
    "outputId": "9460850f-651e-4b74-9db8-b655a6c66630"
   },
   "outputs": [
    {
     "data": {
      "text/plain": [
       "{'A1': 1,\n",
       " 'A2': 2,\n",
       " 'A3': 3,\n",
       " 'A4': 4,\n",
       " 'A5': 5,\n",
       " 'B1': 6,\n",
       " 'B2': 7,\n",
       " 'B3': 8,\n",
       " 'B4': 9,\n",
       " 'B5': 10,\n",
       " 'C1': 11,\n",
       " 'C2': 12,\n",
       " 'C3': 13,\n",
       " 'C4': 14,\n",
       " 'C5': 15,\n",
       " 'D1': 16,\n",
       " 'D2': 17,\n",
       " 'D3': 18,\n",
       " 'D4': 19,\n",
       " 'D5': 20,\n",
       " 'E1': 21,\n",
       " 'E2': 22,\n",
       " 'E3': 23,\n",
       " 'E4': 24,\n",
       " 'E5': 25,\n",
       " 'F1': 26,\n",
       " 'F2': 27,\n",
       " 'F3': 28,\n",
       " 'F4': 29,\n",
       " 'F5': 30,\n",
       " 'G1': 31,\n",
       " 'G2': 32,\n",
       " 'G3': 33,\n",
       " 'G4': 34,\n",
       " 'G5': 35,\n",
       " 'H1': 36}"
      ]
     },
     "execution_count": 323,
     "metadata": {},
     "output_type": "execute_result"
    }
   ],
   "source": [
    "dict_sub_grade"
   ]
  },
  {
   "cell_type": "code",
   "execution_count": 325,
   "metadata": {
    "id": "J7UC8pHGsPo8"
   },
   "outputs": [],
   "source": [
    "# 위의 dict_sub_grade를 활용하여 sub_grade의 값이 dict_sub_grade의 key와 동일할 때, 해당 key의 value로 대체\n",
    "for i in dict_sub_grade.keys():\n",
    "    data_str[:,3] = np.where(data_str[:,3]==i,dict_sub_grade[i],data_str[:,3])\n",
    "  # i → 'A1', 'A2', 'A3',....... , 'G3', 'G4', 'G5', 'H1'\n",
    "  # data_str[:,3]과 i가 동일한 경우, dict_sub_grade에서 key 값이 i인 데이터로 data_str[:,3]을 변경함\n",
    "  # np.where 이용, dict_sub_grade.get(i)는 dict 타입의 dict_sub_grade에서 key 값이 i인 데이터의 값을 반환\n",
    "  \n",
    "  "
   ]
  },
  {
   "cell_type": "code",
   "execution_count": 326,
   "metadata": {
    "colab": {
     "base_uri": "https://localhost:8080/"
    },
    "id": "1Rj-3L7-sPo8",
    "outputId": "d0d2eff0-8ec6-4172-ef9c-fedae4db5458"
   },
   "outputs": [
    {
     "data": {
      "text/plain": [
       "array(['1', '10', '11', '12', '13', '14', '15', '16', '17', '18', '19', '2', '20', '21', '22',\n",
       "       '23', '24', '25', '26', '27', '28', '29', '3', '30', '31', '32', '33', '34', '35', '36',\n",
       "       '4', '5', '6', '7', '8', '9'], dtype='<U69')"
      ]
     },
     "execution_count": 326,
     "metadata": {},
     "output_type": "execute_result"
    }
   ],
   "source": [
    "# 완료 후, sub_grade 데이터 종류 확인\n",
    "np.unique(data_str[:,3])"
   ]
  },
  {
   "cell_type": "markdown",
   "metadata": {
    "id": "q9DdpOgbsPo8"
   },
   "source": [
    "### 6. Verification Status"
   ]
  },
  {
   "cell_type": "code",
   "execution_count": 327,
   "metadata": {
    "colab": {
     "base_uri": "https://localhost:8080/"
    },
    "id": "fAOFNJB4sPo8",
    "outputId": "65aff35a-6ca4-4951-8dd3-736f15aef3a4"
   },
   "outputs": [
    {
     "data": {
      "text/plain": [
       "array(['', 'Not Verified', 'Source Verified', 'Verified'], dtype='<U69')"
      ]
     },
     "execution_count": 327,
     "metadata": {},
     "output_type": "execute_result"
    }
   ],
   "source": [
    "# np.unique를 사용하여 verification_status 데이터 종류 확인\n",
    "np.unique(data_str[:,4])"
   ]
  },
  {
   "cell_type": "code",
   "execution_count": 336,
   "metadata": {
    "id": "a0KgU8RhsPo8"
   },
   "outputs": [],
   "source": [
    "# 값이 비어 있는 경우('')와 ‘Not Verified’는 0으로 변경, ‘Source Verified’과 ‘Verified’는 1로 변경함\n",
    "# np.where 이용\n",
    "data_str[:,4] = np.where((data_str[:,4]=='') | (data_str[:,4]=='Not Verified'),0,data_str[:,4])\n",
    "data_str[:,4] = np.where((data_str[:,4]=='Verified') | (data_str[:,4]=='Source Verified'),1,data_str[:,4])"
   ]
  },
  {
   "cell_type": "code",
   "execution_count": 337,
   "metadata": {
    "colab": {
     "base_uri": "https://localhost:8080/"
    },
    "id": "oi5iVCScsPo8",
    "outputId": "04be6b19-1eb5-4557-c3f7-4a6896e6915d"
   },
   "outputs": [
    {
     "data": {
      "text/plain": [
       "array(['0', '1'], dtype='<U69')"
      ]
     },
     "execution_count": 337,
     "metadata": {},
     "output_type": "execute_result"
    }
   ],
   "source": [
    "# 완료 후, verification_status 데이터 종류 확인\n",
    "np.unique(data_str[:,4])"
   ]
  },
  {
   "cell_type": "markdown",
   "metadata": {
    "id": "-OmrAN82sPo9"
   },
   "source": [
    "### 7. URL"
   ]
  },
  {
   "cell_type": "code",
   "execution_count": 338,
   "metadata": {
    "id": "_v30fFrtsPo9"
   },
   "outputs": [],
   "source": [
    "# \"https://www.lendingclub.com/browse/loanDetail.action?loan_id=\" 삭제하고 숫자만 남김\n",
    "data_str[:,5] = np.chararray.strip(data_str[:,5],\"https://www.lendingclub.com/browse/loanDetail.action?loan_id=\")"
   ]
  },
  {
   "cell_type": "code",
   "execution_count": 339,
   "metadata": {
    "colab": {
     "base_uri": "https://localhost:8080/"
    },
    "id": "0CGrz2E9S33l",
    "outputId": "d1cecb3c-f6f1-46f3-da95-2db27e2cece1"
   },
   "outputs": [
    {
     "data": {
      "text/plain": [
       "array(['48010226', '57693261', '59432726', '53222800', '57803010', '63398019', '60850626',\n",
       "       '46816139', '63918356', '63651616'], dtype='<U69')"
      ]
     },
     "execution_count": 339,
     "metadata": {},
     "output_type": "execute_result"
    }
   ],
   "source": [
    "data_str[:10,5]"
   ]
  },
  {
   "cell_type": "markdown",
   "metadata": {
    "id": "7803rrg8sPpB"
   },
   "source": [
    "### 8. State Address"
   ]
  },
  {
   "cell_type": "code",
   "execution_count": 340,
   "metadata": {
    "colab": {
     "base_uri": "https://localhost:8080/"
    },
    "id": "HvsCLaJ0v-Rp",
    "outputId": "115f1da6-c9d3-42a8-8299-deec8d7f78a2"
   },
   "outputs": [
    {
     "data": {
      "text/plain": [
       "array(['', 'AK', 'AL', 'AR', 'AZ', 'CA', 'CO', 'CT', 'DC', 'DE', 'FL', 'GA', 'HI', 'IL', 'IN',\n",
       "       'KS', 'KY', 'LA', 'MA', 'MD', 'ME', 'MI', 'MN', 'MO', 'MS', 'MT', 'NC', 'ND', 'NE', 'NH',\n",
       "       'NJ', 'NM', 'NV', 'NY', 'OH', 'OK', 'OR', 'PA', 'RI', 'SC', 'SD', 'TN', 'TX', 'UT', 'VA',\n",
       "       'VT', 'WA', 'WI', 'WV', 'WY'], dtype='<U69')"
      ]
     },
     "execution_count": 340,
     "metadata": {},
     "output_type": "execute_result"
    }
   ],
   "source": [
    "# np.unique를 사용하여 addr_state 데이터 종류 확인\n",
    "np.unique(data_str[:,6])"
   ]
  },
  {
   "cell_type": "code",
   "execution_count": 341,
   "metadata": {
    "id": "lDORXWnUsPpC"
   },
   "outputs": [],
   "source": [
    "# 값이 비어 있는 경우(''), 0으로 값 변경,\n",
    "data_str[:,6] = np.where(data_str[:,6]=='',0,data_str[:,6])"
   ]
  },
  {
   "cell_type": "code",
   "execution_count": 342,
   "metadata": {
    "id": "fYkeIb3asPpD"
   },
   "outputs": [],
   "source": [
    "states_west = np.array(['WA', 'OR','CA','NV','ID','MT', 'WY','UT','CO', 'AZ','NM','HI','AK'])\n",
    "states_south = np.array(['TX','OK','AR','LA','MS','AL','TN','KY','FL','GA','SC','NC','VA','WV','MD','DE','DC'])\n",
    "states_midwest = np.array(['ND','SD','NE','KS','MN','IA','MO','WI','IL','IN','MI','OH'])\n",
    "states_east = np.array(['PA','NY','NJ','CT','MA','VT','NH','ME','RI'])"
   ]
  },
  {
   "cell_type": "code",
   "execution_count": 347,
   "metadata": {
    "id": "xBWqt9ulsPpD"
   },
   "outputs": [],
   "source": [
    "# addr_state 값(data_str[:,6]의 값)이 \n",
    "# states_west에 속하는 경우 0, states_south에 속하는 경우 1, \n",
    "# states_midwest에 속하는 경우 2, states_east에 속하는 경우 3\n",
    "# states_east에 속하는 경우 4로 변경\n",
    "# np.where와 np.isin 이용\n",
    "data_str[:,6] = np.where(np.isin(data_str[:,6],states_west),0,data_str[:,6])\n",
    "data_str[:,6] = np.where(np.isin(data_str[:,6],states_south),1,data_str[:,6])\n",
    "data_str[:,6] = np.where(np.isin(data_str[:,6],states_midwest),2,data_str[:,6])\n",
    "data_str[:,6] = np.where(np.isin(data_str[:,6],states_east),4,data_str[:,6])"
   ]
  },
  {
   "cell_type": "code",
   "execution_count": 348,
   "metadata": {
    "colab": {
     "base_uri": "https://localhost:8080/"
    },
    "id": "MHvSKTajsPpE",
    "outputId": "fbeb0d36-40d6-457f-fd2d-0500e4ef42ce"
   },
   "outputs": [
    {
     "data": {
      "text/plain": [
       "array(['0', '1', '2', '3'], dtype='<U69')"
      ]
     },
     "execution_count": 348,
     "metadata": {},
     "output_type": "execute_result"
    }
   ],
   "source": [
    "# 완료 후, addr_state 데이터 종류 확인\n",
    "np.unique(data_str[:,6])"
   ]
  },
  {
   "cell_type": "markdown",
   "metadata": {
    "id": "j87Q-7A9sPpE"
   },
   "source": [
    "### 9. int로 타입 변경"
   ]
  },
  {
   "cell_type": "code",
   "execution_count": 372,
   "metadata": {
    "colab": {
     "base_uri": "https://localhost:8080/"
    },
    "id": "X15xqZClsPpH",
    "outputId": "23c9b222-aacd-4efb-e4e7-e1e15ba69557"
   },
   "outputs": [
    {
     "data": {
      "text/plain": [
       "array([[       0,        1,       36, ...,        1, 48010226,        0],\n",
       "       [       0,        1,       36, ...,        1, 57693261,        3],\n",
       "       [       0,        1,       36, ...,        1, 59432726,        3],\n",
       "       ...,\n",
       "       [       0,        1,       36, ...,        1, 50415990,        0],\n",
       "       [       0,        1,       36, ...,        1, 46154151,        2],\n",
       "       [       0,        1,       36, ...,        0, 66055249,        2]])"
      ]
     },
     "execution_count": 372,
     "metadata": {},
     "output_type": "execute_result"
    }
   ],
   "source": [
    "# 모든 데이터를 np.int 타입으로 변환\n",
    "\n",
    "data_str = data_str.astype(np.int_)\n",
    "data_str"
   ]
  },
  {
   "cell_type": "markdown",
   "metadata": {
    "id": "Y70_tl2AsPpe"
   },
   "source": [
    "### 10. 숫자로 구성된 열만 추출하여 비어 있는 값을 열의 평균으로 대체하기"
   ]
  },
  {
   "cell_type": "code",
   "execution_count": 375,
   "metadata": {
    "colab": {
     "base_uri": "https://localhost:8080/"
    },
    "id": "mp-HOth-sPpe",
    "outputId": "4a1f061b-158e-4db6-e6f8-4f8ea24de047"
   },
   "outputs": [
    {
     "data": {
      "text/plain": [
       "array([[48010226.  ,    35000.  ,    35000.  ,     1184.86,     9452.96],\n",
       "       [57693261.  ,    30000.  ,    30000.  ,      938.57,     4679.7 ],\n",
       "       [59432726.  ,    15000.  ,    15000.  ,      494.86,     1969.83],\n",
       "       ...,\n",
       "       [50415990.  ,    10000.  ,    10000.  ,         nan,     2185.64],\n",
       "       [46154151.  ,         nan,    10000.  ,      354.3 ,     3199.4 ],\n",
       "       [66055249.  ,    10000.  ,    10000.  ,      309.97,      301.9 ]])"
      ]
     },
     "execution_count": 375,
     "metadata": {},
     "output_type": "execute_result"
    }
   ],
   "source": [
    "# id, loan_amnt, funded_amnt, installment, total_pymnt 열만 추출\n",
    "data_num = np.genfromtxt(\"data/project.csv\",delimiter=',',dtype='float_', skip_header=1, usecols=[0,2,4,6,12])\n",
    "data_num"
   ]
  },
  {
   "cell_type": "code",
   "execution_count": 383,
   "metadata": {
    "colab": {
     "base_uri": "https://localhost:8080/"
    },
    "id": "EkeM6lqnsPpe",
    "outputId": "9041ab94-f99d-470c-c96c-21104a58cbe2"
   },
   "outputs": [
    {
     "data": {
      "text/plain": [
       "array([ 9618172.76, 11551775.85, 11893038.14, ..., 12609543.91, 11541926.17, 13215172.17])"
      ]
     },
     "execution_count": 383,
     "metadata": {},
     "output_type": "execute_result"
    }
   ],
   "source": [
    "# 각 열의 평균 값 구하기\n",
    "col_mean = np.nanmean(data_num,axis=1)\n",
    "col_mean"
   ]
  },
  {
   "cell_type": "code",
   "execution_count": 384,
   "metadata": {
    "colab": {
     "base_uri": "https://localhost:8080/"
    },
    "id": "KJ5DT5RlyHWp",
    "outputId": "11a5afb6-e5ac-45ae-df8a-5f2bb0858ca0"
   },
   "outputs": [
    {
     "data": {
      "text/plain": [
       "array([[48010226.  ,    35000.  ,    35000.  ,     1184.86,     9452.96],\n",
       "       [57693261.  ,    30000.  ,    30000.  ,      938.57,     4679.7 ],\n",
       "       [59432726.  ,    15000.  ,    15000.  ,      494.86,     1969.83],\n",
       "       ...,\n",
       "       [50415990.  ,    10000.  ,    10000.  , 10648818.81,     2185.64],\n",
       "       [46154151.  , 11551775.85,    10000.  ,      354.3 ,     3199.4 ],\n",
       "       [66055249.  ,    10000.  ,    10000.  ,      309.97,      301.9 ]])"
      ]
     },
     "execution_count": 384,
     "metadata": {},
     "output_type": "execute_result"
    }
   ],
   "source": [
    "# 비어 있는 값을 해당 열의 평균값으로 대체하기\n",
    "for i in range(5):\n",
    "  # i → 0, 1, 2, 3, 4\n",
    "  # data_num[:,i]의 값이 nan일 경우, col_mean[i]로 변경, nan이 아닐 경우, 변경하지 않음\n",
    "  # np.where와 np.isnan 이용\n",
    "  data_num[:,i] = np.where(np.isnan(data_num[:,i]),col_mean[i],data_num[:,i])\n",
    "\n",
    "data_num"
   ]
  },
  {
   "cell_type": "code",
   "execution_count": 397,
   "metadata": {
    "id": "jYVIeMpJU0CV"
   },
   "outputs": [
    {
     "data": {
      "text/plain": [
       "array([[       0.  ,        1.  ,       36.  , ...,    35000.  ,     1184.86,     9452.96],\n",
       "       [       0.  ,        1.  ,       36.  , ...,    30000.  ,      938.57,     4679.7 ],\n",
       "       [       0.  ,        1.  ,       36.  , ...,    15000.  ,      494.86,     1969.83],\n",
       "       ...,\n",
       "       [       0.  ,        1.  ,       36.  , ...,    10000.  , 10648818.81,     2185.64],\n",
       "       [       0.  ,        1.  ,       36.  , ...,    10000.  ,      354.3 ,     3199.4 ],\n",
       "       [       0.  ,        1.  ,       36.  , ...,    10000.  ,      309.97,      301.9 ]])"
      ]
     },
     "execution_count": 397,
     "metadata": {},
     "output_type": "execute_result"
    }
   ],
   "source": [
    "# 위 ndarray와 9번 ndarrya 결합하기\n",
    "np.hstack([data_str,data_num])"
   ]
  },
  {
   "cell_type": "code",
   "execution_count": 390,
   "metadata": {},
   "outputs": [
    {
     "data": {
      "text/plain": [
       "(10000, 5)"
      ]
     },
     "execution_count": 390,
     "metadata": {},
     "output_type": "execute_result"
    }
   ],
   "source": []
  }
 ],
 "metadata": {
  "colab": {
   "collapsed_sections": [],
   "name": "project.ipynb",
   "provenance": []
  },
  "kernelspec": {
   "display_name": "Python 3 (ipykernel)",
   "language": "python",
   "name": "python3"
  },
  "language_info": {
   "codemirror_mode": {
    "name": "ipython",
    "version": 3
   },
   "file_extension": ".py",
   "mimetype": "text/x-python",
   "name": "python",
   "nbconvert_exporter": "python",
   "pygments_lexer": "ipython3",
   "version": "3.9.12"
  }
 },
 "nbformat": 4,
 "nbformat_minor": 1
}
