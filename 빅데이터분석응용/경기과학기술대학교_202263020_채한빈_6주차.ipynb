{
 "cells": [
  {
   "cell_type": "markdown",
   "id": "3677ad39",
   "metadata": {},
   "source": [
    "# 1차시"
   ]
  },
  {
   "cell_type": "code",
   "execution_count": 1,
   "id": "38ba9682",
   "metadata": {},
   "outputs": [],
   "source": [
    "import pandas as pd"
   ]
  },
  {
   "cell_type": "code",
   "execution_count": 8,
   "id": "1959200e",
   "metadata": {},
   "outputs": [
    {
     "name": "stderr",
     "output_type": "stream",
     "text": [
      "C:\\Users\\HaNbiN\\AppData\\Local\\Temp\\ipykernel_26576\\1292718529.py:1: FutureWarning: The squeeze argument has been deprecated and will be removed in a future version. Append .squeeze(\"columns\") to the call to squeeze.\n",
      "\n",
      "\n",
      "  poke = pd.read_csv(\"data/pokemon.csv\", usecols=['Pokemon'], squeeze=True)\n"
     ]
    }
   ],
   "source": [
    "poke = pd.read_csv(\"data/pokemon.csv\", usecols=['Pokemon'], squeeze=True)"
   ]
  },
  {
   "cell_type": "code",
   "execution_count": 12,
   "id": "125afb45",
   "metadata": {},
   "outputs": [
    {
     "name": "stderr",
     "output_type": "stream",
     "text": [
      "C:\\Users\\HaNbiN\\AppData\\Local\\Temp\\ipykernel_26576\\2602963188.py:1: FutureWarning: The squeeze argument has been deprecated and will be removed in a future version. Append .squeeze(\"columns\") to the call to squeeze.\n",
      "\n",
      "\n",
      "  st = pd.read_csv('data/stock.csv',squeeze=True)\n"
     ]
    }
   ],
   "source": [
    "st = pd.read_csv('data/stock.csv',squeeze=True)"
   ]
  },
  {
   "cell_type": "code",
   "execution_count": 13,
   "id": "db99a703",
   "metadata": {},
   "outputs": [
    {
     "name": "stdout",
     "output_type": "stream",
     "text": [
      "0       Bulbasaur\n",
      "1         Ivysaur\n",
      "2        Venusaur\n",
      "3      Charmander\n",
      "4      Charmeleon\n",
      "          ...    \n",
      "716       Yveltal\n",
      "717       Zygarde\n",
      "718       Diancie\n",
      "719         Hoopa\n",
      "720     Volcanion\n",
      "Name: Pokemon, Length: 721, dtype: object\n"
     ]
    }
   ],
   "source": [
    "print(poke)"
   ]
  },
  {
   "cell_type": "code",
   "execution_count": 14,
   "id": "c7e5bf53",
   "metadata": {},
   "outputs": [
    {
     "name": "stdout",
     "output_type": "stream",
     "text": [
      "0        50.12\n",
      "1        54.10\n",
      "2        54.65\n",
      "3        52.38\n",
      "4        52.95\n",
      "         ...  \n",
      "3007    772.88\n",
      "3008    771.07\n",
      "3009    773.18\n",
      "3010    771.61\n",
      "3011    782.22\n",
      "Name: Stock Price, Length: 3012, dtype: float64\n"
     ]
    }
   ],
   "source": [
    "print(st)"
   ]
  },
  {
   "cell_type": "code",
   "execution_count": 16,
   "id": "1de560e1",
   "metadata": {},
   "outputs": [
    {
     "data": {
      "text/plain": [
       "0    Bulbasaur\n",
       "1      Ivysaur\n",
       "2     Venusaur\n",
       "Name: Pokemon, dtype: object"
      ]
     },
     "execution_count": 16,
     "metadata": {},
     "output_type": "execute_result"
    }
   ],
   "source": [
    "poke.head(3)"
   ]
  },
  {
   "cell_type": "code",
   "execution_count": 17,
   "id": "36525237",
   "metadata": {},
   "outputs": [
    {
     "data": {
      "text/plain": [
       "713       Noibat\n",
       "714      Noivern\n",
       "715      Xerneas\n",
       "716      Yveltal\n",
       "717      Zygarde\n",
       "718      Diancie\n",
       "719        Hoopa\n",
       "720    Volcanion\n",
       "Name: Pokemon, dtype: object"
      ]
     },
     "execution_count": 17,
     "metadata": {},
     "output_type": "execute_result"
    }
   ],
   "source": [
    "poke.tail(8)"
   ]
  },
  {
   "cell_type": "code",
   "execution_count": 18,
   "id": "2a8ee626",
   "metadata": {},
   "outputs": [
    {
     "data": {
      "text/plain": [
       "459    Abomasnow\n",
       "62          Abra\n",
       "358        Absol\n",
       "616     Accelgor\n",
       "680    Aegislash\n",
       "         ...    \n",
       "570      Zoroark\n",
       "569        Zorua\n",
       "40         Zubat\n",
       "633     Zweilous\n",
       "717      Zygarde\n",
       "Name: Pokemon, Length: 721, dtype: object"
      ]
     },
     "execution_count": 18,
     "metadata": {},
     "output_type": "execute_result"
    }
   ],
   "source": [
    "poke.sort_values()"
   ]
  },
  {
   "cell_type": "code",
   "execution_count": 19,
   "id": "bb0ab49b",
   "metadata": {},
   "outputs": [
    {
     "data": {
      "text/plain": [
       "459    Abomasnow\n",
       "62          Abra\n",
       "358        Absol\n",
       "616     Accelgor\n",
       "680    Aegislash\n",
       "         ...    \n",
       "570      Zoroark\n",
       "569        Zorua\n",
       "40         Zubat\n",
       "633     Zweilous\n",
       "717      Zygarde\n",
       "Name: Pokemon, Length: 721, dtype: object"
      ]
     },
     "execution_count": 19,
     "metadata": {},
     "output_type": "execute_result"
    }
   ],
   "source": [
    "poke.sort_values()"
   ]
  },
  {
   "cell_type": "code",
   "execution_count": 23,
   "id": "a08d98ad",
   "metadata": {},
   "outputs": [],
   "source": [
    "poke.sort_values(ascending = False, inplace=True)"
   ]
  },
  {
   "cell_type": "code",
   "execution_count": 26,
   "id": "90845ca7",
   "metadata": {},
   "outputs": [],
   "source": [
    "poke.sort_values(inplace=True)"
   ]
  },
  {
   "cell_type": "code",
   "execution_count": 27,
   "id": "a0baf6da",
   "metadata": {},
   "outputs": [
    {
     "data": {
      "text/plain": [
       "459    Abomasnow\n",
       "62          Abra\n",
       "358        Absol\n",
       "616     Accelgor\n",
       "680    Aegislash\n",
       "         ...    \n",
       "570      Zoroark\n",
       "569        Zorua\n",
       "40         Zubat\n",
       "633     Zweilous\n",
       "717      Zygarde\n",
       "Name: Pokemon, Length: 721, dtype: object"
      ]
     },
     "execution_count": 27,
     "metadata": {},
     "output_type": "execute_result"
    }
   ],
   "source": [
    "poke"
   ]
  },
  {
   "cell_type": "code",
   "execution_count": 28,
   "id": "92b8ceb4",
   "metadata": {
    "scrolled": true
   },
   "outputs": [
    {
     "data": {
      "text/plain": [
       "0       Bulbasaur\n",
       "1         Ivysaur\n",
       "2        Venusaur\n",
       "3      Charmander\n",
       "4      Charmeleon\n",
       "          ...    \n",
       "716       Yveltal\n",
       "717       Zygarde\n",
       "718       Diancie\n",
       "719         Hoopa\n",
       "720     Volcanion\n",
       "Name: Pokemon, Length: 721, dtype: object"
      ]
     },
     "execution_count": 28,
     "metadata": {},
     "output_type": "execute_result"
    }
   ],
   "source": [
    "poke.sort_index(ascending=True, inplace=True)\n",
    "poke"
   ]
  },
  {
   "cell_type": "code",
   "execution_count": 30,
   "id": "b02c3503",
   "metadata": {},
   "outputs": [
    {
     "name": "stderr",
     "output_type": "stream",
     "text": [
      "C:\\Users\\HaNbiN\\AppData\\Local\\Temp\\ipykernel_26576\\2238848651.py:1: FutureWarning: The squeeze argument has been deprecated and will be removed in a future version. Append .squeeze(\"columns\") to the call to squeeze.\n",
      "\n",
      "\n",
      "  poke = pd.read_csv(\"data/pokemon.csv\", index_col = 'Pokemon', squeeze=True)\n"
     ]
    },
    {
     "data": {
      "text/plain": [
       "Pokemon\n",
       "Bulbasaur       Grass\n",
       "Ivysaur         Grass\n",
       "Venusaur        Grass\n",
       "Charmander       Fire\n",
       "Charmeleon       Fire\n",
       "               ...   \n",
       "Yveltal          Dark\n",
       "Zygarde        Dragon\n",
       "Diancie          Rock\n",
       "Hoopa         Psychic\n",
       "Volcanion        Fire\n",
       "Name: Type, Length: 721, dtype: object"
      ]
     },
     "execution_count": 30,
     "metadata": {},
     "output_type": "execute_result"
    }
   ],
   "source": [
    "poke = pd.read_csv(\"data/pokemon.csv\", index_col = 'Pokemon', squeeze=True)\n",
    "poke"
   ]
  },
  {
   "cell_type": "code",
   "execution_count": 35,
   "id": "3e1b8e54",
   "metadata": {},
   "outputs": [
    {
     "data": {
      "text/plain": [
       "str"
      ]
     },
     "execution_count": 35,
     "metadata": {},
     "output_type": "execute_result"
    }
   ],
   "source": [
    "type(poke[4])"
   ]
  },
  {
   "cell_type": "code",
   "execution_count": 34,
   "id": "530cf6fc",
   "metadata": {},
   "outputs": [
    {
     "data": {
      "text/plain": [
       "Pokemon\n",
       "Ivysaur       Grass\n",
       "Venusaur      Grass\n",
       "Charmander     Fire\n",
       "Name: Type, dtype: object"
      ]
     },
     "execution_count": 34,
     "metadata": {},
     "output_type": "execute_result"
    }
   ],
   "source": [
    "poke[[1,2,3]]"
   ]
  },
  {
   "cell_type": "code",
   "execution_count": 37,
   "id": "d8b0be07",
   "metadata": {},
   "outputs": [
    {
     "data": {
      "text/plain": [
       "Pokemon\n",
       "Ivysaur       Grass\n",
       "Venusaur      Grass\n",
       "Charmander     Fire\n",
       "Name: Type, dtype: object"
      ]
     },
     "execution_count": 37,
     "metadata": {},
     "output_type": "execute_result"
    }
   ],
   "source": [
    "poke[1:4]"
   ]
  },
  {
   "cell_type": "code",
   "execution_count": 40,
   "id": "e30451db",
   "metadata": {},
   "outputs": [
    {
     "data": {
      "text/plain": [
       "Pokemon\n",
       "Ivysaur       Grass\n",
       "Charmander     Fire\n",
       "Name: Type, dtype: object"
      ]
     },
     "execution_count": 40,
     "metadata": {},
     "output_type": "execute_result"
    }
   ],
   "source": [
    "poke[['Ivysaur','Charmander']]"
   ]
  },
  {
   "cell_type": "code",
   "execution_count": 41,
   "id": "ba4a8ce1",
   "metadata": {},
   "outputs": [
    {
     "data": {
      "text/plain": [
       "Pokemon\n",
       "Ivysaur       Grass\n",
       "Venusaur      Grass\n",
       "Charmander     Fire\n",
       "Name: Type, dtype: object"
      ]
     },
     "execution_count": 41,
     "metadata": {},
     "output_type": "execute_result"
    }
   ],
   "source": [
    "poke['Ivysaur':'Charmander']"
   ]
  },
  {
   "cell_type": "code",
   "execution_count": 43,
   "id": "de5c4495",
   "metadata": {},
   "outputs": [
    {
     "data": {
      "text/plain": [
       "Pokemon\n",
       "Ivysaur    Grass\n",
       "lizard       NaN\n",
       "Name: Type, dtype: object"
      ]
     },
     "execution_count": 43,
     "metadata": {},
     "output_type": "execute_result"
    }
   ],
   "source": [
    "poke.reindex(index=['Ivysaur','lizard']) # 해당 index가 없다면 생성"
   ]
  },
  {
   "cell_type": "code",
   "execution_count": 47,
   "id": "a1a6cb56",
   "metadata": {},
   "outputs": [],
   "source": [
    "poke.get(['Ivysaur','lizard']) #있으면 출력, 없으면 pass"
   ]
  },
  {
   "cell_type": "code",
   "execution_count": 49,
   "id": "6cf262dd",
   "metadata": {},
   "outputs": [
    {
     "data": {
      "text/plain": [
       "0    50.12\n",
       "1    54.10\n",
       "2    54.65\n",
       "3    52.38\n",
       "4    52.95\n",
       "Name: Stock Price, dtype: float64"
      ]
     },
     "execution_count": 49,
     "metadata": {},
     "output_type": "execute_result"
    }
   ],
   "source": [
    "st.head()"
   ]
  },
  {
   "cell_type": "code",
   "execution_count": 51,
   "id": "01fc7c28",
   "metadata": {},
   "outputs": [
    {
     "data": {
      "text/plain": [
       "3012"
      ]
     },
     "execution_count": 51,
     "metadata": {},
     "output_type": "execute_result"
    }
   ],
   "source": [
    "st.count() #데이터의 개수"
   ]
  },
  {
   "cell_type": "code",
   "execution_count": 52,
   "id": "1ae99730",
   "metadata": {},
   "outputs": [
    {
     "data": {
      "text/plain": [
       "1006942.0"
      ]
     },
     "execution_count": 52,
     "metadata": {},
     "output_type": "execute_result"
    }
   ],
   "source": [
    "st.sum() #값의 값"
   ]
  },
  {
   "cell_type": "code",
   "execution_count": 53,
   "id": "5b5f3958",
   "metadata": {},
   "outputs": [
    {
     "data": {
      "text/plain": [
       "334.31009296148744"
      ]
     },
     "execution_count": 53,
     "metadata": {},
     "output_type": "execute_result"
    }
   ],
   "source": [
    "st.mean()"
   ]
  },
  {
   "cell_type": "code",
   "execution_count": 54,
   "id": "25f1e962",
   "metadata": {},
   "outputs": [
    {
     "data": {
      "text/plain": [
       "173.18720477113106"
      ]
     },
     "execution_count": 54,
     "metadata": {},
     "output_type": "execute_result"
    }
   ],
   "source": [
    "st.std() #표준편차"
   ]
  },
  {
   "cell_type": "code",
   "execution_count": 55,
   "id": "bf89d39f",
   "metadata": {},
   "outputs": [
    {
     "data": {
      "text/plain": [
       "29993.807896437687"
      ]
     },
     "execution_count": 55,
     "metadata": {},
     "output_type": "execute_result"
    }
   ],
   "source": [
    "st.var() #분산"
   ]
  },
  {
   "cell_type": "code",
   "execution_count": 56,
   "id": "1d44ebac",
   "metadata": {},
   "outputs": [
    {
     "data": {
      "text/plain": [
       "49.95"
      ]
     },
     "execution_count": 56,
     "metadata": {},
     "output_type": "execute_result"
    }
   ],
   "source": [
    "st.min()"
   ]
  },
  {
   "cell_type": "code",
   "execution_count": 57,
   "id": "26ce0ae0",
   "metadata": {},
   "outputs": [
    {
     "data": {
      "text/plain": [
       "782.22"
      ]
     },
     "execution_count": 57,
     "metadata": {},
     "output_type": "execute_result"
    }
   ],
   "source": [
    "st.max()"
   ]
  },
  {
   "cell_type": "code",
   "execution_count": 58,
   "id": "94aa1dce",
   "metadata": {},
   "outputs": [
    {
     "data": {
      "text/plain": [
       "11"
      ]
     },
     "execution_count": 58,
     "metadata": {},
     "output_type": "execute_result"
    }
   ],
   "source": [
    "st.idxmin() #최솟값의 인덱스 출력"
   ]
  },
  {
   "cell_type": "code",
   "execution_count": 60,
   "id": "8ed7187c",
   "metadata": {},
   "outputs": [
    {
     "data": {
      "text/plain": [
       "49.95"
      ]
     },
     "execution_count": 60,
     "metadata": {},
     "output_type": "execute_result"
    }
   ],
   "source": [
    "st[11]"
   ]
  },
  {
   "cell_type": "code",
   "execution_count": 61,
   "id": "dc3316c7",
   "metadata": {},
   "outputs": [
    {
     "data": {
      "text/plain": [
       "3011"
      ]
     },
     "execution_count": 61,
     "metadata": {},
     "output_type": "execute_result"
    }
   ],
   "source": [
    "st.idxmax() #최대값의 인덱스 출력"
   ]
  },
  {
   "cell_type": "code",
   "execution_count": 62,
   "id": "00d78c44",
   "metadata": {},
   "outputs": [
    {
     "data": {
      "text/plain": [
       "283.315"
      ]
     },
     "execution_count": 62,
     "metadata": {},
     "output_type": "execute_result"
    }
   ],
   "source": [
    "st.median() #중앙값"
   ]
  },
  {
   "cell_type": "code",
   "execution_count": 63,
   "id": "eaff04ba",
   "metadata": {},
   "outputs": [
    {
     "data": {
      "text/plain": [
       "count    3012.000000\n",
       "mean      334.310093\n",
       "std       173.187205\n",
       "min        49.950000\n",
       "25%       218.045000\n",
       "50%       283.315000\n",
       "75%       443.000000\n",
       "max       782.220000\n",
       "Name: Stock Price, dtype: float64"
      ]
     },
     "execution_count": 63,
     "metadata": {},
     "output_type": "execute_result"
    }
   ],
   "source": [
    "st.describe()"
   ]
  },
  {
   "cell_type": "code",
   "execution_count": 65,
   "id": "826f0063",
   "metadata": {},
   "outputs": [
    {
     "data": {
      "text/plain": [
       "0        53.12\n",
       "1        57.10\n",
       "2        57.65\n",
       "3        55.38\n",
       "4        55.95\n",
       "         ...  \n",
       "3007    775.88\n",
       "3008    774.07\n",
       "3009    776.18\n",
       "3010    774.61\n",
       "3011    785.22\n",
       "Name: Stock Price, Length: 3012, dtype: float64"
      ]
     },
     "execution_count": 65,
     "metadata": {},
     "output_type": "execute_result"
    }
   ],
   "source": [
    "st.add(3) #각각의 요소에 +3"
   ]
  },
  {
   "cell_type": "code",
   "execution_count": 67,
   "id": "f93122b0",
   "metadata": {},
   "outputs": [
    {
     "data": {
      "text/plain": [
       "0        47.12\n",
       "1        51.10\n",
       "2        51.65\n",
       "3        49.38\n",
       "4        49.95\n",
       "         ...  \n",
       "3007    769.88\n",
       "3008    768.07\n",
       "3009    770.18\n",
       "3010    768.61\n",
       "3011    779.22\n",
       "Name: Stock Price, Length: 3012, dtype: float64"
      ]
     },
     "execution_count": 67,
     "metadata": {},
     "output_type": "execute_result"
    }
   ],
   "source": [
    "st.sub(3)"
   ]
  },
  {
   "cell_type": "code",
   "execution_count": 68,
   "id": "d5b23e8b",
   "metadata": {},
   "outputs": [
    {
     "data": {
      "text/plain": [
       "0       -50.12\n",
       "1       -54.10\n",
       "2       -54.65\n",
       "3       -52.38\n",
       "4       -52.95\n",
       "         ...  \n",
       "3007   -772.88\n",
       "3008   -771.07\n",
       "3009   -773.18\n",
       "3010   -771.61\n",
       "3011   -782.22\n",
       "Name: Stock Price, Length: 3012, dtype: float64"
      ]
     },
     "execution_count": 68,
     "metadata": {},
     "output_type": "execute_result"
    }
   ],
   "source": [
    "st.mul(-1)"
   ]
  },
  {
   "cell_type": "code",
   "execution_count": 71,
   "id": "c58cde0e",
   "metadata": {},
   "outputs": [],
   "source": [
    "st = st.div(2)"
   ]
  },
  {
   "cell_type": "code",
   "execution_count": 72,
   "id": "3bf572a7",
   "metadata": {},
   "outputs": [
    {
     "data": {
      "text/plain": [
       "0        25.060\n",
       "1        27.050\n",
       "2        27.325\n",
       "3        26.190\n",
       "4        26.475\n",
       "         ...   \n",
       "3007    386.440\n",
       "3008    385.535\n",
       "3009    386.590\n",
       "3010    385.805\n",
       "3011    391.110\n",
       "Name: Stock Price, Length: 3012, dtype: float64"
      ]
     },
     "execution_count": 72,
     "metadata": {},
     "output_type": "execute_result"
    }
   ],
   "source": [
    "st"
   ]
  },
  {
   "cell_type": "code",
   "execution_count": 73,
   "id": "c12f78eb",
   "metadata": {},
   "outputs": [
    {
     "data": {
      "text/plain": [
       "Water       105\n",
       "Normal       93\n",
       "Grass        66\n",
       "Bug          63\n",
       "Fire         47\n",
       "Psychic      47\n",
       "Rock         41\n",
       "Electric     36\n",
       "Ground       30\n",
       "Poison       28\n",
       "Dark         28\n",
       "Fighting     25\n",
       "Dragon       24\n",
       "Ghost        23\n",
       "Ice          23\n",
       "Steel        22\n",
       "Fairy        17\n",
       "Flying        3\n",
       "Name: Type, dtype: int64"
      ]
     },
     "execution_count": 73,
     "metadata": {},
     "output_type": "execute_result"
    }
   ],
   "source": [
    "poke.value_counts() # value가 포함된 횟수 반환, 내림차순"
   ]
  },
  {
   "cell_type": "code",
   "execution_count": 74,
   "id": "8aa18fe0",
   "metadata": {},
   "outputs": [
    {
     "data": {
      "text/plain": [
       "array(['Grass', 'Fire', 'Water', 'Bug', 'Normal', 'Poison', 'Electric',\n",
       "       'Ground', 'Fairy', 'Fighting', 'Psychic', 'Rock', 'Ghost', 'Ice',\n",
       "       'Dragon', 'Dark', 'Steel', 'Flying'], dtype=object)"
      ]
     },
     "execution_count": 74,
     "metadata": {},
     "output_type": "execute_result"
    }
   ],
   "source": [
    "poke.unique() # unique() : value의 종류 반환, 중복없음"
   ]
  },
  {
   "cell_type": "code",
   "execution_count": 75,
   "id": "2b628c45",
   "metadata": {},
   "outputs": [
    {
     "data": {
      "text/plain": [
       "18"
      ]
     },
     "execution_count": 75,
     "metadata": {},
     "output_type": "execute_result"
    }
   ],
   "source": [
    "poke.nunique() # nunique() : value의 개수 반환, 중복없음"
   ]
  },
  {
   "cell_type": "markdown",
   "id": "aa9fd2a6",
   "metadata": {},
   "source": [
    "# 2차시"
   ]
  },
  {
   "cell_type": "code",
   "execution_count": null,
   "id": "b5b5a662",
   "metadata": {},
   "outputs": [],
   "source": []
  }
 ],
 "metadata": {
  "kernelspec": {
   "display_name": "Python 3 (ipykernel)",
   "language": "python",
   "name": "python3"
  },
  "language_info": {
   "codemirror_mode": {
    "name": "ipython",
    "version": 3
   },
   "file_extension": ".py",
   "mimetype": "text/x-python",
   "name": "python",
   "nbconvert_exporter": "python",
   "pygments_lexer": "ipython3",
   "version": "3.9.12"
  }
 },
 "nbformat": 4,
 "nbformat_minor": 5
}
