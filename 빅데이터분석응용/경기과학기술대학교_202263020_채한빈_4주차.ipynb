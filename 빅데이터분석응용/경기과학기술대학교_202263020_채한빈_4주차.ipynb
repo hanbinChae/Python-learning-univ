{
 "cells": [
  {
   "cell_type": "markdown",
   "id": "bca13c5e",
   "metadata": {},
   "source": [
    "# 1차시"
   ]
  },
  {
   "cell_type": "code",
   "execution_count": 1,
   "id": "5585e7b4",
   "metadata": {},
   "outputs": [],
   "source": [
    "import numpy as np"
   ]
  },
  {
   "cell_type": "code",
   "execution_count": 58,
   "id": "1ed97bbb",
   "metadata": {},
   "outputs": [
    {
     "data": {
      "text/plain": [
       "array([[ 2000.,    40.,   365.,  3121.,  4241., 13621.],\n",
       "       [ 2000.,    40.,   365.,  3061.,  4171., 15041.],\n",
       "       [ 1000.,    40.,   365.,  2160.,  3280., 15340.],\n",
       "       ...,\n",
       "       [ 2000.,    40.,   365.,  4201.,  5001., 16600.],\n",
       "       [ 1000.,    40.,   365.,  2080.,  3320., 15600.],\n",
       "       [ 2000.,    40.,   365.,  4601.,  4601., 16600.]])"
      ]
     },
     "execution_count": 58,
     "metadata": {},
     "output_type": "execute_result"
    }
   ],
   "source": [
    "numdata = np.loadtxt(\"data/NumData.csv\",delimiter=\",\")\n",
    "numdata"
   ]
  },
  {
   "cell_type": "code",
   "execution_count": 5,
   "id": "be331715",
   "metadata": {},
   "outputs": [
    {
     "data": {
      "text/plain": [
       "(1043, 6)"
      ]
     },
     "execution_count": 5,
     "metadata": {},
     "output_type": "execute_result"
    }
   ],
   "source": [
    "numdata.shape"
   ]
  },
  {
   "cell_type": "code",
   "execution_count": 7,
   "id": "4c71049c",
   "metadata": {
    "scrolled": true
   },
   "outputs": [
    {
     "name": "stdout",
     "output_type": "stream",
     "text": [
      "[[ 2000.    40.   365. ...   365.  1581.  3041.]\n",
      " [12277.  2000.    40. ...    50.   365.  5350.]\n",
      " [ 6850. 15150.  1000. ...  2000.    40.   365.]\n",
      " [ 3101.  4351. 16600. ... 16600.  2000.    40.]\n",
      " [  365.  3441.  4661. ...  8450. 22250.  2000.]\n",
      " [   40.   365.  3701. ...  4601.  4601. 16600.]]\n"
     ]
    }
   ],
   "source": [
    "numdata2 = numdata.reshape(6,1043) #ndarray의 형태 바꾸기 \n",
    "print(numdata2)"
   ]
  },
  {
   "cell_type": "code",
   "execution_count": 9,
   "id": "6284bb99",
   "metadata": {},
   "outputs": [
    {
     "data": {
      "text/plain": [
       "(6, 1043)"
      ]
     },
     "execution_count": 9,
     "metadata": {},
     "output_type": "execute_result"
    }
   ],
   "source": [
    "numdata2.shape"
   ]
  },
  {
   "cell_type": "code",
   "execution_count": 11,
   "id": "6f5c382e",
   "metadata": {},
   "outputs": [
    {
     "name": "stdout",
     "output_type": "stream",
     "text": [
      "3280.0\n",
      "3280.0\n"
     ]
    }
   ],
   "source": [
    "print(numdata[2,4])\n",
    "print(numdata2[0,16])"
   ]
  },
  {
   "cell_type": "code",
   "execution_count": 13,
   "id": "f54c96c2",
   "metadata": {},
   "outputs": [
    {
     "name": "stdout",
     "output_type": "stream",
     "text": [
      "12277.0\n"
     ]
    }
   ],
   "source": [
    "print(numdata2[1,0])"
   ]
  },
  {
   "cell_type": "code",
   "execution_count": 16,
   "id": "f8263f63",
   "metadata": {},
   "outputs": [
    {
     "name": "stdout",
     "output_type": "stream",
     "text": [
      "12277.0\n"
     ]
    }
   ],
   "source": [
    "print(numdata[173,-1])"
   ]
  },
  {
   "cell_type": "code",
   "execution_count": 20,
   "id": "6be910a0",
   "metadata": {},
   "outputs": [
    {
     "ename": "ValueError",
     "evalue": "cannot reshape array of size 6258 into shape (1043,5)",
     "output_type": "error",
     "traceback": [
      "\u001b[1;31m---------------------------------------------------------------------------\u001b[0m",
      "\u001b[1;31mValueError\u001b[0m                                Traceback (most recent call last)",
      "Input \u001b[1;32mIn [20]\u001b[0m, in \u001b[0;36m<cell line: 1>\u001b[1;34m()\u001b[0m\n\u001b[1;32m----> 1\u001b[0m \u001b[43mnumdata\u001b[49m\u001b[38;5;241;43m.\u001b[39;49m\u001b[43mreshape\u001b[49m\u001b[43m(\u001b[49m\u001b[38;5;241;43m1043\u001b[39;49m\u001b[43m,\u001b[49m\u001b[38;5;241;43m5\u001b[39;49m\u001b[43m)\u001b[49m\n",
      "\u001b[1;31mValueError\u001b[0m: cannot reshape array of size 6258 into shape (1043,5)"
     ]
    }
   ],
   "source": [
    "numdata.reshape(1043,5)"
   ]
  },
  {
   "cell_type": "code",
   "execution_count": 23,
   "id": "056f5989",
   "metadata": {},
   "outputs": [
    {
     "data": {
      "text/plain": [
       "array([[[ 2000.,    40.,   365., ...,   365.,  1581.,  3041.],\n",
       "        [12277.,  2000.,    40., ...,    50.,   365.,  5350.],\n",
       "        [ 6850., 15150.,  1000., ...,  2000.,    40.,   365.]],\n",
       "\n",
       "       [[ 3101.,  4351., 16600., ..., 16600.,  2000.,    40.],\n",
       "        [  365.,  3441.,  4661., ...,  8450., 22250.,  2000.],\n",
       "        [   40.,   365.,  3701., ...,  4601.,  4601., 16600.]]])"
      ]
     },
     "execution_count": 23,
     "metadata": {},
     "output_type": "execute_result"
    }
   ],
   "source": [
    "numdata.reshape(2,3,1043) # n개의 차원으로 변경 가능"
   ]
  },
  {
   "cell_type": "code",
   "execution_count": 25,
   "id": "a7dd6fcb",
   "metadata": {},
   "outputs": [
    {
     "name": "stdout",
     "output_type": "stream",
     "text": [
      "[[ 2000.  2000.  1000. ...  2000.  1000.  2000.]\n",
      " [   40.    40.    40. ...    40.    40.    40.]\n",
      " [  365.   365.   365. ...   365.   365.   365.]\n",
      " [ 3121.  3061.  2160. ...  4201.  2080.  4601.]\n",
      " [ 4241.  4171.  3280. ...  5001.  3320.  4601.]\n",
      " [13621. 15041. 15340. ... 16600. 15600. 16600.]]\n"
     ]
    }
   ],
   "source": [
    "numdata3 = np.transpose(numdata)\n",
    "print(numdata3)"
   ]
  },
  {
   "cell_type": "code",
   "execution_count": 28,
   "id": "9bd405cd",
   "metadata": {},
   "outputs": [
    {
     "name": "stdout",
     "output_type": "stream",
     "text": [
      "[3121. 3061. 2160. ... 4201. 2080. 4601.]\n",
      "[3121. 3061. 2160. ... 4201. 2080. 4601.]\n"
     ]
    }
   ],
   "source": [
    "print(numdata[:,3])\n",
    "print(numdata3[3,:])"
   ]
  },
  {
   "cell_type": "code",
   "execution_count": 30,
   "id": "40bc96d4",
   "metadata": {},
   "outputs": [
    {
     "data": {
      "text/plain": [
       "array([[ 2000.,    40.,   365.,  3121.,  4241., 13621.],\n",
       "       [ 2000.,    40.,   365.,  3061.,  4171., 15041.],\n",
       "       [ 1000.,    40.,   365.,  2160.,  3280., 15340.],\n",
       "       ...,\n",
       "       [ 2000.,    40.,   365.,  4201.,  5001., 16600.],\n",
       "       [ 1000.,    40.,   365.,  2080.,  3320., 15600.],\n",
       "       [ 2000.,    40.,   365.,  4601.,  4601., 16600.]])"
      ]
     },
     "execution_count": 30,
     "metadata": {},
     "output_type": "execute_result"
    }
   ],
   "source": [
    "numdata"
   ]
  },
  {
   "cell_type": "code",
   "execution_count": 34,
   "id": "27ac20cf",
   "metadata": {},
   "outputs": [
    {
     "data": {
      "text/plain": [
       "array([[ 2000.,    40.,   365.,  3121.,  4241., 13621.],\n",
       "       [ 1000.,    40.,   365.,  2160.,  3280., 15340.],\n",
       "       [ 2000.,    40.,   365.,  3041.,  4241., 15321.],\n",
       "       ...,\n",
       "       [ 2000.,    40.,   365.,  4201.,  5001., 16600.],\n",
       "       [ 1000.,    40.,   365.,  2080.,  3320., 15600.],\n",
       "       [ 2000.,    40.,   365.,  4601.,  4601., 16600.]])"
      ]
     },
     "execution_count": 34,
     "metadata": {},
     "output_type": "execute_result"
    }
   ],
   "source": [
    "np.delete(numdata, 1, axis=0) # 행 삭제"
   ]
  },
  {
   "cell_type": "code",
   "execution_count": 35,
   "id": "e2927e65",
   "metadata": {},
   "outputs": [
    {
     "data": {
      "text/plain": [
       "array([[ 2000.,   365.,  3121.,  4241., 13621.],\n",
       "       [ 2000.,   365.,  3061.,  4171., 15041.],\n",
       "       [ 1000.,   365.,  2160.,  3280., 15340.],\n",
       "       ...,\n",
       "       [ 2000.,   365.,  4201.,  5001., 16600.],\n",
       "       [ 1000.,   365.,  2080.,  3320., 15600.],\n",
       "       [ 2000.,   365.,  4601.,  4601., 16600.]])"
      ]
     },
     "execution_count": 35,
     "metadata": {},
     "output_type": "execute_result"
    }
   ],
   "source": [
    "np.delete(numdata,1,axis=1) #열 삭제"
   ]
  },
  {
   "cell_type": "code",
   "execution_count": 42,
   "id": "d5f4f402",
   "metadata": {},
   "outputs": [
    {
     "data": {
      "text/plain": [
       "(1040, 4)"
      ]
     },
     "execution_count": 42,
     "metadata": {},
     "output_type": "execute_result"
    }
   ],
   "source": [
    "np.delete(np.delete(numdata, [2,4], axis=1), (1040,1041,1042), axis=0).shape"
   ]
  },
  {
   "cell_type": "code",
   "execution_count": 44,
   "id": "50895b34",
   "metadata": {},
   "outputs": [
    {
     "data": {
      "text/plain": [
       "array([[ 2000.,    40.,   365.,  3121.,  4241., 13621.],\n",
       "       [ 2000.,    40.,   365.,  3061.,  4171., 15041.],\n",
       "       [ 1000.,    40.,   365.,  2160.,  3280., 15340.],\n",
       "       ...,\n",
       "       [ 2000.,    40.,   365.,  4201.,  5001., 16600.],\n",
       "       [ 1000.,    40.,   365.,  2080.,  3320., 15600.],\n",
       "       [ 2000.,    40.,   365.,  4601.,  4601., 16600.]])"
      ]
     },
     "execution_count": 44,
     "metadata": {},
     "output_type": "execute_result"
    }
   ],
   "source": [
    "numdata"
   ]
  },
  {
   "cell_type": "code",
   "execution_count": 47,
   "id": "86418bb7",
   "metadata": {
    "scrolled": true
   },
   "outputs": [],
   "source": [
    "numdata = np.delete(numdata,0,axis=1)"
   ]
  },
  {
   "cell_type": "code",
   "execution_count": 49,
   "id": "3172bde1",
   "metadata": {},
   "outputs": [],
   "source": [
    "numdata = np.delete(numdata, 0 ,axis=0)"
   ]
  },
  {
   "cell_type": "code",
   "execution_count": 51,
   "id": "b3e040b2",
   "metadata": {},
   "outputs": [
    {
     "data": {
      "text/plain": [
       "array([[   40.,   365.,  3061.,  4171., 15041.],\n",
       "       [   40.,   365.,  2160.,  3280., 15340.],\n",
       "       [   40.,   365.,  3041.,  4241., 15321.],\n",
       "       ...,\n",
       "       [   40.,   365.,  4201.,  5001., 16600.],\n",
       "       [   40.,   365.,  2080.,  3320., 15600.],\n",
       "       [   40.,   365.,  4601.,  4601., 16600.]])"
      ]
     },
     "execution_count": 51,
     "metadata": {},
     "output_type": "execute_result"
    }
   ],
   "source": [
    "numdata"
   ]
  },
  {
   "cell_type": "code",
   "execution_count": 56,
   "id": "326ea136",
   "metadata": {},
   "outputs": [],
   "source": [
    "numdata = numdata.reshape(5,1042)"
   ]
  },
  {
   "cell_type": "code",
   "execution_count": 57,
   "id": "f145c170",
   "metadata": {},
   "outputs": [
    {
     "data": {
      "text/plain": [
       "(5, 1042)"
      ]
     },
     "execution_count": 57,
     "metadata": {},
     "output_type": "execute_result"
    }
   ],
   "source": [
    "numdata.shape"
   ]
  },
  {
   "cell_type": "code",
   "execution_count": 61,
   "id": "26611a09",
   "metadata": {},
   "outputs": [
    {
     "data": {
      "text/plain": [
       "(1040, 6)"
      ]
     },
     "execution_count": 61,
     "metadata": {},
     "output_type": "execute_result"
    }
   ],
   "source": [
    "np.delete(numdata, np.arange(1040,1043), axis=0).shape#슬라이싱은 사용할 수 없음"
   ]
  },
  {
   "cell_type": "code",
   "execution_count": 63,
   "id": "45fa1266",
   "metadata": {},
   "outputs": [
    {
     "data": {
      "text/plain": [
       "(993, 6)"
      ]
     },
     "execution_count": 63,
     "metadata": {},
     "output_type": "execute_result"
    }
   ],
   "source": [
    "np.delete(numdata, np.arange(500,600,2), axis=0).shape"
   ]
  },
  {
   "cell_type": "markdown",
   "id": "24fbbd87",
   "metadata": {},
   "source": [
    "# 2차시"
   ]
  },
  {
   "cell_type": "code",
   "execution_count": 64,
   "id": "3aba7a81",
   "metadata": {},
   "outputs": [],
   "source": [
    "numdata = np.loadtxt(\"data/NumData.csv\", delimiter = \",\", dtype=np.int_)"
   ]
  },
  {
   "cell_type": "code",
   "execution_count": 67,
   "id": "9377bb09",
   "metadata": {},
   "outputs": [
    {
     "data": {
      "text/plain": [
       "array([[   40,   365,  2000,  3121,  4241, 13621],\n",
       "       [   40,   365,  2000,  3061,  4171, 15041],\n",
       "       [   40,   365,  1000,  2160,  3280, 15340],\n",
       "       ...,\n",
       "       [   40,   365,  2000,  4201,  5001, 16600],\n",
       "       [   40,   365,  1000,  2080,  3320, 15600],\n",
       "       [   40,   365,  2000,  4601,  4601, 16600]])"
      ]
     },
     "execution_count": 67,
     "metadata": {},
     "output_type": "execute_result"
    }
   ],
   "source": [
    "np.sort(numdata) # 데이터 정렬, default axis=1 (오름차순)"
   ]
  },
  {
   "cell_type": "code",
   "execution_count": 68,
   "id": "5771d80a",
   "metadata": {},
   "outputs": [
    {
     "data": {
      "text/plain": [
       "array([[ 1000,    35,   365, -2870, -2870,  -350],\n",
       "       [ 1000,    35,   365, -2550, -2100,   150],\n",
       "       [ 1000,    35,   365, -2450, -2000,  1100],\n",
       "       ...,\n",
       "       [ 9000,   125,   365, 16751, 18751, 54625],\n",
       "       [ 9000,   165,   365, 17650, 20001, 54625],\n",
       "       [ 9000,   165,   365, 19001, 22001, 64001]])"
      ]
     },
     "execution_count": 68,
     "metadata": {},
     "output_type": "execute_result"
    }
   ],
   "source": [
    "np.sort(numdata, axis=0)"
   ]
  },
  {
   "cell_type": "code",
   "execution_count": 70,
   "id": "aeb22b40",
   "metadata": {},
   "outputs": [
    {
     "data": {
      "text/plain": [
       "array([-2870, -2870, -2550, ..., 54625, 54625, 64001])"
      ]
     },
     "execution_count": 70,
     "metadata": {},
     "output_type": "execute_result"
    }
   ],
   "source": [
    "np.sort(numdata, axis=None) #전체 데이터에 대하여 오름차순 정렬"
   ]
  },
  {
   "cell_type": "code",
   "execution_count": 75,
   "id": "2c255569",
   "metadata": {},
   "outputs": [
    {
     "data": {
      "text/plain": [
       "array([[13621,  4241,  3121,  2000,   365,    40],\n",
       "       [15041,  4171,  3061,  2000,   365,    40],\n",
       "       [15340,  3280,  2160,  1000,   365,    40],\n",
       "       ...,\n",
       "       [16600,  5001,  4201,  2000,   365,    40],\n",
       "       [15600,  3320,  2080,  1000,   365,    40],\n",
       "       [16600,  4601,  4601,  2000,   365,    40]])"
      ]
     },
     "execution_count": 75,
     "metadata": {},
     "output_type": "execute_result"
    }
   ],
   "source": [
    "-np.sort(-numdata) # 전체 데이터에 대하여 내림차순 정렬 1"
   ]
  },
  {
   "cell_type": "code",
   "execution_count": 78,
   "id": "5803e611",
   "metadata": {},
   "outputs": [
    {
     "data": {
      "text/plain": [
       "array([[13621,  4241,  3121,  2000,   365,    40],\n",
       "       [15041,  4171,  3061,  2000,   365,    40],\n",
       "       [15340,  3280,  2160,  1000,   365,    40],\n",
       "       ...,\n",
       "       [16600,  5001,  4201,  2000,   365,    40],\n",
       "       [15600,  3320,  2080,  1000,   365,    40],\n",
       "       [16600,  4601,  4601,  2000,   365,    40]])"
      ]
     },
     "execution_count": 78,
     "metadata": {},
     "output_type": "execute_result"
    }
   ],
   "source": [
    "np.sort(numdata)[:,::-1] # 전체 데이터에 대하여 내림차순 정렬 2"
   ]
  },
  {
   "cell_type": "code",
   "execution_count": 79,
   "id": "be3f1194",
   "metadata": {},
   "outputs": [
    {
     "data": {
      "text/plain": [
       "array([[ 9000,   165,   365, 19001, 22001, 64001],\n",
       "       [ 9000,   165,   365, 17650, 20001, 54625],\n",
       "       [ 9000,   125,   365, 16751, 18751, 54625],\n",
       "       ...,\n",
       "       [ 1000,    35,   365, -2450, -2000,  1100],\n",
       "       [ 1000,    35,   365, -2550, -2100,   150],\n",
       "       [ 1000,    35,   365, -2870, -2870,  -350]])"
      ]
     },
     "execution_count": 79,
     "metadata": {},
     "output_type": "execute_result"
    }
   ],
   "source": [
    "np.sort(numdata, axis=0)[::-1,:]"
   ]
  },
  {
   "cell_type": "code",
   "execution_count": 81,
   "id": "3eaa537d",
   "metadata": {},
   "outputs": [
    {
     "data": {
      "text/plain": [
       "array([[1, 2, 0, 3, 4, 5],\n",
       "       [1, 2, 0, 3, 4, 5],\n",
       "       [1, 2, 0, 3, 4, 5],\n",
       "       ...,\n",
       "       [1, 2, 0, 3, 4, 5],\n",
       "       [1, 2, 0, 3, 4, 5],\n",
       "       [1, 2, 0, 3, 4, 5]], dtype=int64)"
      ]
     },
     "execution_count": 81,
     "metadata": {},
     "output_type": "execute_result"
    }
   ],
   "source": [
    "np.argsort(numdata) #오름차순 정렬 후 인덱스 기억"
   ]
  },
  {
   "cell_type": "code",
   "execution_count": 82,
   "id": "464b8572",
   "metadata": {},
   "outputs": [
    {
     "data": {
      "text/plain": [
       "array([482, 493, 166, ..., 568, 534,  27], dtype=int64)"
      ]
     },
     "execution_count": 82,
     "metadata": {},
     "output_type": "execute_result"
    }
   ],
   "source": [
    "np.argsort(numdata,axis=0)[:,-1]"
   ]
  },
  {
   "cell_type": "code",
   "execution_count": 85,
   "id": "c070e085",
   "metadata": {},
   "outputs": [
    {
     "data": {
      "text/plain": [
       "array([[ 1000,    50,   365,  -350,  -350,  -350],\n",
       "       [ 1000,    50,   365,   150,   150,   150],\n",
       "       [ 1000,    50,   365, -2550, -2100,  1100],\n",
       "       ...,\n",
       "       [ 9000,   125,   365, 16751, 16751, 54625],\n",
       "       [ 9000,   125,   365, 15001, 17225, 54625],\n",
       "       [ 9000,   165,   365, 14501, 16846, 64001]])"
      ]
     },
     "execution_count": 85,
     "metadata": {},
     "output_type": "execute_result"
    }
   ],
   "source": [
    "numdata[np.argsort(numdata,axis=0)[:,-1],:]"
   ]
  },
  {
   "cell_type": "code",
   "execution_count": 91,
   "id": "6c0aad4e",
   "metadata": {},
   "outputs": [
    {
     "data": {
      "text/plain": [
       "array([[  1,  96,  81,  75, 252],\n",
       "       [  2,  79,  98,  89, 266],\n",
       "       [  3,  95,  87,  83, 265],\n",
       "       [  4,  86,  85,  76, 247],\n",
       "       [  5,  82,  98, 100, 280],\n",
       "       [  6,  82,  83,  79, 244],\n",
       "       [  7,  93,  94,  79, 266],\n",
       "       [  8,  98,  80,  95, 273]])"
      ]
     },
     "execution_count": 91,
     "metadata": {},
     "output_type": "execute_result"
    }
   ],
   "source": [
    "score = np.genfromtxt(\"data/score.csv\", delimiter=\",\", skip_header=1, dtype=np.int_)\n",
    "score"
   ]
  },
  {
   "cell_type": "code",
   "execution_count": 97,
   "id": "9ca4cdb7",
   "metadata": {},
   "outputs": [
    {
     "data": {
      "text/plain": [
       "array([7, 0, 5, 3, 2, 6, 1, 4], dtype=int64)"
      ]
     },
     "execution_count": 97,
     "metadata": {},
     "output_type": "execute_result"
    }
   ],
   "source": [
    "np.argsort(score, axis=0)[:,2]"
   ]
  },
  {
   "cell_type": "code",
   "execution_count": 101,
   "id": "8d8f495e",
   "metadata": {},
   "outputs": [
    {
     "data": {
      "text/plain": [
       "array([[  8,  98,  80,  95, 273],\n",
       "       [  1,  96,  81,  75, 252],\n",
       "       [  6,  82,  83,  79, 244],\n",
       "       [  4,  86,  85,  76, 247],\n",
       "       [  3,  95,  87,  83, 265],\n",
       "       [  7,  93,  94,  79, 266],\n",
       "       [  2,  79,  98,  89, 266],\n",
       "       [  5,  82,  98, 100, 280]])"
      ]
     },
     "execution_count": 101,
     "metadata": {},
     "output_type": "execute_result"
    }
   ],
   "source": [
    "score[np.argsort(score, axis=0)[:,2],:]"
   ]
  },
  {
   "cell_type": "code",
   "execution_count": 103,
   "id": "df7031a6",
   "metadata": {},
   "outputs": [
    {
     "data": {
      "text/plain": [
       "array([[0, 3, 2, 1, 4],\n",
       "       [0, 1, 3, 2, 4],\n",
       "       [0, 3, 2, 1, 4],\n",
       "       [0, 3, 2, 1, 4],\n",
       "       [0, 1, 2, 3, 4],\n",
       "       [0, 3, 1, 2, 4],\n",
       "       [0, 3, 1, 2, 4],\n",
       "       [0, 2, 3, 1, 4]], dtype=int64)"
      ]
     },
     "execution_count": 103,
     "metadata": {},
     "output_type": "execute_result"
    }
   ],
   "source": [
    "np.argsort(score)"
   ]
  },
  {
   "cell_type": "code",
   "execution_count": 105,
   "id": "65daacf3",
   "metadata": {},
   "outputs": [
    {
     "data": {
      "text/plain": [
       "array([0, 3, 2, 1, 4], dtype=int64)"
      ]
     },
     "execution_count": 105,
     "metadata": {},
     "output_type": "execute_result"
    }
   ],
   "source": [
    "np.argsort(score)[0,:]"
   ]
  },
  {
   "cell_type": "code",
   "execution_count": 108,
   "id": "34584fbd",
   "metadata": {},
   "outputs": [
    {
     "data": {
      "text/plain": [
       "array([[  1,  75,  81,  96, 252],\n",
       "       [  2,  89,  98,  79, 266],\n",
       "       [  3,  83,  87,  95, 265],\n",
       "       [  4,  76,  85,  86, 247],\n",
       "       [  5, 100,  98,  82, 280],\n",
       "       [  6,  79,  83,  82, 244],\n",
       "       [  7,  79,  94,  93, 266],\n",
       "       [  8,  95,  80,  98, 273]])"
      ]
     },
     "execution_count": 108,
     "metadata": {},
     "output_type": "execute_result"
    }
   ],
   "source": [
    "score[:,np.argsort(score)[0,:]]"
   ]
  }
 ],
 "metadata": {
  "kernelspec": {
   "display_name": "Python 3 (ipykernel)",
   "language": "python",
   "name": "python3"
  },
  "language_info": {
   "codemirror_mode": {
    "name": "ipython",
    "version": 3
   },
   "file_extension": ".py",
   "mimetype": "text/x-python",
   "name": "python",
   "nbconvert_exporter": "python",
   "pygments_lexer": "ipython3",
   "version": "3.9.12"
  }
 },
 "nbformat": 4,
 "nbformat_minor": 5
}
