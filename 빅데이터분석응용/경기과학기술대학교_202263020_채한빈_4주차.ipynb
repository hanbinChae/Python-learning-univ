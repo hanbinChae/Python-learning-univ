{
 "cells": [
  {
   "cell_type": "markdown",
   "id": "7b7b65ff",
   "metadata": {},
   "source": [
    "# 1차시"
   ]
  },
  {
   "cell_type": "code",
   "execution_count": 1,
   "id": "ec5a9066",
   "metadata": {},
   "outputs": [],
   "source": [
    "import numpy as np"
   ]
  },
  {
   "cell_type": "code",
   "execution_count": 58,
   "id": "8c4057c7",
   "metadata": {},
   "outputs": [
    {
     "data": {
      "text/plain": [
       "array([[ 2000.,    40.,   365.,  3121.,  4241., 13621.],\n",
       "       [ 2000.,    40.,   365.,  3061.,  4171., 15041.],\n",
       "       [ 1000.,    40.,   365.,  2160.,  3280., 15340.],\n",
       "       ...,\n",
       "       [ 2000.,    40.,   365.,  4201.,  5001., 16600.],\n",
       "       [ 1000.,    40.,   365.,  2080.,  3320., 15600.],\n",
       "       [ 2000.,    40.,   365.,  4601.,  4601., 16600.]])"
      ]
     },
     "execution_count": 58,
     "metadata": {},
     "output_type": "execute_result"
    }
   ],
   "source": [
    "numdata = np.loadtxt(\"data/NumData.csv\",delimiter=\",\")\n",
    "numdata"
   ]
  },
  {
   "cell_type": "code",
   "execution_count": 5,
   "id": "ec2f2ab9",
   "metadata": {},
   "outputs": [
    {
     "data": {
      "text/plain": [
       "(1043, 6)"
      ]
     },
     "execution_count": 5,
     "metadata": {},
     "output_type": "execute_result"
    }
   ],
   "source": [
    "numdata.shape"
   ]
  },
  {
   "cell_type": "code",
   "execution_count": 7,
   "id": "f47c5ec2",
   "metadata": {
    "scrolled": true
   },
   "outputs": [
    {
     "name": "stdout",
     "output_type": "stream",
     "text": [
      "[[ 2000.    40.   365. ...   365.  1581.  3041.]\n",
      " [12277.  2000.    40. ...    50.   365.  5350.]\n",
      " [ 6850. 15150.  1000. ...  2000.    40.   365.]\n",
      " [ 3101.  4351. 16600. ... 16600.  2000.    40.]\n",
      " [  365.  3441.  4661. ...  8450. 22250.  2000.]\n",
      " [   40.   365.  3701. ...  4601.  4601. 16600.]]\n"
     ]
    }
   ],
   "source": [
    "numdata2 = numdata.reshape(6,1043) #ndarray의 형태 바꾸기 \n",
    "print(numdata2)"
   ]
  },
  {
   "cell_type": "code",
   "execution_count": 9,
   "id": "0461e55a",
   "metadata": {},
   "outputs": [
    {
     "data": {
      "text/plain": [
       "(6, 1043)"
      ]
     },
     "execution_count": 9,
     "metadata": {},
     "output_type": "execute_result"
    }
   ],
   "source": [
    "numdata2.shape"
   ]
  },
  {
   "cell_type": "code",
   "execution_count": 11,
   "id": "b5e93002",
   "metadata": {},
   "outputs": [
    {
     "name": "stdout",
     "output_type": "stream",
     "text": [
      "3280.0\n",
      "3280.0\n"
     ]
    }
   ],
   "source": [
    "print(numdata[2,4])\n",
    "print(numdata2[0,16])"
   ]
  },
  {
   "cell_type": "code",
   "execution_count": 13,
   "id": "f03d3735",
   "metadata": {},
   "outputs": [
    {
     "name": "stdout",
     "output_type": "stream",
     "text": [
      "12277.0\n"
     ]
    }
   ],
   "source": [
    "print(numdata2[1,0])"
   ]
  },
  {
   "cell_type": "code",
   "execution_count": 16,
   "id": "ea97b8b3",
   "metadata": {},
   "outputs": [
    {
     "name": "stdout",
     "output_type": "stream",
     "text": [
      "12277.0\n"
     ]
    }
   ],
   "source": [
    "print(numdata[173,-1])"
   ]
  },
  {
   "cell_type": "code",
   "execution_count": 20,
   "id": "d3864d4e",
   "metadata": {},
   "outputs": [
    {
     "ename": "ValueError",
     "evalue": "cannot reshape array of size 6258 into shape (1043,5)",
     "output_type": "error",
     "traceback": [
      "\u001b[1;31m---------------------------------------------------------------------------\u001b[0m",
      "\u001b[1;31mValueError\u001b[0m                                Traceback (most recent call last)",
      "Input \u001b[1;32mIn [20]\u001b[0m, in \u001b[0;36m<cell line: 1>\u001b[1;34m()\u001b[0m\n\u001b[1;32m----> 1\u001b[0m \u001b[43mnumdata\u001b[49m\u001b[38;5;241;43m.\u001b[39;49m\u001b[43mreshape\u001b[49m\u001b[43m(\u001b[49m\u001b[38;5;241;43m1043\u001b[39;49m\u001b[43m,\u001b[49m\u001b[38;5;241;43m5\u001b[39;49m\u001b[43m)\u001b[49m\n",
      "\u001b[1;31mValueError\u001b[0m: cannot reshape array of size 6258 into shape (1043,5)"
     ]
    }
   ],
   "source": [
    "numdata.reshape(1043,5)"
   ]
  },
  {
   "cell_type": "code",
   "execution_count": 23,
   "id": "3bf3b15e",
   "metadata": {},
   "outputs": [
    {
     "data": {
      "text/plain": [
       "array([[[ 2000.,    40.,   365., ...,   365.,  1581.,  3041.],\n",
       "        [12277.,  2000.,    40., ...,    50.,   365.,  5350.],\n",
       "        [ 6850., 15150.,  1000., ...,  2000.,    40.,   365.]],\n",
       "\n",
       "       [[ 3101.,  4351., 16600., ..., 16600.,  2000.,    40.],\n",
       "        [  365.,  3441.,  4661., ...,  8450., 22250.,  2000.],\n",
       "        [   40.,   365.,  3701., ...,  4601.,  4601., 16600.]]])"
      ]
     },
     "execution_count": 23,
     "metadata": {},
     "output_type": "execute_result"
    }
   ],
   "source": [
    "numdata.reshape(2,3,1043) # n개의 차원으로 변경 가능"
   ]
  },
  {
   "cell_type": "code",
   "execution_count": 25,
   "id": "89134362",
   "metadata": {},
   "outputs": [
    {
     "name": "stdout",
     "output_type": "stream",
     "text": [
      "[[ 2000.  2000.  1000. ...  2000.  1000.  2000.]\n",
      " [   40.    40.    40. ...    40.    40.    40.]\n",
      " [  365.   365.   365. ...   365.   365.   365.]\n",
      " [ 3121.  3061.  2160. ...  4201.  2080.  4601.]\n",
      " [ 4241.  4171.  3280. ...  5001.  3320.  4601.]\n",
      " [13621. 15041. 15340. ... 16600. 15600. 16600.]]\n"
     ]
    }
   ],
   "source": [
    "numdata3 = np.transpose(numdata)\n",
    "print(numdata3)"
   ]
  },
  {
   "cell_type": "code",
   "execution_count": 28,
   "id": "90f59ae1",
   "metadata": {},
   "outputs": [
    {
     "name": "stdout",
     "output_type": "stream",
     "text": [
      "[3121. 3061. 2160. ... 4201. 2080. 4601.]\n",
      "[3121. 3061. 2160. ... 4201. 2080. 4601.]\n"
     ]
    }
   ],
   "source": [
    "print(numdata[:,3])\n",
    "print(numdata3[3,:])"
   ]
  },
  {
   "cell_type": "code",
   "execution_count": 30,
   "id": "d5655b01",
   "metadata": {},
   "outputs": [
    {
     "data": {
      "text/plain": [
       "array([[ 2000.,    40.,   365.,  3121.,  4241., 13621.],\n",
       "       [ 2000.,    40.,   365.,  3061.,  4171., 15041.],\n",
       "       [ 1000.,    40.,   365.,  2160.,  3280., 15340.],\n",
       "       ...,\n",
       "       [ 2000.,    40.,   365.,  4201.,  5001., 16600.],\n",
       "       [ 1000.,    40.,   365.,  2080.,  3320., 15600.],\n",
       "       [ 2000.,    40.,   365.,  4601.,  4601., 16600.]])"
      ]
     },
     "execution_count": 30,
     "metadata": {},
     "output_type": "execute_result"
    }
   ],
   "source": [
    "numdata"
   ]
  },
  {
   "cell_type": "code",
   "execution_count": 34,
   "id": "d72dc1fa",
   "metadata": {},
   "outputs": [
    {
     "data": {
      "text/plain": [
       "array([[ 2000.,    40.,   365.,  3121.,  4241., 13621.],\n",
       "       [ 1000.,    40.,   365.,  2160.,  3280., 15340.],\n",
       "       [ 2000.,    40.,   365.,  3041.,  4241., 15321.],\n",
       "       ...,\n",
       "       [ 2000.,    40.,   365.,  4201.,  5001., 16600.],\n",
       "       [ 1000.,    40.,   365.,  2080.,  3320., 15600.],\n",
       "       [ 2000.,    40.,   365.,  4601.,  4601., 16600.]])"
      ]
     },
     "execution_count": 34,
     "metadata": {},
     "output_type": "execute_result"
    }
   ],
   "source": [
    "np.delete(numdata, 1, axis=0) # 행 삭제"
   ]
  },
  {
   "cell_type": "code",
   "execution_count": 35,
   "id": "e5d83bbf",
   "metadata": {},
   "outputs": [
    {
     "data": {
      "text/plain": [
       "array([[ 2000.,   365.,  3121.,  4241., 13621.],\n",
       "       [ 2000.,   365.,  3061.,  4171., 15041.],\n",
       "       [ 1000.,   365.,  2160.,  3280., 15340.],\n",
       "       ...,\n",
       "       [ 2000.,   365.,  4201.,  5001., 16600.],\n",
       "       [ 1000.,   365.,  2080.,  3320., 15600.],\n",
       "       [ 2000.,   365.,  4601.,  4601., 16600.]])"
      ]
     },
     "execution_count": 35,
     "metadata": {},
     "output_type": "execute_result"
    }
   ],
   "source": [
    "np.delete(numdata,1,axis=1) #열 삭제"
   ]
  },
  {
   "cell_type": "code",
   "execution_count": 42,
   "id": "918cf512",
   "metadata": {},
   "outputs": [
    {
     "data": {
      "text/plain": [
       "(1040, 4)"
      ]
     },
     "execution_count": 42,
     "metadata": {},
     "output_type": "execute_result"
    }
   ],
   "source": [
    "np.delete(np.delete(numdata, [2,4], axis=1), (1040,1041,1042), axis=0).shape"
   ]
  },
  {
   "cell_type": "code",
   "execution_count": 44,
   "id": "4d5be4e5",
   "metadata": {},
   "outputs": [
    {
     "data": {
      "text/plain": [
       "array([[ 2000.,    40.,   365.,  3121.,  4241., 13621.],\n",
       "       [ 2000.,    40.,   365.,  3061.,  4171., 15041.],\n",
       "       [ 1000.,    40.,   365.,  2160.,  3280., 15340.],\n",
       "       ...,\n",
       "       [ 2000.,    40.,   365.,  4201.,  5001., 16600.],\n",
       "       [ 1000.,    40.,   365.,  2080.,  3320., 15600.],\n",
       "       [ 2000.,    40.,   365.,  4601.,  4601., 16600.]])"
      ]
     },
     "execution_count": 44,
     "metadata": {},
     "output_type": "execute_result"
    }
   ],
   "source": [
    "numdata"
   ]
  },
  {
   "cell_type": "code",
   "execution_count": 47,
   "id": "b9472654",
   "metadata": {
    "scrolled": true
   },
   "outputs": [],
   "source": [
    "numdata = np.delete(numdata,0,axis=1)"
   ]
  },
  {
   "cell_type": "code",
   "execution_count": 49,
   "id": "1dce6db3",
   "metadata": {},
   "outputs": [],
   "source": [
    "numdata = np.delete(numdata, 0 ,axis=0)"
   ]
  },
  {
   "cell_type": "code",
   "execution_count": 51,
   "id": "22e4438a",
   "metadata": {},
   "outputs": [
    {
     "data": {
      "text/plain": [
       "array([[   40.,   365.,  3061.,  4171., 15041.],\n",
       "       [   40.,   365.,  2160.,  3280., 15340.],\n",
       "       [   40.,   365.,  3041.,  4241., 15321.],\n",
       "       ...,\n",
       "       [   40.,   365.,  4201.,  5001., 16600.],\n",
       "       [   40.,   365.,  2080.,  3320., 15600.],\n",
       "       [   40.,   365.,  4601.,  4601., 16600.]])"
      ]
     },
     "execution_count": 51,
     "metadata": {},
     "output_type": "execute_result"
    }
   ],
   "source": [
    "numdata"
   ]
  },
  {
   "cell_type": "code",
   "execution_count": 56,
   "id": "c8a02850",
   "metadata": {},
   "outputs": [],
   "source": [
    "numdata = numdata.reshape(5,1042)"
   ]
  },
  {
   "cell_type": "code",
   "execution_count": 57,
   "id": "fdc9e62f",
   "metadata": {},
   "outputs": [
    {
     "data": {
      "text/plain": [
       "(5, 1042)"
      ]
     },
     "execution_count": 57,
     "metadata": {},
     "output_type": "execute_result"
    }
   ],
   "source": [
    "numdata.shape"
   ]
  },
  {
   "cell_type": "code",
   "execution_count": 61,
   "id": "390eed9a",
   "metadata": {},
   "outputs": [
    {
     "data": {
      "text/plain": [
       "(1040, 6)"
      ]
     },
     "execution_count": 61,
     "metadata": {},
     "output_type": "execute_result"
    }
   ],
   "source": [
    "np.delete(numdata, np.arange(1040,1043), axis=0).shape#슬라이싱은 사용할 수 없음"
   ]
  },
  {
   "cell_type": "code",
   "execution_count": 63,
   "id": "d2b3cff3",
   "metadata": {},
   "outputs": [
    {
     "data": {
      "text/plain": [
       "(993, 6)"
      ]
     },
     "execution_count": 63,
     "metadata": {},
     "output_type": "execute_result"
    }
   ],
   "source": [
    "np.delete(numdata, np.arange(500,600,2), axis=0).shape"
   ]
  },
  {
   "cell_type": "markdown",
   "id": "235d78b2",
   "metadata": {},
   "source": [
    "# 2차시"
   ]
  },
  {
   "cell_type": "code",
   "execution_count": 64,
   "id": "227147e9",
   "metadata": {},
   "outputs": [],
   "source": [
    "numdata = np.loadtxt(\"data/NumData.csv\", delimiter = \",\", dtype=np.int_)"
   ]
  },
  {
   "cell_type": "code",
   "execution_count": 67,
   "id": "d1e27c3a",
   "metadata": {},
   "outputs": [
    {
     "data": {
      "text/plain": [
       "array([[   40,   365,  2000,  3121,  4241, 13621],\n",
       "       [   40,   365,  2000,  3061,  4171, 15041],\n",
       "       [   40,   365,  1000,  2160,  3280, 15340],\n",
       "       ...,\n",
       "       [   40,   365,  2000,  4201,  5001, 16600],\n",
       "       [   40,   365,  1000,  2080,  3320, 15600],\n",
       "       [   40,   365,  2000,  4601,  4601, 16600]])"
      ]
     },
     "execution_count": 67,
     "metadata": {},
     "output_type": "execute_result"
    }
   ],
   "source": [
    "np.sort(numdata) # 데이터 정렬, default axis=1 (오름차순)"
   ]
  },
  {
   "cell_type": "code",
   "execution_count": 68,
   "id": "10e5b133",
   "metadata": {},
   "outputs": [
    {
     "data": {
      "text/plain": [
       "array([[ 1000,    35,   365, -2870, -2870,  -350],\n",
       "       [ 1000,    35,   365, -2550, -2100,   150],\n",
       "       [ 1000,    35,   365, -2450, -2000,  1100],\n",
       "       ...,\n",
       "       [ 9000,   125,   365, 16751, 18751, 54625],\n",
       "       [ 9000,   165,   365, 17650, 20001, 54625],\n",
       "       [ 9000,   165,   365, 19001, 22001, 64001]])"
      ]
     },
     "execution_count": 68,
     "metadata": {},
     "output_type": "execute_result"
    }
   ],
   "source": [
    "np.sort(numdata, axis=0)"
   ]
  },
  {
   "cell_type": "code",
   "execution_count": 70,
   "id": "3eb9d743",
   "metadata": {},
   "outputs": [
    {
     "data": {
      "text/plain": [
       "array([-2870, -2870, -2550, ..., 54625, 54625, 64001])"
      ]
     },
     "execution_count": 70,
     "metadata": {},
     "output_type": "execute_result"
    }
   ],
   "source": [
    "np.sort(numdata, axis=None) #전체 데이터에 대하여 오름차순 정렬"
   ]
  },
  {
   "cell_type": "code",
   "execution_count": 75,
   "id": "dd5e442d",
   "metadata": {},
   "outputs": [
    {
     "data": {
      "text/plain": [
       "array([[13621,  4241,  3121,  2000,   365,    40],\n",
       "       [15041,  4171,  3061,  2000,   365,    40],\n",
       "       [15340,  3280,  2160,  1000,   365,    40],\n",
       "       ...,\n",
       "       [16600,  5001,  4201,  2000,   365,    40],\n",
       "       [15600,  3320,  2080,  1000,   365,    40],\n",
       "       [16600,  4601,  4601,  2000,   365,    40]])"
      ]
     },
     "execution_count": 75,
     "metadata": {},
     "output_type": "execute_result"
    }
   ],
   "source": [
    "-np.sort(-numdata) # 전체 데이터에 대하여 내림차순 정렬 1"
   ]
  },
  {
   "cell_type": "code",
   "execution_count": 78,
   "id": "fa9953ca",
   "metadata": {},
   "outputs": [
    {
     "data": {
      "text/plain": [
       "array([[13621,  4241,  3121,  2000,   365,    40],\n",
       "       [15041,  4171,  3061,  2000,   365,    40],\n",
       "       [15340,  3280,  2160,  1000,   365,    40],\n",
       "       ...,\n",
       "       [16600,  5001,  4201,  2000,   365,    40],\n",
       "       [15600,  3320,  2080,  1000,   365,    40],\n",
       "       [16600,  4601,  4601,  2000,   365,    40]])"
      ]
     },
     "execution_count": 78,
     "metadata": {},
     "output_type": "execute_result"
    }
   ],
   "source": [
    "np.sort(numdata)[:,::-1] # 전체 데이터에 대하여 내림차순 정렬 2"
   ]
  },
  {
   "cell_type": "code",
   "execution_count": 79,
   "id": "72b6574f",
   "metadata": {},
   "outputs": [
    {
     "data": {
      "text/plain": [
       "array([[ 9000,   165,   365, 19001, 22001, 64001],\n",
       "       [ 9000,   165,   365, 17650, 20001, 54625],\n",
       "       [ 9000,   125,   365, 16751, 18751, 54625],\n",
       "       ...,\n",
       "       [ 1000,    35,   365, -2450, -2000,  1100],\n",
       "       [ 1000,    35,   365, -2550, -2100,   150],\n",
       "       [ 1000,    35,   365, -2870, -2870,  -350]])"
      ]
     },
     "execution_count": 79,
     "metadata": {},
     "output_type": "execute_result"
    }
   ],
   "source": [
    "np.sort(numdata, axis=0)[::-1,:]"
   ]
  },
  {
   "cell_type": "code",
   "execution_count": 81,
   "id": "92c04cf8",
   "metadata": {},
   "outputs": [
    {
     "data": {
      "text/plain": [
       "array([[1, 2, 0, 3, 4, 5],\n",
       "       [1, 2, 0, 3, 4, 5],\n",
       "       [1, 2, 0, 3, 4, 5],\n",
       "       ...,\n",
       "       [1, 2, 0, 3, 4, 5],\n",
       "       [1, 2, 0, 3, 4, 5],\n",
       "       [1, 2, 0, 3, 4, 5]], dtype=int64)"
      ]
     },
     "execution_count": 81,
     "metadata": {},
     "output_type": "execute_result"
    }
   ],
   "source": [
    "np.argsort(numdata) #오름차순 정렬 후 인덱스 기억"
   ]
  },
  {
   "cell_type": "code",
   "execution_count": 82,
   "id": "741534ce",
   "metadata": {},
   "outputs": [
    {
     "data": {
      "text/plain": [
       "array([482, 493, 166, ..., 568, 534,  27], dtype=int64)"
      ]
     },
     "execution_count": 82,
     "metadata": {},
     "output_type": "execute_result"
    }
   ],
   "source": [
    "np.argsort(numdata,axis=0)[:,-1]"
   ]
  },
  {
   "cell_type": "code",
   "execution_count": 85,
   "id": "f1858040",
   "metadata": {},
   "outputs": [
    {
     "data": {
      "text/plain": [
       "array([[ 1000,    50,   365,  -350,  -350,  -350],\n",
       "       [ 1000,    50,   365,   150,   150,   150],\n",
       "       [ 1000,    50,   365, -2550, -2100,  1100],\n",
       "       ...,\n",
       "       [ 9000,   125,   365, 16751, 16751, 54625],\n",
       "       [ 9000,   125,   365, 15001, 17225, 54625],\n",
       "       [ 9000,   165,   365, 14501, 16846, 64001]])"
      ]
     },
     "execution_count": 85,
     "metadata": {},
     "output_type": "execute_result"
    }
   ],
   "source": [
    "numdata[np.argsort(numdata,axis=0)[:,-1],:]"
   ]
  },
  {
   "cell_type": "code",
   "execution_count": 91,
   "id": "d8c39a72",
   "metadata": {},
   "outputs": [
    {
     "data": {
      "text/plain": [
       "array([[  1,  96,  81,  75, 252],\n",
       "       [  2,  79,  98,  89, 266],\n",
       "       [  3,  95,  87,  83, 265],\n",
       "       [  4,  86,  85,  76, 247],\n",
       "       [  5,  82,  98, 100, 280],\n",
       "       [  6,  82,  83,  79, 244],\n",
       "       [  7,  93,  94,  79, 266],\n",
       "       [  8,  98,  80,  95, 273]])"
      ]
     },
     "execution_count": 91,
     "metadata": {},
     "output_type": "execute_result"
    }
   ],
   "source": [
    "score = np.genfromtxt(\"data/score.csv\", delimiter=\",\", skip_header=1, dtype=np.int_)\n",
    "score"
   ]
  },
  {
   "cell_type": "code",
   "execution_count": 97,
   "id": "a2ba2995",
   "metadata": {},
   "outputs": [
    {
     "data": {
      "text/plain": [
       "array([7, 0, 5, 3, 2, 6, 1, 4], dtype=int64)"
      ]
     },
     "execution_count": 97,
     "metadata": {},
     "output_type": "execute_result"
    }
   ],
   "source": [
    "np.argsort(score, axis=0)[:,2]"
   ]
  },
  {
   "cell_type": "code",
   "execution_count": 101,
   "id": "6ce632c8",
   "metadata": {},
   "outputs": [
    {
     "data": {
      "text/plain": [
       "array([[  8,  98,  80,  95, 273],\n",
       "       [  1,  96,  81,  75, 252],\n",
       "       [  6,  82,  83,  79, 244],\n",
       "       [  4,  86,  85,  76, 247],\n",
       "       [  3,  95,  87,  83, 265],\n",
       "       [  7,  93,  94,  79, 266],\n",
       "       [  2,  79,  98,  89, 266],\n",
       "       [  5,  82,  98, 100, 280]])"
      ]
     },
     "execution_count": 101,
     "metadata": {},
     "output_type": "execute_result"
    }
   ],
   "source": [
    "score[np.argsort(score, axis=0)[:,2],:]"
   ]
  },
  {
   "cell_type": "code",
   "execution_count": 103,
   "id": "e9612272",
   "metadata": {},
   "outputs": [
    {
     "data": {
      "text/plain": [
       "array([[0, 3, 2, 1, 4],\n",
       "       [0, 1, 3, 2, 4],\n",
       "       [0, 3, 2, 1, 4],\n",
       "       [0, 3, 2, 1, 4],\n",
       "       [0, 1, 2, 3, 4],\n",
       "       [0, 3, 1, 2, 4],\n",
       "       [0, 3, 1, 2, 4],\n",
       "       [0, 2, 3, 1, 4]], dtype=int64)"
      ]
     },
     "execution_count": 103,
     "metadata": {},
     "output_type": "execute_result"
    }
   ],
   "source": [
    "np.argsort(score)"
   ]
  },
  {
   "cell_type": "code",
   "execution_count": 105,
   "id": "6560a516",
   "metadata": {},
   "outputs": [
    {
     "data": {
      "text/plain": [
       "array([0, 3, 2, 1, 4], dtype=int64)"
      ]
     },
     "execution_count": 105,
     "metadata": {},
     "output_type": "execute_result"
    }
   ],
   "source": [
    "np.argsort(score)[0,:]"
   ]
  },
  {
   "cell_type": "code",
   "execution_count": 109,
   "id": "1df4e388",
   "metadata": {},
   "outputs": [
    {
     "data": {
      "text/plain": [
       "array([[  1,  75,  81,  96, 252],\n",
       "       [  2,  89,  98,  79, 266],\n",
       "       [  3,  83,  87,  95, 265],\n",
       "       [  4,  76,  85,  86, 247],\n",
       "       [  5, 100,  98,  82, 280],\n",
       "       [  6,  79,  83,  82, 244],\n",
       "       [  7,  79,  94,  93, 266],\n",
       "       [  8,  95,  80,  98, 273]])"
      ]
     },
     "execution_count": 109,
     "metadata": {},
     "output_type": "execute_result"
    }
   ],
   "source": [
    "score[:,np.argsort(score)[0,:]]"
   ]
  },
  {
   "cell_type": "code",
   "execution_count": 110,
   "id": "abd506c4",
   "metadata": {},
   "outputs": [
    {
     "data": {
      "text/plain": [
       "array([[  1,  96,  81,  75, 252],\n",
       "       [  2,  79,  98,  89, 266],\n",
       "       [  3,  95,  87,  83, 265],\n",
       "       [  4,  86,  85,  76, 247],\n",
       "       [  5,  82,  98, 100, 280],\n",
       "       [  6,  82,  83,  79, 244],\n",
       "       [  7,  93,  94,  79, 266],\n",
       "       [  8,  98,  80,  95, 273]])"
      ]
     },
     "execution_count": 110,
     "metadata": {},
     "output_type": "execute_result"
    }
   ],
   "source": [
    "score"
   ]
  },
  {
   "cell_type": "markdown",
   "id": "46e54a51",
   "metadata": {},
   "source": [
    "# 3차시"
   ]
  },
  {
   "cell_type": "code",
   "execution_count": 112,
   "id": "dbb801b1",
   "metadata": {},
   "outputs": [
    {
     "data": {
      "text/plain": [
       "array([[ 2000.,    40.,   365.,  3121.,  4241., 13621.],\n",
       "       [ 2000.,    40.,   365.,  3061.,  4171., 15041.],\n",
       "       [ 1000.,    40.,   365.,  2160.,  3280., 15340.],\n",
       "       ...,\n",
       "       [   nan,    40.,   365.,  4201.,  5001., 16600.],\n",
       "       [ 1000.,    40.,   365.,  2080.,  3320., 15600.],\n",
       "       [ 2000.,    40.,   365.,  4601.,  4601., 16600.]])"
      ]
     },
     "execution_count": 112,
     "metadata": {},
     "output_type": "execute_result"
    }
   ],
   "source": [
    "numdata = np.genfromtxt('data/Numdata-NAN.csv',delimiter=';')\n",
    "numdata"
   ]
  },
  {
   "cell_type": "code",
   "execution_count": 113,
   "id": "921cc53e",
   "metadata": {},
   "outputs": [
    {
     "data": {
      "text/plain": [
       "array([[   0,    0],\n",
       "       [   0,    3],\n",
       "       [   0,    4],\n",
       "       ...,\n",
       "       [1042,    3],\n",
       "       [1042,    4],\n",
       "       [1042,    5]], dtype=int64)"
      ]
     },
     "execution_count": 113,
     "metadata": {},
     "output_type": "execute_result"
    }
   ],
   "source": [
    "np.argwhere(numdata > 1000)"
   ]
  },
  {
   "cell_type": "code",
   "execution_count": 114,
   "id": "86af7655",
   "metadata": {},
   "outputs": [
    {
     "data": {
      "text/plain": [
       "array([[  11,    3],\n",
       "       [  15,    3],\n",
       "       [  27,    3],\n",
       "       [  58,    3],\n",
       "       [  60,    4],\n",
       "       [  85,    4],\n",
       "       [ 117,    5],\n",
       "       [ 152,    1],\n",
       "       [ 152,    2],\n",
       "       [ 152,    4],\n",
       "       [ 172,    1],\n",
       "       [ 175,    1],\n",
       "       [ 175,    2],\n",
       "       [ 176,    3],\n",
       "       [ 177,    4],\n",
       "       [ 178,    5],\n",
       "       [ 211,    3],\n",
       "       [ 229,    0],\n",
       "       [ 230,    1],\n",
       "       [ 237,    1],\n",
       "       [ 247,    3],\n",
       "       [ 251,    5],\n",
       "       [ 252,    4],\n",
       "       [ 258,    1],\n",
       "       [ 260,    3],\n",
       "       [ 262,    4],\n",
       "       [ 271,    5],\n",
       "       [ 272,    4],\n",
       "       [ 284,    2],\n",
       "       [ 284,    3],\n",
       "       [ 297,    1],\n",
       "       [ 297,    2],\n",
       "       [ 300,    3],\n",
       "       [ 315,    3],\n",
       "       [ 315,    5],\n",
       "       [ 327,    4],\n",
       "       [ 336,    4],\n",
       "       [ 343,    0],\n",
       "       [ 344,    2],\n",
       "       [ 346,    2],\n",
       "       [ 363,    3],\n",
       "       [ 375,    3],\n",
       "       [ 377,    2],\n",
       "       [ 398,    5],\n",
       "       [ 416,    4],\n",
       "       [ 428,    0],\n",
       "       [ 432,    1],\n",
       "       [ 433,    3],\n",
       "       [ 434,    2],\n",
       "       [ 440,    3],\n",
       "       [ 441,    1],\n",
       "       [ 446,    2],\n",
       "       [ 455,    1],\n",
       "       [ 456,    2],\n",
       "       [ 458,    2],\n",
       "       [ 461,    3],\n",
       "       [ 467,    4],\n",
       "       [ 468,    0],\n",
       "       [ 469,    3],\n",
       "       [ 470,    0],\n",
       "       [ 481,    1],\n",
       "       [ 482,    3],\n",
       "       [ 484,    4],\n",
       "       [ 489,    0],\n",
       "       [ 493,    5],\n",
       "       [ 499,    0],\n",
       "       [ 504,    3],\n",
       "       [ 506,    1],\n",
       "       [ 517,    4],\n",
       "       [ 518,    0],\n",
       "       [ 521,    2],\n",
       "       [ 530,    5],\n",
       "       [ 532,    3],\n",
       "       [ 534,    5],\n",
       "       [ 547,    3],\n",
       "       [ 549,    5],\n",
       "       [ 553,    5],\n",
       "       [ 554,    5],\n",
       "       [ 559,    3],\n",
       "       [ 566,    0],\n",
       "       [ 566,    1],\n",
       "       [ 566,    2],\n",
       "       [ 567,    0],\n",
       "       [ 567,    1],\n",
       "       [ 567,    2],\n",
       "       [ 581,    1],\n",
       "       [ 581,    2],\n",
       "       [ 582,    1],\n",
       "       [ 582,    2],\n",
       "       [ 583,    1],\n",
       "       [ 583,    2],\n",
       "       [ 593,    3],\n",
       "       [ 594,    3],\n",
       "       [ 595,    3],\n",
       "       [ 596,    3],\n",
       "       [ 609,    4],\n",
       "       [ 609,    5],\n",
       "       [ 610,    4],\n",
       "       [ 610,    5],\n",
       "       [ 611,    4],\n",
       "       [ 611,    5],\n",
       "       [ 612,    4],\n",
       "       [ 612,    5],\n",
       "       [ 623,    2],\n",
       "       [ 623,    3],\n",
       "       [ 624,    2],\n",
       "       [ 624,    3],\n",
       "       [ 625,    2],\n",
       "       [ 625,    3],\n",
       "       [ 626,    2],\n",
       "       [ 626,    3],\n",
       "       [ 627,    2],\n",
       "       [ 627,    3],\n",
       "       [ 636,    0],\n",
       "       [ 637,    0],\n",
       "       [ 637,    4],\n",
       "       [ 637,    5],\n",
       "       [ 638,    0],\n",
       "       [ 638,    4],\n",
       "       [ 638,    5],\n",
       "       [ 639,    4],\n",
       "       [ 639,    5],\n",
       "       [ 640,    4],\n",
       "       [ 640,    5],\n",
       "       [ 641,    4],\n",
       "       [ 641,    5],\n",
       "       [ 653,    1],\n",
       "       [ 653,    2],\n",
       "       [ 653,    3],\n",
       "       [ 653,    4],\n",
       "       [ 654,    1],\n",
       "       [ 654,    2],\n",
       "       [ 654,    3],\n",
       "       [ 654,    4],\n",
       "       [ 655,    1],\n",
       "       [ 655,    2],\n",
       "       [ 655,    3],\n",
       "       [ 655,    4],\n",
       "       [ 685,    2],\n",
       "       [ 686,    0],\n",
       "       [ 701,    4],\n",
       "       [ 704,    2],\n",
       "       [ 724,    1],\n",
       "       [ 724,    2],\n",
       "       [ 730,    1],\n",
       "       [ 730,    2],\n",
       "       [ 730,    3],\n",
       "       [ 731,    1],\n",
       "       [ 731,    2],\n",
       "       [ 731,    3],\n",
       "       [ 732,    1],\n",
       "       [ 732,    2],\n",
       "       [ 732,    3],\n",
       "       [ 733,    1],\n",
       "       [ 733,    2],\n",
       "       [ 733,    3],\n",
       "       [ 742,    4],\n",
       "       [ 747,    3],\n",
       "       [ 755,    1],\n",
       "       [ 758,    1],\n",
       "       [ 760,    1],\n",
       "       [ 764,    0],\n",
       "       [ 764,    1],\n",
       "       [ 764,    2],\n",
       "       [ 764,    3],\n",
       "       [ 764,    4],\n",
       "       [ 764,    5],\n",
       "       [ 765,    3],\n",
       "       [ 775,    1],\n",
       "       [ 775,    2],\n",
       "       [ 775,    3],\n",
       "       [ 776,    1],\n",
       "       [ 776,    2],\n",
       "       [ 776,    3],\n",
       "       [ 777,    1],\n",
       "       [ 777,    2],\n",
       "       [ 777,    3],\n",
       "       [ 778,    1],\n",
       "       [ 778,    2],\n",
       "       [ 778,    3],\n",
       "       [ 787,    4],\n",
       "       [ 788,    1],\n",
       "       [ 790,    2],\n",
       "       [ 794,    3],\n",
       "       [ 795,    5],\n",
       "       [ 796,    1],\n",
       "       [ 796,    4],\n",
       "       [ 800,    0],\n",
       "       [ 801,    1],\n",
       "       [ 802,    1],\n",
       "       [ 803,    2],\n",
       "       [ 805,    0],\n",
       "       [ 809,    0],\n",
       "       [ 810,    0],\n",
       "       [ 811,    0],\n",
       "       [ 812,    1],\n",
       "       [ 820,    0],\n",
       "       [ 820,    3],\n",
       "       [ 820,    4],\n",
       "       [ 822,    2],\n",
       "       [ 823,    2],\n",
       "       [ 825,    0],\n",
       "       [ 830,    1],\n",
       "       [ 830,    2],\n",
       "       [ 836,    3],\n",
       "       [ 837,    3],\n",
       "       [ 838,    3],\n",
       "       [ 839,    4],\n",
       "       [ 843,    2],\n",
       "       [ 856,    0],\n",
       "       [ 856,    1],\n",
       "       [ 856,    3],\n",
       "       [ 856,    4],\n",
       "       [ 856,    5],\n",
       "       [ 857,    0],\n",
       "       [ 858,    1],\n",
       "       [ 870,    0],\n",
       "       [ 870,    2],\n",
       "       [ 870,    3],\n",
       "       [ 872,    0],\n",
       "       [ 873,    0],\n",
       "       [ 874,    1],\n",
       "       [ 890,    1],\n",
       "       [ 890,    2],\n",
       "       [ 890,    3],\n",
       "       [ 909,    1],\n",
       "       [ 910,    0],\n",
       "       [ 912,    0],\n",
       "       [ 912,    2],\n",
       "       [ 912,    3],\n",
       "       [ 912,    4],\n",
       "       [ 928,    1],\n",
       "       [ 928,    2],\n",
       "       [ 928,    3],\n",
       "       [ 929,    1],\n",
       "       [ 929,    2],\n",
       "       [ 929,    3],\n",
       "       [ 930,    3],\n",
       "       [ 958,    2],\n",
       "       [ 959,    3],\n",
       "       [ 960,    3],\n",
       "       [1024,    0],\n",
       "       [1024,    2],\n",
       "       [1026,    2],\n",
       "       [1026,    4],\n",
       "       [1028,    0],\n",
       "       [1028,    3],\n",
       "       [1028,    4],\n",
       "       [1029,    0],\n",
       "       [1030,    1],\n",
       "       [1030,    5],\n",
       "       [1032,    0],\n",
       "       [1032,    5],\n",
       "       [1034,    3],\n",
       "       [1035,    4],\n",
       "       [1036,    2],\n",
       "       [1037,    1],\n",
       "       [1038,    4],\n",
       "       [1039,    3],\n",
       "       [1040,    0]], dtype=int64)"
      ]
     },
     "execution_count": 114,
     "metadata": {},
     "output_type": "execute_result"
    }
   ],
   "source": [
    "np.argwhere(np.isnan(numdata))"
   ]
  },
  {
   "cell_type": "code",
   "execution_count": 124,
   "id": "210bd0cc",
   "metadata": {},
   "outputs": [
    {
     "data": {
      "text/plain": [
       "array([[ 2000.,    40.,   365.,  3121.,  4241., 13621.],\n",
       "       [ 2000.,    40.,   365.,  3061.,  4171., 15041.],\n",
       "       [ 1000.,    40.,   365.,  2160.,  3280., 15340.],\n",
       "       ...,\n",
       "       [    0.,    40.,   365.,  4201.,  5001., 16600.],\n",
       "       [ 1000.,    40.,   365.,  2080.,  3320., 15600.],\n",
       "       [ 2000.,    40.,   365.,  4601.,  4601., 16600.]])"
      ]
     },
     "execution_count": 124,
     "metadata": {},
     "output_type": "execute_result"
    }
   ],
   "source": [
    "for i in np.argwhere(np.isnan(numdata)):\n",
    "    numdata[i[0], i[1]] = 0\n",
    "numdata"
   ]
  },
  {
   "cell_type": "code",
   "execution_count": 125,
   "id": "b9bb8604",
   "metadata": {},
   "outputs": [
    {
     "data": {
      "text/plain": [
       "array([], shape=(0, 2), dtype=int64)"
      ]
     },
     "execution_count": 125,
     "metadata": {},
     "output_type": "execute_result"
    }
   ],
   "source": [
    "np.argwhere(np.isnan(numdata)) # NaN이 사라짐"
   ]
  },
  {
   "cell_type": "code",
   "execution_count": 126,
   "id": "c1627b4d",
   "metadata": {},
   "outputs": [
    {
     "data": {
      "text/plain": [
       "array([[ 2000.,    40.,   365.,  3121.,  4241., 13621.],\n",
       "       [ 2000.,    40.,   365.,  3061.,  4171., 15041.],\n",
       "       [ 1000.,    40.,   365.,  2160.,  3280., 15340.],\n",
       "       ...,\n",
       "       [   nan,    40.,   365.,  4201.,  5001., 16600.],\n",
       "       [ 1000.,    40.,   365.,  2080.,  3320., 15600.],\n",
       "       [ 2000.,    40.,   365.,  4601.,  4601., 16600.]])"
      ]
     },
     "execution_count": 126,
     "metadata": {},
     "output_type": "execute_result"
    }
   ],
   "source": [
    "numdata = np.genfromtxt('data/Numdata-NAN.csv',delimiter=';')\n",
    "numdata"
   ]
  },
  {
   "cell_type": "code",
   "execution_count": 128,
   "id": "447647b2",
   "metadata": {},
   "outputs": [],
   "source": [
    "avg_col = np.nanmean(numdata,axis=0)"
   ]
  },
  {
   "cell_type": "code",
   "execution_count": 129,
   "id": "811618c2",
   "metadata": {},
   "outputs": [
    {
     "data": {
      "text/plain": [
       "array([[ 2000.        ,    40.        ,   365.        ,  3121.        ,\n",
       "         4241.        , 13621.        ],\n",
       "       [ 2000.        ,    40.        ,   365.        ,  3061.        ,\n",
       "         4171.        , 15041.        ],\n",
       "       [ 1000.        ,    40.        ,   365.        ,  2160.        ,\n",
       "         3280.        , 15340.        ],\n",
       "       ...,\n",
       "       [ 2250.24777007,    40.        ,   365.        ,  4201.        ,\n",
       "         5001.        , 16600.        ],\n",
       "       [ 1000.        ,    40.        ,   365.        ,  2080.        ,\n",
       "         3320.        , 15600.        ],\n",
       "       [ 2000.        ,    40.        ,   365.        ,  4601.        ,\n",
       "         4601.        , 16600.        ]])"
      ]
     },
     "execution_count": 129,
     "metadata": {},
     "output_type": "execute_result"
    }
   ],
   "source": [
    "for i in np.argwhere(np.isnan(numdata)): # NaN에 해당하는 부분을 평균으로 교체해주는 방법 BEST!!\n",
    "    numdata[i[0], i[1]] = avg_col[i[1]]\n",
    "numdata"
   ]
  },
  {
   "cell_type": "code",
   "execution_count": 132,
   "id": "d6653c85",
   "metadata": {},
   "outputs": [
    {
     "data": {
      "text/plain": [
       "array([ 2250.24777007,    46.10552764,   365.        ,  3895.99286442,\n",
       "        5160.75124378, 16571.43657817])"
      ]
     },
     "execution_count": 132,
     "metadata": {},
     "output_type": "execute_result"
    }
   ],
   "source": [
    "np.mean(numdata,axis=0) #NaN을 평균값으로 대체했기 때문에 에러 없이 평균 반환."
   ]
  },
  {
   "cell_type": "code",
   "execution_count": 134,
   "id": "0d84a878",
   "metadata": {},
   "outputs": [
    {
     "data": {
      "text/plain": [
       "array([ 2250.24777007,    46.10552764,   365.        ,  3895.99286442,\n",
       "        5160.75124378, 16571.43657817])"
      ]
     },
     "execution_count": 134,
     "metadata": {},
     "output_type": "execute_result"
    }
   ],
   "source": [
    "avg_col"
   ]
  },
  {
   "cell_type": "code",
   "execution_count": 143,
   "id": "24af9f24",
   "metadata": {},
   "outputs": [
    {
     "data": {
      "text/plain": [
       "array([[ 2000.,    50.,   365.,  1951.,  3251., 17351.],\n",
       "       [ 2000.,    50.,   365.,  6251.,  6251., 20250.],\n",
       "       [ 1000.,    40.,   365.,  2150.,  3410., 15600.],\n",
       "       ...,\n",
       "       [ 4000.,    50.,   365.,  6300.,  8000., 22250.],\n",
       "       [ 2000.,    50.,   365.,  6251.,  7751., 20250.],\n",
       "       [ 2000.,    40.,   365.,  2241.,  2601.,  8171.]])"
      ]
     },
     "execution_count": 143,
     "metadata": {},
     "output_type": "execute_result"
    }
   ],
   "source": [
    "np.random.shuffle(numdata)\n",
    "numdata"
   ]
  },
  {
   "cell_type": "code",
   "execution_count": 150,
   "id": "d81fec20",
   "metadata": {},
   "outputs": [
    {
     "data": {
      "text/plain": [
       "array([[0.77132064, 0.02075195, 0.63364823],\n",
       "       [0.74880388, 0.49850701, 0.22479665]])"
      ]
     },
     "execution_count": 150,
     "metadata": {},
     "output_type": "execute_result"
    }
   ],
   "source": [
    "np.random.seed(10)\n",
    "np.random.rand(2,3)"
   ]
  },
  {
   "cell_type": "code",
   "execution_count": 161,
   "id": "fef97ff2",
   "metadata": {},
   "outputs": [
    {
     "data": {
      "text/plain": [
       "array([[ 2000.        ,    40.        ,   365.        ,  3201.        ,\n",
       "         4401.        , 14001.        ],\n",
       "       [ 2250.24777007,    40.        ,   365.        ,  3121.        ,\n",
       "         4501.        , 16381.        ],\n",
       "       [ 1000.        ,    40.        ,   365.        ,  2200.        ,\n",
       "         4600.        , 15600.        ],\n",
       "       ...,\n",
       "       [ 1000.        ,    40.        ,   365.        ,  2800.        ,\n",
       "         3600.        , 15600.        ],\n",
       "       [ 2000.        ,    50.        ,   365.        ,  3521.        ,\n",
       "         5160.75124378, 16571.43657817],\n",
       "       [ 2000.        ,    40.        ,   365.        ,  3400.        ,\n",
       "         4600.        , 15310.        ]])"
      ]
     },
     "execution_count": 161,
     "metadata": {},
     "output_type": "execute_result"
    }
   ],
   "source": [
    "np.random.seed(5) #shuffle에는 랜덤 시드가 적용되지 않음.\n",
    "np.random.shuffle(numdata)\n",
    "numdata"
   ]
  },
  {
   "cell_type": "code",
   "execution_count": 163,
   "id": "205d5e13",
   "metadata": {},
   "outputs": [
    {
     "data": {
      "text/plain": [
       "array([[ 2000.        ,    40.        ,   365.        ,  3201.        ,\n",
       "         4401.        , 14001.        ],\n",
       "       [ 2250.24777007,    40.        ,   365.        ,  3121.        ,\n",
       "         4501.        , 16381.        ],\n",
       "       [ 1000.        ,    40.        ,   365.        ,  2200.        ,\n",
       "         4600.        , 15600.        ],\n",
       "       ...,\n",
       "       [ 1000.        ,    40.        ,   365.        ,  2800.        ,\n",
       "         3600.        , 15600.        ],\n",
       "       [ 2000.        ,    50.        ,   365.        ,  3521.        ,\n",
       "         5160.75124378, 16571.43657817],\n",
       "       [ 2000.        ,    40.        ,   365.        ,  3400.        ,\n",
       "         4600.        , 15310.        ]])"
      ]
     },
     "execution_count": 163,
     "metadata": {},
     "output_type": "execute_result"
    }
   ],
   "source": [
    "numdata"
   ]
  },
  {
   "cell_type": "code",
   "execution_count": 165,
   "id": "a9184d3e",
   "metadata": {},
   "outputs": [
    {
     "data": {
      "text/plain": [
       "dtype('float64')"
      ]
     },
     "execution_count": 165,
     "metadata": {},
     "output_type": "execute_result"
    }
   ],
   "source": [
    "numdata.dtype"
   ]
  },
  {
   "cell_type": "code",
   "execution_count": 171,
   "id": "1f7d02e9",
   "metadata": {},
   "outputs": [
    {
     "data": {
      "text/plain": [
       "array([['2000.0', '40.0', '365.0', '3201.0', '4401.0', '14001.0'],\n",
       "       ['2250.2477700693757', '40.0', '365.0', '3121.0', '4501.0',\n",
       "        '16381.0'],\n",
       "       ['1000.0', '40.0', '365.0', '2200.0', '4600.0', '15600.0'],\n",
       "       ...,\n",
       "       ['1000.0', '40.0', '365.0', '2800.0', '3600.0', '15600.0'],\n",
       "       ['2000.0', '50.0', '365.0', '3521.0', '5160.751243781095',\n",
       "        '16571.43657817109'],\n",
       "       ['2000.0', '40.0', '365.0', '3400.0', '4600.0', '15310.0']],\n",
       "      dtype='<U32')"
      ]
     },
     "execution_count": 171,
     "metadata": {},
     "output_type": "execute_result"
    }
   ],
   "source": [
    "numdata = numdata.astype(dtype=np.str_) \n",
    "numdata"
   ]
  },
  {
   "cell_type": "code",
   "execution_count": 173,
   "id": "b598d2ca",
   "metadata": {},
   "outputs": [
    {
     "data": {
      "text/plain": [
       "array([[ 2000.        ,    40.        ,   365.        ,  3201.        ,\n",
       "         4401.        , 14001.        ],\n",
       "       [ 2250.24777007,    40.        ,   365.        ,  3121.        ,\n",
       "         4501.        , 16381.        ],\n",
       "       [ 1000.        ,    40.        ,   365.        ,  2200.        ,\n",
       "         4600.        , 15600.        ],\n",
       "       ...,\n",
       "       [ 1000.        ,    40.        ,   365.        ,  2800.        ,\n",
       "         3600.        , 15600.        ],\n",
       "       [ 2000.        ,    50.        ,   365.        ,  3521.        ,\n",
       "         5160.75124378, 16571.43657817],\n",
       "       [ 2000.        ,    40.        ,   365.        ,  3400.        ,\n",
       "         4600.        , 15310.        ]])"
      ]
     },
     "execution_count": 173,
     "metadata": {},
     "output_type": "execute_result"
    }
   ],
   "source": [
    "numdata = numdata.astype(dtype=np.float_)\n",
    "numdata"
   ]
  },
  {
   "cell_type": "code",
   "execution_count": 174,
   "id": "f8f85b84",
   "metadata": {},
   "outputs": [
    {
     "data": {
      "text/plain": [
       "array([[ 2000,    40,   365,  3201,  4401, 14001],\n",
       "       [ 2250,    40,   365,  3121,  4501, 16381],\n",
       "       [ 1000,    40,   365,  2200,  4600, 15600],\n",
       "       ...,\n",
       "       [ 1000,    40,   365,  2800,  3600, 15600],\n",
       "       [ 2000,    50,   365,  3521,  5160, 16571],\n",
       "       [ 2000,    40,   365,  3400,  4600, 15310]])"
      ]
     },
     "execution_count": 174,
     "metadata": {},
     "output_type": "execute_result"
    }
   ],
   "source": [
    "numdata = numdata.astype(dtype=np.int_) #str에서 float 값을 포함하고 있기 때문에 바로 int형으로 바꿀 수 없다.\n",
    "numdata"
   ]
  },
  {
   "cell_type": "code",
   "execution_count": 175,
   "id": "4215ce10",
   "metadata": {},
   "outputs": [
    {
     "data": {
      "text/plain": [
       "dtype('int32')"
      ]
     },
     "execution_count": 175,
     "metadata": {},
     "output_type": "execute_result"
    }
   ],
   "source": [
    "numdata.dtype"
   ]
  },
  {
   "cell_type": "code",
   "execution_count": 176,
   "id": "ae57a7fc",
   "metadata": {},
   "outputs": [
    {
     "data": {
      "text/plain": [
       "array([['2000', '40', '365', '3201', '4401', '14001'],\n",
       "       ['2250', '40', '365', '3121', '4501', '16381'],\n",
       "       ['1000', '40', '365', '2200', '4600', '15600'],\n",
       "       ...,\n",
       "       ['1000', '40', '365', '2800', '3600', '15600'],\n",
       "       ['2000', '50', '365', '3521', '5160', '16571'],\n",
       "       ['2000', '40', '365', '3400', '4600', '15310']], dtype='<U11')"
      ]
     },
     "execution_count": 176,
     "metadata": {},
     "output_type": "execute_result"
    }
   ],
   "source": [
    "numdata = numdata.astype(dtype = np.str_)\n",
    "numdata"
   ]
  },
  {
   "cell_type": "code",
   "execution_count": 178,
   "id": "cbc0b167",
   "metadata": {},
   "outputs": [
    {
     "data": {
      "text/plain": [
       "array([['id_1', 'Product B', 'Location 2'],\n",
       "       ['id_2', 'Product B', 'Location 3'],\n",
       "       ['id_3', 'Product C', 'Location 5'],\n",
       "       ...,\n",
       "       ['id_413', 'Product B', 'Location 135'],\n",
       "       ['id_414', 'Product C', 'Location 200'],\n",
       "       ['id_415', 'Product A', 'Location 8']], dtype='<U12')"
      ]
     },
     "execution_count": 178,
     "metadata": {},
     "output_type": "execute_result"
    }
   ],
   "source": [
    "#문자열 일부 삭제\n",
    "loandata = np.genfromtxt(\"data/Dataset_loan(2).csv\",delimiter=',', dtype=np.str_, skip_header=1, usecols=[1,2,4])\n",
    "loandata"
   ]
  },
  {
   "cell_type": "code",
   "execution_count": 180,
   "id": "533b25e0",
   "metadata": {},
   "outputs": [],
   "source": [
    "loandata[:,0] = np.chararray.strip(loandata[:,0],'id_') #id_ 라는 문자열 삭제"
   ]
  },
  {
   "cell_type": "code",
   "execution_count": 181,
   "id": "2035f5ed",
   "metadata": {},
   "outputs": [
    {
     "data": {
      "text/plain": [
       "array([['1', 'Product B', 'Location 2'],\n",
       "       ['2', 'Product B', 'Location 3'],\n",
       "       ['3', 'Product C', 'Location 5'],\n",
       "       ...,\n",
       "       ['413', 'Product B', 'Location 135'],\n",
       "       ['414', 'Product C', 'Location 200'],\n",
       "       ['415', 'Product A', 'Location 8']], dtype='<U12')"
      ]
     },
     "execution_count": 181,
     "metadata": {},
     "output_type": "execute_result"
    }
   ],
   "source": [
    "loandata"
   ]
  },
  {
   "cell_type": "code",
   "execution_count": 184,
   "id": "5c2f38c2",
   "metadata": {},
   "outputs": [
    {
     "data": {
      "text/plain": [
       "array([['1', 'B', '2'],\n",
       "       ['2', 'B', '3'],\n",
       "       ['3', 'C', '5'],\n",
       "       ...,\n",
       "       ['413', 'B', '135'],\n",
       "       ['414', 'C', '200'],\n",
       "       ['415', 'A', '8']], dtype='<U12')"
      ]
     },
     "execution_count": 184,
     "metadata": {},
     "output_type": "execute_result"
    }
   ],
   "source": [
    "loandata[:,1] = np.chararray.strip(loandata[:,1],'Product ') #id_ 라는 문자열 삭제\n",
    "loandata[:,2] = np.chararray.strip(loandata[:,2],'Location ') #id_ 라는 문자열 삭제\n",
    "loandata"
   ]
  },
  {
   "cell_type": "code",
   "execution_count": 186,
   "id": "fd158d2a",
   "metadata": {},
   "outputs": [
    {
     "data": {
      "text/plain": [
       "array(['A', 'B', 'C', 'D', 'E', 'F'], dtype='<U12')"
      ]
     },
     "execution_count": 186,
     "metadata": {},
     "output_type": "execute_result"
    }
   ],
   "source": [
    "np.unique(loandata[:,1]) #중복 없이 어떤 데이터가 있는지 한눈에 확인 가능"
   ]
  },
  {
   "cell_type": "code",
   "execution_count": 190,
   "id": "9d34b55f",
   "metadata": {},
   "outputs": [],
   "source": [
    "loandata[:,1] = np.where(loandata[:,1]=='A',1, loandata[:,1])\n",
    "loandata[:,1] = np.where(loandata[:,1]=='B',2, loandata[:,1])\n",
    "loandata[:,1] = np.where(loandata[:,1]=='C',3, loandata[:,1])\n",
    "loandata[:,1] = np.where(loandata[:,1]=='D',4, loandata[:,1])\n",
    "loandata[:,1] = np.where(loandata[:,1]=='E',5, loandata[:,1])\n",
    "loandata[:,1] = np.where(loandata[:,1]=='F',6, loandata[:,1])"
   ]
  },
  {
   "cell_type": "code",
   "execution_count": 193,
   "id": "702cd204",
   "metadata": {},
   "outputs": [
    {
     "data": {
      "text/plain": [
       "array([[  1,   2,   2],\n",
       "       [  2,   2,   3],\n",
       "       [  3,   3,   5],\n",
       "       ...,\n",
       "       [413,   2, 135],\n",
       "       [414,   3, 200],\n",
       "       [415,   1,   8]])"
      ]
     },
     "execution_count": 193,
     "metadata": {},
     "output_type": "execute_result"
    }
   ],
   "source": [
    "loandata = loandata.astype(np.int_)\n",
    "loandata"
   ]
  },
  {
   "cell_type": "code",
   "execution_count": 196,
   "id": "78e36784",
   "metadata": {},
   "outputs": [
    {
     "data": {
      "text/plain": [
       "dtype('int32')"
      ]
     },
     "execution_count": 196,
     "metadata": {},
     "output_type": "execute_result"
    }
   ],
   "source": [
    "loandata.dtype"
   ]
  },
  {
   "cell_type": "code",
   "execution_count": 199,
   "id": "d737ba1f",
   "metadata": {},
   "outputs": [
    {
     "data": {
      "text/plain": [
       "array([[1.000e+00,       nan,       nan,       nan, 1.660e+04],\n",
       "       [2.000e+00,       nan,       nan,       nan, 1.660e+04],\n",
       "       [3.000e+00,       nan,       nan,       nan, 1.560e+04],\n",
       "       ...,\n",
       "       [4.130e+02,       nan,       nan,       nan, 1.660e+04],\n",
       "       [4.140e+02,       nan,       nan,       nan, 1.560e+04],\n",
       "       [4.150e+02,       nan,       nan,       nan, 2.225e+04]])"
      ]
     },
     "execution_count": 199,
     "metadata": {},
     "output_type": "execute_result"
    }
   ],
   "source": [
    "loandata2 = np.genfromtxt(\"data/Dataset_loan(2).csv\",delimiter=',',skip_header=1,usecols=[0,1,2,4,6])\n",
    "loandata2"
   ]
  },
  {
   "cell_type": "code",
   "execution_count": 200,
   "id": "83c7ae51",
   "metadata": {},
   "outputs": [
    {
     "data": {
      "text/plain": [
       "(415, 5)"
      ]
     },
     "execution_count": 200,
     "metadata": {},
     "output_type": "execute_result"
    }
   ],
   "source": [
    "loandata2.shape"
   ]
  },
  {
   "cell_type": "code",
   "execution_count": 205,
   "id": "43fe9b45",
   "metadata": {},
   "outputs": [],
   "source": [
    "loandata2[:,1] = loandata[:,0]\n",
    "loandata2[:,2] = loandata[:,1]\n",
    "loandata2[:,3] = loandata[:,2]"
   ]
  },
  {
   "cell_type": "code",
   "execution_count": 206,
   "id": "2ef8c4dd",
   "metadata": {},
   "outputs": [
    {
     "data": {
      "text/plain": [
       "array([[1.000e+00, 1.000e+00, 2.000e+00, 2.000e+00, 1.660e+04],\n",
       "       [2.000e+00, 2.000e+00, 2.000e+00, 3.000e+00, 1.660e+04],\n",
       "       [3.000e+00, 3.000e+00, 3.000e+00, 5.000e+00, 1.560e+04],\n",
       "       ...,\n",
       "       [4.130e+02, 4.130e+02, 2.000e+00, 1.350e+02, 1.660e+04],\n",
       "       [4.140e+02, 4.140e+02, 3.000e+00, 2.000e+02, 1.560e+04],\n",
       "       [4.150e+02, 4.150e+02, 1.000e+00, 8.000e+00, 2.225e+04]])"
      ]
     },
     "execution_count": 206,
     "metadata": {},
     "output_type": "execute_result"
    }
   ],
   "source": [
    "loandata2"
   ]
  }
 ],
 "metadata": {
  "kernelspec": {
   "display_name": "Python 3 (ipykernel)",
   "language": "python",
   "name": "python3"
  },
  "language_info": {
   "codemirror_mode": {
    "name": "ipython",
    "version": 3
   },
   "file_extension": ".py",
   "mimetype": "text/x-python",
   "name": "python",
   "nbconvert_exporter": "python",
   "pygments_lexer": "ipython3",
   "version": "3.9.12"
  }
 },
 "nbformat": 4,
 "nbformat_minor": 5
}
