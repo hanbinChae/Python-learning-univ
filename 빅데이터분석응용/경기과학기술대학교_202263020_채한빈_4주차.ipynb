{
 "cells": [
  {
   "cell_type": "markdown",
   "id": "7b7b65ff",
   "metadata": {},
   "source": [
    "# 1차시"
   ]
  },
  {
   "cell_type": "code",
   "execution_count": 32,
   "id": "ec5a9066",
   "metadata": {},
   "outputs": [],
   "source": [
    "import numpy as np"
   ]
  },
  {
   "cell_type": "code",
   "execution_count": 33,
   "id": "8c4057c7",
   "metadata": {},
   "outputs": [
    {
     "data": {
      "text/plain": [
       "array([[ 2000.,    40.,   365.,  3121.,  4241., 13621.],\n",
       "       [ 2000.,    40.,   365.,  3061.,  4171., 15041.],\n",
       "       [ 1000.,    40.,   365.,  2160.,  3280., 15340.],\n",
       "       ...,\n",
       "       [ 2000.,    40.,   365.,  4201.,  5001., 16600.],\n",
       "       [ 1000.,    40.,   365.,  2080.,  3320., 15600.],\n",
       "       [ 2000.,    40.,   365.,  4601.,  4601., 16600.]])"
      ]
     },
     "execution_count": 33,
     "metadata": {},
     "output_type": "execute_result"
    }
   ],
   "source": [
    "numdata = np.loadtxt(\"data/NumData.csv\",delimiter=\",\")\n",
    "numdata"
   ]
  },
  {
   "cell_type": "code",
   "execution_count": 24,
   "id": "ec2f2ab9",
   "metadata": {},
   "outputs": [
    {
     "data": {
      "text/plain": [
       "(1043, 6)"
      ]
     },
     "execution_count": 24,
     "metadata": {},
     "output_type": "execute_result"
    }
   ],
   "source": [
    "numdata.shape"
   ]
  },
  {
   "cell_type": "code",
   "execution_count": 25,
   "id": "f47c5ec2",
   "metadata": {
    "scrolled": true
   },
   "outputs": [
    {
     "name": "stdout",
     "output_type": "stream",
     "text": [
      "[[ 2000.    40.   365. ...   365.  1581.  3041.]\n",
      " [12277.  2000.    40. ...    50.   365.  5350.]\n",
      " [ 6850. 15150.  1000. ...  2000.    40.   365.]\n",
      " [ 3101.  4351. 16600. ... 16600.  2000.    40.]\n",
      " [  365.  3441.  4661. ...  8450. 22250.  2000.]\n",
      " [   40.   365.  3701. ...  4601.  4601. 16600.]]\n"
     ]
    }
   ],
   "source": [
    "numdata2 = numdata.reshape(6,1043) #ndarray의 형태 바꾸기 \n",
    "print(numdata2)"
   ]
  },
  {
   "cell_type": "code",
   "execution_count": 26,
   "id": "0461e55a",
   "metadata": {},
   "outputs": [
    {
     "data": {
      "text/plain": [
       "(6, 1043)"
      ]
     },
     "execution_count": 26,
     "metadata": {},
     "output_type": "execute_result"
    }
   ],
   "source": [
    "numdata2.shape"
   ]
  },
  {
   "cell_type": "code",
   "execution_count": 27,
   "id": "b5e93002",
   "metadata": {},
   "outputs": [
    {
     "name": "stdout",
     "output_type": "stream",
     "text": [
      "3280.0\n",
      "3280.0\n"
     ]
    }
   ],
   "source": [
    "print(numdata[2,4])\n",
    "print(numdata2[0,16])"
   ]
  },
  {
   "cell_type": "code",
   "execution_count": 28,
   "id": "f03d3735",
   "metadata": {},
   "outputs": [
    {
     "name": "stdout",
     "output_type": "stream",
     "text": [
      "12277.0\n"
     ]
    }
   ],
   "source": [
    "print(numdata2[1,0])"
   ]
  },
  {
   "cell_type": "code",
   "execution_count": 29,
   "id": "ea97b8b3",
   "metadata": {},
   "outputs": [
    {
     "name": "stdout",
     "output_type": "stream",
     "text": [
      "12277.0\n"
     ]
    }
   ],
   "source": [
    "print(numdata[173,-1])"
   ]
  },
  {
   "cell_type": "code",
   "execution_count": 31,
   "id": "d3864d4e",
   "metadata": {},
   "outputs": [
    {
     "ename": "ValueError",
     "evalue": "cannot reshape array of size 6258 into shape (1043,5)",
     "output_type": "error",
     "traceback": [
      "\u001b[1;31m---------------------------------------------------------------------------\u001b[0m",
      "\u001b[1;31mValueError\u001b[0m                                Traceback (most recent call last)",
      "Input \u001b[1;32mIn [31]\u001b[0m, in \u001b[0;36m<cell line: 1>\u001b[1;34m()\u001b[0m\n\u001b[1;32m----> 1\u001b[0m \u001b[43mnumdata\u001b[49m\u001b[38;5;241;43m.\u001b[39;49m\u001b[43mreshape\u001b[49m\u001b[43m(\u001b[49m\u001b[38;5;241;43m1043\u001b[39;49m\u001b[43m,\u001b[49m\u001b[38;5;241;43m5\u001b[39;49m\u001b[43m)\u001b[49m\n",
      "\u001b[1;31mValueError\u001b[0m: cannot reshape array of size 6258 into shape (1043,5)"
     ]
    }
   ],
   "source": [
    "numdata.reshape(1043,5)"
   ]
  },
  {
   "cell_type": "code",
   "execution_count": null,
   "id": "3bf3b15e",
   "metadata": {},
   "outputs": [],
   "source": [
    "numdata.reshape(2,3,1043) # n개의 차원으로 변경 가능"
   ]
  },
  {
   "cell_type": "code",
   "execution_count": null,
   "id": "89134362",
   "metadata": {},
   "outputs": [],
   "source": [
    "numdata3 = np.transpose(numdata)\n",
    "print(numdata3)"
   ]
  },
  {
   "cell_type": "code",
   "execution_count": null,
   "id": "90f59ae1",
   "metadata": {},
   "outputs": [],
   "source": [
    "print(numdata[:,3])\n",
    "print(numdata3[3,:])"
   ]
  },
  {
   "cell_type": "code",
   "execution_count": null,
   "id": "d5655b01",
   "metadata": {},
   "outputs": [],
   "source": [
    "numdata"
   ]
  },
  {
   "cell_type": "code",
   "execution_count": null,
   "id": "d72dc1fa",
   "metadata": {},
   "outputs": [],
   "source": [
    "np.delete(numdata, 1, axis=0) # 행 삭제"
   ]
  },
  {
   "cell_type": "code",
   "execution_count": null,
   "id": "e5d83bbf",
   "metadata": {},
   "outputs": [],
   "source": [
    "np.delete(numdata,1,axis=1) #열 삭제"
   ]
  },
  {
   "cell_type": "code",
   "execution_count": null,
   "id": "918cf512",
   "metadata": {},
   "outputs": [],
   "source": [
    "np.delete(np.delete(numdata, [2,4], axis=1), (1040,1041,1042), axis=0).shape"
   ]
  },
  {
   "cell_type": "code",
   "execution_count": null,
   "id": "4d5be4e5",
   "metadata": {},
   "outputs": [],
   "source": [
    "numdata"
   ]
  },
  {
   "cell_type": "code",
   "execution_count": null,
   "id": "b9472654",
   "metadata": {
    "scrolled": true
   },
   "outputs": [],
   "source": [
    "numdata = np.delete(numdata,0,axis=1)"
   ]
  },
  {
   "cell_type": "code",
   "execution_count": null,
   "id": "1dce6db3",
   "metadata": {},
   "outputs": [],
   "source": [
    "numdata = np.delete(numdata, 0 ,axis=0)"
   ]
  },
  {
   "cell_type": "code",
   "execution_count": null,
   "id": "22e4438a",
   "metadata": {},
   "outputs": [],
   "source": [
    "numdata"
   ]
  },
  {
   "cell_type": "code",
   "execution_count": null,
   "id": "c8a02850",
   "metadata": {},
   "outputs": [],
   "source": [
    "numdata = numdata.reshape(5,1042)"
   ]
  },
  {
   "cell_type": "code",
   "execution_count": null,
   "id": "fdc9e62f",
   "metadata": {},
   "outputs": [],
   "source": [
    "numdata.shape"
   ]
  },
  {
   "cell_type": "code",
   "execution_count": null,
   "id": "390eed9a",
   "metadata": {},
   "outputs": [],
   "source": [
    "np.delete(numdata, np.arange(1040,1043), axis=0).shape#슬라이싱은 사용할 수 없음"
   ]
  },
  {
   "cell_type": "code",
   "execution_count": null,
   "id": "d2b3cff3",
   "metadata": {},
   "outputs": [],
   "source": [
    "np.delete(numdata, np.arange(500,600,2), axis=0).shape"
   ]
  },
  {
   "cell_type": "markdown",
   "id": "235d78b2",
   "metadata": {},
   "source": [
    "# 2차시"
   ]
  },
  {
   "cell_type": "code",
   "execution_count": null,
   "id": "227147e9",
   "metadata": {},
   "outputs": [],
   "source": [
    "numdata = np.loadtxt(\"data/NumData.csv\", delimiter = \",\", dtype=np.int_)"
   ]
  },
  {
   "cell_type": "code",
   "execution_count": null,
   "id": "d1e27c3a",
   "metadata": {},
   "outputs": [],
   "source": [
    "np.sort(numdata) # 데이터 정렬, default axis=1 (오름차순)"
   ]
  },
  {
   "cell_type": "code",
   "execution_count": null,
   "id": "10e5b133",
   "metadata": {},
   "outputs": [],
   "source": [
    "np.sort(numdata, axis=0)"
   ]
  },
  {
   "cell_type": "code",
   "execution_count": null,
   "id": "3eb9d743",
   "metadata": {},
   "outputs": [],
   "source": [
    "np.sort(numdata, axis=None) #전체 데이터에 대하여 오름차순 정렬"
   ]
  },
  {
   "cell_type": "code",
   "execution_count": null,
   "id": "dd5e442d",
   "metadata": {},
   "outputs": [],
   "source": [
    "-np.sort(-numdata) # 전체 데이터에 대하여 내림차순 정렬 1"
   ]
  },
  {
   "cell_type": "code",
   "execution_count": null,
   "id": "fa9953ca",
   "metadata": {},
   "outputs": [],
   "source": [
    "np.sort(numdata)[:,::-1] # 전체 데이터에 대하여 내림차순 정렬 2"
   ]
  },
  {
   "cell_type": "code",
   "execution_count": null,
   "id": "72b6574f",
   "metadata": {},
   "outputs": [],
   "source": [
    "np.sort(numdata, axis=0)[::-1,:]"
   ]
  },
  {
   "cell_type": "code",
   "execution_count": null,
   "id": "92c04cf8",
   "metadata": {},
   "outputs": [],
   "source": [
    "np.argsort(numdata) #오름차순 정렬 후 인덱스 기억"
   ]
  },
  {
   "cell_type": "code",
   "execution_count": null,
   "id": "741534ce",
   "metadata": {},
   "outputs": [],
   "source": [
    "np.argsort(numdata,axis=0)[:,-1]"
   ]
  },
  {
   "cell_type": "code",
   "execution_count": null,
   "id": "f1858040",
   "metadata": {},
   "outputs": [],
   "source": [
    "numdata[np.argsort(numdata,axis=0)[:,-1],:]"
   ]
  },
  {
   "cell_type": "code",
   "execution_count": null,
   "id": "d8c39a72",
   "metadata": {},
   "outputs": [],
   "source": [
    "score = np.genfromtxt(\"data/score.csv\", delimiter=\",\", skip_header=1, dtype=np.int_)\n",
    "score"
   ]
  },
  {
   "cell_type": "code",
   "execution_count": null,
   "id": "a2ba2995",
   "metadata": {},
   "outputs": [],
   "source": [
    "np.argsort(score, axis=0)[:,2]"
   ]
  },
  {
   "cell_type": "code",
   "execution_count": null,
   "id": "6ce632c8",
   "metadata": {},
   "outputs": [],
   "source": [
    "score[np.argsort(score, axis=0)[:,2],:]"
   ]
  },
  {
   "cell_type": "code",
   "execution_count": null,
   "id": "e9612272",
   "metadata": {},
   "outputs": [],
   "source": [
    "np.argsort(score)"
   ]
  },
  {
   "cell_type": "code",
   "execution_count": null,
   "id": "6560a516",
   "metadata": {},
   "outputs": [],
   "source": [
    "np.argsort(score)[0,:]"
   ]
  },
  {
   "cell_type": "code",
   "execution_count": null,
   "id": "1df4e388",
   "metadata": {},
   "outputs": [],
   "source": [
    "score[:,np.argsort(score)[0,:]]"
   ]
  },
  {
   "cell_type": "code",
   "execution_count": null,
   "id": "abd506c4",
   "metadata": {},
   "outputs": [],
   "source": [
    "score"
   ]
  },
  {
   "cell_type": "markdown",
   "id": "46e54a51",
   "metadata": {},
   "source": [
    "# 3차시"
   ]
  },
  {
   "cell_type": "code",
   "execution_count": null,
   "id": "dbb801b1",
   "metadata": {},
   "outputs": [],
   "source": [
    "numdata = np.genfromtxt('data/Numdata-NAN.csv',delimiter=';')\n",
    "numdata"
   ]
  },
  {
   "cell_type": "code",
   "execution_count": null,
   "id": "921cc53e",
   "metadata": {},
   "outputs": [],
   "source": [
    "np.argwhere(numdata > 1000)"
   ]
  },
  {
   "cell_type": "code",
   "execution_count": null,
   "id": "86af7655",
   "metadata": {},
   "outputs": [],
   "source": [
    "np.argwhere(np.isnan(numdata))"
   ]
  },
  {
   "cell_type": "code",
   "execution_count": null,
   "id": "210bd0cc",
   "metadata": {},
   "outputs": [],
   "source": [
    "for i in np.argwhere(np.isnan(numdata)):\n",
    "    numdata[i[0], i[1]] = 0\n",
    "numdata"
   ]
  },
  {
   "cell_type": "code",
   "execution_count": null,
   "id": "b9bb8604",
   "metadata": {},
   "outputs": [],
   "source": [
    "np.argwhere(np.isnan(numdata)) # NaN이 사라짐"
   ]
  },
  {
   "cell_type": "code",
   "execution_count": null,
   "id": "c1627b4d",
   "metadata": {},
   "outputs": [],
   "source": [
    "numdata = np.genfromtxt('data/Numdata-NAN.csv',delimiter=';')\n",
    "numdata"
   ]
  },
  {
   "cell_type": "code",
   "execution_count": null,
   "id": "447647b2",
   "metadata": {},
   "outputs": [],
   "source": [
    "avg_col = np.nanmean(numdata,axis=0)"
   ]
  },
  {
   "cell_type": "code",
   "execution_count": null,
   "id": "811618c2",
   "metadata": {},
   "outputs": [],
   "source": [
    "for i in np.argwhere(np.isnan(numdata)): # NaN에 해당하는 부분을 평균으로 교체해주는 방법 BEST!!\n",
    "    numdata[i[0], i[1]] = avg_col[i[1]]\n",
    "numdata"
   ]
  },
  {
   "cell_type": "code",
   "execution_count": null,
   "id": "d6653c85",
   "metadata": {},
   "outputs": [],
   "source": [
    "np.mean(numdata,axis=0) #NaN을 평균값으로 대체했기 때문에 에러 없이 평균 반환."
   ]
  },
  {
   "cell_type": "code",
   "execution_count": null,
   "id": "0d84a878",
   "metadata": {},
   "outputs": [],
   "source": [
    "avg_col"
   ]
  },
  {
   "cell_type": "code",
   "execution_count": null,
   "id": "24af9f24",
   "metadata": {},
   "outputs": [],
   "source": [
    "np.random.shuffle(numdata)\n",
    "numdata"
   ]
  },
  {
   "cell_type": "code",
   "execution_count": null,
   "id": "d81fec20",
   "metadata": {},
   "outputs": [],
   "source": [
    "np.random.seed(10)\n",
    "np.random.rand(2,3)"
   ]
  },
  {
   "cell_type": "code",
   "execution_count": null,
   "id": "fef97ff2",
   "metadata": {},
   "outputs": [],
   "source": [
    "np.random.seed(5) #shuffle에는 랜덤 시드가 적용되지 않음.\n",
    "np.random.shuffle(numdata)\n",
    "numdata"
   ]
  },
  {
   "cell_type": "code",
   "execution_count": null,
   "id": "205d5e13",
   "metadata": {},
   "outputs": [],
   "source": [
    "numdata"
   ]
  },
  {
   "cell_type": "code",
   "execution_count": null,
   "id": "a9184d3e",
   "metadata": {},
   "outputs": [],
   "source": [
    "numdata.dtype"
   ]
  },
  {
   "cell_type": "code",
   "execution_count": null,
   "id": "1f7d02e9",
   "metadata": {},
   "outputs": [],
   "source": [
    "numdata = numdata.astype(dtype=np.str_) \n",
    "numdata"
   ]
  },
  {
   "cell_type": "code",
   "execution_count": null,
   "id": "b598d2ca",
   "metadata": {},
   "outputs": [],
   "source": [
    "numdata = numdata.astype(dtype=np.float_)\n",
    "numdata"
   ]
  },
  {
   "cell_type": "code",
   "execution_count": null,
   "id": "f8f85b84",
   "metadata": {},
   "outputs": [],
   "source": [
    "numdata = numdata.astype(dtype=np.int_) #str에서 float 값을 포함하고 있기 때문에 바로 int형으로 바꿀 수 없다.\n",
    "numdata"
   ]
  },
  {
   "cell_type": "code",
   "execution_count": null,
   "id": "4215ce10",
   "metadata": {},
   "outputs": [],
   "source": [
    "numdata.dtype"
   ]
  },
  {
   "cell_type": "code",
   "execution_count": null,
   "id": "ae57a7fc",
   "metadata": {},
   "outputs": [],
   "source": [
    "numdata = numdata.astype(dtype = np.str_)\n",
    "numdata"
   ]
  },
  {
   "cell_type": "code",
   "execution_count": 51,
   "id": "cbc0b167",
   "metadata": {},
   "outputs": [
    {
     "data": {
      "text/plain": [
       "array([['id_1', 'Product B', 'Location 2'],\n",
       "       ['id_2', 'Product B', 'Location 3'],\n",
       "       ['id_3', 'Product C', 'Location 5'],\n",
       "       ...,\n",
       "       ['id_413', 'Product B', 'Location 135'],\n",
       "       ['id_414', 'Product C', 'Location 200'],\n",
       "       ['id_415', 'Product A', 'Location 8']], dtype='<U12')"
      ]
     },
     "execution_count": 51,
     "metadata": {},
     "output_type": "execute_result"
    }
   ],
   "source": [
    "#문자열 일부 삭제\n",
    "loandata = np.genfromtxt(\"data/Dataset_loan(2).csv\",delimiter=',', dtype=np.str_, skip_header=1, usecols=[1,2,4])\n",
    "loandata"
   ]
  },
  {
   "cell_type": "code",
   "execution_count": 52,
   "id": "533b25e0",
   "metadata": {},
   "outputs": [],
   "source": [
    "loandata[:,0] = np.chararray.strip(loandata[:,0],'id_') #id_ 라는 문자열 삭제"
   ]
  },
  {
   "cell_type": "code",
   "execution_count": 53,
   "id": "2035f5ed",
   "metadata": {},
   "outputs": [
    {
     "data": {
      "text/plain": [
       "array([['1', 'Product B', 'Location 2'],\n",
       "       ['2', 'Product B', 'Location 3'],\n",
       "       ['3', 'Product C', 'Location 5'],\n",
       "       ...,\n",
       "       ['413', 'Product B', 'Location 135'],\n",
       "       ['414', 'Product C', 'Location 200'],\n",
       "       ['415', 'Product A', 'Location 8']], dtype='<U12')"
      ]
     },
     "execution_count": 53,
     "metadata": {},
     "output_type": "execute_result"
    }
   ],
   "source": [
    "loandata"
   ]
  },
  {
   "cell_type": "code",
   "execution_count": 54,
   "id": "5c2f38c2",
   "metadata": {},
   "outputs": [
    {
     "data": {
      "text/plain": [
       "array([['1', 'B', '2'],\n",
       "       ['2', 'B', '3'],\n",
       "       ['3', 'C', '5'],\n",
       "       ...,\n",
       "       ['413', 'B', '135'],\n",
       "       ['414', 'C', '200'],\n",
       "       ['415', 'A', '8']], dtype='<U12')"
      ]
     },
     "execution_count": 54,
     "metadata": {},
     "output_type": "execute_result"
    }
   ],
   "source": [
    "loandata[:,1] = np.chararray.strip(loandata[:,1],'Product ') #id_ 라는 문자열 삭제\n",
    "loandata[:,2] = np.chararray.strip(loandata[:,2],'Location ') #id_ 라는 문자열 삭제\n",
    "loandata"
   ]
  },
  {
   "cell_type": "code",
   "execution_count": 55,
   "id": "fd158d2a",
   "metadata": {},
   "outputs": [
    {
     "data": {
      "text/plain": [
       "array(['A', 'B', 'C', 'D', 'E', 'F'], dtype='<U12')"
      ]
     },
     "execution_count": 55,
     "metadata": {},
     "output_type": "execute_result"
    }
   ],
   "source": [
    "np.unique(loandata[:,1]) #중복 없이 어떤 데이터가 있는지 한눈에 확인 가능"
   ]
  },
  {
   "cell_type": "code",
   "execution_count": 49,
   "id": "9d34b55f",
   "metadata": {},
   "outputs": [],
   "source": [
    "loandata[:,1] = np.where(loandata[:,1]=='A',1, loandata[:,1])\n",
    "loandata[:,1] = np.where(loandata[:,1]=='B',2, loandata[:,1])\n",
    "loandata[:,1] = np.where(loandata[:,1]=='C',3, loandata[:,1])\n",
    "loandata[:,1] = np.where(loandata[:,1]=='D',4, loandata[:,1])\n",
    "loandata[:,1] = np.where(loandata[:,1]=='E',5, loandata[:,1])\n",
    "loandata[:,1] = np.where(loandata[:,1]=='F',6, loandata[:,1])"
   ]
  },
  {
   "cell_type": "code",
   "execution_count": 50,
   "id": "702cd204",
   "metadata": {},
   "outputs": [
    {
     "data": {
      "text/plain": [
       "array([[  1,   2,   2],\n",
       "       [  2,   2,   3],\n",
       "       [  3,   3,   5],\n",
       "       ...,\n",
       "       [413,   2, 135],\n",
       "       [414,   3, 200],\n",
       "       [415,   1,   8]])"
      ]
     },
     "execution_count": 50,
     "metadata": {},
     "output_type": "execute_result"
    }
   ],
   "source": [
    "loandata = loandata.astype(np.int_)\n",
    "loandata"
   ]
  },
  {
   "cell_type": "code",
   "execution_count": null,
   "id": "78e36784",
   "metadata": {},
   "outputs": [],
   "source": [
    "loandata.dtype"
   ]
  },
  {
   "cell_type": "code",
   "execution_count": null,
   "id": "d737ba1f",
   "metadata": {},
   "outputs": [],
   "source": [
    "loandata2 = np.genfromtxt(\"data/Dataset_loan(2).csv\",delimiter=',',skip_header=1,usecols=[0,1,2,4,6])\n",
    "loandata2"
   ]
  },
  {
   "cell_type": "code",
   "execution_count": null,
   "id": "83c7ae51",
   "metadata": {},
   "outputs": [],
   "source": [
    "loandata2.shape"
   ]
  },
  {
   "cell_type": "code",
   "execution_count": null,
   "id": "43fe9b45",
   "metadata": {},
   "outputs": [],
   "source": [
    "loandata2[:,1] = loandata[:,0]\n",
    "loandata2[:,2] = loandata[:,1]\n",
    "loandata2[:,3] = loandata[:,2]"
   ]
  },
  {
   "cell_type": "code",
   "execution_count": null,
   "id": "2ef8c4dd",
   "metadata": {},
   "outputs": [],
   "source": [
    "loandata2"
   ]
  },
  {
   "cell_type": "code",
   "execution_count": null,
   "id": "99b63fa9",
   "metadata": {},
   "outputs": [],
   "source": []
  }
 ],
 "metadata": {
  "kernelspec": {
   "display_name": "Python 3 (ipykernel)",
   "language": "python",
   "name": "python3"
  },
  "language_info": {
   "codemirror_mode": {
    "name": "ipython",
    "version": 3
   },
   "file_extension": ".py",
   "mimetype": "text/x-python",
   "name": "python",
   "nbconvert_exporter": "python",
   "pygments_lexer": "ipython3",
   "version": "3.9.12"
  }
 },
 "nbformat": 4,
 "nbformat_minor": 5
}
