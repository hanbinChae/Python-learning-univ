{
 "cells": [
  {
   "cell_type": "code",
   "execution_count": 1,
   "id": "44301d2d",
   "metadata": {},
   "outputs": [
    {
     "name": "stdout",
     "output_type": "stream",
     "text": [
      "hello world!\n"
     ]
    }
   ],
   "source": [
    "print(\"hello world!\")"
   ]
  },
  {
   "cell_type": "code",
   "execution_count": 6,
   "id": "a6970429",
   "metadata": {},
   "outputs": [
    {
     "name": "stdout",
     "output_type": "stream",
     "text": [
      "by\n"
     ]
    }
   ],
   "source": [
    "print('by')"
   ]
  },
  {
   "cell_type": "markdown",
   "id": "cad16e8d",
   "metadata": {},
   "source": [
    "메모를 할 수 있습니다."
   ]
  },
  {
   "cell_type": "markdown",
   "id": "a8e19102",
   "metadata": {},
   "source": [
    "# 1. a번"
   ]
  },
  {
   "cell_type": "markdown",
   "id": "9556ef5a",
   "metadata": {},
   "source": [
    "## 2.b번"
   ]
  },
  {
   "cell_type": "markdown",
   "id": "463779a4",
   "metadata": {},
   "source": [
    "### 3. c번"
   ]
  },
  {
   "cell_type": "code",
   "execution_count": 8,
   "id": "2149054b",
   "metadata": {},
   "outputs": [
    {
     "name": "stdout",
     "output_type": "stream",
     "text": [
      "15\n"
     ]
    },
    {
     "data": {
      "text/plain": [
       "21"
      ]
     },
     "execution_count": 8,
     "metadata": {},
     "output_type": "execute_result"
    }
   ],
   "source": [
    "print(5*3)\n",
    "7*3"
   ]
  },
  {
   "cell_type": "code",
   "execution_count": null,
   "id": "e3f03825",
   "metadata": {},
   "outputs": [],
   "source": []
  }
 ],
 "metadata": {
  "kernelspec": {
   "display_name": "Python 3 (ipykernel)",
   "language": "python",
   "name": "python3"
  },
  "language_info": {
   "codemirror_mode": {
    "name": "ipython",
    "version": 3
   },
   "file_extension": ".py",
   "mimetype": "text/x-python",
   "name": "python",
   "nbconvert_exporter": "python",
   "pygments_lexer": "ipython3",
   "version": "3.9.12"
  }
 },
 "nbformat": 4,
 "nbformat_minor": 5
}
