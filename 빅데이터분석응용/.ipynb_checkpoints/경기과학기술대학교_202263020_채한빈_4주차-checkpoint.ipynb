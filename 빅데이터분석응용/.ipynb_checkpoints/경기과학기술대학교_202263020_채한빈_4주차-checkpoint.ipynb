{
 "cells": [
  {
   "cell_type": "markdown",
   "id": "dc629186",
   "metadata": {},
   "source": [
    "# 1차시"
   ]
  },
  {
   "cell_type": "code",
   "execution_count": 1,
   "id": "8862a824",
   "metadata": {},
   "outputs": [],
   "source": [
    "import numpy as np"
   ]
  },
  {
   "cell_type": "code",
   "execution_count": 58,
   "id": "7348b980",
   "metadata": {},
   "outputs": [
    {
     "data": {
      "text/plain": [
       "array([[ 2000.,    40.,   365.,  3121.,  4241., 13621.],\n",
       "       [ 2000.,    40.,   365.,  3061.,  4171., 15041.],\n",
       "       [ 1000.,    40.,   365.,  2160.,  3280., 15340.],\n",
       "       ...,\n",
       "       [ 2000.,    40.,   365.,  4201.,  5001., 16600.],\n",
       "       [ 1000.,    40.,   365.,  2080.,  3320., 15600.],\n",
       "       [ 2000.,    40.,   365.,  4601.,  4601., 16600.]])"
      ]
     },
     "execution_count": 58,
     "metadata": {},
     "output_type": "execute_result"
    }
   ],
   "source": [
    "numdata = np.loadtxt(\"data/NumData.csv\",delimiter=\",\")\n",
    "numdata"
   ]
  },
  {
   "cell_type": "code",
   "execution_count": 5,
   "id": "cff542f2",
   "metadata": {},
   "outputs": [
    {
     "data": {
      "text/plain": [
       "(1043, 6)"
      ]
     },
     "execution_count": 5,
     "metadata": {},
     "output_type": "execute_result"
    }
   ],
   "source": [
    "numdata.shape"
   ]
  },
  {
   "cell_type": "code",
   "execution_count": 7,
   "id": "a69243be",
   "metadata": {
    "scrolled": true
   },
   "outputs": [
    {
     "name": "stdout",
     "output_type": "stream",
     "text": [
      "[[ 2000.    40.   365. ...   365.  1581.  3041.]\n",
      " [12277.  2000.    40. ...    50.   365.  5350.]\n",
      " [ 6850. 15150.  1000. ...  2000.    40.   365.]\n",
      " [ 3101.  4351. 16600. ... 16600.  2000.    40.]\n",
      " [  365.  3441.  4661. ...  8450. 22250.  2000.]\n",
      " [   40.   365.  3701. ...  4601.  4601. 16600.]]\n"
     ]
    }
   ],
   "source": [
    "numdata2 = numdata.reshape(6,1043) #ndarray의 형태 바꾸기 \n",
    "print(numdata2)"
   ]
  },
  {
   "cell_type": "code",
   "execution_count": 9,
   "id": "bb019436",
   "metadata": {},
   "outputs": [
    {
     "data": {
      "text/plain": [
       "(6, 1043)"
      ]
     },
     "execution_count": 9,
     "metadata": {},
     "output_type": "execute_result"
    }
   ],
   "source": [
    "numdata2.shape"
   ]
  },
  {
   "cell_type": "code",
   "execution_count": 11,
   "id": "1a236979",
   "metadata": {},
   "outputs": [
    {
     "name": "stdout",
     "output_type": "stream",
     "text": [
      "3280.0\n",
      "3280.0\n"
     ]
    }
   ],
   "source": [
    "print(numdata[2,4])\n",
    "print(numdata2[0,16])"
   ]
  },
  {
   "cell_type": "code",
   "execution_count": 13,
   "id": "30698bf8",
   "metadata": {},
   "outputs": [
    {
     "name": "stdout",
     "output_type": "stream",
     "text": [
      "12277.0\n"
     ]
    }
   ],
   "source": [
    "print(numdata2[1,0])"
   ]
  },
  {
   "cell_type": "code",
   "execution_count": 16,
   "id": "41085ebb",
   "metadata": {},
   "outputs": [
    {
     "name": "stdout",
     "output_type": "stream",
     "text": [
      "12277.0\n"
     ]
    }
   ],
   "source": [
    "print(numdata[173,-1])"
   ]
  },
  {
   "cell_type": "code",
   "execution_count": 20,
   "id": "99224e9f",
   "metadata": {},
   "outputs": [
    {
     "ename": "ValueError",
     "evalue": "cannot reshape array of size 6258 into shape (1043,5)",
     "output_type": "error",
     "traceback": [
      "\u001b[1;31m---------------------------------------------------------------------------\u001b[0m",
      "\u001b[1;31mValueError\u001b[0m                                Traceback (most recent call last)",
      "Input \u001b[1;32mIn [20]\u001b[0m, in \u001b[0;36m<cell line: 1>\u001b[1;34m()\u001b[0m\n\u001b[1;32m----> 1\u001b[0m \u001b[43mnumdata\u001b[49m\u001b[38;5;241;43m.\u001b[39;49m\u001b[43mreshape\u001b[49m\u001b[43m(\u001b[49m\u001b[38;5;241;43m1043\u001b[39;49m\u001b[43m,\u001b[49m\u001b[38;5;241;43m5\u001b[39;49m\u001b[43m)\u001b[49m\n",
      "\u001b[1;31mValueError\u001b[0m: cannot reshape array of size 6258 into shape (1043,5)"
     ]
    }
   ],
   "source": [
    "numdata.reshape(1043,5)"
   ]
  },
  {
   "cell_type": "code",
   "execution_count": 23,
   "id": "968bce7f",
   "metadata": {},
   "outputs": [
    {
     "data": {
      "text/plain": [
       "array([[[ 2000.,    40.,   365., ...,   365.,  1581.,  3041.],\n",
       "        [12277.,  2000.,    40., ...,    50.,   365.,  5350.],\n",
       "        [ 6850., 15150.,  1000., ...,  2000.,    40.,   365.]],\n",
       "\n",
       "       [[ 3101.,  4351., 16600., ..., 16600.,  2000.,    40.],\n",
       "        [  365.,  3441.,  4661., ...,  8450., 22250.,  2000.],\n",
       "        [   40.,   365.,  3701., ...,  4601.,  4601., 16600.]]])"
      ]
     },
     "execution_count": 23,
     "metadata": {},
     "output_type": "execute_result"
    }
   ],
   "source": [
    "numdata.reshape(2,3,1043) # n개의 차원으로 변경 가능"
   ]
  },
  {
   "cell_type": "code",
   "execution_count": 25,
   "id": "6a77721c",
   "metadata": {},
   "outputs": [
    {
     "name": "stdout",
     "output_type": "stream",
     "text": [
      "[[ 2000.  2000.  1000. ...  2000.  1000.  2000.]\n",
      " [   40.    40.    40. ...    40.    40.    40.]\n",
      " [  365.   365.   365. ...   365.   365.   365.]\n",
      " [ 3121.  3061.  2160. ...  4201.  2080.  4601.]\n",
      " [ 4241.  4171.  3280. ...  5001.  3320.  4601.]\n",
      " [13621. 15041. 15340. ... 16600. 15600. 16600.]]\n"
     ]
    }
   ],
   "source": [
    "numdata3 = np.transpose(numdata)\n",
    "print(numdata3)"
   ]
  },
  {
   "cell_type": "code",
   "execution_count": 28,
   "id": "dec48eaf",
   "metadata": {},
   "outputs": [
    {
     "name": "stdout",
     "output_type": "stream",
     "text": [
      "[3121. 3061. 2160. ... 4201. 2080. 4601.]\n",
      "[3121. 3061. 2160. ... 4201. 2080. 4601.]\n"
     ]
    }
   ],
   "source": [
    "print(numdata[:,3])\n",
    "print(numdata3[3,:])"
   ]
  },
  {
   "cell_type": "code",
   "execution_count": 30,
   "id": "b17b6ae6",
   "metadata": {},
   "outputs": [
    {
     "data": {
      "text/plain": [
       "array([[ 2000.,    40.,   365.,  3121.,  4241., 13621.],\n",
       "       [ 2000.,    40.,   365.,  3061.,  4171., 15041.],\n",
       "       [ 1000.,    40.,   365.,  2160.,  3280., 15340.],\n",
       "       ...,\n",
       "       [ 2000.,    40.,   365.,  4201.,  5001., 16600.],\n",
       "       [ 1000.,    40.,   365.,  2080.,  3320., 15600.],\n",
       "       [ 2000.,    40.,   365.,  4601.,  4601., 16600.]])"
      ]
     },
     "execution_count": 30,
     "metadata": {},
     "output_type": "execute_result"
    }
   ],
   "source": [
    "numdata"
   ]
  },
  {
   "cell_type": "code",
   "execution_count": 34,
   "id": "c8a54d2f",
   "metadata": {},
   "outputs": [
    {
     "data": {
      "text/plain": [
       "array([[ 2000.,    40.,   365.,  3121.,  4241., 13621.],\n",
       "       [ 1000.,    40.,   365.,  2160.,  3280., 15340.],\n",
       "       [ 2000.,    40.,   365.,  3041.,  4241., 15321.],\n",
       "       ...,\n",
       "       [ 2000.,    40.,   365.,  4201.,  5001., 16600.],\n",
       "       [ 1000.,    40.,   365.,  2080.,  3320., 15600.],\n",
       "       [ 2000.,    40.,   365.,  4601.,  4601., 16600.]])"
      ]
     },
     "execution_count": 34,
     "metadata": {},
     "output_type": "execute_result"
    }
   ],
   "source": [
    "np.delete(numdata, 1, axis=0) # 행 삭제"
   ]
  },
  {
   "cell_type": "code",
   "execution_count": 35,
   "id": "5fc754c9",
   "metadata": {},
   "outputs": [
    {
     "data": {
      "text/plain": [
       "array([[ 2000.,   365.,  3121.,  4241., 13621.],\n",
       "       [ 2000.,   365.,  3061.,  4171., 15041.],\n",
       "       [ 1000.,   365.,  2160.,  3280., 15340.],\n",
       "       ...,\n",
       "       [ 2000.,   365.,  4201.,  5001., 16600.],\n",
       "       [ 1000.,   365.,  2080.,  3320., 15600.],\n",
       "       [ 2000.,   365.,  4601.,  4601., 16600.]])"
      ]
     },
     "execution_count": 35,
     "metadata": {},
     "output_type": "execute_result"
    }
   ],
   "source": [
    "np.delete(numdata,1,axis=1) #열 삭제"
   ]
  },
  {
   "cell_type": "code",
   "execution_count": 42,
   "id": "4d3d37f8",
   "metadata": {},
   "outputs": [
    {
     "data": {
      "text/plain": [
       "(1040, 4)"
      ]
     },
     "execution_count": 42,
     "metadata": {},
     "output_type": "execute_result"
    }
   ],
   "source": [
    "np.delete(np.delete(numdata, [2,4], axis=1), (1040,1041,1042), axis=0).shape"
   ]
  },
  {
   "cell_type": "code",
   "execution_count": 44,
   "id": "1519225a",
   "metadata": {},
   "outputs": [
    {
     "data": {
      "text/plain": [
       "array([[ 2000.,    40.,   365.,  3121.,  4241., 13621.],\n",
       "       [ 2000.,    40.,   365.,  3061.,  4171., 15041.],\n",
       "       [ 1000.,    40.,   365.,  2160.,  3280., 15340.],\n",
       "       ...,\n",
       "       [ 2000.,    40.,   365.,  4201.,  5001., 16600.],\n",
       "       [ 1000.,    40.,   365.,  2080.,  3320., 15600.],\n",
       "       [ 2000.,    40.,   365.,  4601.,  4601., 16600.]])"
      ]
     },
     "execution_count": 44,
     "metadata": {},
     "output_type": "execute_result"
    }
   ],
   "source": [
    "numdata"
   ]
  },
  {
   "cell_type": "code",
   "execution_count": 47,
   "id": "be1ec08e",
   "metadata": {
    "scrolled": true
   },
   "outputs": [],
   "source": [
    "numdata = np.delete(numdata,0,axis=1)"
   ]
  },
  {
   "cell_type": "code",
   "execution_count": 49,
   "id": "91eed543",
   "metadata": {},
   "outputs": [],
   "source": [
    "numdata = np.delete(numdata, 0 ,axis=0)"
   ]
  },
  {
   "cell_type": "code",
   "execution_count": 51,
   "id": "51d4abc9",
   "metadata": {},
   "outputs": [
    {
     "data": {
      "text/plain": [
       "array([[   40.,   365.,  3061.,  4171., 15041.],\n",
       "       [   40.,   365.,  2160.,  3280., 15340.],\n",
       "       [   40.,   365.,  3041.,  4241., 15321.],\n",
       "       ...,\n",
       "       [   40.,   365.,  4201.,  5001., 16600.],\n",
       "       [   40.,   365.,  2080.,  3320., 15600.],\n",
       "       [   40.,   365.,  4601.,  4601., 16600.]])"
      ]
     },
     "execution_count": 51,
     "metadata": {},
     "output_type": "execute_result"
    }
   ],
   "source": [
    "numdata"
   ]
  },
  {
   "cell_type": "code",
   "execution_count": 56,
   "id": "445c4704",
   "metadata": {},
   "outputs": [],
   "source": [
    "numdata = numdata.reshape(5,1042)"
   ]
  },
  {
   "cell_type": "code",
   "execution_count": 57,
   "id": "970dbe7a",
   "metadata": {},
   "outputs": [
    {
     "data": {
      "text/plain": [
       "(5, 1042)"
      ]
     },
     "execution_count": 57,
     "metadata": {},
     "output_type": "execute_result"
    }
   ],
   "source": [
    "numdata.shape"
   ]
  },
  {
   "cell_type": "code",
   "execution_count": 59,
   "id": "506a4ffb",
   "metadata": {},
   "outputs": [
    {
     "ename": "SyntaxError",
     "evalue": "invalid syntax (2858087848.py, line 1)",
     "output_type": "error",
     "traceback": [
      "\u001b[1;36m  Input \u001b[1;32mIn [59]\u001b[1;36m\u001b[0m\n\u001b[1;33m    np.delete(numdata, [1040:-1], axis=0)\u001b[0m\n\u001b[1;37m                            ^\u001b[0m\n\u001b[1;31mSyntaxError\u001b[0m\u001b[1;31m:\u001b[0m invalid syntax\n"
     ]
    }
   ],
   "source": [
    "np.delete(numdata, np.arange(), axis=0)"
   ]
  },
  {
   "cell_type": "code",
   "execution_count": null,
   "id": "e05f1992",
   "metadata": {},
   "outputs": [],
   "source": []
  }
 ],
 "metadata": {
  "kernelspec": {
   "display_name": "Python 3 (ipykernel)",
   "language": "python",
   "name": "python3"
  },
  "language_info": {
   "codemirror_mode": {
    "name": "ipython",
    "version": 3
   },
   "file_extension": ".py",
   "mimetype": "text/x-python",
   "name": "python",
   "nbconvert_exporter": "python",
   "pygments_lexer": "ipython3",
   "version": "3.9.12"
  }
 },
 "nbformat": 4,
 "nbformat_minor": 5
}
