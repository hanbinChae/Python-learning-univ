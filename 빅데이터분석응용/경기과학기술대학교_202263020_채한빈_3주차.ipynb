{
 "cells": [
  {
   "cell_type": "markdown",
   "id": "7a66c154",
   "metadata": {},
   "source": [
    "# 1차시"
   ]
  },
  {
   "cell_type": "code",
   "execution_count": 1,
   "id": "4f2b6e78",
   "metadata": {},
   "outputs": [],
   "source": [
    "import numpy as np"
   ]
  },
  {
   "cell_type": "code",
   "execution_count": 4,
   "id": "dba52f25",
   "metadata": {},
   "outputs": [
    {
     "name": "stdout",
     "output_type": "stream",
     "text": [
      "[[ 2000.    40.   365.  3121.  4241. 13621.]\n",
      " [ 2000.    40.   365.  3061.  4171. 15041.]\n",
      " [ 1000.    40.   365.  2160.  3280. 15340.]\n",
      " ...\n",
      " [ 2000.    40.   365.  4201.  5001. 16600.]\n",
      " [ 1000.    40.   365.  2080.  3320. 15600.]\n",
      " [ 2000.    40.   365.  4601.  4601. 16600.]]\n",
      "<class 'numpy.ndarray'>\n"
     ]
    }
   ],
   "source": [
    "numdata = np.loadtxt(\"data/NumData.csv\", delimiter = ',')\n",
    "print(numdata)\n",
    "print(type(numdata))"
   ]
  },
  {
   "cell_type": "code",
   "execution_count": 5,
   "id": "123dc29a",
   "metadata": {},
   "outputs": [
    {
     "name": "stdout",
     "output_type": "stream",
     "text": [
      "2\n",
      "(1043, 6)\n"
     ]
    }
   ],
   "source": [
    "print(numdata.ndim)\n",
    "print(numdata.shape)"
   ]
  },
  {
   "cell_type": "code",
   "execution_count": 10,
   "id": "f8477277",
   "metadata": {},
   "outputs": [
    {
     "ename": "ValueError",
     "evalue": "could not convert string to float: ''",
     "output_type": "error",
     "traceback": [
      "\u001b[1;31m---------------------------------------------------------------------------\u001b[0m",
      "\u001b[1;31mValueError\u001b[0m                                Traceback (most recent call last)",
      "Input \u001b[1;32mIn [10]\u001b[0m, in \u001b[0;36m<cell line: 1>\u001b[1;34m()\u001b[0m\n\u001b[1;32m----> 1\u001b[0m numdata2 \u001b[38;5;241m=\u001b[39m \u001b[43mnp\u001b[49m\u001b[38;5;241;43m.\u001b[39;49m\u001b[43mloadtxt\u001b[49m\u001b[43m(\u001b[49m\u001b[38;5;124;43m\"\u001b[39;49m\u001b[38;5;124;43mdata/NumData-NAN.csv\u001b[39;49m\u001b[38;5;124;43m\"\u001b[39;49m\u001b[43m,\u001b[49m\u001b[43m \u001b[49m\u001b[43mdelimiter\u001b[49m\u001b[43m \u001b[49m\u001b[38;5;241;43m=\u001b[39;49m\u001b[43m \u001b[49m\u001b[38;5;124;43m'\u001b[39;49m\u001b[38;5;124;43m;\u001b[39;49m\u001b[38;5;124;43m'\u001b[39;49m\u001b[43m)\u001b[49m\n\u001b[0;32m      2\u001b[0m \u001b[38;5;28mprint\u001b[39m(numdata2)\n",
      "File \u001b[1;32mC:\\ProgramData\\Anaconda3\\lib\\site-packages\\numpy\\lib\\npyio.py:1148\u001b[0m, in \u001b[0;36mloadtxt\u001b[1;34m(fname, dtype, comments, delimiter, converters, skiprows, usecols, unpack, ndmin, encoding, max_rows, like)\u001b[0m\n\u001b[0;32m   1143\u001b[0m \u001b[38;5;66;03m# read data in chunks and fill it into an array via resize\u001b[39;00m\n\u001b[0;32m   1144\u001b[0m \u001b[38;5;66;03m# over-allocating and shrinking the array later may be faster but is\u001b[39;00m\n\u001b[0;32m   1145\u001b[0m \u001b[38;5;66;03m# probably not relevant compared to the cost of actually reading and\u001b[39;00m\n\u001b[0;32m   1146\u001b[0m \u001b[38;5;66;03m# converting the data\u001b[39;00m\n\u001b[0;32m   1147\u001b[0m X \u001b[38;5;241m=\u001b[39m \u001b[38;5;28;01mNone\u001b[39;00m\n\u001b[1;32m-> 1148\u001b[0m \u001b[38;5;28;01mfor\u001b[39;00m x \u001b[38;5;129;01min\u001b[39;00m read_data(_loadtxt_chunksize):\n\u001b[0;32m   1149\u001b[0m     \u001b[38;5;28;01mif\u001b[39;00m X \u001b[38;5;129;01mis\u001b[39;00m \u001b[38;5;28;01mNone\u001b[39;00m:\n\u001b[0;32m   1150\u001b[0m         X \u001b[38;5;241m=\u001b[39m np\u001b[38;5;241m.\u001b[39marray(x, dtype)\n",
      "File \u001b[1;32mC:\\ProgramData\\Anaconda3\\lib\\site-packages\\numpy\\lib\\npyio.py:999\u001b[0m, in \u001b[0;36mloadtxt.<locals>.read_data\u001b[1;34m(chunk_size)\u001b[0m\n\u001b[0;32m    995\u001b[0m     \u001b[38;5;28;01mraise\u001b[39;00m \u001b[38;5;167;01mValueError\u001b[39;00m(\u001b[38;5;124m\"\u001b[39m\u001b[38;5;124mWrong number of columns at line \u001b[39m\u001b[38;5;132;01m%d\u001b[39;00m\u001b[38;5;124m\"\u001b[39m\n\u001b[0;32m    996\u001b[0m                      \u001b[38;5;241m%\u001b[39m line_num)\n\u001b[0;32m    998\u001b[0m \u001b[38;5;66;03m# Convert each value according to its column and store\u001b[39;00m\n\u001b[1;32m--> 999\u001b[0m items \u001b[38;5;241m=\u001b[39m [conv(val) \u001b[38;5;28;01mfor\u001b[39;00m (conv, val) \u001b[38;5;129;01min\u001b[39;00m \u001b[38;5;28mzip\u001b[39m(converters, vals)]\n\u001b[0;32m   1001\u001b[0m \u001b[38;5;66;03m# Then pack it according to the dtype's nesting\u001b[39;00m\n\u001b[0;32m   1002\u001b[0m items \u001b[38;5;241m=\u001b[39m pack_items(items, packing)\n",
      "File \u001b[1;32mC:\\ProgramData\\Anaconda3\\lib\\site-packages\\numpy\\lib\\npyio.py:999\u001b[0m, in \u001b[0;36m<listcomp>\u001b[1;34m(.0)\u001b[0m\n\u001b[0;32m    995\u001b[0m     \u001b[38;5;28;01mraise\u001b[39;00m \u001b[38;5;167;01mValueError\u001b[39;00m(\u001b[38;5;124m\"\u001b[39m\u001b[38;5;124mWrong number of columns at line \u001b[39m\u001b[38;5;132;01m%d\u001b[39;00m\u001b[38;5;124m\"\u001b[39m\n\u001b[0;32m    996\u001b[0m                      \u001b[38;5;241m%\u001b[39m line_num)\n\u001b[0;32m    998\u001b[0m \u001b[38;5;66;03m# Convert each value according to its column and store\u001b[39;00m\n\u001b[1;32m--> 999\u001b[0m items \u001b[38;5;241m=\u001b[39m [\u001b[43mconv\u001b[49m\u001b[43m(\u001b[49m\u001b[43mval\u001b[49m\u001b[43m)\u001b[49m \u001b[38;5;28;01mfor\u001b[39;00m (conv, val) \u001b[38;5;129;01min\u001b[39;00m \u001b[38;5;28mzip\u001b[39m(converters, vals)]\n\u001b[0;32m   1001\u001b[0m \u001b[38;5;66;03m# Then pack it according to the dtype's nesting\u001b[39;00m\n\u001b[0;32m   1002\u001b[0m items \u001b[38;5;241m=\u001b[39m pack_items(items, packing)\n",
      "File \u001b[1;32mC:\\ProgramData\\Anaconda3\\lib\\site-packages\\numpy\\lib\\npyio.py:736\u001b[0m, in \u001b[0;36m_getconv.<locals>.floatconv\u001b[1;34m(x)\u001b[0m\n\u001b[0;32m    734\u001b[0m \u001b[38;5;28;01mif\u001b[39;00m \u001b[38;5;124m'\u001b[39m\u001b[38;5;124m0x\u001b[39m\u001b[38;5;124m'\u001b[39m \u001b[38;5;129;01min\u001b[39;00m x:\n\u001b[0;32m    735\u001b[0m     \u001b[38;5;28;01mreturn\u001b[39;00m \u001b[38;5;28mfloat\u001b[39m\u001b[38;5;241m.\u001b[39mfromhex(x)\n\u001b[1;32m--> 736\u001b[0m \u001b[38;5;28;01mreturn\u001b[39;00m \u001b[38;5;28;43mfloat\u001b[39;49m\u001b[43m(\u001b[49m\u001b[43mx\u001b[49m\u001b[43m)\u001b[49m\n",
      "\u001b[1;31mValueError\u001b[0m: could not convert string to float: ''"
     ]
    }
   ],
   "source": [
    "numdata2 = np.loadtxt(\"data/NumData-NAN.csv\", delimiter = ';')\n",
    "print(numdata2)"
   ]
  },
  {
   "cell_type": "code",
   "execution_count": 12,
   "id": "6deaf59c",
   "metadata": {},
   "outputs": [
    {
     "name": "stdout",
     "output_type": "stream",
     "text": [
      "[[ 2000.    40.   365.  3121.  4241. 13621.]\n",
      " [ 2000.    40.   365.  3061.  4171. 15041.]\n",
      " [ 1000.    40.   365.  2160.  3280. 15340.]\n",
      " ...\n",
      " [   nan    40.   365.  4201.  5001. 16600.]\n",
      " [ 1000.    40.   365.  2080.  3320. 15600.]\n",
      " [ 2000.    40.   365.  4601.  4601. 16600.]]\n",
      "(1043, 6)\n"
     ]
    }
   ],
   "source": [
    "numdata2 = np.genfromtxt(\"data/NumData-NAN.csv\", delimiter = \";\") #데이터에 결측값, 즉 공백이 있을 때도 데이터 로드 가능\n",
    "print(numdata2)\n",
    "print(numdata2.shape)"
   ]
  },
  {
   "cell_type": "code",
   "execution_count": 15,
   "id": "5456baac",
   "metadata": {},
   "outputs": [
    {
     "data": {
      "text/plain": [
       "array([[ 1000.,    40.,   365.,  2160.,  3280., 15340.],\n",
       "       [ 2000.,    40.,   365.,  3041.,  4241., 15321.],\n",
       "       [ 2000.,    50.,   365.,  3470.,  4820., 13720.],\n",
       "       ...,\n",
       "       [ 2000.,    40.,   365.,  3401.,    nan, 16600.],\n",
       "       [ 2000.,    40.,   365.,    nan,  5440., 16600.],\n",
       "       [   nan,    40.,   365.,  4201.,  5001., 16600.]])"
      ]
     },
     "execution_count": 15,
     "metadata": {},
     "output_type": "execute_result"
    }
   ],
   "source": [
    "numdata3 = np.genfromtxt(\"data/NumData-NAN.csv\", delimiter = \";\", skip_header = 2, skip_footer = 2)\n",
    "numdata3"
   ]
  },
  {
   "cell_type": "code",
   "execution_count": 18,
   "id": "47cab7be",
   "metadata": {},
   "outputs": [
    {
     "name": "stdout",
     "output_type": "stream",
     "text": [
      "[[ 2000.   365. 13621.]\n",
      " [ 2000.   365. 15041.]\n",
      " [ 1000.   365. 15340.]\n",
      " ...\n",
      " [   nan   365. 16600.]\n",
      " [ 1000.   365. 15600.]\n",
      " [ 2000.   365. 16600.]]\n",
      "(1043, 3)\n"
     ]
    }
   ],
   "source": [
    "numdata4 = np.genfromtxt(\"data/Numdata-NAN.csv\",delimiter = \";\", usecols=[0,2,5])\n",
    "print(numdata4)\n",
    "print(numdata4.shape)"
   ]
  },
  {
   "cell_type": "code",
   "execution_count": 20,
   "id": "b24a807a",
   "metadata": {},
   "outputs": [
    {
     "name": "stdout",
     "output_type": "stream",
     "text": [
      "[[13621. 15041. 15340. ... 16600. 15600. 16600.]\n",
      " [  365.   365.   365. ...   365.   365.   365.]\n",
      " [ 2000.  2000.  1000. ...    nan  1000.  2000.]]\n",
      "(3, 1043)\n"
     ]
    }
   ],
   "source": [
    "numdata5 = np.genfromtxt(\"data/Numdata-NAN.csv\",delimiter = \";\", usecols=[5,2,0])\n",
    "print(numdata5)\n",
    "print(numdata5.shape)"
   ]
  },
  {
   "cell_type": "code",
   "execution_count": 23,
   "id": "65fbd171",
   "metadata": {},
   "outputs": [
    {
     "name": "stdout",
     "output_type": "stream",
     "text": [
      "[13621. 15041. 15340. ... 16600. 15600. 16600.]\n",
      "[365. 365. 365. ... 365. 365. 365.]\n",
      "[2000. 2000. 1000. ...   nan 1000. 2000.]\n"
     ]
    }
   ],
   "source": [
    "numarr5, numarr2, numarr0= np.genfromtxt(\"data/Numdata-NAN.csv\",delimiter = \";\", usecols=[5,2,0], unpack=True)\n",
    "# unpack된 값과 반환받을 변수 개수를 맞춰 주어야 한다.\n",
    "print(numarr5)\n",
    "print(numarr2)\n",
    "print(numarr0)"
   ]
  },
  {
   "cell_type": "code",
   "execution_count": 30,
   "id": "63c28bec",
   "metadata": {},
   "outputs": [
    {
     "name": "stdout",
     "output_type": "stream",
     "text": [
      "[['LoanID' 'StringID' 'Product' ... 'Location' 'Region' 'TotalPrice']\n",
      " ['1' 'id_1' 'Product B' ... 'Location 2' 'Region 2' '16600.0']\n",
      " ['2' 'id_2' 'Product B' ... 'Location 3' '' '16600.0']\n",
      " ...\n",
      " ['1041' 'id_1041' 'Product B' ... 'Location 23' 'Region 4' '16600.0']\n",
      " ['1042' 'id_1042' 'Product C' ... 'Location 52' 'Region 6' '15600.0']\n",
      " ['1043' 'id_1043' 'Product B' ... 'Location 142' 'Region 6' '16600.0']]\n"
     ]
    }
   ],
   "source": [
    "loan_data1 = np.genfromtxt(\"data/Dataset_loan.csv\", delimiter = \",\", dtype=np.str_)\n",
    "print(loan_data1)"
   ]
  },
  {
   "cell_type": "code",
   "execution_count": 33,
   "id": "65e54a5f",
   "metadata": {
    "scrolled": true
   },
   "outputs": [
    {
     "data": {
      "text/plain": [
       "'12'"
      ]
     },
     "execution_count": 33,
     "metadata": {},
     "output_type": "execute_result"
    }
   ],
   "source": [
    "loan_data1[1,0] + loan_data1[2,0]"
   ]
  },
  {
   "cell_type": "code",
   "execution_count": 37,
   "id": "424ccc65",
   "metadata": {},
   "outputs": [
    {
     "name": "stdout",
     "output_type": "stream",
     "text": [
      "[(  -1, '', '', '', '', nan) (   1, '', '', '', '', nan)\n",
      " (   2, '', '', '', '', nan) ... (1041, '', '', '', '', nan)\n",
      " (1042, '', '', '', '', nan) (1043, '', '', '', '', nan)]\n"
     ]
    }
   ],
   "source": [
    "loan_data4 = np.genfromtxt(\"data/Dataset_loan.csv\",delimiter = \",\",dtype=(np.int_, np.str_,np.str_, np.str_, np.str_,np.float_))\n",
    "print(loan_data4) \n",
    "# dtype은 하나의 타입만 가지는 것이 좋다."
   ]
  },
  {
   "cell_type": "code",
   "execution_count": 39,
   "id": "d3e9fdcf",
   "metadata": {},
   "outputs": [
    {
     "data": {
      "text/plain": [
       "(1044,)"
      ]
     },
     "execution_count": 39,
     "metadata": {},
     "output_type": "execute_result"
    }
   ],
   "source": [
    "loan_data4.shape"
   ]
  },
  {
   "cell_type": "code",
   "execution_count": 42,
   "id": "8961f5de",
   "metadata": {},
   "outputs": [
    {
     "data": {
      "text/plain": [
       "dtype('float64')"
      ]
     },
     "execution_count": 42,
     "metadata": {},
     "output_type": "execute_result"
    }
   ],
   "source": [
    "np.genfromtxt(\"data/Dataset_loan.csv\", delimiter = \",\", skip_header=1, usecols = [0,6]).dtype"
   ]
  },
  {
   "cell_type": "markdown",
   "id": "a987a7ba",
   "metadata": {},
   "source": [
    "# 2차시"
   ]
  },
  {
   "cell_type": "code",
   "execution_count": 43,
   "id": "da84b687",
   "metadata": {},
   "outputs": [
    {
     "name": "stdout",
     "output_type": "stream",
     "text": [
      "[[1 0 0 3 1]\n",
      " [3 6 6 2 9]\n",
      " [4 5 3 8 0]]\n"
     ]
    }
   ],
   "source": [
    "arr = np.array([[1,0,0,3,1],[3,6,6,2,9],[4,5,3,8,0]])\n",
    "print(arr)"
   ]
  },
  {
   "cell_type": "code",
   "execution_count": 46,
   "id": "eae985f7",
   "metadata": {},
   "outputs": [
    {
     "data": {
      "text/plain": [
       "0"
      ]
     },
     "execution_count": 46,
     "metadata": {},
     "output_type": "execute_result"
    }
   ],
   "source": [
    "np.min(arr)"
   ]
  },
  {
   "cell_type": "code",
   "execution_count": 47,
   "id": "74cf1b49",
   "metadata": {},
   "outputs": [
    {
     "data": {
      "text/plain": [
       "9"
      ]
     },
     "execution_count": 47,
     "metadata": {},
     "output_type": "execute_result"
    }
   ],
   "source": [
    "np.max(arr)"
   ]
  },
  {
   "cell_type": "code",
   "execution_count": 48,
   "id": "58f1a27c",
   "metadata": {},
   "outputs": [
    {
     "data": {
      "text/plain": [
       "array([1, 0, 0, 2, 0])"
      ]
     },
     "execution_count": 48,
     "metadata": {},
     "output_type": "execute_result"
    }
   ],
   "source": [
    "np.min(arr, axis=0) #열"
   ]
  },
  {
   "cell_type": "code",
   "execution_count": 49,
   "id": "5aea6e35",
   "metadata": {},
   "outputs": [
    {
     "data": {
      "text/plain": [
       "array([0, 2, 0])"
      ]
     },
     "execution_count": 49,
     "metadata": {},
     "output_type": "execute_result"
    }
   ],
   "source": [
    "np.min(arr, axis=1) #행"
   ]
  },
  {
   "cell_type": "code",
   "execution_count": 51,
   "id": "4761153d",
   "metadata": {},
   "outputs": [
    {
     "data": {
      "text/plain": [
       "array([4, 6, 6, 8, 9])"
      ]
     },
     "execution_count": 51,
     "metadata": {},
     "output_type": "execute_result"
    }
   ],
   "source": [
    "np.max(arr, axis=0)"
   ]
  },
  {
   "cell_type": "code",
   "execution_count": 52,
   "id": "768db79c",
   "metadata": {},
   "outputs": [
    {
     "data": {
      "text/plain": [
       "3.4"
      ]
     },
     "execution_count": 52,
     "metadata": {},
     "output_type": "execute_result"
    }
   ],
   "source": [
    "np.mean(arr)"
   ]
  },
  {
   "cell_type": "code",
   "execution_count": 53,
   "id": "a68d0316",
   "metadata": {},
   "outputs": [
    {
     "data": {
      "text/plain": [
       "array([2.66666667, 3.66666667, 3.        , 4.33333333, 3.33333333])"
      ]
     },
     "execution_count": 53,
     "metadata": {},
     "output_type": "execute_result"
    }
   ],
   "source": [
    "np.mean(arr, axis=0)"
   ]
  },
  {
   "cell_type": "code",
   "execution_count": 54,
   "id": "5bfa43be",
   "metadata": {},
   "outputs": [
    {
     "data": {
      "text/plain": [
       "array([1. , 5.2, 4. ])"
      ]
     },
     "execution_count": 54,
     "metadata": {},
     "output_type": "execute_result"
    }
   ],
   "source": [
    "np.mean(arr, axis=1)"
   ]
  },
  {
   "cell_type": "code",
   "execution_count": 56,
   "id": "6b8bb12c",
   "metadata": {},
   "outputs": [
    {
     "data": {
      "text/plain": [
       "array([ 8, 11,  9, 13, 10])"
      ]
     },
     "execution_count": 56,
     "metadata": {},
     "output_type": "execute_result"
    }
   ],
   "source": [
    "np.sum(arr, axis=0)"
   ]
  },
  {
   "cell_type": "code",
   "execution_count": 57,
   "id": "dcf7fb29",
   "metadata": {},
   "outputs": [
    {
     "data": {
      "text/plain": [
       "array([ 5, 26, 20])"
      ]
     },
     "execution_count": 57,
     "metadata": {},
     "output_type": "execute_result"
    }
   ],
   "source": [
    "np.sum(arr, axis=1)"
   ]
  },
  {
   "cell_type": "code",
   "execution_count": 59,
   "id": "3f763a6a",
   "metadata": {},
   "outputs": [
    {
     "data": {
      "text/plain": [
       "array([1, 2, 3, 2, 1])"
      ]
     },
     "execution_count": 59,
     "metadata": {},
     "output_type": "execute_result"
    }
   ],
   "source": [
    "arr1 = np.array([1,2,3,4,5])\n",
    "arr2 = np.array([5,4,3,2,1]) #두개의 리스트의 인덱스를 비교하여 작은것 추출\n",
    "\n",
    "np.minimum(arr1, arr2)"
   ]
  },
  {
   "cell_type": "code",
   "execution_count": 61,
   "id": "112bcdcd",
   "metadata": {},
   "outputs": [
    {
     "data": {
      "text/plain": [
       "array([3, 6, 6, 6, 9])"
      ]
     },
     "execution_count": 61,
     "metadata": {},
     "output_type": "execute_result"
    }
   ],
   "source": [
    "np.ptp(arr, axis=0) # 최대값 - 최소값 받환"
   ]
  },
  {
   "cell_type": "code",
   "execution_count": 62,
   "id": "eebf2f09",
   "metadata": {},
   "outputs": [
    {
     "data": {
      "text/plain": [
       "array([3, 7, 8])"
      ]
     },
     "execution_count": 62,
     "metadata": {},
     "output_type": "execute_result"
    }
   ],
   "source": [
    "np.ptp(arr ,axis=1)"
   ]
  },
  {
   "cell_type": "code",
   "execution_count": 64,
   "id": "715da967",
   "metadata": {},
   "outputs": [
    {
     "data": {
      "text/plain": [
       "4.799999999999999"
      ]
     },
     "execution_count": 64,
     "metadata": {},
     "output_type": "execute_result"
    }
   ],
   "source": [
    "np.percentile(arr, 70) # 데이터 오름차순 정렬 후, 반환할 백분위 만큼 출력"
   ]
  },
  {
   "cell_type": "code",
   "execution_count": 66,
   "id": "31345fb8",
   "metadata": {},
   "outputs": [
    {
     "data": {
      "text/plain": [
       "5"
      ]
     },
     "execution_count": 66,
     "metadata": {},
     "output_type": "execute_result"
    }
   ],
   "source": [
    "np.percentile(arr,70,interpolation = \"higher\")"
   ]
  },
  {
   "cell_type": "code",
   "execution_count": 67,
   "id": "6fb81e1d",
   "metadata": {},
   "outputs": [
    {
     "data": {
      "text/plain": [
       "4.5"
      ]
     },
     "execution_count": 67,
     "metadata": {},
     "output_type": "execute_result"
    }
   ],
   "source": [
    "np.quantile(arr,0.7,interpolation ='midpoint')"
   ]
  },
  {
   "cell_type": "code",
   "execution_count": 68,
   "id": "4dc5a1c1",
   "metadata": {},
   "outputs": [
    {
     "data": {
      "text/plain": [
       "array([[1, 0, 0, 3, 1],\n",
       "       [3, 6, 6, 2, 9],\n",
       "       [4, 5, 3, 8, 0]])"
      ]
     },
     "execution_count": 68,
     "metadata": {},
     "output_type": "execute_result"
    }
   ],
   "source": [
    "arr"
   ]
  },
  {
   "cell_type": "code",
   "execution_count": 69,
   "id": "e4674b37",
   "metadata": {},
   "outputs": [
    {
     "data": {
      "text/plain": [
       "array([3., 5., 3., 3., 1.])"
      ]
     },
     "execution_count": 69,
     "metadata": {},
     "output_type": "execute_result"
    }
   ],
   "source": [
    "np.median(arr,axis=0) #열을 기준으로 중앙값 출력"
   ]
  },
  {
   "cell_type": "code",
   "execution_count": 72,
   "id": "d2ef5814",
   "metadata": {},
   "outputs": [
    {
     "data": {
      "text/plain": [
       "array([1.2 , 6.16, 6.8 ])"
      ]
     },
     "execution_count": 72,
     "metadata": {},
     "output_type": "execute_result"
    }
   ],
   "source": [
    "np.var(arr,axis=1) "
   ]
  },
  {
   "cell_type": "code",
   "execution_count": 73,
   "id": "b4b8d17c",
   "metadata": {},
   "outputs": [
    {
     "data": {
      "text/plain": [
       "array([1.09544512, 2.48193473, 2.60768096])"
      ]
     },
     "execution_count": 73,
     "metadata": {},
     "output_type": "execute_result"
    }
   ],
   "source": [
    "np.sqrt(np.var(arr,axis=1)) #결과값에 루트를 씌워 반환"
   ]
  },
  {
   "cell_type": "code",
   "execution_count": 74,
   "id": "5caee54f",
   "metadata": {},
   "outputs": [
    {
     "name": "stdout",
     "output_type": "stream",
     "text": [
      "[[ 1.  0.  0.  3.  1.]\n",
      " [ 3.  6. nan  2.  9.]\n",
      " [ 4.  5.  3.  8.  0.]]\n"
     ]
    }
   ],
   "source": [
    "arr = np.array([[1,0,0,3,1],[3,6,np.nan,2,9],[4,5,3,8,0]])\n",
    "print(arr)"
   ]
  },
  {
   "cell_type": "code",
   "execution_count": 77,
   "id": "adc13190",
   "metadata": {
    "scrolled": true
   },
   "outputs": [
    {
     "data": {
      "text/plain": [
       "3.2142857142857144"
      ]
     },
     "execution_count": 77,
     "metadata": {},
     "output_type": "execute_result"
    }
   ],
   "source": [
    "np.nanmean(arr)"
   ]
  },
  {
   "cell_type": "code",
   "execution_count": 79,
   "id": "49dbc1f3",
   "metadata": {
    "scrolled": true
   },
   "outputs": [
    {
     "data": {
      "text/plain": [
       "array([2.66666667, 3.66666667, 1.5       , 4.33333333, 3.33333333])"
      ]
     },
     "execution_count": 79,
     "metadata": {},
     "output_type": "execute_result"
    }
   ],
   "source": [
    "np.nanmean(arr,axis=0)"
   ]
  },
  {
   "cell_type": "code",
   "execution_count": 80,
   "id": "7a1332da",
   "metadata": {},
   "outputs": [
    {
     "data": {
      "text/plain": [
       "array([1.24721913, 2.62466929, 1.5       , 2.62466929, 4.02768199])"
      ]
     },
     "execution_count": 80,
     "metadata": {},
     "output_type": "execute_result"
    }
   ],
   "source": [
    "np.nanstd(arr,axis=0)"
   ]
  },
  {
   "cell_type": "code",
   "execution_count": 81,
   "id": "e8de2f98",
   "metadata": {},
   "outputs": [
    {
     "name": "stdout",
     "output_type": "stream",
     "text": [
      "[[1 0 0 3 1]\n",
      " [3 6 6 2 9]\n",
      " [4 5 3 8 0]]\n"
     ]
    }
   ],
   "source": [
    "arr = np.array([[1,0,0,3,1],[3,6,6,2,9],[4,5,3,8,0]])\n",
    "print(arr)"
   ]
  },
  {
   "cell_type": "code",
   "execution_count": 83,
   "id": "f5e18354",
   "metadata": {},
   "outputs": [
    {
     "data": {
      "text/plain": [
       "array([[ 1.        , -0.58848989,  0.56011203],\n",
       "       [-0.58848989,  1.        , -0.8652532 ],\n",
       "       [ 0.56011203, -0.8652532 ,  1.        ]])"
      ]
     },
     "execution_count": 83,
     "metadata": {},
     "output_type": "execute_result"
    }
   ],
   "source": [
    "np.corrcoef(arr) # 행 벡터간의 상관계수(-1~1) 출력 (1에 가까울수록 상관계수 값이 높다.)"
   ]
  },
  {
   "cell_type": "code",
   "execution_count": null,
   "id": "90050c10",
   "metadata": {},
   "outputs": [],
   "source": []
  }
 ],
 "metadata": {
  "kernelspec": {
   "display_name": "Python 3 (ipykernel)",
   "language": "python",
   "name": "python3"
  },
  "language_info": {
   "codemirror_mode": {
    "name": "ipython",
    "version": 3
   },
   "file_extension": ".py",
   "mimetype": "text/x-python",
   "name": "python",
   "nbconvert_exporter": "python",
   "pygments_lexer": "ipython3",
   "version": "3.9.12"
  }
 },
 "nbformat": 4,
 "nbformat_minor": 5
}
