{
 "cells": [
  {
   "cell_type": "code",
   "execution_count": 1,
   "id": "f126b619",
   "metadata": {},
   "outputs": [
    {
     "name": "stdout",
     "output_type": "stream",
     "text": [
      "선모 재서 명현 한빈\n"
     ]
    }
   ],
   "source": [
    "# 데이터 링크\n",
    "class Node():\n",
    "    def __init__(self):\n",
    "        self.data = None\n",
    "        self.link = None\n",
    "        \n",
    "node1 = Node()\n",
    "node1.data ='선모' #head.data = 선모\n",
    "\n",
    "node2 = Node()\n",
    "node2.data = '재서'\n",
    "node1.link = node2 #head.link.data = 재서\n",
    "\n",
    "node3 = Node()\n",
    "node3.data = '명현'#head.link.link.data = 명현\n",
    "node2.link = node3\n",
    "\n",
    "node4 = Node()\n",
    "node4.data = '한빈'#head.link.link.link.data = 한빈\n",
    "node3.link = node4\n",
    "\n",
    "print(node1.data,end=' ')\n",
    "print(node1.link.data,end=' ')\n",
    "print(node1.link.link.data,end=' ')\n",
    "print(node1.link.link.link.data)"
   ]
  },
  {
   "cell_type": "code",
   "execution_count": 7,
   "id": "82f755a0",
   "metadata": {},
   "outputs": [
    {
     "name": "stdout",
     "output_type": "stream",
     "text": [
      "박1 박2 박3 박4 박5\n"
     ]
    }
   ],
   "source": [
    "dataArray = ['박1','박2','박3','박4','박5']\n",
    "\n",
    "node = Node()\n",
    "node.data = dataArray[0]\n",
    "head = node\n",
    "\n",
    "for data in dataArray[1:]:\n",
    "    pre = node\n",
    "    node = Node()\n",
    "    node.data = data\n",
    "    pre.link = node\n",
    "\n",
    "print(head.data,end=' ')\n",
    "print(head.link.data,end=' ')\n",
    "print(head.link.link.data,end=' ')\n",
    "print(head.link.link.link.data,end=' ')\n",
    "print(head.link.link.link.link.data)"
   ]
  },
  {
   "cell_type": "code",
   "execution_count": null,
   "id": "9126a381",
   "metadata": {},
   "outputs": [],
   "source": []
  },
  {
   "cell_type": "code",
   "execution_count": null,
   "id": "eced7484",
   "metadata": {},
   "outputs": [],
   "source": []
  }
 ],
 "metadata": {
  "kernelspec": {
   "display_name": "Python 3 (ipykernel)",
   "language": "python",
   "name": "python3"
  },
  "language_info": {
   "codemirror_mode": {
    "name": "ipython",
    "version": 3
   },
   "file_extension": ".py",
   "mimetype": "text/x-python",
   "name": "python",
   "nbconvert_exporter": "python",
   "pygments_lexer": "ipython3",
   "version": "3.9.13"
  }
 },
 "nbformat": 4,
 "nbformat_minor": 5
}
