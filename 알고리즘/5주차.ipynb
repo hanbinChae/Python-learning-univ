{
 "cells": [
  {
   "cell_type": "code",
   "execution_count": 152,
   "id": "f312f592",
   "metadata": {},
   "outputs": [
    {
     "name": "stdout",
     "output_type": "stream",
     "text": [
      "선모 재서 명현 한빈\n"
     ]
    }
   ],
   "source": [
    "# 데이터 링크 연결리스트\n",
    "class Node():\n",
    "    def __init__(self):\n",
    "        self.data = None\n",
    "        self.link = None\n",
    "        \n",
    "node1 = Node()\n",
    "node1.data ='선모' #head.data = 선모\n",
    "\n",
    "node2 = Node()\n",
    "node2.data = '재서'\n",
    "node1.link = node2 #head.link.data = 재서\n",
    "\n",
    "node3 = Node()\n",
    "node3.data = '명현'#head.link.link.data = 명현\n",
    "node2.link = node3\n",
    "\n",
    "node4 = Node()\n",
    "node4.data = '한빈'#head.link.link.link.data = 한빈\n",
    "node3.link = node4\n",
    "\n",
    "print(node1.data,end=' ')\n",
    "print(node1.link.data,end=' ')\n",
    "print(node1.link.link.data,end=' ')\n",
    "print(node1.link.link.link.data)"
   ]
  },
  {
   "cell_type": "code",
   "execution_count": 153,
   "id": "30c55cdb",
   "metadata": {},
   "outputs": [
    {
     "name": "stdout",
     "output_type": "stream",
     "text": [
      "박1 박2 박3 박4 박5\n"
     ]
    }
   ],
   "source": [
    "dataArray = ['박1','박2','박3','박4','박5']\n",
    "# for 문을 활용하여 리스트를 연결리스트로\n",
    "node = Node()\n",
    "node.data = dataArray[0]\n",
    "head = node\n",
    "\n",
    "for data in dataArray[1:]:\n",
    "    pre = node\n",
    "    node = Node()\n",
    "    node.data = data\n",
    "    pre.link = node\n",
    "\n",
    "print(head.data,end=' ')\n",
    "print(head.link.data,end=' ')\n",
    "print(head.link.link.data,end=' ')\n",
    "print(head.link.link.link.data,end=' ')\n",
    "print(head.link.link.link.link.data)"
   ]
  },
  {
   "cell_type": "code",
   "execution_count": 154,
   "id": "eaa5a73b",
   "metadata": {},
   "outputs": [
    {
     "name": "stdout",
     "output_type": "stream",
     "text": [
      "처음 박1 박2 박3 박4\n"
     ]
    }
   ],
   "source": [
    "#노드의 헤드를 변경하여, 처음 연결된 값만 '처음'으로 변경\n",
    "node = Node()\n",
    "node.link = head\n",
    "node.data = '처음'\n",
    "head=node\n",
    "\n",
    "print(head.data,end=' ')\n",
    "print(head.link.data,end=' ')\n",
    "print(head.link.link.data,end=' ')\n",
    "print(head.link.link.link.data,end=' ')\n",
    "print(head.link.link.link.link.data)\n"
   ]
  },
  {
   "cell_type": "markdown",
   "id": "bbc21032",
   "metadata": {},
   "source": [
    "## 중간 노드 삽입 순서\n",
    "### 1. pre, current 지정\n",
    "### 2. 노드 검색\n",
    "### 3. 새 노드 생성\n",
    "### 4. 새 노드, link를 current 노드로 지정\n",
    "### 5. pre 노드의 link를 새 노드로 지정"
   ]
  },
  {
   "cell_type": "code",
   "execution_count": 155,
   "id": "a611033d",
   "metadata": {},
   "outputs": [
    {
     "name": "stdout",
     "output_type": "stream",
     "text": [
      "처음 박1 박2 2.5박 박3 박4 박5 "
     ]
    }
   ],
   "source": [
    "# 연결리스트 중간에 데이터 삽입\n",
    "pre = head\n",
    "current = head.link\n",
    "\n",
    "while current.link != None:\n",
    "    if current.data =='박3':\n",
    "        node = Node()\n",
    "        node.link = current\n",
    "        node.data='2.5박' #current 자리에 단어 삽입\n",
    "        pre.link = node\n",
    "        break;\n",
    "    pre = current\n",
    "    current = current.link\n",
    "\n",
    "\n",
    "print(head.data,end=' ')\n",
    "print(head.link.data,end=' ')\n",
    "print(head.link.link.data,end=' ')\n",
    "print(head.link.link.link.data,end=' ')\n",
    "print(head.link.link.link.link.data,end=' ')\n",
    "print(head.link.link.link.link.link.data,end=' ')\n",
    "print(head.link.link.link.link.link.link.data,end = ' ')"
   ]
  },
  {
   "cell_type": "code",
   "execution_count": 156,
   "id": "504d8ec2",
   "metadata": {},
   "outputs": [
    {
     "name": "stdout",
     "output_type": "stream",
     "text": [
      "처음 박1 박2 2.5박 박3 박4 박5 마지막 "
     ]
    }
   ],
   "source": [
    "#연결리스트 마지막에 데이터 삽입\n",
    "pre = head \n",
    "current = head.link\n",
    "\n",
    "while current.link != None:\n",
    "    if current.data =='':\n",
    "        node = Node()\n",
    "        node.link = current\n",
    "        node.data='2.5박' #current 자리에 단어 삽입\n",
    "        pre.link = node\n",
    "        break;\n",
    "    pre = current\n",
    "    current = current.link\n",
    "\n",
    "node = Node()\n",
    "node.data='마지막'\n",
    "current.link = node\n",
    "\n",
    "print(head.data,end=' ')\n",
    "print(head.link.data,end=' ')\n",
    "print(head.link.link.data,end=' ')\n",
    "print(head.link.link.link.data,end=' ')\n",
    "print(head.link.link.link.link.data,end=' ')\n",
    "print(head.link.link.link.link.link.data,end=' ')\n",
    "print(head.link.link.link.link.link.link.data,end = ' ')\n",
    "print(head.link.link.link.link.link.link.link.data,end = ' ')\n"
   ]
  },
  {
   "cell_type": "markdown",
   "id": "53b73c9c",
   "metadata": {},
   "source": [
    "# 연결리스트에서 첫번째 값 삭제\n",
    "## 1. 첫 노드를 current로 지정\n",
    "## 2. 수정할 노드를 지정\n",
    "## 3."
   ]
  },
  {
   "cell_type": "code",
   "execution_count": 157,
   "id": "4a2277b6",
   "metadata": {},
   "outputs": [
    {
     "name": "stdout",
     "output_type": "stream",
     "text": [
      "박1 박2 2.5박 박3 박4 박5 "
     ]
    }
   ],
   "source": [
    "current = head\n",
    "head = head.link #head = current.link\n",
    "del(current)\n",
    "\n",
    "print(head.data,end=' ')\n",
    "print(head.link.data,end=' ')\n",
    "print(head.link.link.data,end=' ')\n",
    "print(head.link.link.link.data,end=' ')\n",
    "print(head.link.link.link.link.data,end=' ')\n",
    "print(head.link.link.link.link.link.data,end=' ')"
   ]
  },
  {
   "cell_type": "markdown",
   "id": "7970b563",
   "metadata": {},
   "source": [
    "# 연결 리스트에서 두번째 값 삭제\n",
    "## 1. 두번째 노드를 (head link) current로 지정하여 시작\n",
    "## 2. current노드 이전 노드를 pre 노드로 지정\n",
    "## 3. 삭제할 노드를 찾을 때까지 current로 이동\n",
    "## 4. pre 를 current로 변경 \n",
    "## 5. current 삭제"
   ]
  },
  {
   "cell_type": "code",
   "execution_count": 158,
   "id": "7e405fb6",
   "metadata": {},
   "outputs": [
    {
     "name": "stdout",
     "output_type": "stream",
     "text": [
      "박1 박2 박3 박4 박5 "
     ]
    }
   ],
   "source": [
    "current = head\n",
    "\n",
    "while current.link != None:\n",
    "    pre = current\n",
    "    current = current.link\n",
    "    if current.data == '2.5박':\n",
    "        pre.link = current.link\n",
    "        del(current)\n",
    "        break\n",
    "        \n",
    "print(head.data,end=' ')\n",
    "print(head.link.data,end=' ')\n",
    "print(head.link.link.data,end=' ')\n",
    "print(head.link.link.link.data,end=' ')\n",
    "print(head.link.link.link.link.data,end=' ')"
   ]
  },
  {
   "cell_type": "code",
   "execution_count": null,
   "id": "18607d4a",
   "metadata": {},
   "outputs": [],
   "source": []
  }
 ],
 "metadata": {
  "kernelspec": {
   "display_name": "Python 3 (ipykernel)",
   "language": "python",
   "name": "python3"
  },
  "language_info": {
   "codemirror_mode": {
    "name": "ipython",
    "version": 3
   },
   "file_extension": ".py",
   "mimetype": "text/x-python",
   "name": "python",
   "nbconvert_exporter": "python",
   "pygments_lexer": "ipython3",
   "version": "3.9.13"
  }
 },
 "nbformat": 4,
 "nbformat_minor": 5
}
