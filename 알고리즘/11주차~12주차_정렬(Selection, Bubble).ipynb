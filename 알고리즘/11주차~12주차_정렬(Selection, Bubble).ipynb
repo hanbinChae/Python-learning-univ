{
 "cells": [
  {
   "cell_type": "markdown",
   "id": "da240e5b",
   "metadata": {},
   "source": [
    "## 기본 sort"
   ]
  },
  {
   "cell_type": "code",
   "execution_count": 34,
   "id": "7bc37ec4",
   "metadata": {},
   "outputs": [],
   "source": [
    "array = [188,168,90,1,2,3,2424,129,3]"
   ]
  },
  {
   "cell_type": "code",
   "execution_count": 35,
   "id": "fdcc1607",
   "metadata": {},
   "outputs": [
    {
     "name": "stdout",
     "output_type": "stream",
     "text": [
      "최솟값 : 1\n"
     ]
    }
   ],
   "source": [
    "# 최솟값 찾기\n",
    "def find_min(array):\n",
    "    min_index=0\n",
    "    for i in range(0,len(array)):\n",
    "        if array[i] < array[min_index]:\n",
    "            min_index=i\n",
    "    return min_index\n",
    "\n",
    "index = find_min(array)\n",
    "print(f'최솟값 : {array[index]}')"
   ]
  },
  {
   "cell_type": "code",
   "execution_count": 36,
   "id": "786ef802",
   "metadata": {},
   "outputs": [
    {
     "name": "stdout",
     "output_type": "stream",
     "text": [
      "최댓값 : 2424\n"
     ]
    }
   ],
   "source": [
    "# 최댓값 찾기\n",
    "def find_max(array):\n",
    "    max_index=0\n",
    "    for i in range(0,len(array)):\n",
    "        if array[i] > array[max_index]:\n",
    "            max_index=i\n",
    "    return max_index\n",
    "\n",
    "index = find_max(array)\n",
    "print(f'최댓값 : {array[index]}')"
   ]
  },
  {
   "cell_type": "markdown",
   "id": "7d177bdc",
   "metadata": {},
   "source": [
    "## 위의 기본 정렬 활용 (오름차순 정렬) sort"
   ]
  },
  {
   "cell_type": "code",
   "execution_count": 37,
   "id": "f3cddd6b",
   "metadata": {},
   "outputs": [
    {
     "name": "stdout",
     "output_type": "stream",
     "text": [
      "[1, 2, 3, 3, 90, 129, 168, 188, 2424]\n"
     ]
    }
   ],
   "source": [
    "def sort_(arr):\n",
    "    result_arr = []\n",
    "    while arr:\n",
    "        min_index = find_min(arr)\n",
    "        result_arr.append(arr.pop(min_index))\n",
    "    return result_arr\n",
    "\n",
    "result = sort_(array)\n",
    "print(result)"
   ]
  },
  {
   "cell_type": "markdown",
   "id": "75a21dc0",
   "metadata": {},
   "source": [
    "## 위의 기본 정렬 활용 (내림차순 정렬) sort\n"
   ]
  },
  {
   "cell_type": "code",
   "execution_count": 38,
   "id": "352b8f52",
   "metadata": {},
   "outputs": [
    {
     "name": "stdout",
     "output_type": "stream",
     "text": [
      "[2424, 188, 168, 129, 90, 3, 2, 1, 0.1]\n"
     ]
    }
   ],
   "source": [
    "array = [188,168,90,1,2,0.1,2424,129,3]\n",
    "\n",
    "def resort_(arr):\n",
    "    result_arr = []\n",
    "    while arr:\n",
    "        max_index = find_max(arr)\n",
    "        result_arr.append(arr.pop(max_index))\n",
    "    return result_arr\n",
    "\n",
    "result = resort_(array)\n",
    "print(result)"
   ]
  },
  {
   "cell_type": "markdown",
   "id": "e2f1e4b6",
   "metadata": {},
   "source": [
    "## selection sort - O(n^2)"
   ]
  },
  {
   "cell_type": "code",
   "execution_count": 39,
   "id": "4ff96d82",
   "metadata": {},
   "outputs": [
    {
     "name": "stdout",
     "output_type": "stream",
     "text": [
      "정렬 전 : [188, 168, 162, 50, 177]\n",
      "정렬 후 : [50, 162, 168, 177, 188]\n"
     ]
    }
   ],
   "source": [
    "def selectionsort(arr):\n",
    "    for i in range(0,len(arr)-1):\n",
    "        minIdx = i\n",
    "        for j in range(i+1,len(arr)):\n",
    "            if (arr[minIdx]>arr[j]):\n",
    "                minIdx = j\n",
    "        temp = arr[minIdx]\n",
    "        arr[minIdx] = arr[i]\n",
    "        arr[i] = temp\n",
    "    return arr\n",
    "\n",
    "array = [188,168,162,50,177]\n",
    "print(f\"정렬 전 : {array}\")\n",
    "result = selectionsort(array)\n",
    "print(f\"정렬 후 : {result}\")"
   ]
  },
  {
   "cell_type": "code",
   "execution_count": 40,
   "id": "c1362cdc",
   "metadata": {},
   "outputs": [
    {
     "name": "stdout",
     "output_type": "stream",
     "text": [
      "정렬 전 : [124, 125, 756, 342, 12, 4]\n",
      "정렬 후 : [4, 12, 124, 125, 342, 756]\n"
     ]
    }
   ],
   "source": [
    "def selectionSort(arr):\n",
    "    for i in range(0,len(arr)-1):\n",
    "        minIdx = i\n",
    "        for j in range(i,len(arr)):\n",
    "            if arr[minIdx]>arr[j]:\n",
    "                minIdx = j\n",
    "        arr[minIdx],arr[i] = arr[i],arr[minIdx]\n",
    "    return arr\n",
    "\n",
    "array2 = [124,125,756,342,12,4]\n",
    "print(f\"정렬 전 : {array2}\")\n",
    "result = selectionSort(array2)\n",
    "print(f\"정렬 후 : {result}\")"
   ]
  }
 ],
 "metadata": {
  "kernelspec": {
   "display_name": "Python 3.9.13 64-bit",
   "language": "python",
   "name": "python3"
  },
  "language_info": {
   "codemirror_mode": {
    "name": "ipython",
    "version": 3
   },
   "file_extension": ".py",
   "mimetype": "text/x-python",
   "name": "python",
   "nbconvert_exporter": "python",
   "pygments_lexer": "ipython3",
   "version": "3.9.13"
  },
  "vscode": {
   "interpreter": {
    "hash": "b0fa6594d8f4cbf19f97940f81e996739fb7646882a419484c72d19e05852a7e"
   }
  }
 },
 "nbformat": 4,
 "nbformat_minor": 5
}
