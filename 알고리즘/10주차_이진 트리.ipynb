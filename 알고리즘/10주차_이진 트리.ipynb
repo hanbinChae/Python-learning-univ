{
 "cells": [
  {
   "cell_type": "markdown",
   "id": "cc08d44e",
   "metadata": {},
   "source": [
    "## 이진 트리 생성"
   ]
  },
  {
   "cell_type": "code",
   "execution_count": 5,
   "id": "6f4e4880",
   "metadata": {},
   "outputs": [],
   "source": [
    "class TreeNode():\n",
    "    def __init__(self):\n",
    "        self.left = None\n",
    "        self.data = None\n",
    "        self.right = None\n",
    "        \n",
    "node1 = TreeNode()\n",
    "node1.data = '화사'\n",
    "\n",
    "node2 = TreeNode()\n",
    "node2.data = '솔라'\n",
    "node1.left = node2\n",
    "\n",
    "node3 = TreeNode()\n",
    "node3.data = '문별'\n",
    "node1.right = node3\n",
    "\n",
    "#       node1\n",
    "# node2      node3\n",
    "node4 = TreeNode()\n",
    "node4.data='휘인'\n",
    "node2.left = node4\n",
    "\n",
    "node5 = TreeNode()\n",
    "node5.data='쯔위'\n",
    "node2.right = node5\n",
    "\n",
    "node6 = TreeNode()\n",
    "node6.data = '선미'\n",
    "node3.left = node6"
   ]
  },
  {
   "cell_type": "code",
   "execution_count": 6,
   "id": "21355fc4",
   "metadata": {},
   "outputs": [
    {
     "name": "stdout",
     "output_type": "stream",
     "text": [
      "화사\n",
      "솔라 문별\n",
      "휘인 쯔위 선미\n"
     ]
    }
   ],
   "source": [
    "print(node1.data)\n",
    "print(node1.left.data, node1.right.data)\n",
    "print(node1.left.left.data, node1.left.right.data, node1.right.left.data)"
   ]
  },
  {
   "cell_type": "markdown",
   "id": "ed07875e",
   "metadata": {},
   "source": [
    "## (전위, 중위, 후위) 순회"
   ]
  },
  {
   "cell_type": "code",
   "execution_count": 21,
   "id": "a1457e90",
   "metadata": {},
   "outputs": [
    {
     "name": "stdout",
     "output_type": "stream",
     "text": [
      "전위 순회 : 화사->솔라->휘인->쯔위->문별->선미->끝\n",
      "중위 순회 : 휘인->솔라->쯔위->화사->선미->문별->끝\n",
      "후위 순회 : 휘인->쯔위->솔라->선미->문별->화사->끝\n"
     ]
    }
   ],
   "source": [
    "# 전위 순회\n",
    "def preorder(node):\n",
    "    if node == None:\n",
    "        return\n",
    "    print(node.data,end='->')\n",
    "    preorder(node.left)\n",
    "    preorder(node.right)\n",
    "    \n",
    "# 중위 순회\n",
    "def inorder(node):\n",
    "    if node==None:\n",
    "        return\n",
    "    inorder(node.left)\n",
    "    print(node.data,end='->')\n",
    "    inorder(node.right)\n",
    "\n",
    "# 후위 순회\n",
    "def postorder(node):\n",
    "    if node ==None:\n",
    "        return\n",
    "    postorder(node.left)\n",
    "    postorder(node.right)\n",
    "    print(node.data,end='->')\n",
    "\n",
    "print('전위 순회 :',end=' ')\n",
    "preorder(node1)\n",
    "print('끝')\n",
    "\n",
    "print('중위 순회 :',end=' ')\n",
    "inorder(node1)\n",
    "print('끝')\n",
    "\n",
    "print('후위 순회 :',end=' ')\n",
    "postorder(node1)\n",
    "print('끝')"
   ]
  },
  {
   "cell_type": "markdown",
   "id": "e40cc589",
   "metadata": {},
   "source": [
    "## 이진 탐색 트리 일반 구현"
   ]
  },
  {
   "cell_type": "code",
   "execution_count": 22,
   "id": "5484d7df",
   "metadata": {},
   "outputs": [],
   "source": [
    "nameArr = ['블랙핑크','레드벨벳','마마무','에이핑크','걸스데이','트와이스']"
   ]
  },
  {
   "cell_type": "code",
   "execution_count": 31,
   "id": "24418f1c",
   "metadata": {},
   "outputs": [
    {
     "name": "stdout",
     "output_type": "stream",
     "text": [
      "이진 탐색 트리 구성 완료!\n"
     ]
    }
   ],
   "source": [
    "memory = []\n",
    "\n",
    "node = TreeNode()\n",
    "node.data = nameArr[0]\n",
    "root = node\n",
    "memory.append(node)\n",
    "\n",
    "for name in nameArr[1:]:\n",
    "    node = TreeNode()\n",
    "    node.data = name\n",
    "    current = root\n",
    "    \n",
    "    while True:\n",
    "        if name < current.data:\n",
    "            current.left = node\n",
    "            break\n",
    "        else:\n",
    "            current.right = node\n",
    "            break\n",
    "        current = current.right\n",
    "        \n",
    "    memory.append(node)\n",
    "    \n",
    "print(\"이진 탐색 트리 구성 완료!\")"
   ]
  }
 ],
 "metadata": {
  "kernelspec": {
   "display_name": "Python 3 (ipykernel)",
   "language": "python",
   "name": "python3"
  },
  "language_info": {
   "codemirror_mode": {
    "name": "ipython",
    "version": 3
   },
   "file_extension": ".py",
   "mimetype": "text/x-python",
   "name": "python",
   "nbconvert_exporter": "python",
   "pygments_lexer": "ipython3",
   "version": "3.9.13"
  }
 },
 "nbformat": 4,
 "nbformat_minor": 5
}
