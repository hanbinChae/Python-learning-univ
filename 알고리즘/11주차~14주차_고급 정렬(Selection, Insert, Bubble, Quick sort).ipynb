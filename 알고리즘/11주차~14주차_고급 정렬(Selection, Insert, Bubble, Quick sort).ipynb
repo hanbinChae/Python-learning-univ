{
 "cells": [
  {
   "cell_type": "markdown",
   "id": "da240e5b",
   "metadata": {},
   "source": [
    "## 기본 sort"
   ]
  },
  {
   "cell_type": "code",
   "execution_count": 4,
   "id": "7bc37ec4",
   "metadata": {},
   "outputs": [],
   "source": [
    "array = [188,168,90,1,2,3,2424,129,3]"
   ]
  },
  {
   "cell_type": "code",
   "execution_count": 5,
   "id": "fdcc1607",
   "metadata": {},
   "outputs": [
    {
     "name": "stdout",
     "output_type": "stream",
     "text": [
      "최솟값 : 1\n"
     ]
    }
   ],
   "source": [
    "# 최솟값 찾기\n",
    "def find_min(array):\n",
    "    min_index=0\n",
    "    for i in range(0,len(array)):\n",
    "        if array[i] < array[min_index]:\n",
    "            min_index=i\n",
    "    return min_index\n",
    "\n",
    "index = find_min(array)\n",
    "print(f'최솟값 : {array[index]}')"
   ]
  },
  {
   "cell_type": "code",
   "execution_count": 6,
   "id": "786ef802",
   "metadata": {},
   "outputs": [
    {
     "name": "stdout",
     "output_type": "stream",
     "text": [
      "최댓값 : 2424\n"
     ]
    }
   ],
   "source": [
    "# 최댓값 찾기\n",
    "def find_max(array):\n",
    "    max_index=0\n",
    "    for i in range(0,len(array)):\n",
    "        if array[i] > array[max_index]:\n",
    "            max_index=i\n",
    "    return max_index\n",
    "\n",
    "index = find_max(array)\n",
    "print(f'최댓값 : {array[index]}')"
   ]
  },
  {
   "cell_type": "markdown",
   "id": "7d177bdc",
   "metadata": {},
   "source": [
    "## 위의 기본 정렬 활용 (오름차순 정렬) sort"
   ]
  },
  {
   "cell_type": "code",
   "execution_count": 7,
   "id": "f3cddd6b",
   "metadata": {},
   "outputs": [
    {
     "name": "stdout",
     "output_type": "stream",
     "text": [
      "[1, 2, 3, 3, 90, 129, 168, 188, 2424]\n"
     ]
    }
   ],
   "source": [
    "def sort_(arr):\n",
    "    result_arr = []\n",
    "    while arr:\n",
    "        min_index = find_min(arr)\n",
    "        result_arr.append(arr.pop(min_index))\n",
    "    return result_arr\n",
    "\n",
    "result = sort_(array)\n",
    "print(result)"
   ]
  },
  {
   "cell_type": "markdown",
   "id": "75a21dc0",
   "metadata": {},
   "source": [
    "## 위의 기본 정렬 활용 (내림차순 정렬) sort\n"
   ]
  },
  {
   "cell_type": "code",
   "execution_count": 8,
   "id": "352b8f52",
   "metadata": {},
   "outputs": [
    {
     "name": "stdout",
     "output_type": "stream",
     "text": [
      "[2424, 188, 168, 129, 90, 3, 2, 1, 0.1]\n"
     ]
    }
   ],
   "source": [
    "array = [188,168,90,1,2,0.1,2424,129,3]\n",
    "\n",
    "def resort_(arr):\n",
    "    result_arr = []\n",
    "    while arr:\n",
    "        max_index = find_max(arr)\n",
    "        result_arr.append(arr.pop(max_index))\n",
    "    return result_arr\n",
    "\n",
    "result = resort_(array)\n",
    "print(result)"
   ]
  },
  {
   "cell_type": "markdown",
   "id": "0e3a898b",
   "metadata": {},
   "source": [
    "# selection sort - O(n^2)"
   ]
  },
  {
   "cell_type": "code",
   "execution_count": 9,
   "id": "b456c1a3",
   "metadata": {},
   "outputs": [
    {
     "name": "stdout",
     "output_type": "stream",
     "text": [
      "정렬 전 : [188, 168, 162, 50, 177]\n",
      "정렬 후 : [50, 162, 168, 177, 188]\n"
     ]
    }
   ],
   "source": [
    "def selectionsort(arr):\n",
    "    for i in range(0,len(arr)-1):\n",
    "        minIdx = i\n",
    "        for j in range(i+1,len(arr)):\n",
    "            if (arr[minIdx]>arr[j]):\n",
    "                minIdx = j\n",
    "        temp = arr[minIdx]\n",
    "        arr[minIdx] = arr[i]\n",
    "        arr[i] = temp\n",
    "    return arr\n",
    "\n",
    "array = [188,168,162,50,177]\n",
    "print(f\"정렬 전 : {array}\")\n",
    "result = selectionsort(array)\n",
    "print(f\"정렬 후 : {result}\")"
   ]
  },
  {
   "cell_type": "code",
   "execution_count": 23,
   "id": "80201d9f",
   "metadata": {},
   "outputs": [
    {
     "name": "stdout",
     "output_type": "stream",
     "text": [
      "정렬 전 : [178, 3, 4, 523, 657, 212]\n",
      "정렬 후 : [3, 4, 178, 212, 523, 657]\n"
     ]
    }
   ],
   "source": [
    "def selectionsort(arr):\n",
    "    for i in range(0,len(arr)-1):\n",
    "        minIdx = i\n",
    "        for j in range(i+1,len(arr)):\n",
    "            if arr[minIdx]>arr[j]:\n",
    "                minIdx = j\n",
    "        temp = arr[minIdx]\n",
    "        arr[minIdx] = arr[i]\n",
    "        arr[i] = temp\n",
    "    return arr\n",
    "\n",
    "array = [178,3,4,523,657,212]\n",
    "print(f\"정렬 전 : {array}\")\n",
    "result = selectionsort(array)\n",
    "print(f\"정렬 후 : {result}\")"
   ]
  },
  {
   "cell_type": "markdown",
   "id": "502261a3",
   "metadata": {},
   "source": [
    "## insert sort - O(n) ~ worst - O(n^2)"
   ]
  },
  {
   "cell_type": "code",
   "execution_count": 8,
   "id": "9b49b03c",
   "metadata": {},
   "outputs": [
    {
     "name": "stdout",
     "output_type": "stream",
     "text": [
      "inserIdx : [33, 99, 124, 12, 77, 88]\n",
      "inserIdx : [12, 77, 88, 99, 124, 33]\n"
     ]
    }
   ],
   "source": [
    "def insertSort(arr,data):\n",
    "    insertIdx = -1\n",
    "    for i in range(len(arr)):\n",
    "        if arr[i]>data:\n",
    "            insertIdx = i\n",
    "            break\n",
    "    return insertIdx\n",
    "\n",
    "before = [33,99,124,12,77,88]\n",
    "after = []\n",
    "for i in range(len(before)):\n",
    "    data=before[i]\n",
    "    inPos = insertSort(after,data)\n",
    "    after.insert(inPos,data)\n",
    "\n",
    "print(f\"inserIdx : {before}\")\n",
    "print(f\"inserIdx : {after}\")"
   ]
  },
  {
   "cell_type": "markdown",
   "id": "5cf737a6",
   "metadata": {},
   "source": [
    "## bubble sort - O(n^2)"
   ]
  },
  {
   "cell_type": "code",
   "execution_count": 12,
   "id": "6b14fbbc",
   "metadata": {},
   "outputs": [
    {
     "name": "stdout",
     "output_type": "stream",
     "text": [
      "정렬 전 : [6, 7, 1, 99, 18, 4, 9]\n",
      "정렬 후 : [1, 4, 6, 7, 9, 18, 99]\n"
     ]
    }
   ],
   "source": [
    "def bubbleSort(arr):\n",
    "    n = len(arr) #7\n",
    "    for i in range(n-1,0,-1): #6~0\n",
    "        for j in range(0,i): \n",
    "            if arr[j]>arr[j+1]:\n",
    "                arr[j], arr[j+1] = arr[j+1], arr[j]\n",
    "        \n",
    "    return arr\n",
    "\n",
    "arr = [6,7,1,99,18,4,9]\n",
    "print(f\"정렬 전 : {arr}\")\n",
    "result = bubbleSort(arr)\n",
    "print(f\"정렬 후 : {result}\") "
   ]
  },
  {
   "cell_type": "code",
   "execution_count": 25,
   "id": "b959f424",
   "metadata": {},
   "outputs": [
    {
     "name": "stdout",
     "output_type": "stream",
     "text": [
      "정렬 전 : [6, 7, 12, 3, 4, 5, 712]\n",
      "정렬 후 : [3, 4, 5, 6, 7, 12, 712]\n"
     ]
    }
   ],
   "source": [
    "def bubbleSort(arr):\n",
    "    n = len(arr)\n",
    "    for i in range(n-1,0,-1):\n",
    "        for j in range(0,i):\n",
    "            if arr[j]>arr[j+1]:\n",
    "                arr[j], arr[j+1] = arr[j+1], arr[j]\n",
    "    return arr\n",
    "\n",
    "arr = [6,7,12,3,4,5,712]\n",
    "print(f\"정렬 전 : {arr}\")\n",
    "result = bubbleSort(arr)\n",
    "print(f\"정렬 후 : {result}\") "
   ]
  },
  {
   "cell_type": "markdown",
   "id": "80cfedbe",
   "metadata": {},
   "source": [
    "## Quick sort - O(n log n)"
   ]
  },
  {
   "cell_type": "code",
   "execution_count": 13,
   "id": "c7217f25",
   "metadata": {},
   "outputs": [
    {
     "name": "stdout",
     "output_type": "stream",
     "text": [
      "정렬 전 -> [188, 150, 168, 162, 105, 120, 177, 50]\n",
      "정렬 후 -> [50, 105, 120, 150, 162, 168, 177, 188]\n"
     ]
    }
   ],
   "source": [
    "def quickSort(arr):\n",
    "    n = len(arr)\n",
    "    if n <= 1:\n",
    "        return arr\n",
    "    \n",
    "    pivot = arr[n//2] # 중간값을 기준값으로 지정\n",
    "    leftArr, rightArr =  [],[]\n",
    "    \n",
    "    for num in arr:\n",
    "        if num < pivot:\n",
    "            leftArr.append(num)\n",
    "        elif num > pivot:\n",
    "            rightArr.append(num)\n",
    "    \n",
    "    return quickSort(leftArr)+[pivot]+quickSort(rightArr)\n",
    "\n",
    "dataArr = [188,150,168,162,105,120,177,50]\n",
    "\n",
    "print(f\"정렬 전 -> {dataArr}\")\n",
    "dataArr = quickSort(dataArr)\n",
    "print(f'정렬 후 -> {dataArr}')"
   ]
  },
  {
   "cell_type": "code",
   "execution_count": 14,
   "id": "997b135d",
   "metadata": {},
   "outputs": [],
   "source": [
    "def qSort(arr, start, end):\n",
    "    if end <= start:\n",
    "        return\n",
    "    \n",
    "    pivot = arr[low+high]"
   ]
  }
 ],
 "metadata": {
  "kernelspec": {
   "display_name": "Python 3 (ipykernel)",
   "language": "python",
   "name": "python3"
  },
  "language_info": {
   "codemirror_mode": {
    "name": "ipython",
    "version": 3
   },
   "file_extension": ".py",
   "mimetype": "text/x-python",
   "name": "python",
   "nbconvert_exporter": "python",
   "pygments_lexer": "ipython3",
   "version": "3.9.13"
  }
 },
 "nbformat": 4,
 "nbformat_minor": 5
}
