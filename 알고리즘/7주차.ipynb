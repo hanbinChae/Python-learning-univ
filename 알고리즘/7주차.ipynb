{
 "cells": [
  {
   "cell_type": "markdown",
   "id": "bbf92582",
   "metadata": {},
   "source": [
    "## 스택"
   ]
  },
  {
   "cell_type": "code",
   "execution_count": 31,
   "id": "af1fe03c",
   "metadata": {},
   "outputs": [
    {
     "name": "stdout",
     "output_type": "stream",
     "text": [
      "[None, None, None, None, None]\n"
     ]
    }
   ],
   "source": [
    "size = 5\n",
    "stack = [None for _ in range(size)]\n",
    "print(stack)"
   ]
  },
  {
   "cell_type": "code",
   "execution_count": 34,
   "id": "5da1cfea",
   "metadata": {},
   "outputs": [
    {
     "name": "stdout",
     "output_type": "stream",
     "text": [
      "['진,', '뷔', '선모', None, None]\n",
      "['진,', '뷔', '선모', '아이유', None]\n"
     ]
    }
   ],
   "source": [
    "def isStackFull():\n",
    "    global top,stack,size\n",
    "    if (top==size-1):\n",
    "        return True\n",
    "    else:\n",
    "        return False\n",
    "\n",
    "def push(data):\n",
    "    global size, top, stack\n",
    "    if isStackFull():\n",
    "        print('Stack is full')\n",
    "        return\n",
    "    else:\n",
    "        top+=1\n",
    "        stack[top] = data\n",
    "    \n",
    "stack = ['진,','뷔','선모',None,None]\n",
    "size = 5\n",
    "top = 2\n",
    "flag = isStackFull()\n",
    "print(stack)\n",
    "push('아이유')\n",
    "print(stack)"
   ]
  },
  {
   "cell_type": "code",
   "execution_count": 39,
   "id": "a440d582",
   "metadata": {},
   "outputs": [
    {
     "name": "stdout",
     "output_type": "stream",
     "text": [
      "스택 Empty 여부: True\n",
      "추출값: 태희\n",
      "['선모', None, None, None, None]\n",
      "추출값: 태희\n"
     ]
    }
   ],
   "source": [
    "def isStackEmpty():\n",
    "    global stack, top, size\n",
    "    if (top==-1):\n",
    "        return True\n",
    "    else:\n",
    "        return False\n",
    "size = 5\n",
    "stack = [None for _ in range(size)]\n",
    "top = -1\n",
    "print('스택 Empty 여부:',isStackEmpty())\n",
    "\n",
    "def pop():\n",
    "    global stack, top,size\n",
    "    \n",
    "    if (isStackEmpty()):\n",
    "        print(\"스택이 비어있습니다\")\n",
    "        return\n",
    "    else:\n",
    "        data = stack[top]\n",
    "        stack[top] = None\n",
    "        top-=1\n",
    "        return data\n",
    "\n",
    "stack = ['선모','태희',None,None,None]\n",
    "size=5\n",
    "top=1\n",
    "\n",
    "result = pop()\n",
    "print(\"추출값:\",result)\n",
    "print(stack)\n",
    "reuslt = pop()\n",
    "print(\"추출값:\",result)"
   ]
  }
 ],
 "metadata": {
  "kernelspec": {
   "display_name": "Python 3 (ipykernel)",
   "language": "python",
   "name": "python3"
  },
  "language_info": {
   "codemirror_mode": {
    "name": "ipython",
    "version": 3
   },
   "file_extension": ".py",
   "mimetype": "text/x-python",
   "name": "python",
   "nbconvert_exporter": "python",
   "pygments_lexer": "ipython3",
   "version": "3.9.13"
  }
 },
 "nbformat": 4,
 "nbformat_minor": 5
}
