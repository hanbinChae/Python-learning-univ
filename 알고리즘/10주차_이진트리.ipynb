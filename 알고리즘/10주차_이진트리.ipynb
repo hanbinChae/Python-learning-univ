{
 "cells": [
  {
   "cell_type": "markdown",
   "metadata": {},
   "source": [
    "## 이진트리 생성 O(logn)"
   ]
  },
  {
   "cell_type": "code",
   "execution_count": 1,
   "metadata": {},
   "outputs": [
    {
     "name": "stdout",
     "output_type": "stream",
     "text": [
      "기안84\n"
     ]
    }
   ],
   "source": [
    "class TreeNode():\n",
    "  def __init__(self):\n",
    "    self.left=None\n",
    "    self.data=None\n",
    "    self.right=None\n",
    "\n",
    "name=[\"도경완\",\"기안84\",\"조나단\",\"나인우\",\"박명수\",\"하하\"]\n",
    "node=TreeNode()\n",
    "root=node\n",
    "node.data=name[0]\n",
    "\n",
    "for i in name[1:]:\n",
    "  node=TreeNode()\n",
    "  node.data=i\n",
    "  current=root\n",
    "\n",
    "  while True:\n",
    "\n",
    "    if node.data < current.data: #데이터가 current.data보다 작으면 왼쪽으로\n",
    "      #왼쪽에 노드가 없으면\n",
    "      if current.left == None:\n",
    "        current.left = node\n",
    "        break\n",
    "      current=current.left \n",
    "    else:\n",
    "      if current.right==None: #오른쪽 노드가 없으면\n",
    "        current.right=node\n",
    "        break\n",
    "      current=current.right\n",
    "\n",
    "print(root.left.data)"
   ]
  },
  {
   "cell_type": "markdown",
   "metadata": {},
   "source": [
    "## 이진 트리 탐색"
   ]
  },
  {
   "cell_type": "code",
   "execution_count": 7,
   "metadata": {},
   "outputs": [
    {
     "name": "stdout",
     "output_type": "stream",
     "text": [
      "나인우 찾음\n"
     ]
    }
   ],
   "source": [
    "find_name = '나인우'\n",
    "\n",
    "current = root\n",
    "\n",
    "while True:\n",
    "    if current.data == find_name:\n",
    "        print(find_name,'찾음')\n",
    "        break\n",
    "    elif find_name < current.data:\n",
    "        if current.left == None:\n",
    "            print('찾기 실패')\n",
    "            break\n",
    "        current = current.left\n",
    "    else:\n",
    "        if current.right == None:\n",
    "            print('찾기 실패')\n",
    "            break\n",
    "        current = current.right"
   ]
  }
 ],
 "metadata": {
  "kernelspec": {
   "display_name": "Python 3 (ipykernel)",
   "language": "python",
   "name": "python3"
  },
  "language_info": {
   "codemirror_mode": {
    "name": "ipython",
    "version": 3
   },
   "file_extension": ".py",
   "mimetype": "text/x-python",
   "name": "python",
   "nbconvert_exporter": "python",
   "pygments_lexer": "ipython3",
   "version": "3.9.13"
  },
  "vscode": {
   "interpreter": {
    "hash": "b0fa6594d8f4cbf19f97940f81e996739fb7646882a419484c72d19e05852a7e"
   }
  }
 },
 "nbformat": 4,
 "nbformat_minor": 2
}
