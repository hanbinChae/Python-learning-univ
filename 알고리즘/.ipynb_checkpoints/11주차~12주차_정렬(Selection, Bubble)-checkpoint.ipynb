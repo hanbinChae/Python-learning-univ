{
 "cells": [
  {
   "cell_type": "markdown",
   "id": "da240e5b",
   "metadata": {},
   "source": [
    "## 기본 sort"
   ]
  },
  {
   "cell_type": "code",
   "execution_count": 49,
   "id": "7bc37ec4",
   "metadata": {},
   "outputs": [],
   "source": [
    "array = [188,168,90,1,2,0.1,2424,129,3]"
   ]
  },
  {
   "cell_type": "code",
   "execution_count": 50,
   "id": "fdcc1607",
   "metadata": {},
   "outputs": [
    {
     "name": "stdout",
     "output_type": "stream",
     "text": [
      "최솟값 : 0.1\n"
     ]
    }
   ],
   "source": [
    "# 최솟값 찾기\n",
    "def find_min(array):\n",
    "    min_index=0\n",
    "    for i in range(0,len(array)):\n",
    "        if array[i] < array[min_index]:\n",
    "            min_index=i\n",
    "    return min_index\n",
    "\n",
    "index = find_min(array)\n",
    "print(f'최솟값 : {array[index]}')"
   ]
  },
  {
   "cell_type": "code",
   "execution_count": 51,
   "id": "786ef802",
   "metadata": {},
   "outputs": [
    {
     "name": "stdout",
     "output_type": "stream",
     "text": [
      "최댓값 : 2424\n"
     ]
    }
   ],
   "source": [
    "# 최댓값 찾기\n",
    "def find_max(array):\n",
    "    max_index=0\n",
    "    for i in range(0,len(array)):\n",
    "        if array[i] > array[max_index]:\n",
    "            max_index=i\n",
    "    return max_index\n",
    "\n",
    "index = find_max(array)\n",
    "print(f'최댓값 : {array[index]}')"
   ]
  },
  {
   "cell_type": "markdown",
   "id": "7d177bdc",
   "metadata": {},
   "source": [
    "## 위의 기본 정렬 활용 (오름차순 정렬) SORT\n"
   ]
  },
  {
   "cell_type": "code",
   "execution_count": 52,
   "id": "f3cddd6b",
   "metadata": {},
   "outputs": [
    {
     "name": "stdout",
     "output_type": "stream",
     "text": [
      "[0.1, 1, 2, 3, 90, 129, 168, 188, 2424]\n"
     ]
    }
   ],
   "source": [
    "def sort_(arr):\n",
    "    result_arr = []\n",
    "    while arr:\n",
    "        min_index = find_min(arr)\n",
    "        result_arr.append(arr.pop(min_index))\n",
    "    return result_arr\n",
    "\n",
    "result = sort_(array)\n",
    "print(result)"
   ]
  },
  {
   "cell_type": "markdown",
   "id": "75a21dc0",
   "metadata": {},
   "source": [
    "## 위의 기본 정렬 활용 (내림차순 정렬) SORT\n"
   ]
  },
  {
   "cell_type": "code",
   "execution_count": 53,
   "id": "352b8f52",
   "metadata": {},
   "outputs": [
    {
     "name": "stdout",
     "output_type": "stream",
     "text": [
      "[2424, 188, 168, 129, 90, 3, 2, 1, 0.1]\n"
     ]
    }
   ],
   "source": [
    "array = [188,168,90,1,2,0.1,2424,129,3]\n",
    "\n",
    "def resort_(arr):\n",
    "    result_arr = []\n",
    "    while arr:\n",
    "        max_index = find_max(arr)\n",
    "        result_arr.append(arr.pop(max_index))\n",
    "    return result_arr\n",
    "\n",
    "result = resort_(array)\n",
    "print(result)"
   ]
  }
 ],
 "metadata": {
  "kernelspec": {
   "display_name": "Python 3 (ipykernel)",
   "language": "python",
   "name": "python3"
  },
  "language_info": {
   "codemirror_mode": {
    "name": "ipython",
    "version": 3
   },
   "file_extension": ".py",
   "mimetype": "text/x-python",
   "name": "python",
   "nbconvert_exporter": "python",
   "pygments_lexer": "ipython3",
   "version": "3.9.13"
  }
 },
 "nbformat": 4,
 "nbformat_minor": 5
}
