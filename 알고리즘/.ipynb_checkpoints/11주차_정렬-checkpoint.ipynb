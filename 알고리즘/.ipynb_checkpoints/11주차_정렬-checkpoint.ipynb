{
 "cells": [
  {
   "cell_type": "markdown",
   "id": "a489959b",
   "metadata": {},
   "source": [
    "## 기본 sort"
   ]
  },
  {
   "cell_type": "code",
   "execution_count": 16,
   "id": "e517cbdb",
   "metadata": {},
   "outputs": [],
   "source": [
    "array = [188,168,129,3]"
   ]
  },
  {
   "cell_type": "code",
   "execution_count": 17,
   "id": "0c349d0e",
   "metadata": {},
   "outputs": [
    {
     "name": "stdout",
     "output_type": "stream",
     "text": [
      "최솟값 : 3\n"
     ]
    }
   ],
   "source": [
    "# 최솟값 찾기\n",
    "def find_min(array):\n",
    "    min_index=0\n",
    "    for i in range(0,len(array)):\n",
    "        if array[i] < array[min_index]:\n",
    "            min_index=i\n",
    "    return min_index\n",
    "\n",
    "index = find_min(array)\n",
    "print(f'최솟값 : {array[index]}')"
   ]
  },
  {
   "cell_type": "code",
   "execution_count": 18,
   "id": "11c917df",
   "metadata": {},
   "outputs": [
    {
     "name": "stdout",
     "output_type": "stream",
     "text": [
      "최댓값 : 1268\n"
     ]
    }
   ],
   "source": [
    "# 최댓값 찾기\n",
    "def find_max(array):\n",
    "    max_index=0\n",
    "    for i in range(0,len(array)):\n",
    "        if array[i] > array[max_index]:\n",
    "            max_index=i\n",
    "    return max_index\n",
    "\n",
    "index = find_max(array)\n",
    "print(f'최댓값 : {array[index]}')"
   ]
  }
 ],
 "metadata": {
  "kernelspec": {
   "display_name": "Python 3 (ipykernel)",
   "language": "python",
   "name": "python3"
  },
  "language_info": {
   "codemirror_mode": {
    "name": "ipython",
    "version": 3
   },
   "file_extension": ".py",
   "mimetype": "text/x-python",
   "name": "python",
   "nbconvert_exporter": "python",
   "pygments_lexer": "ipython3",
   "version": "3.9.13"
  }
 },
 "nbformat": 4,
 "nbformat_minor": 5
}
