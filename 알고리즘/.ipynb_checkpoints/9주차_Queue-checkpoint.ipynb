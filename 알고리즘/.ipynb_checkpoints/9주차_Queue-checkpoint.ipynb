{
 "cells": [
  {
   "cell_type": "markdown",
   "id": "bd6df94c",
   "metadata": {},
   "source": [
    "## 큐"
   ]
  },
  {
   "cell_type": "code",
   "execution_count": 106,
   "id": "178a8aad",
   "metadata": {},
   "outputs": [
    {
     "name": "stdout",
     "output_type": "stream",
     "text": [
      "[None, None, None, None, None]\n"
     ]
    }
   ],
   "source": [
    "queue = [None for _ in range(5)]\n",
    "print(queue)"
   ]
  },
  {
   "cell_type": "code",
   "execution_count": 107,
   "id": "2e6e4898",
   "metadata": {},
   "outputs": [
    {
     "name": "stdout",
     "output_type": "stream",
     "text": [
      "True\n"
     ]
    }
   ],
   "source": [
    "def isQueueFull():\n",
    "    global size, queue, front, rear\n",
    "    if (rear ==size-1):\n",
    "        return True\n",
    "    else:\n",
    "        return False\n",
    "    \n",
    "queue = ['한빈','우진','화택','장훈','유정']\n",
    "size = len(queue)\n",
    "front = -1\n",
    "rear = 4\n",
    "\n",
    "print(isQueueFull())"
   ]
  },
  {
   "cell_type": "code",
   "execution_count": 108,
   "id": "9cf956f5",
   "metadata": {},
   "outputs": [
    {
     "name": "stdout",
     "output_type": "stream",
     "text": [
      "['한빈', '우진', '화택', '장훈', '임창정']\n"
     ]
    }
   ],
   "source": [
    "def enQueue(value):\n",
    "    global size, queue, front, rear\n",
    "    if isQueueFull():\n",
    "        print(\"큐가 가득 찼습니다.\")\n",
    "        return\n",
    "    rear +=1\n",
    "    queue[rear] = value\n",
    "    \n",
    "queue = ['한빈','우진','화택','장훈',None]\n",
    "size=len(queue)\n",
    "front = -1 # 큐 첫번째 위치\n",
    "rear = 3 # 큐 마지막 위치 \n",
    "\n",
    "enQueue(\"임창정\")\n",
    "print(queue)"
   ]
  },
  {
   "cell_type": "code",
   "execution_count": 109,
   "id": "56f9dec4",
   "metadata": {},
   "outputs": [
    {
     "name": "stdout",
     "output_type": "stream",
     "text": [
      "큐가 비었습니다.\n",
      "True\n"
     ]
    }
   ],
   "source": [
    "def isQueueEmpty():\n",
    "    global size, queue, front, rear\n",
    "    if front == rear:\n",
    "        print('큐가 비었습니다.')\n",
    "        return True\n",
    "    else:\n",
    "        return False\n",
    "queue = [None for _ in range(5)]\n",
    "front = rear = -1\n",
    "print(isQueueEmpty())"
   ]
  },
  {
   "cell_type": "code",
   "execution_count": 110,
   "id": "316eba0b",
   "metadata": {},
   "outputs": [
    {
     "name": "stdout",
     "output_type": "stream",
     "text": [
      "추출한 데이터 -> 명현\n",
      "[None, None, None, None, None]\n",
      "큐가 비었습니다.\n"
     ]
    }
   ],
   "source": [
    "def deQueue():\n",
    "    global size, queue, front, rear\n",
    "    if isQueueEmpty():\n",
    "        return None\n",
    "    \n",
    "    front +=1\n",
    "    data = queue[front]\n",
    "    queue[front]=None\n",
    "    return data\n",
    "\n",
    "queue = ['명현', None, None, None, None]\n",
    "size = 5\n",
    "front = -1\n",
    "rear = 0 # 마지막 데이터 위치\n",
    "result = deQueue()\n",
    "\n",
    "print('추출한 데이터 ->',result)\n",
    "print(queue)\n",
    "\n",
    "deQueue()"
   ]
  },
  {
   "cell_type": "code",
   "execution_count": 111,
   "id": "5d814ca3",
   "metadata": {},
   "outputs": [
    {
     "name": "stdout",
     "output_type": "stream",
     "text": [
      "예비 합격자: ['정국', '지민', '뷔', '슈가', '진']\n",
      "\n",
      " 정국님 추가합격\n",
      "예비 합격자 명단 : [None, '지민', '뷔', '슈가', '진']\n",
      "\n",
      " 지민님 추가합격\n",
      "예비 합격자 명단 : [None, None, '뷔', '슈가', '진']\n",
      "\n",
      " 뷔님 추가합격\n",
      "예비 합격자 명단 : [None, None, None, '슈가', '진']\n",
      "\n",
      " 슈가님 추가합격\n",
      "예비 합격자 명단 : [None, None, None, None, '진']\n",
      "\n",
      " 진님 추가합격\n",
      "예비 합격자 명단 : [None, None, None, None, None]\n",
      "\n",
      "큐가 비었습니다.\n",
      "마감\n"
     ]
    }
   ],
   "source": [
    "size = 5\n",
    "queue = [None for _ in range(size)]\n",
    "front = rear = -1\n",
    "\n",
    "enQueue('정국')\n",
    "enQueue('지민')\n",
    "enQueue('뷔')\n",
    "enQueue('슈가')\n",
    "enQueue('진')\n",
    "\n",
    "print('예비 합격자:',queue)\n",
    "print()\n",
    "\n",
    "for _ in range(len(queue)):\n",
    "    result = deQueue()\n",
    "    print(f' {result}님 추가합격')\n",
    "    print(f'예비 합격자 명단 : {queue}\\n')\n",
    "    if isQueueEmpty():\n",
    "        print('마감')"
   ]
  }
 ],
 "metadata": {
  "kernelspec": {
   "display_name": "Python 3 (ipykernel)",
   "language": "python",
   "name": "python3"
  },
  "language_info": {
   "codemirror_mode": {
    "name": "ipython",
    "version": 3
   },
   "file_extension": ".py",
   "mimetype": "text/x-python",
   "name": "python",
   "nbconvert_exporter": "python",
   "pygments_lexer": "ipython3",
   "version": "3.9.13"
  }
 },
 "nbformat": 4,
 "nbformat_minor": 5
}
