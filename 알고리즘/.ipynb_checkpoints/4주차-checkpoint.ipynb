{
 "cells": [
  {
   "cell_type": "markdown",
   "id": "cc083c42",
   "metadata": {},
   "source": [
    "# 1차시"
   ]
  },
  {
   "cell_type": "code",
   "execution_count": 15,
   "id": "ed32dcc8",
   "metadata": {},
   "outputs": [],
   "source": [
    "class Calculator:\n",
    "    def setdata(self,arg1,arg2): #매개변수 지정 메소드\n",
    "        self.first = arg1\n",
    "        self.second = arg2\n",
    "    def add(self): # 매개변수 합\n",
    "        result = self.first + self.second\n",
    "        return result\n",
    "    def sub(self): # 매개변수 차\n",
    "        result = self.first - self.second\n",
    "        return result"
   ]
  },
  {
   "cell_type": "code",
   "execution_count": 25,
   "id": "e61f6580",
   "metadata": {},
   "outputs": [],
   "source": [
    "class Special_Calculator:\n",
    "    def __init__(self,arg1,arg2): #생성자\n",
    "        self.first = arg1\n",
    "        self.second = arg2\n",
    "    def add(self): # 매개변수 합\n",
    "        result = self.first + self.second\n",
    "        return result\n",
    "    def sub(self): # 매개변수 차\n",
    "        result = self.first - self.second\n",
    "        return result\n",
    "    def mul(self):\n",
    "        result = self.first * self.second\n",
    "        return result"
   ]
  },
  {
   "cell_type": "code",
   "execution_count": 27,
   "id": "e39c5238",
   "metadata": {},
   "outputs": [
    {
     "data": {
      "text/plain": [
       "12"
      ]
     },
     "execution_count": 27,
     "metadata": {},
     "output_type": "execute_result"
    }
   ],
   "source": [
    "gtec = Special_Calculator(4,8)\n",
    "gtec.add()"
   ]
  },
  {
   "cell_type": "code",
   "execution_count": 18,
   "id": "60ee635e",
   "metadata": {},
   "outputs": [
    {
     "data": {
      "text/plain": [
       "-4"
      ]
     },
     "execution_count": 18,
     "metadata": {},
     "output_type": "execute_result"
    }
   ],
   "source": [
    "gtec.sub()"
   ]
  },
  {
   "cell_type": "code",
   "execution_count": 28,
   "id": "faf502c2",
   "metadata": {},
   "outputs": [
    {
     "data": {
      "text/plain": [
       "32"
      ]
     },
     "execution_count": 28,
     "metadata": {},
     "output_type": "execute_result"
    }
   ],
   "source": [
    "gtec.mul()"
   ]
  },
  {
   "cell_type": "markdown",
   "id": "1132ce8e",
   "metadata": {},
   "source": [
    "# 선형 리스트"
   ]
  },
  {
   "cell_type": "code",
   "execution_count": 63,
   "id": "c4aa4eaa",
   "metadata": {},
   "outputs": [
    {
     "data": {
      "text/plain": [
       "['한빈', '우진', '채성', '명현', '화택', None]"
      ]
     },
     "execution_count": 63,
     "metadata": {},
     "output_type": "execute_result"
    }
   ],
   "source": [
    "BTS = []\n",
    "def add_data(name):\n",
    "    BTS.append(None)\n",
    "    BTS[len(BTS)-1] = name #항상 리스트 마지막에 새로운 값 삽입 == append()\n",
    "        \n",
    "add_data('한빈')\n",
    "add_data('우진')\n",
    "add_data('채성')\n",
    "add_data('명현')\n",
    "add_data('화택')\n",
    "add_data(None)\n",
    "BTS\n"
   ]
  },
  {
   "cell_type": "code",
   "execution_count": 71,
   "id": "a0a6aad4",
   "metadata": {},
   "outputs": [
    {
     "data": {
      "text/plain": [
       "['동1', '선모', '동2', '동3', '동4', '동5']"
      ]
     },
     "execution_count": 71,
     "metadata": {},
     "output_type": "execute_result"
    }
   ],
   "source": [
    "# <선형리스트 데이터 추가 알고리즘> 중간고사 2문제 출제\n",
    "BTS = ['동1','동2','동3','동4','동5']\n",
    "\n",
    "def insert_data(position,name):\n",
    "    BTS.append(None) # 시험1 출제\n",
    "    for i in range(len(BTS)-1,position,-1): # 시험2 출제\n",
    "        BTS[i] = BTS[i-1]# 시험3 출제\n",
    "        BTS[i-1] = None\n",
    "        \n",
    "    BTS[position] = name\n",
    "    \n",
    "insert_data(1,\"선모\")\n",
    "BTS"
   ]
  },
  {
   "cell_type": "markdown",
   "id": "bab55d78",
   "metadata": {},
   "source": [
    "# 선형리스트에서 데이터 삭제"
   ]
  },
  {
   "cell_type": "code",
   "execution_count": 96,
   "id": "6fcfceac",
   "metadata": {},
   "outputs": [
    {
     "name": "stdout",
     "output_type": "stream",
     "text": [
      "인덱스 범위를 벗어났습니다.\n",
      "['동1', '동2', '동3', '동4', '동5']\n"
     ]
    }
   ],
   "source": [
    "BTS = ['동1','동2','동3','동4','동5']\n",
    "\n",
    "def delete_data(position):\n",
    "    if position > len(BTS)-1 or position < 0:\n",
    "        print('인덱스 범위를 벗어났습니다.')\n",
    "        return 0\n",
    "    BTS[position] = None\n",
    "    for i in range(position, len(BTS)-1,1):\n",
    "        BTS[i] = BTS[i+1]\n",
    "        BTS[i+1]=None\n",
    "    BTS.pop()\n",
    "\n",
    "delete_data(-1)\n",
    "print(BTS)"
   ]
  }
 ],
 "metadata": {
  "kernelspec": {
   "display_name": "Python 3 (ipykernel)",
   "language": "python",
   "name": "python3"
  },
  "language_info": {
   "codemirror_mode": {
    "name": "ipython",
    "version": 3
   },
   "file_extension": ".py",
   "mimetype": "text/x-python",
   "name": "python",
   "nbconvert_exporter": "python",
   "pygments_lexer": "ipython3",
   "version": "3.9.13"
  }
 },
 "nbformat": 4,
 "nbformat_minor": 5
}
