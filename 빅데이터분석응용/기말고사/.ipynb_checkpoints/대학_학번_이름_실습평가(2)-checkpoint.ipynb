{
 "cells": [
  {
   "cell_type": "code",
   "execution_count": 2,
   "metadata": {
    "id": "JXJjLPPOPedi"
   },
   "outputs": [],
   "source": [
    "import pandas as pd\n",
    "import numpy as np\n",
    "import matplotlib.pyplot as plt"
   ]
  },
  {
   "cell_type": "markdown",
   "metadata": {
    "id": "fTbxGDZ5TXeT"
   },
   "source": [
    "### 1. breast-cancer1.csv와 breast-cancer2.csv 데이터를 로드하여, 각각 dataset1과 dataset2에 저장한 후, dataset1의 상위 3개 행과 dataset2의 마지막 3개의 행을 각각 출력하시오."
   ]
  },
  {
   "cell_type": "code",
   "execution_count": 35,
   "metadata": {
    "id": "3BCSoNJaPy0k"
   },
   "outputs": [
    {
     "name": "stdout",
     "output_type": "stream",
     "text": [
      "      id                 Class    age menopause  tumor-size  inv-nodes\n",
      "0  10002  no-recurrence-events  40~49   premeno   22.522357        2.0\n",
      "1  10082  no-recurrence-events  60~69      ge40   18.047287        0.0\n",
      "2  10267     recurrence-events  60~69      ge40   24.667671       24.0\n",
      "        id                 Class    age menopause  tumor-size  inv-nodes\n",
      "232  10210     recurrence-events  40~49   premeno   23.255879        1.0\n",
      "233  10045  no-recurrence-events  50~59      ge40   34.165681        0.0\n",
      "234  10170  no-recurrence-events  30~39   premeno   21.675739        5.0\n"
     ]
    }
   ],
   "source": [
    "# 코드 작성\n",
    "dataset1 = pd.read_csv(\"data/breast-cancer1.csv\")\n",
    "dataset2 = pd.read_csv(\"data/breast-cancer2.csv\")\n",
    "print(dataset1.head(3))\n",
    "print(dataset1.tail(3))"
   ]
  },
  {
   "cell_type": "markdown",
   "metadata": {
    "id": "s8--xSw27dMd"
   },
   "source": [
    "### 2. dataset1과 dataset2에 각각 몇 개의 누락데이터가 있는가?"
   ]
  },
  {
   "cell_type": "code",
   "execution_count": 36,
   "metadata": {
    "id": "-pOS6Zm6qMJo"
   },
   "outputs": [
    {
     "name": "stdout",
     "output_type": "stream",
     "text": [
      "10\n",
      "35\n"
     ]
    }
   ],
   "source": [
    "print(pd.isnull(dataset1).sum().sum())\n",
    "print(pd.isnull(dataset2).sum().sum())"
   ]
  },
  {
   "cell_type": "markdown",
   "metadata": {
    "id": "emEie0no8Te_"
   },
   "source": [
    "[정답 작성]"
   ]
  },
  {
   "cell_type": "markdown",
   "metadata": {
    "id": "xIuShV4B8a2e"
   },
   "source": [
    "### 3. dataset1과 dataset2의 누락데이터 중 산술데이터(float 또는 int 타입)를 해당 열의 평균값으로 대체하시오. (변경된 사항을 해당 데이터프레임에 저장하시오.)"
   ]
  },
  {
   "cell_type": "code",
   "execution_count": 37,
   "metadata": {
    "id": "tUuq8gpAqST4"
   },
   "outputs": [
    {
     "name": "stderr",
     "output_type": "stream",
     "text": [
      "C:\\Users\\HaNbiN\\AppData\\Local\\Temp\\ipykernel_20588\\3125965131.py:2: FutureWarning: Dropping of nuisance columns in DataFrame reductions (with 'numeric_only=None') is deprecated; in a future version this will raise TypeError.  Select only valid columns before calling the reduction.\n",
      "  dataset1 = dataset1.fillna(dataset1.mean())\n",
      "C:\\Users\\HaNbiN\\AppData\\Local\\Temp\\ipykernel_20588\\3125965131.py:3: FutureWarning: Dropping of nuisance columns in DataFrame reductions (with 'numeric_only=None') is deprecated; in a future version this will raise TypeError.  Select only valid columns before calling the reduction.\n",
      "  dataset2 = dataset2.fillna(dataset2.mean())\n"
     ]
    }
   ],
   "source": [
    "# 코드 작성\n",
    "dataset1 = dataset1.fillna(dataset1.mean())\n",
    "dataset2 = dataset2.fillna(dataset2.mean())"
   ]
  },
  {
   "cell_type": "code",
   "execution_count": 38,
   "metadata": {
    "id": "QF8j7ghzslJY"
   },
   "outputs": [
    {
     "name": "stdout",
     "output_type": "stream",
     "text": [
      "<class 'pandas.core.frame.DataFrame'>\n",
      "RangeIndex: 235 entries, 0 to 234\n",
      "Data columns (total 6 columns):\n",
      " #   Column      Non-Null Count  Dtype  \n",
      "---  ------      --------------  -----  \n",
      " 0   id          235 non-null    int64  \n",
      " 1   Class       235 non-null    object \n",
      " 2   age         235 non-null    object \n",
      " 3   menopause   235 non-null    object \n",
      " 4   tumor-size  235 non-null    float64\n",
      " 5   inv-nodes   235 non-null    float64\n",
      "dtypes: float64(2), int64(1), object(3)\n",
      "memory usage: 11.1+ KB\n"
     ]
    }
   ],
   "source": [
    "dataset1.info()"
   ]
  },
  {
   "cell_type": "code",
   "execution_count": 39,
   "metadata": {
    "id": "Pp4SMttns7aH"
   },
   "outputs": [
    {
     "name": "stdout",
     "output_type": "stream",
     "text": [
      "<class 'pandas.core.frame.DataFrame'>\n",
      "RangeIndex: 245 entries, 0 to 244\n",
      "Data columns (total 6 columns):\n",
      " #   Column       Non-Null Count  Dtype \n",
      "---  ------       --------------  ----- \n",
      " 0   ID           245 non-null    int64 \n",
      " 1   node-caps    231 non-null    object\n",
      " 2   deg-malig    245 non-null    int64 \n",
      " 3   breast       245 non-null    object\n",
      " 4   breast-quad  224 non-null    object\n",
      " 5   irradiat     245 non-null    object\n",
      "dtypes: int64(2), object(4)\n",
      "memory usage: 11.6+ KB\n"
     ]
    }
   ],
   "source": [
    "dataset2.info()"
   ]
  },
  {
   "cell_type": "markdown",
   "metadata": {
    "id": "74yxiBQ19ybZ"
   },
   "source": [
    "### 4. dataset2의 breast-quad열의 값이 누락된 행을 삭제하시오. (변경된 사항을 dataset2에 저장하시오.)"
   ]
  },
  {
   "cell_type": "code",
   "execution_count": 43,
   "metadata": {
    "id": "sCX1QBYYsovv"
   },
   "outputs": [],
   "source": [
    "# 코드 작성\n",
    "dataset2 = dataset2.dropna(axis=0)"
   ]
  },
  {
   "cell_type": "code",
   "execution_count": 44,
   "metadata": {
    "id": "3HjyDNh597-v"
   },
   "outputs": [
    {
     "name": "stdout",
     "output_type": "stream",
     "text": [
      "<class 'pandas.core.frame.DataFrame'>\n",
      "Int64Index: 211 entries, 0 to 244\n",
      "Data columns (total 6 columns):\n",
      " #   Column       Non-Null Count  Dtype \n",
      "---  ------       --------------  ----- \n",
      " 0   ID           211 non-null    int64 \n",
      " 1   node-caps    211 non-null    object\n",
      " 2   deg-malig    211 non-null    int64 \n",
      " 3   breast       211 non-null    object\n",
      " 4   breast-quad  211 non-null    object\n",
      " 5   irradiat     211 non-null    object\n",
      "dtypes: int64(2), object(4)\n",
      "memory usage: 11.5+ KB\n"
     ]
    }
   ],
   "source": [
    "dataset2.info()"
   ]
  },
  {
   "cell_type": "markdown",
   "metadata": {
    "id": "kFgFkgcF-A0F"
   },
   "source": [
    "### 5. 4번 과정 후, dataset2에 남아 있는 누락 데이터 값은 해당 열에서 가장 많이 나타난 값으로 대체하시오. (변경된 사항을 dataset2에 저장하시오.)"
   ]
  },
  {
   "cell_type": "code",
   "execution_count": 45,
   "metadata": {
    "id": "RKityn_RssYH"
   },
   "outputs": [
    {
     "data": {
      "text/plain": [
       "ID             0\n",
       "node-caps      0\n",
       "deg-malig      0\n",
       "breast         0\n",
       "breast-quad    0\n",
       "irradiat       0\n",
       "dtype: int64"
      ]
     },
     "execution_count": 45,
     "metadata": {},
     "output_type": "execute_result"
    }
   ],
   "source": [
    "# 코드 작성\n",
    "most_frq = dataset2.value_counts()\n",
    "dataset2.isnull().sum()"
   ]
  },
  {
   "cell_type": "code",
   "execution_count": null,
   "metadata": {
    "id": "l7vSgr4l-PwA"
   },
   "outputs": [],
   "source": [
    "dataset2.info()"
   ]
  },
  {
   "cell_type": "markdown",
   "metadata": {
    "id": "Je5KcqsW-cX9"
   },
   "source": [
    "### 6. dataset2의 중복된 행을 모두 삭제하시오. (변경된 사항을 dataset2에 저장하시오.)"
   ]
  },
  {
   "cell_type": "code",
   "execution_count": 46,
   "metadata": {
    "id": "EPmbJGDHs1cS"
   },
   "outputs": [
    {
     "data": {
      "text/html": [
       "<div>\n",
       "<style scoped>\n",
       "    .dataframe tbody tr th:only-of-type {\n",
       "        vertical-align: middle;\n",
       "    }\n",
       "\n",
       "    .dataframe tbody tr th {\n",
       "        vertical-align: top;\n",
       "    }\n",
       "\n",
       "    .dataframe thead th {\n",
       "        text-align: right;\n",
       "    }\n",
       "</style>\n",
       "<table border=\"1\" class=\"dataframe\">\n",
       "  <thead>\n",
       "    <tr style=\"text-align: right;\">\n",
       "      <th></th>\n",
       "      <th>ID</th>\n",
       "      <th>node-caps</th>\n",
       "      <th>deg-malig</th>\n",
       "      <th>breast</th>\n",
       "      <th>breast-quad</th>\n",
       "      <th>irradiat</th>\n",
       "    </tr>\n",
       "  </thead>\n",
       "  <tbody>\n",
       "    <tr>\n",
       "      <th>0</th>\n",
       "      <td>10053</td>\n",
       "      <td>no</td>\n",
       "      <td>3</td>\n",
       "      <td>left</td>\n",
       "      <td>left_up</td>\n",
       "      <td>no</td>\n",
       "    </tr>\n",
       "    <tr>\n",
       "      <th>4</th>\n",
       "      <td>10046</td>\n",
       "      <td>no</td>\n",
       "      <td>2</td>\n",
       "      <td>right</td>\n",
       "      <td>left_low</td>\n",
       "      <td>no</td>\n",
       "    </tr>\n",
       "    <tr>\n",
       "      <th>5</th>\n",
       "      <td>10248</td>\n",
       "      <td>yes</td>\n",
       "      <td>3</td>\n",
       "      <td>left</td>\n",
       "      <td>left_low</td>\n",
       "      <td>no</td>\n",
       "    </tr>\n",
       "    <tr>\n",
       "      <th>8</th>\n",
       "      <td>10192</td>\n",
       "      <td>yes</td>\n",
       "      <td>2</td>\n",
       "      <td>left</td>\n",
       "      <td>left_low</td>\n",
       "      <td>no</td>\n",
       "    </tr>\n",
       "    <tr>\n",
       "      <th>9</th>\n",
       "      <td>10084</td>\n",
       "      <td>no</td>\n",
       "      <td>1</td>\n",
       "      <td>left</td>\n",
       "      <td>right_low</td>\n",
       "      <td>no</td>\n",
       "    </tr>\n",
       "    <tr>\n",
       "      <th>...</th>\n",
       "      <td>...</td>\n",
       "      <td>...</td>\n",
       "      <td>...</td>\n",
       "      <td>...</td>\n",
       "      <td>...</td>\n",
       "      <td>...</td>\n",
       "    </tr>\n",
       "    <tr>\n",
       "      <th>240</th>\n",
       "      <td>10099</td>\n",
       "      <td>no</td>\n",
       "      <td>2</td>\n",
       "      <td>left</td>\n",
       "      <td>left_low</td>\n",
       "      <td>no</td>\n",
       "    </tr>\n",
       "    <tr>\n",
       "      <th>241</th>\n",
       "      <td>10211</td>\n",
       "      <td>no</td>\n",
       "      <td>2</td>\n",
       "      <td>right</td>\n",
       "      <td>central</td>\n",
       "      <td>no</td>\n",
       "    </tr>\n",
       "    <tr>\n",
       "      <th>242</th>\n",
       "      <td>10142</td>\n",
       "      <td>no</td>\n",
       "      <td>1</td>\n",
       "      <td>left</td>\n",
       "      <td>left_up</td>\n",
       "      <td>no</td>\n",
       "    </tr>\n",
       "    <tr>\n",
       "      <th>243</th>\n",
       "      <td>10262</td>\n",
       "      <td>no</td>\n",
       "      <td>3</td>\n",
       "      <td>left</td>\n",
       "      <td>left_up</td>\n",
       "      <td>no</td>\n",
       "    </tr>\n",
       "    <tr>\n",
       "      <th>244</th>\n",
       "      <td>10147</td>\n",
       "      <td>yes</td>\n",
       "      <td>2</td>\n",
       "      <td>left</td>\n",
       "      <td>left_low</td>\n",
       "      <td>yes</td>\n",
       "    </tr>\n",
       "  </tbody>\n",
       "</table>\n",
       "<p>197 rows × 6 columns</p>\n",
       "</div>"
      ],
      "text/plain": [
       "        ID node-caps  deg-malig breast breast-quad irradiat\n",
       "0    10053        no          3   left     left_up       no\n",
       "4    10046        no          2  right    left_low       no\n",
       "5    10248       yes          3   left    left_low       no\n",
       "8    10192       yes          2   left    left_low       no\n",
       "9    10084        no          1   left   right_low       no\n",
       "..     ...       ...        ...    ...         ...      ...\n",
       "240  10099        no          2   left    left_low       no\n",
       "241  10211        no          2  right     central       no\n",
       "242  10142        no          1   left     left_up       no\n",
       "243  10262        no          3   left     left_up       no\n",
       "244  10147       yes          2   left    left_low      yes\n",
       "\n",
       "[197 rows x 6 columns]"
      ]
     },
     "execution_count": 46,
     "metadata": {},
     "output_type": "execute_result"
    }
   ],
   "source": [
    "# 코드 작성\n",
    "dataset2.drop_duplicates(subset=None, keep=False, inplace=False)"
   ]
  },
  {
   "cell_type": "code",
   "execution_count": 47,
   "metadata": {
    "id": "ODRZ8YHn-Whq"
   },
   "outputs": [
    {
     "name": "stdout",
     "output_type": "stream",
     "text": [
      "<class 'pandas.core.frame.DataFrame'>\n",
      "Int64Index: 211 entries, 0 to 244\n",
      "Data columns (total 6 columns):\n",
      " #   Column       Non-Null Count  Dtype \n",
      "---  ------       --------------  ----- \n",
      " 0   ID           211 non-null    int64 \n",
      " 1   node-caps    211 non-null    object\n",
      " 2   deg-malig    211 non-null    int64 \n",
      " 3   breast       211 non-null    object\n",
      " 4   breast-quad  211 non-null    object\n",
      " 5   irradiat     211 non-null    object\n",
      "dtypes: int64(2), object(4)\n",
      "memory usage: 11.5+ KB\n"
     ]
    }
   ],
   "source": [
    "dataset2.info()"
   ]
  },
  {
   "cell_type": "markdown",
   "metadata": {
    "id": "acORRhkLAoUf"
   },
   "source": [
    "### 7. dataset1의 'menopause'열의 값을 속한 데이터 수에 맞춰 알파벳으로(A, B,...) 변경하고, 데이터타입을 category타입으로 변경하시오. (변경된 사항을 dataset2에 저장하시오.)"
   ]
  },
  {
   "cell_type": "code",
   "execution_count": 62,
   "metadata": {
    "id": "BN7zWpAsPRRq"
   },
   "outputs": [],
   "source": [
    "# 코드 작성\n",
    "dataset1['menopause'].unique()\n",
    "dataset1.replace('premeno', 'A',inplace=True)\n",
    "dataset1.replace('ge40', 'B',inplace=True)\n",
    "dataset1.replace('lt40', 'C',inplace=True)\n",
    "dataset1['menopause'].astype('category')\n",
    "\n",
    "dataset2['menopause']=dataset1['menopause']"
   ]
  },
  {
   "cell_type": "code",
   "execution_count": 64,
   "metadata": {
    "id": "t_r84Sy0-qEy"
   },
   "outputs": [
    {
     "data": {
      "text/html": [
       "<div>\n",
       "<style scoped>\n",
       "    .dataframe tbody tr th:only-of-type {\n",
       "        vertical-align: middle;\n",
       "    }\n",
       "\n",
       "    .dataframe tbody tr th {\n",
       "        vertical-align: top;\n",
       "    }\n",
       "\n",
       "    .dataframe thead th {\n",
       "        text-align: right;\n",
       "    }\n",
       "</style>\n",
       "<table border=\"1\" class=\"dataframe\">\n",
       "  <thead>\n",
       "    <tr style=\"text-align: right;\">\n",
       "      <th></th>\n",
       "      <th>id</th>\n",
       "      <th>Class</th>\n",
       "      <th>age</th>\n",
       "      <th>menopause</th>\n",
       "      <th>tumor-size</th>\n",
       "      <th>inv-nodes</th>\n",
       "    </tr>\n",
       "  </thead>\n",
       "  <tbody>\n",
       "    <tr>\n",
       "      <th>0</th>\n",
       "      <td>10002</td>\n",
       "      <td>no-recurrence-events</td>\n",
       "      <td>40~49</td>\n",
       "      <td>A</td>\n",
       "      <td>22.522357</td>\n",
       "      <td>2.0</td>\n",
       "    </tr>\n",
       "    <tr>\n",
       "      <th>1</th>\n",
       "      <td>10082</td>\n",
       "      <td>no-recurrence-events</td>\n",
       "      <td>60~69</td>\n",
       "      <td>B</td>\n",
       "      <td>18.047287</td>\n",
       "      <td>0.0</td>\n",
       "    </tr>\n",
       "    <tr>\n",
       "      <th>2</th>\n",
       "      <td>10267</td>\n",
       "      <td>recurrence-events</td>\n",
       "      <td>60~69</td>\n",
       "      <td>B</td>\n",
       "      <td>24.667671</td>\n",
       "      <td>24.0</td>\n",
       "    </tr>\n",
       "    <tr>\n",
       "      <th>3</th>\n",
       "      <td>10219</td>\n",
       "      <td>recurrence-events</td>\n",
       "      <td>30~39</td>\n",
       "      <td>A</td>\n",
       "      <td>15.543343</td>\n",
       "      <td>1.0</td>\n",
       "    </tr>\n",
       "    <tr>\n",
       "      <th>4</th>\n",
       "      <td>10109</td>\n",
       "      <td>no-recurrence-events</td>\n",
       "      <td>60~69</td>\n",
       "      <td>B</td>\n",
       "      <td>32.707158</td>\n",
       "      <td>0.0</td>\n",
       "    </tr>\n",
       "    <tr>\n",
       "      <th>...</th>\n",
       "      <td>...</td>\n",
       "      <td>...</td>\n",
       "      <td>...</td>\n",
       "      <td>...</td>\n",
       "      <td>...</td>\n",
       "      <td>...</td>\n",
       "    </tr>\n",
       "    <tr>\n",
       "      <th>230</th>\n",
       "      <td>10066</td>\n",
       "      <td>no-recurrence-events</td>\n",
       "      <td>40~49</td>\n",
       "      <td>A</td>\n",
       "      <td>26.332484</td>\n",
       "      <td>2.0</td>\n",
       "    </tr>\n",
       "    <tr>\n",
       "      <th>231</th>\n",
       "      <td>10071</td>\n",
       "      <td>no-recurrence-events</td>\n",
       "      <td>40~49</td>\n",
       "      <td>A</td>\n",
       "      <td>28.568938</td>\n",
       "      <td>1.0</td>\n",
       "    </tr>\n",
       "    <tr>\n",
       "      <th>232</th>\n",
       "      <td>10210</td>\n",
       "      <td>recurrence-events</td>\n",
       "      <td>40~49</td>\n",
       "      <td>A</td>\n",
       "      <td>23.255879</td>\n",
       "      <td>1.0</td>\n",
       "    </tr>\n",
       "    <tr>\n",
       "      <th>233</th>\n",
       "      <td>10045</td>\n",
       "      <td>no-recurrence-events</td>\n",
       "      <td>50~59</td>\n",
       "      <td>B</td>\n",
       "      <td>34.165681</td>\n",
       "      <td>0.0</td>\n",
       "    </tr>\n",
       "    <tr>\n",
       "      <th>234</th>\n",
       "      <td>10170</td>\n",
       "      <td>no-recurrence-events</td>\n",
       "      <td>30~39</td>\n",
       "      <td>A</td>\n",
       "      <td>21.675739</td>\n",
       "      <td>5.0</td>\n",
       "    </tr>\n",
       "  </tbody>\n",
       "</table>\n",
       "<p>235 rows × 6 columns</p>\n",
       "</div>"
      ],
      "text/plain": [
       "        id                 Class    age menopause  tumor-size  inv-nodes\n",
       "0    10002  no-recurrence-events  40~49         A   22.522357        2.0\n",
       "1    10082  no-recurrence-events  60~69         B   18.047287        0.0\n",
       "2    10267     recurrence-events  60~69         B   24.667671       24.0\n",
       "3    10219     recurrence-events  30~39         A   15.543343        1.0\n",
       "4    10109  no-recurrence-events  60~69         B   32.707158        0.0\n",
       "..     ...                   ...    ...       ...         ...        ...\n",
       "230  10066  no-recurrence-events  40~49         A   26.332484        2.0\n",
       "231  10071  no-recurrence-events  40~49         A   28.568938        1.0\n",
       "232  10210     recurrence-events  40~49         A   23.255879        1.0\n",
       "233  10045  no-recurrence-events  50~59         B   34.165681        0.0\n",
       "234  10170  no-recurrence-events  30~39         A   21.675739        5.0\n",
       "\n",
       "[235 rows x 6 columns]"
      ]
     },
     "execution_count": 64,
     "metadata": {},
     "output_type": "execute_result"
    }
   ],
   "source": [
    "dataset1"
   ]
  },
  {
   "cell_type": "code",
   "execution_count": 65,
   "metadata": {
    "id": "yBUgvWgwPu6K"
   },
   "outputs": [
    {
     "name": "stdout",
     "output_type": "stream",
     "text": [
      "<class 'pandas.core.frame.DataFrame'>\n",
      "RangeIndex: 235 entries, 0 to 234\n",
      "Data columns (total 6 columns):\n",
      " #   Column      Non-Null Count  Dtype  \n",
      "---  ------      --------------  -----  \n",
      " 0   id          235 non-null    int64  \n",
      " 1   Class       235 non-null    object \n",
      " 2   age         235 non-null    object \n",
      " 3   menopause   235 non-null    object \n",
      " 4   tumor-size  235 non-null    float64\n",
      " 5   inv-nodes   235 non-null    float64\n",
      "dtypes: float64(2), int64(1), object(3)\n",
      "memory usage: 11.1+ KB\n"
     ]
    }
   ],
   "source": [
    "dataset1.info()"
   ]
  },
  {
   "cell_type": "markdown",
   "metadata": {
    "id": "3RgrZZ1WJnzH"
   },
   "source": [
    "### 8. dataset1의 'age'열의 각 나이대 별 환자의 수를 파악할 수 있는 차트를 그리시오. (가로축(x축)에는 나이대(20∽29, 30∽39...)를 표시하시오.)"
   ]
  },
  {
   "cell_type": "code",
   "execution_count": 76,
   "metadata": {
    "id": "RqOWVFz5KnuG"
   },
   "outputs": [
    {
     "data": {
      "text/plain": [
       "[<matplotlib.lines.Line2D at 0x2224ebf80a0>]"
      ]
     },
     "execution_count": 76,
     "metadata": {},
     "output_type": "execute_result"
    },
    {
     "data": {
      "image/png": "[encoded data removed]",
      "text/plain": [
       "<Figure size 432x288 with 1 Axes>"
      ]
     },
     "metadata": {
      "needs_background": "light"
     },
     "output_type": "display_data"
    }
   ],
   "source": [
    "# 코드 작성\n",
    "plt.plot(dataset1['age'])"
   ]
  },
  {
   "cell_type": "markdown",
   "metadata": {
    "id": "GYLSJe5RIS_z"
   },
   "source": [
    "### 9. dataset1의 'id'열의 값과 dataset2의 'ID'열의 값이 동일한 행을 좌우로 결합하되, dataset1에 속한 행만 포함시키시오. (병합한 새로운 데이터프레임을 dataset3에 저장하시오.)"
   ]
  },
  {
   "cell_type": "code",
   "execution_count": 83,
   "metadata": {
    "id": "qe642NRQAlWM"
   },
   "outputs": [],
   "source": [
    "# 코드 작성\n",
    "dataset3 = pd.merge(dataset1,dataset2, how='inner', left_on='id', right_on='ID')"
   ]
  },
  {
   "cell_type": "code",
   "execution_count": 84,
   "metadata": {
    "id": "54vwKHp-tLWK"
   },
   "outputs": [
    {
     "data": {
      "text/html": [
       "<div>\n",
       "<style scoped>\n",
       "    .dataframe tbody tr th:only-of-type {\n",
       "        vertical-align: middle;\n",
       "    }\n",
       "\n",
       "    .dataframe tbody tr th {\n",
       "        vertical-align: top;\n",
       "    }\n",
       "\n",
       "    .dataframe thead th {\n",
       "        text-align: right;\n",
       "    }\n",
       "</style>\n",
       "<table border=\"1\" class=\"dataframe\">\n",
       "  <thead>\n",
       "    <tr style=\"text-align: right;\">\n",
       "      <th></th>\n",
       "      <th>id</th>\n",
       "      <th>Class</th>\n",
       "      <th>age</th>\n",
       "      <th>menopause_x</th>\n",
       "      <th>tumor-size</th>\n",
       "      <th>inv-nodes</th>\n",
       "      <th>ID</th>\n",
       "      <th>node-caps</th>\n",
       "      <th>deg-malig</th>\n",
       "      <th>breast</th>\n",
       "      <th>breast-quad</th>\n",
       "      <th>irradiat</th>\n",
       "      <th>menopause_y</th>\n",
       "    </tr>\n",
       "  </thead>\n",
       "  <tbody>\n",
       "    <tr>\n",
       "      <th>0</th>\n",
       "      <td>10082</td>\n",
       "      <td>no-recurrence-events</td>\n",
       "      <td>60~69</td>\n",
       "      <td>B</td>\n",
       "      <td>18.047287</td>\n",
       "      <td>0.0</td>\n",
       "      <td>10082</td>\n",
       "      <td>no</td>\n",
       "      <td>2</td>\n",
       "      <td>right</td>\n",
       "      <td>left_low</td>\n",
       "      <td>no</td>\n",
       "      <td>A</td>\n",
       "    </tr>\n",
       "    <tr>\n",
       "      <th>1</th>\n",
       "      <td>10267</td>\n",
       "      <td>recurrence-events</td>\n",
       "      <td>60~69</td>\n",
       "      <td>B</td>\n",
       "      <td>24.667671</td>\n",
       "      <td>24.0</td>\n",
       "      <td>10267</td>\n",
       "      <td>yes</td>\n",
       "      <td>3</td>\n",
       "      <td>left</td>\n",
       "      <td>left_low</td>\n",
       "      <td>yes</td>\n",
       "      <td>A</td>\n",
       "    </tr>\n",
       "    <tr>\n",
       "      <th>2</th>\n",
       "      <td>10219</td>\n",
       "      <td>recurrence-events</td>\n",
       "      <td>30~39</td>\n",
       "      <td>A</td>\n",
       "      <td>15.543343</td>\n",
       "      <td>1.0</td>\n",
       "      <td>10219</td>\n",
       "      <td>no</td>\n",
       "      <td>1</td>\n",
       "      <td>right</td>\n",
       "      <td>left_low</td>\n",
       "      <td>no</td>\n",
       "      <td>A</td>\n",
       "    </tr>\n",
       "    <tr>\n",
       "      <th>3</th>\n",
       "      <td>10109</td>\n",
       "      <td>no-recurrence-events</td>\n",
       "      <td>60~69</td>\n",
       "      <td>B</td>\n",
       "      <td>32.707158</td>\n",
       "      <td>0.0</td>\n",
       "      <td>10109</td>\n",
       "      <td>no</td>\n",
       "      <td>1</td>\n",
       "      <td>right</td>\n",
       "      <td>left_up</td>\n",
       "      <td>no</td>\n",
       "      <td>A</td>\n",
       "    </tr>\n",
       "    <tr>\n",
       "      <th>4</th>\n",
       "      <td>10146</td>\n",
       "      <td>no-recurrence-events</td>\n",
       "      <td>60~69</td>\n",
       "      <td>B</td>\n",
       "      <td>50.337817</td>\n",
       "      <td>0.0</td>\n",
       "      <td>10146</td>\n",
       "      <td>no</td>\n",
       "      <td>2</td>\n",
       "      <td>right</td>\n",
       "      <td>left_up</td>\n",
       "      <td>yes</td>\n",
       "      <td>A</td>\n",
       "    </tr>\n",
       "    <tr>\n",
       "      <th>...</th>\n",
       "      <td>...</td>\n",
       "      <td>...</td>\n",
       "      <td>...</td>\n",
       "      <td>...</td>\n",
       "      <td>...</td>\n",
       "      <td>...</td>\n",
       "      <td>...</td>\n",
       "      <td>...</td>\n",
       "      <td>...</td>\n",
       "      <td>...</td>\n",
       "      <td>...</td>\n",
       "      <td>...</td>\n",
       "      <td>...</td>\n",
       "    </tr>\n",
       "    <tr>\n",
       "      <th>170</th>\n",
       "      <td>10189</td>\n",
       "      <td>no-recurrence-events</td>\n",
       "      <td>50~59</td>\n",
       "      <td>B</td>\n",
       "      <td>21.834549</td>\n",
       "      <td>0.0</td>\n",
       "      <td>10189</td>\n",
       "      <td>yes</td>\n",
       "      <td>2</td>\n",
       "      <td>right</td>\n",
       "      <td>left_up</td>\n",
       "      <td>no</td>\n",
       "      <td>A</td>\n",
       "    </tr>\n",
       "    <tr>\n",
       "      <th>171</th>\n",
       "      <td>10167</td>\n",
       "      <td>no-recurrence-events</td>\n",
       "      <td>40~49</td>\n",
       "      <td>B</td>\n",
       "      <td>44.061271</td>\n",
       "      <td>15.0</td>\n",
       "      <td>10167</td>\n",
       "      <td>yes</td>\n",
       "      <td>2</td>\n",
       "      <td>right</td>\n",
       "      <td>left_up</td>\n",
       "      <td>yes</td>\n",
       "      <td>A</td>\n",
       "    </tr>\n",
       "    <tr>\n",
       "      <th>172</th>\n",
       "      <td>10134</td>\n",
       "      <td>no-recurrence-events</td>\n",
       "      <td>60~69</td>\n",
       "      <td>B</td>\n",
       "      <td>30.394889</td>\n",
       "      <td>2.0</td>\n",
       "      <td>10134</td>\n",
       "      <td>no</td>\n",
       "      <td>2</td>\n",
       "      <td>left</td>\n",
       "      <td>left_low</td>\n",
       "      <td>yes</td>\n",
       "      <td>B</td>\n",
       "    </tr>\n",
       "    <tr>\n",
       "      <th>173</th>\n",
       "      <td>10045</td>\n",
       "      <td>no-recurrence-events</td>\n",
       "      <td>50~59</td>\n",
       "      <td>B</td>\n",
       "      <td>34.165681</td>\n",
       "      <td>0.0</td>\n",
       "      <td>10045</td>\n",
       "      <td>no</td>\n",
       "      <td>1</td>\n",
       "      <td>left</td>\n",
       "      <td>left_up</td>\n",
       "      <td>no</td>\n",
       "      <td>B</td>\n",
       "    </tr>\n",
       "    <tr>\n",
       "      <th>174</th>\n",
       "      <td>10170</td>\n",
       "      <td>no-recurrence-events</td>\n",
       "      <td>30~39</td>\n",
       "      <td>A</td>\n",
       "      <td>21.675739</td>\n",
       "      <td>5.0</td>\n",
       "      <td>10170</td>\n",
       "      <td>yes</td>\n",
       "      <td>2</td>\n",
       "      <td>right</td>\n",
       "      <td>left_up</td>\n",
       "      <td>yes</td>\n",
       "      <td>B</td>\n",
       "    </tr>\n",
       "  </tbody>\n",
       "</table>\n",
       "<p>175 rows × 13 columns</p>\n",
       "</div>"
      ],
      "text/plain": [
       "        id                 Class    age menopause_x  tumor-size  inv-nodes  \\\n",
       "0    10082  no-recurrence-events  60~69           B   18.047287        0.0   \n",
       "1    10267     recurrence-events  60~69           B   24.667671       24.0   \n",
       "2    10219     recurrence-events  30~39           A   15.543343        1.0   \n",
       "3    10109  no-recurrence-events  60~69           B   32.707158        0.0   \n",
       "4    10146  no-recurrence-events  60~69           B   50.337817        0.0   \n",
       "..     ...                   ...    ...         ...         ...        ...   \n",
       "170  10189  no-recurrence-events  50~59           B   21.834549        0.0   \n",
       "171  10167  no-recurrence-events  40~49           B   44.061271       15.0   \n",
       "172  10134  no-recurrence-events  60~69           B   30.394889        2.0   \n",
       "173  10045  no-recurrence-events  50~59           B   34.165681        0.0   \n",
       "174  10170  no-recurrence-events  30~39           A   21.675739        5.0   \n",
       "\n",
       "        ID node-caps  deg-malig breast breast-quad irradiat menopause_y  \n",
       "0    10082        no          2  right    left_low       no           A  \n",
       "1    10267       yes          3   left    left_low      yes           A  \n",
       "2    10219        no          1  right    left_low       no           A  \n",
       "3    10109        no          1  right     left_up       no           A  \n",
       "4    10146        no          2  right     left_up      yes           A  \n",
       "..     ...       ...        ...    ...         ...      ...         ...  \n",
       "170  10189       yes          2  right     left_up       no           A  \n",
       "171  10167       yes          2  right     left_up      yes           A  \n",
       "172  10134        no          2   left    left_low      yes           B  \n",
       "173  10045        no          1   left     left_up       no           B  \n",
       "174  10170       yes          2  right     left_up      yes           B  \n",
       "\n",
       "[175 rows x 13 columns]"
      ]
     },
     "execution_count": 84,
     "metadata": {},
     "output_type": "execute_result"
    }
   ],
   "source": [
    "dataset3"
   ]
  },
  {
   "cell_type": "code",
   "execution_count": 85,
   "metadata": {
    "id": "wqKMEHoDQfjO"
   },
   "outputs": [
    {
     "name": "stdout",
     "output_type": "stream",
     "text": [
      "<class 'pandas.core.frame.DataFrame'>\n",
      "Int64Index: 175 entries, 0 to 174\n",
      "Data columns (total 13 columns):\n",
      " #   Column       Non-Null Count  Dtype  \n",
      "---  ------       --------------  -----  \n",
      " 0   id           175 non-null    int64  \n",
      " 1   Class        175 non-null    object \n",
      " 2   age          175 non-null    object \n",
      " 3   menopause_x  175 non-null    object \n",
      " 4   tumor-size   175 non-null    float64\n",
      " 5   inv-nodes    175 non-null    float64\n",
      " 6   ID           175 non-null    int64  \n",
      " 7   node-caps    175 non-null    object \n",
      " 8   deg-malig    175 non-null    int64  \n",
      " 9   breast       175 non-null    object \n",
      " 10  breast-quad  175 non-null    object \n",
      " 11  irradiat     175 non-null    object \n",
      " 12  menopause_y  166 non-null    object \n",
      "dtypes: float64(2), int64(3), object(8)\n",
      "memory usage: 19.1+ KB\n"
     ]
    }
   ],
   "source": [
    "dataset3.info()"
   ]
  },
  {
   "cell_type": "markdown",
   "metadata": {
    "id": "A_uRhgGhJE8i"
   },
   "source": [
    "### 10. dataset1, dataset2와 dataset3을 서로 다른 sheet에 저장한 하나의 엑셀파일을 생성하시오. (sheet명: dataset1, dataset2, dataset3, 파일명: dataset.xlsx)"
   ]
  },
  {
   "cell_type": "code",
   "execution_count": 86,
   "metadata": {
    "id": "TZXXrTUVJQ5u"
   },
   "outputs": [],
   "source": [
    "# 코드 작성\n",
    "# 생성된 xlsx파일을 다운로드하여 ipynb파일과 함께 제출하시오.\n",
    "with pd.ExcelWriter('dataset.xlsx') as writer:\n",
    "    dataset1.to_excel(writer, sheet_name='dataset1')\n",
    "    dataset2.to_excel(writer, sheet_name='dataset2')\n",
    "    dataset3.to_excel(writer, sheet_name='dataset3')"
   ]
  }
 ],
 "metadata": {
  "colab": {
   "authorship_tag": "ABX9TyMGteaqxQdB5ZDzhK9ocfXw",
   "collapsed_sections": [],
   "name": "실습평가(2).ipynb",
   "provenance": []
  },
  "kernelspec": {
   "display_name": "Python 3 (ipykernel)",
   "language": "python",
   "name": "python3"
  },
  "language_info": {
   "codemirror_mode": {
    "name": "ipython",
    "version": 3
   },
   "file_extension": ".py",
   "mimetype": "text/x-python",
   "name": "python",
   "nbconvert_exporter": "python",
   "pygments_lexer": "ipython3",
   "version": "3.9.12"
  }
 },
 "nbformat": 4,
 "nbformat_minor": 1
}
