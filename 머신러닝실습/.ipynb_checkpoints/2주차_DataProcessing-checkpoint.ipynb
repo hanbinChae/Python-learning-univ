{
 "cells": [
  {
   "cell_type": "markdown",
   "id": "adff64fe",
   "metadata": {},
   "source": [
    "# 3) 기타 데이터 처리"
   ]
  },
  {
   "cell_type": "code",
   "execution_count": 5,
   "id": "2095562b",
   "metadata": {},
   "outputs": [
    {
     "name": "stdout",
     "output_type": "stream",
     "text": [
      "\u001b[33mDEPRECATION: Configuring installation scheme with distutils config files is deprecated and will no longer work in the near future. If you are using a Homebrew or Linuxbrew Python, please see discussion at https://github.com/Homebrew/homebrew-core/issues/76621\u001b[0m\u001b[33m\n",
      "\u001b[0mCollecting pandas\n",
      "  Downloading pandas-1.4.4-cp39-cp39-macosx_11_0_arm64.whl (10.5 MB)\n",
      "\u001b[2K     \u001b[38;2;114;156;31m━━━━━━━━━━━━━━━━━━━━━━━━━━━━━━━━━━━━━━━\u001b[0m \u001b[32m10.5/10.5 MB\u001b[0m \u001b[31m246.0 kB/s\u001b[0m eta \u001b[36m0:00:00\u001b[0mm eta \u001b[36m0:00:01\u001b[0m[36m0:00:02\u001b[0m\n",
      "\u001b[?25hCollecting pytz>=2020.1\n",
      "  Downloading pytz-2022.2.1-py2.py3-none-any.whl (500 kB)\n",
      "\u001b[2K     \u001b[38;2;114;156;31m━━━━━━━━━━━━━━━━━━━━━━━━━━━━━━━━━━━━━\u001b[0m \u001b[32m500.6/500.6 kB\u001b[0m \u001b[31m469.4 kB/s\u001b[0m eta \u001b[36m0:00:00\u001b[0m[36m0:00:01\u001b[0m[36m0:00:01\u001b[0m:01\u001b[0m\n",
      "\u001b[?25hRequirement already satisfied: numpy>=1.20.0 in /opt/homebrew/lib/python3.9/site-packages (from pandas) (1.23.3)\n",
      "Requirement already satisfied: python-dateutil>=2.8.1 in /opt/homebrew/lib/python3.9/site-packages (from pandas) (2.8.2)\n",
      "Requirement already satisfied: six>=1.5 in /opt/homebrew/lib/python3.9/site-packages (from python-dateutil>=2.8.1->pandas) (1.16.0)\n",
      "Installing collected packages: pytz, pandas\n",
      "\u001b[33m  DEPRECATION: Configuring installation scheme with distutils config files is deprecated and will no longer work in the near future. If you are using a Homebrew or Linuxbrew Python, please see discussion at https://github.com/Homebrew/homebrew-core/issues/76621\u001b[0m\u001b[33m\n",
      "\u001b[0m\u001b[33m  DEPRECATION: Configuring installation scheme with distutils config files is deprecated and will no longer work in the near future. If you are using a Homebrew or Linuxbrew Python, please see discussion at https://github.com/Homebrew/homebrew-core/issues/76621\u001b[0m\u001b[33m\n",
      "\u001b[0m\u001b[33mDEPRECATION: Configuring installation scheme with distutils config files is deprecated and will no longer work in the near future. If you are using a Homebrew or Linuxbrew Python, please see discussion at https://github.com/Homebrew/homebrew-core/issues/76621\u001b[0m\u001b[33m\n",
      "\u001b[0mSuccessfully installed pandas-1.4.4 pytz-2022.2.1\n",
      "\u001b[33mWARNING: There was an error checking the latest version of pip.\u001b[0m\u001b[33m\n",
      "\u001b[0m"
     ]
    }
   ],
   "source": [
    "!pip install pandas\n",
    "!pip install numpy"
   ]
  },
  {
   "cell_type": "code",
   "execution_count": 6,
   "id": "6aeadb77",
   "metadata": {},
   "outputs": [],
   "source": [
    "import numpy as np\n",
    "import pandas as pd"
   ]
  },
  {
   "cell_type": "code",
   "execution_count": null,
   "id": "bb23b8a8",
   "metadata": {},
   "outputs": [],
   "source": [
    "dataset = pd.read_csv(\"data/Data.csv\")\n",
    "dataset"
   ]
  },
  {
   "cell_type": "markdown",
   "id": "f5afa856",
   "metadata": {},
   "source": [
    "# 3-1) X와 y분리"
   ]
  },
  {
   "cell_type": "code",
   "execution_count": 35,
   "id": "83b0c4e5",
   "metadata": {},
   "outputs": [
    {
     "name": "stdout",
     "output_type": "stream",
     "text": [
      "X\n",
      "\n",
      "   Country   Age   Salary\n",
      "0   France  44.0  72000.0\n",
      "1    Spain  27.0  48000.0\n",
      "2  Germany  30.0  54000.0\n",
      "3    Spain  38.0  61000.0\n",
      "4  Germany  40.0      NaN\n",
      "5   France  35.0  58000.0\n",
      "6    Spain   NaN  52000.0\n",
      "7   France  48.0  79000.0\n",
      "8  Germany  50.0  83000.0\n",
      "9   France  37.0  67000.0\n",
      "(10, 3)\n",
      "<class 'pandas.core.frame.DataFrame'>\n",
      "----------------------------------------------------------------------------------------------------\n",
      "y\n",
      "\n",
      "0     No\n",
      "1    Yes\n",
      "2     No\n",
      "3     No\n",
      "4    Yes\n",
      "5    Yes\n",
      "6     No\n",
      "7    Yes\n",
      "8     No\n",
      "9    Yes\n",
      "Name: Purchased, dtype: object\n",
      "(10,)\n",
      "<class 'pandas.core.series.Series'>\n"
     ]
    }
   ],
   "source": [
    "# X: country, age, salary \n",
    "# y: purchased(Yes/No) #정답 label\n",
    "# -> classification: 국가, 나이, 연봉 정보를 통해 제품을 구입할지 말지 판단\n",
    "\n",
    "#1) X와 y분리\n",
    "X = dataset.iloc[:,:-1]\n",
    "y = dataset.iloc[:,-1]\n",
    "\n",
    "print('X\\n')\n",
    "print(X)\n",
    "print(X.shape)\n",
    "print(type(X))\n",
    "\n",
    "print('-'*100)\n",
    "\n",
    "print('y\\n')\n",
    "print(y)\n",
    "print(y.shape)\n",
    "print(type(y))"
   ]
  },
  {
   "cell_type": "code",
   "execution_count": 39,
   "id": "15575e2d",
   "metadata": {},
   "outputs": [
    {
     "data": {
      "text/plain": [
       "array(['No', 'Yes', 'No', 'No', 'Yes', 'Yes', 'No', 'Yes', 'No', 'Yes'],\n",
       "      dtype=object)"
      ]
     },
     "execution_count": 39,
     "metadata": {},
     "output_type": "execute_result"
    }
   ],
   "source": [
    "#dataset으로부터 ndarray로 타입으로 X와 y추출\n",
    "X = dataset.iloc[:,:-1].values\n",
    "y = dataset.iloc[:,-1].values\n",
    "\n",
    "#위와 동일한 방법\n",
    "X = dataset.values[:,:-1]\n",
    "y = dataset.values[:,-1]\n",
    "\n",
    "y"
   ]
  },
  {
   "cell_type": "markdown",
   "id": "bf9ba369",
   "metadata": {},
   "source": [
    "# 3-2) 문자를 숫자로 변경"
   ]
  },
  {
   "cell_type": "code",
   "execution_count": 42,
   "id": "ba157c00",
   "metadata": {},
   "outputs": [],
   "source": [
    "#원핫 인코딩 : 문자와 숫자의 각각의 특성을 반영하지 않기 위해\n",
    "# 문자가 존재할 경우 1, 존재하지 않을 경우 0으로 변환\n",
    "# 각 문자와 숫자간의 관계가 없음."
   ]
  },
  {
   "cell_type": "code",
   "execution_count": 52,
   "id": "810605a1",
   "metadata": {},
   "outputs": [
    {
     "name": "stdout",
     "output_type": "stream",
     "text": [
      "['France' 'Spain' 'Germany' 'Spain' 'Germany' 'France' 'Spain' 'France'\n",
      " 'Germany' 'France']\n"
     ]
    }
   ],
   "source": [
    "# X 1열 문자열\n",
    "print(X[:,0])"
   ]
  },
  {
   "cell_type": "code",
   "execution_count": 53,
   "id": "8c7033d7",
   "metadata": {},
   "outputs": [
    {
     "name": "stdout",
     "output_type": "stream",
     "text": [
      "['France' 'Spain' 'Germany']\n",
      "3\n",
      "['No' 'Yes']\n",
      "2\n"
     ]
    }
   ],
   "source": [
    "# unique() : 데이터프레임의 중복을 제거\n",
    "print(dataset.loc[:,'Country'].unique())\n",
    "print(dataset.loc[:,'Country'].nunique())\n",
    "\n",
    "# unique() : 데이터프레임의 중복을 제거\n",
    "print(dataset.iloc[:,-1].unique())\n",
    "print(dataset.iloc[:,-1].nunique())"
   ]
  },
  {
   "cell_type": "code",
   "execution_count": null,
   "id": "b33bce24",
   "metadata": {},
   "outputs": [],
   "source": [
    "!pip install sklearn"
   ]
  },
  {
   "cell_type": "code",
   "execution_count": 57,
   "id": "7a1f0517",
   "metadata": {},
   "outputs": [
    {
     "data": {
      "text/plain": [
       "array([0, 2, 1, 2, 1, 0, 2, 0, 1, 0])"
      ]
     },
     "execution_count": 57,
     "metadata": {},
     "output_type": "execute_result"
    }
   ],
   "source": [
    "# 문자열을 정수로 변경\n",
    "from sklearn.preprocessing import LabelEncoder\n",
    "\n",
    "#1) LabelEncoder 객체 생성\n",
    "le = LabelEncoder()\n",
    "\n",
    "#2) Label Encoder을 적용할 준비 (어떤 데이터를 적용할 것인지 미리 정보를 확인) -> 변환 X\n",
    "le.fit(X[:,0]\n",
    "# -> X[:,0]의 데이터를 확인하고, 어떤 문자열을 어떤 정수로 바꿀지 결정\n",
    "\n",
    "#3) 미리 준비한 LabelEncoder 객체에 데이터를 적용하여 변환\n",
    "X_le = le.transform(X[:,0])\n",
    "X_le"
   ]
  },
  {
   "cell_type": "code",
   "execution_count": 72,
   "id": "f0bf851b",
   "metadata": {},
   "outputs": [
    {
     "name": "stdout",
     "output_type": "stream",
     "text": [
      "(10, 1)\n",
      "(10,)\n"
     ]
    }
   ],
   "source": [
    "#reshape : 데이터의 형태 변환\n",
    "#기존 값의 개수는 유지하되, 열에 -1을 사용하여 자동으로 변경되게 설정 가능\n",
    "X2 = X[:,0].reshape(-1,1) #2차원으로 변환\n",
    "\n",
    "X1 = X2.reshape(-1)\n",
    "\n",
    "print(X2.shape)\n",
    "print(X1.shape)"
   ]
  },
  {
   "cell_type": "code",
   "execution_count": 66,
   "id": "f6bde3c8",
   "metadata": {},
   "outputs": [
    {
     "ename": "NameError",
     "evalue": "name 'oneHotEncoder' is not defined",
     "output_type": "error",
     "traceback": [
      "\u001b[0;31m---------------------------------------------------------------------------\u001b[0m",
      "\u001b[0;31mNameError\u001b[0m                                 Traceback (most recent call last)",
      "Cell \u001b[0;32mIn [66], line 3\u001b[0m\n\u001b[1;32m      1\u001b[0m \u001b[38;5;28;01mfrom\u001b[39;00m \u001b[38;5;21;01msklearn\u001b[39;00m\u001b[38;5;21;01m.\u001b[39;00m\u001b[38;5;21;01mpreprocessing\u001b[39;00m \u001b[38;5;28;01mimport\u001b[39;00m OneHotEncoder\n\u001b[1;32m      2\u001b[0m \u001b[38;5;66;03m# oneHotEncoding은 2D array만 적용가능\u001b[39;00m\n\u001b[0;32m----> 3\u001b[0m ohe \u001b[38;5;241m=\u001b[39m \u001b[43moneHotEncoder\u001b[49m()\n\u001b[1;32m      4\u001b[0m ohe\u001b[38;5;241m.\u001b[39mfit(X[:,\u001b[38;5;241m0\u001b[39m])\n\u001b[1;32m      5\u001b[0m X_ohe \u001b[38;5;241m=\u001b[39m ohe\u001b[38;5;241m.\u001b[39mtransform(X[:,\u001b[38;5;241m0\u001b[39m])\n",
      "\u001b[0;31mNameError\u001b[0m: name 'oneHotEncoder' is not defined"
     ]
    }
   ],
   "source": [
    "from sklearn.preprocessing import OneHotEncoder\n",
    "# oneHotEncoding은 2D array만 적용가능\n",
    "ohe = oneHotEncoder()\n",
    "ohe.fit(X[:,0])\n",
    "X_ohe = ohe.transform(X[:,0])\n",
    "\n",
    "print(X_ohe)"
   ]
  }
 ],
 "metadata": {
  "kernelspec": {
   "display_name": "Python 3 (ipykernel)",
   "language": "python",
   "name": "python3"
  },
  "language_info": {
   "codemirror_mode": {
    "name": "ipython",
    "version": 3
   },
   "file_extension": ".py",
   "mimetype": "text/x-python",
   "name": "python",
   "nbconvert_exporter": "python",
   "pygments_lexer": "ipython3",
   "version": "3.9.13"
  }
 },
 "nbformat": 4,
 "nbformat_minor": 5
}
