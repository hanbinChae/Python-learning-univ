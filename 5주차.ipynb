{
  "nbformat": 4,
  "nbformat_minor": 0,
  "metadata": {
    "colab": {
      "name": "5주차.ipynb",
      "provenance": [],
      "collapsed_sections": [],
      "authorship_tag": "ABX9TyPO8APKIN9gebxgnviYsIB8",
      "include_colab_link": true
    },
    "kernelspec": {
      "name": "python3",
      "display_name": "Python 3"
    },
    "language_info": {
      "name": "python"
    }
  },
  "cells": [
    {
      "cell_type": "markdown",
      "metadata": {
        "id": "view-in-github",
        "colab_type": "text"
      },
      "source": [
        "<a href=\"https://colab.research.google.com/github/hanbinChae/python-learning-univ/blob/main/5%EC%A3%BC%EC%B0%A8.ipynb\" target=\"_parent\"><img src=\"https://colab.research.google.com/assets/colab-badge.svg\" alt=\"Open In Colab\"/></a>"
      ]
    },
    {
      "cell_type": "markdown",
      "source": [
        "for 문 기초"
      ],
      "metadata": {
        "id": "1POC7_eAcqRc"
      }
    },
    {
      "cell_type": "code",
      "source": [
        "sum = 0\n",
        "for i in range(1,101):\n",
        "  sum+=i\n",
        "print('1부터 100까지의 합은',sum,'입니다.')"
      ],
      "metadata": {
        "colab": {
          "base_uri": "https://localhost:8080/"
        },
        "id": "A1-QNY9GasxF",
        "outputId": "57c0df22-9e2b-4aff-e768-5f96a153dbf0"
      },
      "execution_count": null,
      "outputs": [
        {
          "output_type": "stream",
          "name": "stdout",
          "text": [
            "1부터 100까지의 합은 5050 입니다.\n"
          ]
        }
      ]
    },
    {
      "cell_type": "markdown",
      "source": [
        "별 그리기"
      ],
      "metadata": {
        "id": "VhH-UJRUcwh8"
      }
    },
    {
      "cell_type": "code",
      "source": [
        "import turtle\n",
        "t = turtle.Turtle()\n",
        "t.shape('turtle')\n",
        "t.color('blue')\n",
        "\n",
        "angle = 144;\n",
        "size = 200\n",
        "\n",
        "for i in range(5):\n",
        "    t.fd(size)\n",
        "    t.right(angle)\n",
        "    \n",
        "\n",
        "turtle.exitonclick()\n",
        "turtle.bye()"
      ],
      "metadata": {
        "id": "L1Tv1-RubPHD"
      },
      "execution_count": null,
      "outputs": []
    },
    {
      "cell_type": "markdown",
      "source": [
        "중첩반복문예제2"
      ],
      "metadata": {
        "id": "vyZQNzwihB9t"
      }
    },
    {
      "cell_type": "code",
      "source": [
        "n = int(input())\n",
        "\n",
        "for i in range(1,n+1):\n",
        "  for j in range(0,i):\n",
        "    print('*',end=' ')\n",
        "  print()"
      ],
      "metadata": {
        "colab": {
          "base_uri": "https://localhost:8080/"
        },
        "id": "cn6GCxyqhDxc",
        "outputId": "890e39e7-1ae2-426d-e8e3-d12fa014a5a6"
      },
      "execution_count": null,
      "outputs": [
        {
          "output_type": "stream",
          "name": "stdout",
          "text": [
            "5\n",
            "* \n",
            "* * \n",
            "* * * \n",
            "* * * * \n",
            "* * * * * \n"
          ]
        }
      ]
    },
    {
      "cell_type": "code",
      "source": [
        "n = int(input())\n",
        "\n",
        "for i in range(n,-1,-1):\n",
        "  for j in range(i):\n",
        "    print('*',end=' ')\n",
        "  print()"
      ],
      "metadata": {
        "colab": {
          "base_uri": "https://localhost:8080/"
        },
        "id": "NFRaN5fph-ea",
        "outputId": "0ea9d6c5-4257-4b63-a9cb-d9293cd4685e"
      },
      "execution_count": null,
      "outputs": [
        {
          "output_type": "stream",
          "name": "stdout",
          "text": [
            "5\n",
            "* * * * * \n",
            "* * * * \n",
            "* * * \n",
            "* * \n",
            "* \n",
            "\n"
          ]
        }
      ]
    },
    {
      "cell_type": "code",
      "source": [
        "n = int(input())\n",
        "\n",
        "for i in range(n):\n",
        "  for j in range(i):\n",
        "    print(' '*j,end='')\n",
        "  for z in range(n-i):\n",
        "    print('*'*z,end=' ')\n",
        "  print()"
      ],
      "metadata": {
        "colab": {
          "base_uri": "https://localhost:8080/"
        },
        "id": "vBZk6ngujlv0",
        "outputId": "a40e960a-3221-44d2-f763-58bffe8cdbfe"
      },
      "execution_count": null,
      "outputs": [
        {
          "output_type": "stream",
          "name": "stdout",
          "text": [
            "10\n",
            " * ** *** **** ***** ****** ******* ******** ********* \n",
            " * ** *** **** ***** ****** ******* ******** \n",
            "  * ** *** **** ***** ****** ******* \n",
            "    * ** *** **** ***** ****** \n",
            "       * ** *** **** ***** \n",
            "           * ** *** **** \n",
            "                * ** *** \n",
            "                      * ** \n",
            "                             * \n",
            "                                     \n"
          ]
        }
      ]
    },
    {
      "cell_type": "markdown",
      "source": [
        "break문 예제"
      ],
      "metadata": {
        "id": "yc2h0XX5fve8"
      }
    },
    {
      "cell_type": "code",
      "source": [
        "while True:\n",
        "  light = input('신호등의 색상은?:')\n",
        "  if light =='green':\n",
        "    break;\n",
        "  print('stop!!')\n",
        "print('전진!!')"
      ],
      "metadata": {
        "id": "UHJaV2LYfy_a",
        "colab": {
          "base_uri": "https://localhost:8080/"
        },
        "outputId": "4930570c-f5cf-4adf-b81d-376418f091b7"
      },
      "execution_count": null,
      "outputs": [
        {
          "output_type": "stream",
          "name": "stdout",
          "text": [
            "신호등의 색상은?:red\n",
            "stop!!\n",
            "신호등의 색상은?:red\n",
            "stop!!\n",
            "신호등의 색상은?:yellow\n",
            "stop!!\n",
            "신호등의 색상은?:green\n",
            "전진!!\n"
          ]
        }
      ]
    },
    {
      "cell_type": "markdown",
      "source": [
        "참여점수"
      ],
      "metadata": {
        "id": "FiXNe2rug60V"
      }
    },
    {
      "cell_type": "code",
      "source": [
        "i = 1\n",
        "result = 0\n",
        "while i<101:\n",
        "  result+=i\n",
        "  i+=1\n",
        "print('1부터 100까지의 합은,',result,'입니다.')"
      ],
      "metadata": {
        "colab": {
          "base_uri": "https://localhost:8080/"
        },
        "id": "QJq5FCHegZXl",
        "outputId": "eb6753b7-74e9-4f79-d984-2cd091a5ab54"
      },
      "execution_count": null,
      "outputs": [
        {
          "output_type": "stream",
          "name": "stdout",
          "text": [
            "1부터 100까지의 합은, 5050 입니다.\n"
          ]
        }
      ]
    },
    {
      "cell_type": "markdown",
      "source": [
        "랜덤 숫자 맞추기\n",
        "\n"
      ],
      "metadata": {
        "id": "8ZH8yp1tcx4M"
      }
    },
    {
      "cell_type": "code",
      "execution_count": null,
      "metadata": {
        "colab": {
          "base_uri": "https://localhost:8080/"
        },
        "id": "YtcdKlCwPsIf",
        "outputId": "96f4fc9f-b500-4030-c967-5d965c7869d8"
      },
      "outputs": [
        {
          "output_type": "stream",
          "name": "stdout",
          "text": [
            "10\n",
            "정답은 더 낮은 수\n",
            "20\n",
            "정답은 더 낮은 수\n",
            "3\n",
            "정답은 더 높은 수\n",
            "5\n",
            "정답은 더 높은 수\n",
            "6\n",
            "정답은 더 높은 수\n",
            "7\n",
            "정답은 더 높은 수\n",
            "8\n",
            "정답은 더 높은 수\n",
            "9\n",
            "정답입니다.\n"
          ]
        }
      ],
      "source": [
        "#import random\n",
        "\n",
        "answer = random.randint(1,10)\n",
        "\n",
        "while True:\n",
        "  x = int(input())\n",
        "\n",
        "  if x == answer:\n",
        "    print('정답입니다.')\n",
        "    break;\n",
        "  elif x>answer:\n",
        "    print(\"정답은 더 낮은 수\")\n",
        "    pass;\n",
        "  else:\n",
        "    print('정답은 더 높은 수')"
      ]
    },
    {
      "cell_type": "markdown",
      "source": [
        "과제1 입장료 계산기"
      ],
      "metadata": {
        "id": "a3JFGXJ7c01c"
      }
    },
    {
      "cell_type": "code",
      "source": [
        "# 입장료 계산기\n",
        "\n",
        "age = int(input('나이:'))\n",
        "money_total = 0\n",
        "\n",
        "while True:\n",
        "  money = int(input('돈:'))\n",
        "  money_total+=money\n",
        "  if age<20:\n",
        "    if money_total>=5000:\n",
        "      print('입장가능')\n",
        "      print('거스름돈 :',money_total-5000)\n",
        "      break;\n",
        "    else:\n",
        "      print('입장불가')\n",
        "      print('더 필요한 금액',5000-money_total)\n",
        "      continue\n",
        "  else:\n",
        "    if money_total>=10000:\n",
        "      print('입장가능')\n",
        "      print('거스름돈 :',(money_total-10000))\n",
        "      break;\n",
        "    else:\n",
        "      print('입장불가')\n",
        "      print('더 필요한 금액',10000-money_total)\n",
        "      continue\n"
      ],
      "metadata": {
        "colab": {
          "base_uri": "https://localhost:8080/"
        },
        "id": "ohBe__MrQ6nS",
        "outputId": "1a5039ba-f06f-4cdc-e3fe-d8dca74fcfea"
      },
      "execution_count": null,
      "outputs": [
        {
          "output_type": "stream",
          "name": "stdout",
          "text": [
            "나이:3\n",
            "돈:1200\n",
            "입장불가\n",
            "더 필요한 금액 : 3800\n",
            "돈:4020\n",
            "입장가능\n",
            "거스름돈 : 220\n"
          ]
        }
      ]
    },
    {
      "cell_type": "markdown",
      "source": [
        "과제2 거북이 위치 출력"
      ],
      "metadata": {
        "id": "O81sOS8qc2qs"
      }
    },
    {
      "cell_type": "code",
      "source": [
        "import turtle\n",
        "t = turtle.Turtle()\n",
        "t.shape('turtle')\n",
        "\n",
        "size1 = 200\n",
        "size2 = 50\n",
        "move_length = 10\n",
        "\n",
        "t.dot(size1*2, 'green')\n",
        "\n",
        "\n",
        "for i in range(0,301,move_length):\n",
        "    print('move',i)\n",
        "    print('거북이 위치:',t.pos())\n",
        "    t.dot(size2*2, 'blue')\n",
        "    t.undo()\n",
        "    t.fd(move_length)\n",
        "    d = t.distance(0,0)\n",
        "    print(d)\n",
        "    \n",
        "    if d==0:\n",
        "        print('충돌/동심원')\n",
        "    elif size1-size2>d:\n",
        "        print('충돌/내부존재')\n",
        "    elif size1-size2==d:\n",
        "        print('충돌/내접')\n",
        "    elif size1-size2 < d < size1+size2:\n",
        "        print('충돌/두접점')\n",
        "    elif size1+size2 == d:\n",
        "        print('충돌/외접')\n",
        "    elif size1+size2 < d:\n",
        "        print('비충돌')\n",
        "    else:\n",
        "        print('불가능')\n",
        "        \n",
        "t.dot(size2*2, 'blue')\n",
        "    \n",
        "turtle.exitonclick()\n",
        "turtle.bye()\n",
        "    "
      ],
      "metadata": {
        "id": "3x-3hxIeUXcr"
      },
      "execution_count": null,
      "outputs": []
    }
  ]
}